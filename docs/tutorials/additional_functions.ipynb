{
 "cells": [
  {
   "cell_type": "markdown",
   "metadata": {},
   "source": [
    "## Identifying \"single-gene\" iModulons\n",
    "Some iModulons are dominated by a single, high-coefficient gene. These iModulons may result from:\n",
    "1. Overdecomposition of the dataset to identify noisy genes\n",
    "2. Artificial knock-out of single genes\n",
    "3. Regulons with only one target gene\n",
    "\n",
    "No matter what causes these iModulons, it is important to be aware of them. The ``find_single_gene_imodulons`` function identifies iModulons that are likely dominated by a single gene.\n",
    "\n",
    "The iModulons identified by ``find_single_gene_imodulons`` may contain more than one gene, since a threshold-agnostic method is used to identify these iModulons."
   ]
  },
  {
   "cell_type": "code",
   "execution_count": 1,
   "metadata": {},
   "outputs": [],
   "source": [
    "from pymodulon.data.example_data import load_ecoli_data\n",
    "ica_data = load_ecoli_data()"
   ]
  },
  {
   "cell_type": "code",
   "execution_count": 2,
   "metadata": {},
   "outputs": [
    {
     "data": {
      "text/plain": [
       "['Pyruvate', 'fur-KO', 'sgrT', 'thrA-KO', 'ydcI-KO']"
      ]
     },
     "execution_count": 2,
     "metadata": {},
     "output_type": "execute_result"
    }
   ],
   "source": [
    "ica_data.find_single_gene_imodulons()"
   ]
  },
  {
   "cell_type": "markdown",
   "metadata": {},
   "source": [
    "Single-gene iModulons can be automatically saved in the iModulon table."
   ]
  },
  {
   "cell_type": "code",
   "execution_count": 3,
   "metadata": {},
   "outputs": [
    {
     "data": {
      "text/html": [
       "<div>\n",
       "<style scoped>\n",
       "    .dataframe tbody tr th:only-of-type {\n",
       "        vertical-align: middle;\n",
       "    }\n",
       "\n",
       "    .dataframe tbody tr th {\n",
       "        vertical-align: top;\n",
       "    }\n",
       "\n",
       "    .dataframe thead th {\n",
       "        text-align: right;\n",
       "    }\n",
       "</style>\n",
       "<table border=\"1\" class=\"dataframe\">\n",
       "  <thead>\n",
       "    <tr style=\"text-align: right;\">\n",
       "      <th></th>\n",
       "      <th>regulator</th>\n",
       "      <th>f1score</th>\n",
       "      <th>pvalue</th>\n",
       "      <th>precision</th>\n",
       "      <th>recall</th>\n",
       "      <th>TP</th>\n",
       "      <th>n_genes</th>\n",
       "      <th>n_tf</th>\n",
       "      <th>Category</th>\n",
       "      <th>threshold</th>\n",
       "      <th>single_gene</th>\n",
       "    </tr>\n",
       "  </thead>\n",
       "  <tbody>\n",
       "    <tr>\n",
       "      <th>fur-KO</th>\n",
       "      <td>None</td>\n",
       "      <td>NaN</td>\n",
       "      <td>NaN</td>\n",
       "      <td>NaN</td>\n",
       "      <td>NaN</td>\n",
       "      <td>NaN</td>\n",
       "      <td>13</td>\n",
       "      <td>0</td>\n",
       "      <td>Genomic Alterations</td>\n",
       "      <td>0.078193</td>\n",
       "      <td>1.0</td>\n",
       "    </tr>\n",
       "  </tbody>\n",
       "</table>\n",
       "</div>"
      ],
      "text/plain": [
       "       regulator  f1score  pvalue  precision  recall  TP  n_genes  n_tf  \\\n",
       "fur-KO      None      NaN     NaN        NaN     NaN NaN       13     0   \n",
       "\n",
       "                   Category  threshold  single_gene  \n",
       "fur-KO  Genomic Alterations   0.078193          1.0  "
      ]
     },
     "execution_count": 3,
     "metadata": {},
     "output_type": "execute_result"
    }
   ],
   "source": [
    "ica_data.find_single_gene_imodulons()\n",
    "ica_data.imodulon_table.loc[['fur-KO']]"
   ]
  },
  {
   "cell_type": "markdown",
   "metadata": {},
   "source": [
    "# Explained variance\n",
    "To compute the total amount of expression variation explained by iModulons, use the ``explained_variance`` function."
   ]
  },
  {
   "cell_type": "code",
   "execution_count": 4,
   "metadata": {},
   "outputs": [],
   "source": [
    "from pymodulon.util import explained_variance"
   ]
  },
  {
   "cell_type": "code",
   "execution_count": 5,
   "metadata": {},
   "outputs": [
    {
     "data": {
      "text/plain": [
       "0.6946207831724605"
      ]
     },
     "execution_count": 5,
     "metadata": {},
     "output_type": "execute_result"
    }
   ],
   "source": [
    "explained_variance(ica_data)"
   ]
  },
  {
   "cell_type": "markdown",
   "metadata": {},
   "source": [
    "Explained variance can be computed for individual genes, samples, or iModulons"
   ]
  },
  {
   "cell_type": "code",
   "execution_count": 6,
   "metadata": {},
   "outputs": [
    {
     "name": "stdout",
     "output_type": "stream",
     "text": [
      "iModulons explain 93% of the expression variation in thrA\n",
      "The RpoH iModulon explains 69% of the expression variation in the dnaKJ transcription unit\n",
      "iModulons explain 70% of the expression variation induced by iron starvation\n",
      "The RpoS iModulon explains 4.3% of the global expression variation\n"
     ]
    }
   ],
   "source": [
    "print('iModulons explain {:.0f}% of the expression variation in thrA'.format(explained_variance(ica_data,genes='thrA')*100))\n",
    "print('The RpoH iModulon explains {:.0f}% of the expression variation in the dnaKJ transcription unit'.format(explained_variance(ica_data,imodulons=['RpoH'],genes=['dnaK','dnaJ'])*100))\n",
    "print('iModulons explain {:.0f}% of the expression variation induced by iron starvation'.format(explained_variance(ica_data,samples=['fur__wt_dpd__1','fur__wt_dpd__2'])*100))\n",
    "print('The RpoS iModulon explains {:.1f}% of the global expression variation'.format(explained_variance(ica_data,imodulons=['RpoS'])*100))"
   ]
  },
  {
   "cell_type": "markdown",
   "metadata": {},
   "source": [
    "The following code shows how to identify iModulons that explain the largest fraction of variance in the dataset. These iModulons tend to represent the effects of global regulators."
   ]
  },
  {
   "cell_type": "code",
   "execution_count": 7,
   "metadata": {},
   "outputs": [
    {
     "data": {
      "text/plain": [
       "RpoS                 0.043242\n",
       "FlhDC                0.042180\n",
       "Fnr                  0.034855\n",
       "FliA                 0.034259\n",
       "uncharacterized-5    0.032859\n",
       "Fur-1                0.020544\n",
       "Crp-1                0.018618\n",
       "ArcA-1               0.017906\n",
       "PurR-2               0.017560\n",
       "NtrC+RpoN            0.016785\n",
       "dtype: float64"
      ]
     },
     "execution_count": 7,
     "metadata": {},
     "output_type": "execute_result"
    }
   ],
   "source": [
    "import pandas as pd\n",
    "\n",
    "rec_var = {}\n",
    "for k in ica_data.imodulon_names:\n",
    "    rec_var[k] = explained_variance(ica_data,imodulons=k)\n",
    "df_rec_var = pd.Series(rec_var)\n",
    "df_rec_var.sort_values(ascending=False).head(10)"
   ]
  },
  {
   "cell_type": "code",
   "execution_count": null,
   "metadata": {},
   "outputs": [],
   "source": []
  }
 ],
 "metadata": {
  "kernelspec": {
   "display_name": "Python 3",
   "language": "python",
   "name": "python3"
  },
  "language_info": {
   "codemirror_mode": {
    "name": "ipython",
    "version": 3
   },
   "file_extension": ".py",
   "mimetype": "text/x-python",
   "name": "python",
   "nbconvert_exporter": "python",
   "pygments_lexer": "ipython3",
   "version": "3.8.2"
  },
  "toc": {
   "base_numbering": 1,
   "nav_menu": {},
   "number_sections": true,
   "sideBar": true,
   "skip_h1_title": false,
   "title_cell": "Table of Contents",
   "title_sidebar": "Contents",
   "toc_cell": true,
   "toc_position": {},
   "toc_section_display": true,
   "toc_window_display": false
  }
 },
 "nbformat": 4,
 "nbformat_minor": 1
}
