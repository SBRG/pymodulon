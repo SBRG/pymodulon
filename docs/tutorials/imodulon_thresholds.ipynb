{
 "cells": [
  {
   "cell_type": "markdown",
   "metadata": {},
   "source": [
    "# iModulon Thresholds\n",
    "iModulon thresholds are computed using an outlier test (See Methods section \"*Determination of the gene coefficient threshold*\" in [Sastry et al 2019](https://www.nature.com/articles/s41467-019-13483-w#Sec11)). This outlier test relies on the D'agostino test statistic.\n",
    "\n",
    "* If you have a relatively complete TRN, you may fit this test statistic using the `reoptimize_thresholds` function.\n",
    "* To manually adjust this statistic, use the `recompute_thresholds` function.\n",
    "* To change a single iModulon threshold, use the `change_threshold` function."
   ]
  },
  {
   "cell_type": "markdown",
   "metadata": {},
   "source": [
    "## Fitting the threshold\n",
    "The `reoptimize_threshold` function may take a few minutes to complete. Fortunately, this only needs to be performed once. You can turn off the progress bar or plot using the `progress` and `plot` arguments, respectively."
   ]
  },
  {
   "cell_type": "code",
   "execution_count": null,
   "metadata": {},
   "outputs": [],
   "source": [
    "# ica_data.reoptimize_thresholds()"
   ]
  },
  {
   "cell_type": "markdown",
   "metadata": {},
   "source": [
    "## Changing the D'agostino statistic\n",
    "To test out different D'agostino test statistics, use the `recompute_thresholds` function"
   ]
  },
  {
   "cell_type": "code",
   "execution_count": null,
   "metadata": {},
   "outputs": [],
   "source": [
    "ica_data.view_imodulon('GlpR')"
   ]
  },
  {
   "cell_type": "code",
   "execution_count": null,
   "metadata": {},
   "outputs": [],
   "source": [
    "ica_data.recompute_thresholds(300)"
   ]
  },
  {
   "cell_type": "code",
   "execution_count": null,
   "metadata": {},
   "outputs": [],
   "source": [
    "ica_data.view_imodulon('GlpR')"
   ]
  },
  {
   "cell_type": "markdown",
   "metadata": {},
   "source": [
    "## Manually changing thresholds\n",
    "To manually change a threshold, use the `change_threshold` function."
   ]
  },
  {
   "cell_type": "code",
   "execution_count": null,
   "metadata": {},
   "outputs": [],
   "source": [
    "ica_data.change_threshold('GlpR',0.2)"
   ]
  },
  {
   "cell_type": "code",
   "execution_count": null,
   "metadata": {},
   "outputs": [],
   "source": [
    "ica_data.view_imodulon('GlpR')"
   ]
  }
 ],
 "metadata": {
  "kernelspec": {
   "display_name": "Python 3",
   "language": "python",
   "name": "python3"
  },
  "language_info": {
   "codemirror_mode": {
    "name": "ipython",
    "version": 3
   },
   "file_extension": ".py",
   "mimetype": "text/x-python",
   "name": "python",
   "nbconvert_exporter": "python",
   "pygments_lexer": "ipython3",
   "version": "3.8.2"
  },
  "toc": {
   "base_numbering": 1,
   "nav_menu": {},
   "number_sections": true,
   "sideBar": true,
   "skip_h1_title": false,
   "title_cell": "Table of Contents",
   "title_sidebar": "Contents",
   "toc_cell": true,
   "toc_position": {},
   "toc_section_display": true,
   "toc_window_display": false
  }
 },
 "nbformat": 4,
 "nbformat_minor": 1
}
