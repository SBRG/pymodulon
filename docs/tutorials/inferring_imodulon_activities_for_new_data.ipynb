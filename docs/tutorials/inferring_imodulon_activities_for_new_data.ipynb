{
 "cells": [
  {
   "cell_type": "markdown",
   "metadata": {},
   "source": [
    "# Inferring iModulon activities for new data"
   ]
  },
  {
   "cell_type": "markdown",
   "metadata": {},
   "source": [
    "Re-computing the complete set of iModulons can be computationally intensive for every new dataset. However, once a dataset reaches a critical size, you can use a pre-computed ``IcaData`` object to infer the iModulon activities of a new dataset. iModulon activities are relative measures; every dataset must have a reference condition to which all other samples are compared against."
   ]
  },
  {
   "cell_type": "markdown",
   "metadata": {},
   "source": [
    "To compute the new iModulon activities, first load the pre-computed ``IcaData`` object."
   ]
  },
  {
   "cell_type": "code",
   "execution_count": 1,
   "metadata": {},
   "outputs": [],
   "source": [
    "from pymodulon.data.example_data import load_ecoli_data\n",
    "ica_data = load_ecoli_data()"
   ]
  },
  {
   "cell_type": "markdown",
   "metadata": {},
   "source": [
    "Next, load your expression profiles. This should be normalized using whichever read mapping pipeline you use, as Transcripts per Million (TPM) or log-TPM."
   ]
  },
  {
   "cell_type": "code",
   "execution_count": 15,
   "metadata": {},
   "outputs": [
    {
     "data": {
      "text/html": [
       "<div>\n",
       "<style scoped>\n",
       "    .dataframe tbody tr th:only-of-type {\n",
       "        vertical-align: middle;\n",
       "    }\n",
       "\n",
       "    .dataframe tbody tr th {\n",
       "        vertical-align: top;\n",
       "    }\n",
       "\n",
       "    .dataframe thead th {\n",
       "        text-align: right;\n",
       "    }\n",
       "</style>\n",
       "<table border=\"1\" class=\"dataframe\">\n",
       "  <thead>\n",
       "    <tr style=\"text-align: right;\">\n",
       "      <th></th>\n",
       "      <th>Reference_1</th>\n",
       "      <th>Reference_2</th>\n",
       "      <th>Test_1</th>\n",
       "      <th>Test_2</th>\n",
       "    </tr>\n",
       "  </thead>\n",
       "  <tbody>\n",
       "    <tr>\n",
       "      <th>b0002</th>\n",
       "      <td>60272.783229</td>\n",
       "      <td>68198.723226</td>\n",
       "      <td>121169.203039</td>\n",
       "      <td>145540.593264</td>\n",
       "    </tr>\n",
       "    <tr>\n",
       "      <th>b0003</th>\n",
       "      <td>33377.061960</td>\n",
       "      <td>37164.565132</td>\n",
       "      <td>91475.255777</td>\n",
       "      <td>133756.167521</td>\n",
       "    </tr>\n",
       "    <tr>\n",
       "      <th>b0004</th>\n",
       "      <td>39928.516390</td>\n",
       "      <td>45480.549892</td>\n",
       "      <td>34795.427264</td>\n",
       "      <td>48008.860171</td>\n",
       "    </tr>\n",
       "    <tr>\n",
       "      <th>b0005</th>\n",
       "      <td>552.411384</td>\n",
       "      <td>521.433922</td>\n",
       "      <td>225.360458</td>\n",
       "      <td>206.705418</td>\n",
       "    </tr>\n",
       "    <tr>\n",
       "      <th>b0006</th>\n",
       "      <td>1007.047765</td>\n",
       "      <td>988.893260</td>\n",
       "      <td>875.244163</td>\n",
       "      <td>881.364195</td>\n",
       "    </tr>\n",
       "  </tbody>\n",
       "</table>\n",
       "</div>"
      ],
      "text/plain": [
       "        Reference_1   Reference_2         Test_1         Test_2\n",
       "b0002  60272.783229  68198.723226  121169.203039  145540.593264\n",
       "b0003  33377.061960  37164.565132   91475.255777  133756.167521\n",
       "b0004  39928.516390  45480.549892   34795.427264   48008.860171\n",
       "b0005    552.411384    521.433922     225.360458     206.705418\n",
       "b0006   1007.047765    988.893260     875.244163     881.364195"
      ]
     },
     "execution_count": 15,
     "metadata": {},
     "output_type": "execute_result"
    }
   ],
   "source": [
    "from pymodulon.data.example_data import load_example_tpm\n",
    "tpm = load_example_tpm()\n",
    "tpm.head()"
   ]
  },
  {
   "cell_type": "markdown",
   "metadata": {},
   "source": [
    "To convert TPM to log-TPM, a pseudo-count must be added to avoid taking the logarithm of zero."
   ]
  },
  {
   "cell_type": "code",
   "execution_count": 17,
   "metadata": {},
   "outputs": [
    {
     "data": {
      "text/html": [
       "<div>\n",
       "<style scoped>\n",
       "    .dataframe tbody tr th:only-of-type {\n",
       "        vertical-align: middle;\n",
       "    }\n",
       "\n",
       "    .dataframe tbody tr th {\n",
       "        vertical-align: top;\n",
       "    }\n",
       "\n",
       "    .dataframe thead th {\n",
       "        text-align: right;\n",
       "    }\n",
       "</style>\n",
       "<table border=\"1\" class=\"dataframe\">\n",
       "  <thead>\n",
       "    <tr style=\"text-align: right;\">\n",
       "      <th></th>\n",
       "      <th>Reference_1</th>\n",
       "      <th>Reference_2</th>\n",
       "      <th>Test_1</th>\n",
       "      <th>Test_2</th>\n",
       "    </tr>\n",
       "  </thead>\n",
       "  <tbody>\n",
       "    <tr>\n",
       "      <th>b0002</th>\n",
       "      <td>11.006653</td>\n",
       "      <td>11.130196</td>\n",
       "      <td>11.704951</td>\n",
       "      <td>11.888217</td>\n",
       "    </tr>\n",
       "    <tr>\n",
       "      <th>b0003</th>\n",
       "      <td>10.415654</td>\n",
       "      <td>10.523138</td>\n",
       "      <td>11.423835</td>\n",
       "      <td>11.803781</td>\n",
       "    </tr>\n",
       "    <tr>\n",
       "      <th>b0004</th>\n",
       "      <td>10.594871</td>\n",
       "      <td>10.725062</td>\n",
       "      <td>10.457270</td>\n",
       "      <td>10.779162</td>\n",
       "    </tr>\n",
       "    <tr>\n",
       "      <th>b0005</th>\n",
       "      <td>6.316102</td>\n",
       "      <td>6.258499</td>\n",
       "      <td>5.422129</td>\n",
       "      <td>5.336121</td>\n",
       "    </tr>\n",
       "    <tr>\n",
       "      <th>b0006</th>\n",
       "      <td>6.915771</td>\n",
       "      <td>6.897597</td>\n",
       "      <td>6.775645</td>\n",
       "      <td>6.782605</td>\n",
       "    </tr>\n",
       "  </tbody>\n",
       "</table>\n",
       "</div>"
      ],
      "text/plain": [
       "       Reference_1  Reference_2     Test_1     Test_2\n",
       "b0002    11.006653    11.130196  11.704951  11.888217\n",
       "b0003    10.415654    10.523138  11.423835  11.803781\n",
       "b0004    10.594871    10.725062  10.457270  10.779162\n",
       "b0005     6.316102     6.258499   5.422129   5.336121\n",
       "b0006     6.915771     6.897597   6.775645   6.782605"
      ]
     },
     "execution_count": 17,
     "metadata": {},
     "output_type": "execute_result"
    }
   ],
   "source": [
    "log_tpm = np.log(tpm+1)\n",
    "log_tpm.head()"
   ]
  },
  {
   "cell_type": "markdown",
   "metadata": {},
   "source": [
    "Next, make sure your dataset uses similar gene names as the target `IcaData` object."
   ]
  },
  {
   "cell_type": "code",
   "execution_count": 22,
   "metadata": {},
   "outputs": [
    {
     "data": {
      "text/plain": [
       "<matplotlib_venn._common.VennDiagram at 0x7f7580c560d0>"
      ]
     },
     "execution_count": 22,
     "metadata": {},
     "output_type": "execute_result"
    },
    {
     "data": {
      "image/png": "[encoded data removed]",
      "text/plain": [
       "<Figure size 432x288 with 1 Axes>"
      ]
     },
     "metadata": {},
     "output_type": "display_data"
    }
   ],
   "source": [
    "from matplotlib_venn import venn2\n",
    "venn2((set(ica_data.gene_names),set(log_tpm.index)), set_labels=['IcaData genes','Dataset genes'])"
   ]
  },
  {
   "cell_type": "markdown",
   "metadata": {},
   "source": [
    "Only genes shared between your ``IcaData`` object and the new expression profiles will be used to project your data. All other genes will be ignored."
   ]
  },
  {
   "cell_type": "markdown",
   "metadata": {},
   "source": [
    "Then, center your dataset on a reference condition, taking the average of replicates."
   ]
  },
  {
   "cell_type": "code",
   "execution_count": 25,
   "metadata": {},
   "outputs": [
    {
     "data": {
      "text/html": [
       "<div>\n",
       "<style scoped>\n",
       "    .dataframe tbody tr th:only-of-type {\n",
       "        vertical-align: middle;\n",
       "    }\n",
       "\n",
       "    .dataframe tbody tr th {\n",
       "        vertical-align: top;\n",
       "    }\n",
       "\n",
       "    .dataframe thead th {\n",
       "        text-align: right;\n",
       "    }\n",
       "</style>\n",
       "<table border=\"1\" class=\"dataframe\">\n",
       "  <thead>\n",
       "    <tr style=\"text-align: right;\">\n",
       "      <th></th>\n",
       "      <th>Reference_1</th>\n",
       "      <th>Reference_2</th>\n",
       "      <th>Test_1</th>\n",
       "      <th>Test_2</th>\n",
       "    </tr>\n",
       "  </thead>\n",
       "  <tbody>\n",
       "    <tr>\n",
       "      <th>b0002</th>\n",
       "      <td>-0.061772</td>\n",
       "      <td>0.061772</td>\n",
       "      <td>0.636527</td>\n",
       "      <td>0.819793</td>\n",
       "    </tr>\n",
       "    <tr>\n",
       "      <th>b0003</th>\n",
       "      <td>-0.053742</td>\n",
       "      <td>0.053742</td>\n",
       "      <td>0.954439</td>\n",
       "      <td>1.334385</td>\n",
       "    </tr>\n",
       "    <tr>\n",
       "      <th>b0004</th>\n",
       "      <td>-0.065095</td>\n",
       "      <td>0.065095</td>\n",
       "      <td>-0.202697</td>\n",
       "      <td>0.119195</td>\n",
       "    </tr>\n",
       "    <tr>\n",
       "      <th>b0005</th>\n",
       "      <td>0.028802</td>\n",
       "      <td>-0.028802</td>\n",
       "      <td>-0.865171</td>\n",
       "      <td>-0.951179</td>\n",
       "    </tr>\n",
       "    <tr>\n",
       "      <th>b0006</th>\n",
       "      <td>0.009087</td>\n",
       "      <td>-0.009087</td>\n",
       "      <td>-0.131039</td>\n",
       "      <td>-0.124079</td>\n",
       "    </tr>\n",
       "  </tbody>\n",
       "</table>\n",
       "</div>"
      ],
      "text/plain": [
       "       Reference_1  Reference_2    Test_1    Test_2\n",
       "b0002    -0.061772     0.061772  0.636527  0.819793\n",
       "b0003    -0.053742     0.053742  0.954439  1.334385\n",
       "b0004    -0.065095     0.065095 -0.202697  0.119195\n",
       "b0005     0.028802    -0.028802 -0.865171 -0.951179\n",
       "b0006     0.009087    -0.009087 -0.131039 -0.124079"
      ]
     },
     "execution_count": 25,
     "metadata": {},
     "output_type": "execute_result"
    }
   ],
   "source": [
    "centered_log_tpm = log_tpm.sub(log_tpm[['Reference_1','Reference_2']].mean(axis=1),axis=0)\n",
    "centered_log_tpm.head()"
   ]
  },
  {
   "cell_type": "markdown",
   "metadata": {},
   "source": [
    "Finally, use the ``pymodulon.util.infer_activities`` function to infer the relative iModulon activities of your dataset."
   ]
  },
  {
   "cell_type": "code",
   "execution_count": 27,
   "metadata": {},
   "outputs": [],
   "source": [
    "from pymodulon.util import infer_activities"
   ]
  },
  {
   "cell_type": "code",
   "execution_count": 28,
   "metadata": {},
   "outputs": [
    {
     "data": {
      "text/html": [
       "<div>\n",
       "<style scoped>\n",
       "    .dataframe tbody tr th:only-of-type {\n",
       "        vertical-align: middle;\n",
       "    }\n",
       "\n",
       "    .dataframe tbody tr th {\n",
       "        vertical-align: top;\n",
       "    }\n",
       "\n",
       "    .dataframe thead th {\n",
       "        text-align: right;\n",
       "    }\n",
       "</style>\n",
       "<table border=\"1\" class=\"dataframe\">\n",
       "  <thead>\n",
       "    <tr style=\"text-align: right;\">\n",
       "      <th></th>\n",
       "      <th>Reference_1</th>\n",
       "      <th>Reference_2</th>\n",
       "      <th>Test_1</th>\n",
       "      <th>Test_2</th>\n",
       "    </tr>\n",
       "  </thead>\n",
       "  <tbody>\n",
       "    <tr>\n",
       "      <th>AllR/AraC/FucR</th>\n",
       "      <td>0.375525</td>\n",
       "      <td>-0.375525</td>\n",
       "      <td>2.258555</td>\n",
       "      <td>2.018295</td>\n",
       "    </tr>\n",
       "    <tr>\n",
       "      <th>ArcA-1</th>\n",
       "      <td>-0.429203</td>\n",
       "      <td>0.429203</td>\n",
       "      <td>-5.832628</td>\n",
       "      <td>-6.232075</td>\n",
       "    </tr>\n",
       "    <tr>\n",
       "      <th>ArcA-2</th>\n",
       "      <td>0.900395</td>\n",
       "      <td>-0.900395</td>\n",
       "      <td>1.986767</td>\n",
       "      <td>2.262015</td>\n",
       "    </tr>\n",
       "    <tr>\n",
       "      <th>ArgR</th>\n",
       "      <td>-0.291826</td>\n",
       "      <td>0.291826</td>\n",
       "      <td>-9.902345</td>\n",
       "      <td>-13.006574</td>\n",
       "    </tr>\n",
       "    <tr>\n",
       "      <th>AtoC</th>\n",
       "      <td>0.241034</td>\n",
       "      <td>-0.241034</td>\n",
       "      <td>1.592341</td>\n",
       "      <td>1.823258</td>\n",
       "    </tr>\n",
       "  </tbody>\n",
       "</table>\n",
       "</div>"
      ],
      "text/plain": [
       "                Reference_1  Reference_2    Test_1     Test_2\n",
       "AllR/AraC/FucR     0.375525    -0.375525  2.258555   2.018295\n",
       "ArcA-1            -0.429203     0.429203 -5.832628  -6.232075\n",
       "ArcA-2             0.900395    -0.900395  1.986767   2.262015\n",
       "ArgR              -0.291826     0.291826 -9.902345 -13.006574\n",
       "AtoC               0.241034    -0.241034  1.592341   1.823258"
      ]
     },
     "execution_count": 28,
     "metadata": {},
     "output_type": "execute_result"
    }
   ],
   "source": [
    "activities = infer_activities(ica_data,centered_log_tpm)\n",
    "activities.head()"
   ]
  },
  {
   "cell_type": "markdown",
   "metadata": {},
   "source": [
    "All of the plotting functions in ``pymodulon.plotting`` can be used on your inferred activities once you add it to a new ``IcaData`` object. It is advisable to create a new ``sample_table`` with ``project`` and ``condition`` columns."
   ]
  },
  {
   "cell_type": "code",
   "execution_count": 30,
   "metadata": {},
   "outputs": [],
   "source": [
    "from pymodulon.core import IcaData"
   ]
  },
  {
   "cell_type": "code",
   "execution_count": 40,
   "metadata": {},
   "outputs": [
    {
     "data": {
      "text/html": [
       "<div>\n",
       "<style scoped>\n",
       "    .dataframe tbody tr th:only-of-type {\n",
       "        vertical-align: middle;\n",
       "    }\n",
       "\n",
       "    .dataframe tbody tr th {\n",
       "        vertical-align: top;\n",
       "    }\n",
       "\n",
       "    .dataframe thead th {\n",
       "        text-align: right;\n",
       "    }\n",
       "</style>\n",
       "<table border=\"1\" class=\"dataframe\">\n",
       "  <thead>\n",
       "    <tr style=\"text-align: right;\">\n",
       "      <th></th>\n",
       "      <th>project</th>\n",
       "      <th>condition</th>\n",
       "    </tr>\n",
       "  </thead>\n",
       "  <tbody>\n",
       "    <tr>\n",
       "      <th>Reference_1</th>\n",
       "      <td>new_data</td>\n",
       "      <td>reference</td>\n",
       "    </tr>\n",
       "    <tr>\n",
       "      <th>Reference_2</th>\n",
       "      <td>new_data</td>\n",
       "      <td>reference</td>\n",
       "    </tr>\n",
       "    <tr>\n",
       "      <th>Test_1</th>\n",
       "      <td>new_data</td>\n",
       "      <td>test</td>\n",
       "    </tr>\n",
       "    <tr>\n",
       "      <th>Test_2</th>\n",
       "      <td>new_data</td>\n",
       "      <td>test</td>\n",
       "    </tr>\n",
       "  </tbody>\n",
       "</table>\n",
       "</div>"
      ],
      "text/plain": [
       "              project  condition\n",
       "Reference_1  new_data  reference\n",
       "Reference_2  new_data  reference\n",
       "Test_1       new_data       test\n",
       "Test_2       new_data       test"
      ]
     },
     "execution_count": 40,
     "metadata": {},
     "output_type": "execute_result"
    }
   ],
   "source": [
    "new_sample_table = pd.DataFrame([['new_data','reference']]*2+[['new_data','test']]*2,columns=['project','condition'],index=log_tpm.columns)\n",
    "new_sample_table"
   ]
  },
  {
   "cell_type": "code",
   "execution_count": 41,
   "metadata": {},
   "outputs": [],
   "source": [
    "new_data = IcaData(ica_data.M,\n",
    "                   activities,\n",
    "                   X = centered_log_tpm,\n",
    "                   log_tpm = log_tpm,\n",
    "                   gene_table = ica_data.gene_table,\n",
    "                   sample_table = new_sample_table,\n",
    "                   imodulon_table = ica_data.imodulon_table)"
   ]
  },
  {
   "cell_type": "code",
   "execution_count": 42,
   "metadata": {},
   "outputs": [],
   "source": [
    "from pymodulon.plotting import *"
   ]
  },
  {
   "cell_type": "code",
   "execution_count": 44,
   "metadata": {},
   "outputs": [
    {
     "data": {
      "text/plain": [
       "<matplotlib.axes._subplots.AxesSubplot at 0x7f757ea4edc0>"
      ]
     },
     "execution_count": 44,
     "metadata": {},
     "output_type": "execute_result"
    },
    {
     "data": {
      "image/png": "[encoded data removed]",
      "text/plain": [
       "<Figure size 55.2x144 with 1 Axes>"
      ]
     },
     "metadata": {
      "needs_background": "light"
     },
     "output_type": "display_data"
    }
   ],
   "source": [
    "plot_activities(new_data,'Fur-1',highlight='new_data')"
   ]
  }
 ],
 "metadata": {
  "kernelspec": {
   "display_name": "Python 3",
   "language": "python",
   "name": "python3"
  },
  "language_info": {
   "codemirror_mode": {
    "name": "ipython",
    "version": 3
   },
   "file_extension": ".py",
   "mimetype": "text/x-python",
   "name": "python",
   "nbconvert_exporter": "python",
   "pygments_lexer": "ipython3",
   "version": "3.8.2"
  },
  "toc": {
   "base_numbering": 1,
   "nav_menu": {},
   "number_sections": true,
   "sideBar": true,
   "skip_h1_title": false,
   "title_cell": "Table of Contents",
   "title_sidebar": "Contents",
   "toc_cell": true,
   "toc_position": {},
   "toc_section_display": true,
   "toc_window_display": false
  }
 },
 "nbformat": 4,
 "nbformat_minor": 1
}
