{
 "cells": [
  {
   "cell_type": "markdown",
   "metadata": {},
   "source": [
    "# Creating the Gene Table"
   ]
  },
  {
   "cell_type": "markdown",
   "metadata": {},
   "source": [
    "A copy of this notebook is available on the PyModulon GitHub page: [Creating the Gene Table Notebook](https://github.com/SBRG/pymodulon/blob/master/docs/tutorials/creating_the_gene_table.ipynb)"
   ]
  },
  {
   "cell_type": "markdown",
   "metadata": {},
   "source": [
    "First, download the FASTA and GFF files for your organism and its plasmids from NCBI. We will use the *E. coli* K-12 MG1655 strain as an example, which does not have plasmids."
   ]
  },
  {
   "cell_type": "code",
   "execution_count": 2,
   "metadata": {},
   "outputs": [],
   "source": [
    "from pymodulon import example_data"
   ]
  },
  {
   "cell_type": "markdown",
   "metadata": {},
   "source": [
    "## Get information from GFF files"
   ]
  },
  {
   "cell_type": "code",
   "execution_count": 3,
   "metadata": {},
   "outputs": [],
   "source": [
    "from pymodulon.gene_util import *"
   ]
  },
  {
   "cell_type": "markdown",
   "metadata": {},
   "source": [
    "Enter the location of all your GFF files here:"
   ]
  },
  {
   "cell_type": "code",
   "execution_count": 4,
   "metadata": {},
   "outputs": [],
   "source": [
    "gff_files = [example_data.ecoli_gff]"
   ]
  },
  {
   "cell_type": "markdown",
   "metadata": {},
   "source": [
    "The following cell will convert all the GFF files into a single Pandas DataFrame for easy manipulation. Pseudogenes have multiple rows in a GFF file (one for each fragment), but only the first fragment will be kept."
   ]
  },
  {
   "cell_type": "code",
   "execution_count": 5,
   "metadata": {},
   "outputs": [
    {
     "name": "stderr",
     "output_type": "stream",
     "text": [
      "WARNING:root:Duplicate locus_tag detected. Dropping duplicates.\n"
     ]
    },
    {
     "data": {
      "text/html": [
       "<div>\n",
       "<style scoped>\n",
       "    .dataframe tbody tr th:only-of-type {\n",
       "        vertical-align: middle;\n",
       "    }\n",
       "\n",
       "    .dataframe tbody tr th {\n",
       "        vertical-align: top;\n",
       "    }\n",
       "\n",
       "    .dataframe thead th {\n",
       "        text-align: right;\n",
       "    }\n",
       "</style>\n",
       "<table border=\"1\" class=\"dataframe\">\n",
       "  <thead>\n",
       "    <tr style=\"text-align: right;\">\n",
       "      <th></th>\n",
       "      <th>accession</th>\n",
       "      <th>start</th>\n",
       "      <th>end</th>\n",
       "      <th>strand</th>\n",
       "      <th>gene_name</th>\n",
       "      <th>old_locus_tag</th>\n",
       "      <th>gene_product</th>\n",
       "      <th>ncbi_protein</th>\n",
       "    </tr>\n",
       "    <tr>\n",
       "      <th>locus_tag</th>\n",
       "      <th></th>\n",
       "      <th></th>\n",
       "      <th></th>\n",
       "      <th></th>\n",
       "      <th></th>\n",
       "      <th></th>\n",
       "      <th></th>\n",
       "      <th></th>\n",
       "    </tr>\n",
       "  </thead>\n",
       "  <tbody>\n",
       "    <tr>\n",
       "      <th>b0001</th>\n",
       "      <td>NC_000913.3</td>\n",
       "      <td>190</td>\n",
       "      <td>255</td>\n",
       "      <td>+</td>\n",
       "      <td>thrL</td>\n",
       "      <td>None</td>\n",
       "      <td>thr operon leader peptide</td>\n",
       "      <td>NP_414542.1</td>\n",
       "    </tr>\n",
       "    <tr>\n",
       "      <th>b0002</th>\n",
       "      <td>NC_000913.3</td>\n",
       "      <td>337</td>\n",
       "      <td>2799</td>\n",
       "      <td>+</td>\n",
       "      <td>thrA</td>\n",
       "      <td>None</td>\n",
       "      <td>fused aspartate kinase/homoserine dehydrogenase 1</td>\n",
       "      <td>NP_414543.1</td>\n",
       "    </tr>\n",
       "    <tr>\n",
       "      <th>b0003</th>\n",
       "      <td>NC_000913.3</td>\n",
       "      <td>2801</td>\n",
       "      <td>3733</td>\n",
       "      <td>+</td>\n",
       "      <td>thrB</td>\n",
       "      <td>None</td>\n",
       "      <td>homoserine kinase</td>\n",
       "      <td>NP_414544.1</td>\n",
       "    </tr>\n",
       "    <tr>\n",
       "      <th>b0004</th>\n",
       "      <td>NC_000913.3</td>\n",
       "      <td>3734</td>\n",
       "      <td>5020</td>\n",
       "      <td>+</td>\n",
       "      <td>thrC</td>\n",
       "      <td>None</td>\n",
       "      <td>threonine synthase</td>\n",
       "      <td>NP_414545.1</td>\n",
       "    </tr>\n",
       "    <tr>\n",
       "      <th>b0005</th>\n",
       "      <td>NC_000913.3</td>\n",
       "      <td>5234</td>\n",
       "      <td>5530</td>\n",
       "      <td>+</td>\n",
       "      <td>yaaX</td>\n",
       "      <td>None</td>\n",
       "      <td>DUF2502 domain-containing protein YaaX</td>\n",
       "      <td>NP_414546.1</td>\n",
       "    </tr>\n",
       "  </tbody>\n",
       "</table>\n",
       "</div>"
      ],
      "text/plain": [
       "             accession  start   end strand gene_name old_locus_tag  \\\n",
       "locus_tag                                                            \n",
       "b0001      NC_000913.3    190   255      +      thrL          None   \n",
       "b0002      NC_000913.3    337  2799      +      thrA          None   \n",
       "b0003      NC_000913.3   2801  3733      +      thrB          None   \n",
       "b0004      NC_000913.3   3734  5020      +      thrC          None   \n",
       "b0005      NC_000913.3   5234  5530      +      yaaX          None   \n",
       "\n",
       "                                                gene_product ncbi_protein  \n",
       "locus_tag                                                                  \n",
       "b0001                              thr operon leader peptide  NP_414542.1  \n",
       "b0002      fused aspartate kinase/homoserine dehydrogenase 1  NP_414543.1  \n",
       "b0003                                      homoserine kinase  NP_414544.1  \n",
       "b0004                                     threonine synthase  NP_414545.1  \n",
       "b0005                 DUF2502 domain-containing protein YaaX  NP_414546.1  "
      ]
     },
     "execution_count": 5,
     "metadata": {},
     "output_type": "execute_result"
    }
   ],
   "source": [
    "keep_cols = ['accession','start','end','strand','gene_name','old_locus_tag','gene_product','ncbi_protein']\n",
    "\n",
    "DF_annot = gff2pandas(gff_files,index='locus_tag')\n",
    "DF_annot = DF_annot[keep_cols]\n",
    "\n",
    "DF_annot.head()"
   ]
  },
  {
   "cell_type": "markdown",
   "metadata": {},
   "source": [
    "To ensure that the gene index used is identical to the expression matrix, load in your data."
   ]
  },
  {
   "cell_type": "code",
   "execution_count": 6,
   "metadata": {},
   "outputs": [
    {
     "data": {
      "text/html": [
       "<div>\n",
       "<style scoped>\n",
       "    .dataframe tbody tr th:only-of-type {\n",
       "        vertical-align: middle;\n",
       "    }\n",
       "\n",
       "    .dataframe tbody tr th {\n",
       "        vertical-align: top;\n",
       "    }\n",
       "\n",
       "    .dataframe thead th {\n",
       "        text-align: right;\n",
       "    }\n",
       "</style>\n",
       "<table border=\"1\" class=\"dataframe\">\n",
       "  <thead>\n",
       "    <tr style=\"text-align: right;\">\n",
       "      <th></th>\n",
       "      <th>ecoli_00001</th>\n",
       "      <th>ecoli_00002</th>\n",
       "      <th>ecoli_00009</th>\n",
       "      <th>ecoli_00010</th>\n",
       "    </tr>\n",
       "    <tr>\n",
       "      <th>Geneid</th>\n",
       "      <th></th>\n",
       "      <th></th>\n",
       "      <th></th>\n",
       "      <th></th>\n",
       "    </tr>\n",
       "  </thead>\n",
       "  <tbody>\n",
       "    <tr>\n",
       "      <th>b0001</th>\n",
       "      <td>10.473721</td>\n",
       "      <td>10.271944</td>\n",
       "      <td>10.315476</td>\n",
       "      <td>10.808135</td>\n",
       "    </tr>\n",
       "    <tr>\n",
       "      <th>b0002</th>\n",
       "      <td>10.260569</td>\n",
       "      <td>10.368555</td>\n",
       "      <td>10.735874</td>\n",
       "      <td>10.726916</td>\n",
       "    </tr>\n",
       "    <tr>\n",
       "      <th>b0003</th>\n",
       "      <td>9.920277</td>\n",
       "      <td>10.044224</td>\n",
       "      <td>10.528432</td>\n",
       "      <td>10.503092</td>\n",
       "    </tr>\n",
       "    <tr>\n",
       "      <th>b0004</th>\n",
       "      <td>9.936694</td>\n",
       "      <td>10.010638</td>\n",
       "      <td>9.739519</td>\n",
       "      <td>9.722997</td>\n",
       "    </tr>\n",
       "    <tr>\n",
       "      <th>b0005</th>\n",
       "      <td>7.027515</td>\n",
       "      <td>7.237449</td>\n",
       "      <td>6.745798</td>\n",
       "      <td>6.497823</td>\n",
       "    </tr>\n",
       "  </tbody>\n",
       "</table>\n",
       "</div>"
      ],
      "text/plain": [
       "        ecoli_00001  ecoli_00002  ecoli_00009  ecoli_00010\n",
       "Geneid                                                    \n",
       "b0001     10.473721    10.271944    10.315476    10.808135\n",
       "b0002     10.260569    10.368555    10.735874    10.726916\n",
       "b0003      9.920277    10.044224    10.528432    10.503092\n",
       "b0004      9.936694    10.010638     9.739519     9.722997\n",
       "b0005      7.027515     7.237449     6.745798     6.497823"
      ]
     },
     "execution_count": 6,
     "metadata": {},
     "output_type": "execute_result"
    }
   ],
   "source": [
    "DF_log_tpm = example_data.load_example_log_tpm()\n",
    "DF_log_tpm.head()"
   ]
  },
  {
   "cell_type": "markdown",
   "metadata": {},
   "source": [
    "Check that the genes are the same in the expression dataset as in the annotation dataframe. Mismatched genes are listed below."
   ]
  },
  {
   "cell_type": "code",
   "execution_count": 7,
   "metadata": {},
   "outputs": [
    {
     "data": {
      "text/html": [
       "<div>\n",
       "<style scoped>\n",
       "    .dataframe tbody tr th:only-of-type {\n",
       "        vertical-align: middle;\n",
       "    }\n",
       "\n",
       "    .dataframe tbody tr th {\n",
       "        vertical-align: top;\n",
       "    }\n",
       "\n",
       "    .dataframe thead th {\n",
       "        text-align: right;\n",
       "    }\n",
       "</style>\n",
       "<table border=\"1\" class=\"dataframe\">\n",
       "  <thead>\n",
       "    <tr style=\"text-align: right;\">\n",
       "      <th></th>\n",
       "      <th>accession</th>\n",
       "      <th>start</th>\n",
       "      <th>end</th>\n",
       "      <th>strand</th>\n",
       "      <th>gene_name</th>\n",
       "      <th>old_locus_tag</th>\n",
       "      <th>gene_product</th>\n",
       "      <th>ncbi_protein</th>\n",
       "    </tr>\n",
       "    <tr>\n",
       "      <th>locus_tag</th>\n",
       "      <th></th>\n",
       "      <th></th>\n",
       "      <th></th>\n",
       "      <th></th>\n",
       "      <th></th>\n",
       "      <th></th>\n",
       "      <th></th>\n",
       "      <th></th>\n",
       "    </tr>\n",
       "  </thead>\n",
       "  <tbody>\n",
       "  </tbody>\n",
       "</table>\n",
       "</div>"
      ],
      "text/plain": [
       "Empty DataFrame\n",
       "Columns: [accession, start, end, strand, gene_name, old_locus_tag, gene_product, ncbi_protein]\n",
       "Index: []"
      ]
     },
     "execution_count": 7,
     "metadata": {},
     "output_type": "execute_result"
    }
   ],
   "source": [
    "test = DF_annot.sort_index().index == DF_log_tpm.sort_index().index\n",
    "DF_annot[~test]"
   ]
  },
  {
   "cell_type": "markdown",
   "metadata": {},
   "source": [
    "## (Optional) KEGG and COGs"
   ]
  },
  {
   "cell_type": "markdown",
   "metadata": {},
   "source": [
    "### Generate nucleotide fasta files for CDS"
   ]
  },
  {
   "cell_type": "markdown",
   "metadata": {},
   "source": [
    "Enter the location of all your fasta files here:"
   ]
  },
  {
   "cell_type": "code",
   "execution_count": 8,
   "metadata": {},
   "outputs": [],
   "source": [
    "fasta_files = [example_data.ecoli_fasta]"
   ]
  },
  {
   "cell_type": "markdown",
   "metadata": {},
   "source": [
    "The following code generates CDS files using your FASTA and GFF3 files"
   ]
  },
  {
   "cell_type": "code",
   "execution_count": 9,
   "metadata": {},
   "outputs": [],
   "source": [
    "from Bio import SeqIO\n",
    "\n",
    "cds_list = []\n",
    "for fasta in fasta_files:\n",
    "    seq = SeqIO.read(fasta,'fasta')\n",
    "\n",
    "    # Get gene information for genes in this fasta file\n",
    "    df_genes = DF_annot[DF_annot.accession == seq.id]\n",
    "    \n",
    "    for i,row in df_genes.iterrows():\n",
    "        cds = seq[row.start-1:row.end]\n",
    "        if row.strand == '-':\n",
    "            cds = seq[row.start-1:row.end].reverse_complement()\n",
    "        cds.id = row.name\n",
    "        cds.description = row.gene_name if pd.notnull(row.gene_name) else row.name\n",
    "        cds_list.append(cds)"
   ]
  },
  {
   "cell_type": "code",
   "execution_count": 10,
   "metadata": {},
   "outputs": [
    {
     "data": {
      "text/plain": [
       "[SeqRecord(seq=Seq('ATGAAACGCATTAGCACCACCATTACCACCACCATCACCATTACCACAGGTAAC...TGA', SingleLetterAlphabet()), id='b0001', name='NC_000913.3', description='thrL', dbxrefs=[]),\n",
       " SeqRecord(seq=Seq('ATGCGAGTGTTGAAGTTCGGCGGTACATCAGTGGCAAATGCAGAACGTTTTCTG...TGA', SingleLetterAlphabet()), id='b0002', name='NC_000913.3', description='thrA', dbxrefs=[]),\n",
       " SeqRecord(seq=Seq('ATGGTTAAAGTTTATGCCCCGGCTTCCAGTGCCAATATGAGCGTCGGGTTTGAT...TAA', SingleLetterAlphabet()), id='b0003', name='NC_000913.3', description='thrB', dbxrefs=[]),\n",
       " SeqRecord(seq=Seq('ATGAAACTCTACAATCTGAAAGATCACAACGAGCAGGTCAGCTTTGCGCAAGCC...TAA', SingleLetterAlphabet()), id='b0004', name='NC_000913.3', description='thrC', dbxrefs=[]),\n",
       " SeqRecord(seq=Seq('GTGAAAAAGATGCAATCTATCGTACTCGCACTTTCCCTGGTTCTGGTCGCTCCC...TAA', SingleLetterAlphabet()), id='b0005', name='NC_000913.3', description='yaaX', dbxrefs=[])]"
      ]
     },
     "execution_count": 10,
     "metadata": {},
     "output_type": "execute_result"
    }
   ],
   "source": [
    "cds_list[:5]"
   ]
  },
  {
   "cell_type": "markdown",
   "metadata": {},
   "source": [
    "Uncomment the line below to write the CDS file"
   ]
  },
  {
   "cell_type": "code",
   "execution_count": 11,
   "metadata": {
    "scrolled": true
   },
   "outputs": [],
   "source": [
    "# SeqIO.write(cds_list,'CDS.fna','fasta')"
   ]
  },
  {
   "cell_type": "markdown",
   "metadata": {},
   "source": [
    "### Run EggNOG Mapper\n",
    "1. Go to http://eggnog-mapper.embl.de/.\n",
    "1. Upload the CDS.fna file from your organism directory (within the sequence_files folder)\n",
    "1. Make sure to limit the taxonomy to the correct level\n",
    "1. After the job is submitted, you must follow the link in your email to run the job.\n",
    "1. Once the job completes (after ~4 hrs), download the annotations file.\n",
    "1. Save the annotation file"
   ]
  },
  {
   "cell_type": "markdown",
   "metadata": {},
   "source": [
    "### Get KEGG IDs"
   ]
  },
  {
   "cell_type": "markdown",
   "metadata": {},
   "source": [
    "Once you have the EggNOG annotations, load the annotation file"
   ]
  },
  {
   "cell_type": "code",
   "execution_count": 12,
   "metadata": {},
   "outputs": [],
   "source": [
    "eggnog_file = example_data.ecoli_eggnog"
   ]
  },
  {
   "cell_type": "code",
   "execution_count": 13,
   "metadata": {},
   "outputs": [
    {
     "data": {
      "text/html": [
       "<div>\n",
       "<style scoped>\n",
       "    .dataframe tbody tr th:only-of-type {\n",
       "        vertical-align: middle;\n",
       "    }\n",
       "\n",
       "    .dataframe tbody tr th {\n",
       "        vertical-align: top;\n",
       "    }\n",
       "\n",
       "    .dataframe thead th {\n",
       "        text-align: right;\n",
       "    }\n",
       "</style>\n",
       "<table border=\"1\" class=\"dataframe\">\n",
       "  <thead>\n",
       "    <tr style=\"text-align: right;\">\n",
       "      <th></th>\n",
       "      <th>seed eggNOG ortholog</th>\n",
       "      <th>seed ortholog evalue</th>\n",
       "      <th>seed ortholog score</th>\n",
       "      <th>Predicted taxonomic group</th>\n",
       "      <th>Predicted protein name</th>\n",
       "      <th>Gene Ontology terms</th>\n",
       "      <th>EC number</th>\n",
       "      <th>KEGG_orth</th>\n",
       "      <th>KEGG_pathway</th>\n",
       "      <th>KEGG_module</th>\n",
       "      <th>...</th>\n",
       "      <th>KEGG_rclass</th>\n",
       "      <th>BRITE</th>\n",
       "      <th>KEGG_TC</th>\n",
       "      <th>CAZy</th>\n",
       "      <th>BiGG Reaction</th>\n",
       "      <th>tax_scope</th>\n",
       "      <th>eggNOG OGs</th>\n",
       "      <th>bestOG_deprecated</th>\n",
       "      <th>COG</th>\n",
       "      <th>eggNOG free text description</th>\n",
       "    </tr>\n",
       "    <tr>\n",
       "      <th>locus_tag</th>\n",
       "      <th></th>\n",
       "      <th></th>\n",
       "      <th></th>\n",
       "      <th></th>\n",
       "      <th></th>\n",
       "      <th></th>\n",
       "      <th></th>\n",
       "      <th></th>\n",
       "      <th></th>\n",
       "      <th></th>\n",
       "      <th></th>\n",
       "      <th></th>\n",
       "      <th></th>\n",
       "      <th></th>\n",
       "      <th></th>\n",
       "      <th></th>\n",
       "      <th></th>\n",
       "      <th></th>\n",
       "      <th></th>\n",
       "      <th></th>\n",
       "      <th></th>\n",
       "    </tr>\n",
       "  </thead>\n",
       "  <tbody>\n",
       "    <tr>\n",
       "      <th>b0002</th>\n",
       "      <td>316407.85674276</td>\n",
       "      <td>0.000000e+00</td>\n",
       "      <td>1600.5</td>\n",
       "      <td>Escherichia</td>\n",
       "      <td>thrA</td>\n",
       "      <td>GO:0003674,GO:0003824,GO:0004072,GO:0004412,GO...</td>\n",
       "      <td>1.1.1.3,2.7.2.4</td>\n",
       "      <td>ko:K12524</td>\n",
       "      <td>ko00260,ko00261,ko00270,ko00300,ko01100,ko0111...</td>\n",
       "      <td>M00016,M00017,M00018,M00526,M00527</td>\n",
       "      <td>...</td>\n",
       "      <td>RC00002,RC00043,RC00087</td>\n",
       "      <td>ko00000,ko00001,ko00002,ko01000</td>\n",
       "      <td>NaN</td>\n",
       "      <td>NaN</td>\n",
       "      <td>iECDH1ME8569_1439.ECDH1ME8569_0002,iEcDH1_1363...</td>\n",
       "      <td>Escherichia</td>\n",
       "      <td>1MW3H@1224,1RN1G@1236,3XN2A@561,COG0460@1,COG0...</td>\n",
       "      <td>NA|NA|NA</td>\n",
       "      <td>E</td>\n",
       "      <td>homoserine dehydrogenase I</td>\n",
       "    </tr>\n",
       "    <tr>\n",
       "      <th>b0003</th>\n",
       "      <td>316407.85674277</td>\n",
       "      <td>3.000000e-178</td>\n",
       "      <td>630.9</td>\n",
       "      <td>Escherichia</td>\n",
       "      <td>thrB</td>\n",
       "      <td>GO:0000096,GO:0000097,GO:0003674,GO:0003824,GO...</td>\n",
       "      <td>2.7.1.39</td>\n",
       "      <td>ko:K00872</td>\n",
       "      <td>ko00260,ko01100,ko01110,ko01120,ko01230,map002...</td>\n",
       "      <td>M00018</td>\n",
       "      <td>...</td>\n",
       "      <td>RC00002,RC00017</td>\n",
       "      <td>ko00000,ko00001,ko00002,ko01000</td>\n",
       "      <td>NaN</td>\n",
       "      <td>NaN</td>\n",
       "      <td>iECSE_1348.ECSE_0003</td>\n",
       "      <td>Escherichia</td>\n",
       "      <td>1MW8I@1224,1RMYR@1236,3XN01@561,COG0083@1,COG0...</td>\n",
       "      <td>NA|NA|NA</td>\n",
       "      <td>F</td>\n",
       "      <td>Catalyzes the ATP-dependent phosphorylation of...</td>\n",
       "    </tr>\n",
       "    <tr>\n",
       "      <th>b0004</th>\n",
       "      <td>316407.21321894</td>\n",
       "      <td>1.200000e-246</td>\n",
       "      <td>858.6</td>\n",
       "      <td>Escherichia</td>\n",
       "      <td>thrC</td>\n",
       "      <td>GO:0003674,GO:0003824,GO:0004795,GO:0005575,GO...</td>\n",
       "      <td>4.2.3.1</td>\n",
       "      <td>ko:K01733</td>\n",
       "      <td>ko00260,ko00750,ko01100,ko01110,ko01120,ko0123...</td>\n",
       "      <td>M00018</td>\n",
       "      <td>...</td>\n",
       "      <td>RC00017,RC00526</td>\n",
       "      <td>ko00000,ko00001,ko00002,ko01000</td>\n",
       "      <td>NaN</td>\n",
       "      <td>NaN</td>\n",
       "      <td>iLF82_1304.LF82_2261,iNRG857_1313.NRG857_00025</td>\n",
       "      <td>Escherichia</td>\n",
       "      <td>1MUWQ@1224,1RQ0H@1236,3XP31@561,COG0498@1,COG0...</td>\n",
       "      <td>NA|NA|NA</td>\n",
       "      <td>E</td>\n",
       "      <td>Catalyzes the gamma-elimination of phosphate f...</td>\n",
       "    </tr>\n",
       "    <tr>\n",
       "      <th>b0005</th>\n",
       "      <td>316407.21321895</td>\n",
       "      <td>1.400000e-23</td>\n",
       "      <td>115.5</td>\n",
       "      <td>Escherichia</td>\n",
       "      <td>yaaX</td>\n",
       "      <td>NaN</td>\n",
       "      <td>NaN</td>\n",
       "      <td>NaN</td>\n",
       "      <td>NaN</td>\n",
       "      <td>NaN</td>\n",
       "      <td>...</td>\n",
       "      <td>NaN</td>\n",
       "      <td>NaN</td>\n",
       "      <td>NaN</td>\n",
       "      <td>NaN</td>\n",
       "      <td>NaN</td>\n",
       "      <td>Escherichia</td>\n",
       "      <td>1N4SV@1224,1S9KR@1236,2B58A@1,32XJS@2,3XRGB@561</td>\n",
       "      <td>NA|NA|NA</td>\n",
       "      <td>S</td>\n",
       "      <td>Protein of unknown function (DUF2502)</td>\n",
       "    </tr>\n",
       "    <tr>\n",
       "      <th>b0006</th>\n",
       "      <td>198214.SF0006</td>\n",
       "      <td>1.600000e-143</td>\n",
       "      <td>515.4</td>\n",
       "      <td>Gammaproteobacteria</td>\n",
       "      <td>NaN</td>\n",
       "      <td>NaN</td>\n",
       "      <td>NaN</td>\n",
       "      <td>NaN</td>\n",
       "      <td>NaN</td>\n",
       "      <td>NaN</td>\n",
       "      <td>...</td>\n",
       "      <td>NaN</td>\n",
       "      <td>NaN</td>\n",
       "      <td>NaN</td>\n",
       "      <td>NaN</td>\n",
       "      <td>NaN</td>\n",
       "      <td>Escherichia</td>\n",
       "      <td>1MUAF@1224,1RMTD@1236,COG3022@1,COG3022@2</td>\n",
       "      <td>NA|NA|NA</td>\n",
       "      <td>S</td>\n",
       "      <td>Belongs to the UPF0246 family</td>\n",
       "    </tr>\n",
       "  </tbody>\n",
       "</table>\n",
       "<p>5 rows × 21 columns</p>\n",
       "</div>"
      ],
      "text/plain": [
       "          seed eggNOG ortholog  seed ortholog evalue  seed ortholog score  \\\n",
       "locus_tag                                                                   \n",
       "b0002          316407.85674276          0.000000e+00               1600.5   \n",
       "b0003          316407.85674277         3.000000e-178                630.9   \n",
       "b0004          316407.21321894         1.200000e-246                858.6   \n",
       "b0005          316407.21321895          1.400000e-23                115.5   \n",
       "b0006            198214.SF0006         1.600000e-143                515.4   \n",
       "\n",
       "          Predicted taxonomic group Predicted protein name  \\\n",
       "locus_tag                                                    \n",
       "b0002                   Escherichia                   thrA   \n",
       "b0003                   Escherichia                   thrB   \n",
       "b0004                   Escherichia                   thrC   \n",
       "b0005                   Escherichia                   yaaX   \n",
       "b0006           Gammaproteobacteria                    NaN   \n",
       "\n",
       "                                         Gene Ontology terms        EC number  \\\n",
       "locus_tag                                                                       \n",
       "b0002      GO:0003674,GO:0003824,GO:0004072,GO:0004412,GO...  1.1.1.3,2.7.2.4   \n",
       "b0003      GO:0000096,GO:0000097,GO:0003674,GO:0003824,GO...         2.7.1.39   \n",
       "b0004      GO:0003674,GO:0003824,GO:0004795,GO:0005575,GO...          4.2.3.1   \n",
       "b0005                                                    NaN              NaN   \n",
       "b0006                                                    NaN              NaN   \n",
       "\n",
       "           KEGG_orth                                       KEGG_pathway  \\\n",
       "locus_tag                                                                 \n",
       "b0002      ko:K12524  ko00260,ko00261,ko00270,ko00300,ko01100,ko0111...   \n",
       "b0003      ko:K00872  ko00260,ko01100,ko01110,ko01120,ko01230,map002...   \n",
       "b0004      ko:K01733  ko00260,ko00750,ko01100,ko01110,ko01120,ko0123...   \n",
       "b0005            NaN                                                NaN   \n",
       "b0006            NaN                                                NaN   \n",
       "\n",
       "                                  KEGG_module  ...              KEGG_rclass  \\\n",
       "locus_tag                                      ...                            \n",
       "b0002      M00016,M00017,M00018,M00526,M00527  ...  RC00002,RC00043,RC00087   \n",
       "b0003                                  M00018  ...          RC00002,RC00017   \n",
       "b0004                                  M00018  ...          RC00017,RC00526   \n",
       "b0005                                     NaN  ...                      NaN   \n",
       "b0006                                     NaN  ...                      NaN   \n",
       "\n",
       "                                     BRITE KEGG_TC CAZy  \\\n",
       "locus_tag                                                 \n",
       "b0002      ko00000,ko00001,ko00002,ko01000     NaN  NaN   \n",
       "b0003      ko00000,ko00001,ko00002,ko01000     NaN  NaN   \n",
       "b0004      ko00000,ko00001,ko00002,ko01000     NaN  NaN   \n",
       "b0005                                  NaN     NaN  NaN   \n",
       "b0006                                  NaN     NaN  NaN   \n",
       "\n",
       "                                               BiGG Reaction    tax_scope  \\\n",
       "locus_tag                                                                   \n",
       "b0002      iECDH1ME8569_1439.ECDH1ME8569_0002,iEcDH1_1363...  Escherichia   \n",
       "b0003                                   iECSE_1348.ECSE_0003  Escherichia   \n",
       "b0004         iLF82_1304.LF82_2261,iNRG857_1313.NRG857_00025  Escherichia   \n",
       "b0005                                                    NaN  Escherichia   \n",
       "b0006                                                    NaN  Escherichia   \n",
       "\n",
       "                                                  eggNOG OGs  \\\n",
       "locus_tag                                                      \n",
       "b0002      1MW3H@1224,1RN1G@1236,3XN2A@561,COG0460@1,COG0...   \n",
       "b0003      1MW8I@1224,1RMYR@1236,3XN01@561,COG0083@1,COG0...   \n",
       "b0004      1MUWQ@1224,1RQ0H@1236,3XP31@561,COG0498@1,COG0...   \n",
       "b0005        1N4SV@1224,1S9KR@1236,2B58A@1,32XJS@2,3XRGB@561   \n",
       "b0006              1MUAF@1224,1RMTD@1236,COG3022@1,COG3022@2   \n",
       "\n",
       "          bestOG_deprecated COG  \\\n",
       "locus_tag                         \n",
       "b0002              NA|NA|NA   E   \n",
       "b0003              NA|NA|NA   F   \n",
       "b0004              NA|NA|NA   E   \n",
       "b0005              NA|NA|NA   S   \n",
       "b0006              NA|NA|NA   S   \n",
       "\n",
       "                                eggNOG free text description  \n",
       "locus_tag                                                     \n",
       "b0002                             homoserine dehydrogenase I  \n",
       "b0003      Catalyzes the ATP-dependent phosphorylation of...  \n",
       "b0004      Catalyzes the gamma-elimination of phosphate f...  \n",
       "b0005                  Protein of unknown function (DUF2502)  \n",
       "b0006                          Belongs to the UPF0246 family  \n",
       "\n",
       "[5 rows x 21 columns]"
      ]
     },
     "execution_count": 13,
     "metadata": {},
     "output_type": "execute_result"
    }
   ],
   "source": [
    "DF_eggnog = pd.read_csv(eggnog_file,sep='\\t',skiprows=4,header=None)\n",
    "eggnog_cols = ['query_name','seed eggNOG ortholog','seed ortholog evalue','seed ortholog score',\n",
    "               'Predicted taxonomic group','Predicted protein name','Gene Ontology terms',\n",
    "               'EC number','KEGG_orth','KEGG_pathway','KEGG_module','KEGG_reaction',\n",
    "               'KEGG_rclass','BRITE','KEGG_TC','CAZy','BiGG Reaction','tax_scope',\n",
    "               'eggNOG OGs','bestOG_deprecated','COG','eggNOG free text description']\n",
    "\n",
    "DF_eggnog.columns = eggnog_cols\n",
    "\n",
    "# Strip last three rows as they are comments\n",
    "DF_eggnog = DF_eggnog.iloc[:-3]\n",
    "\n",
    "# Set locus tag as index\n",
    "DF_eggnog = DF_eggnog.set_index('query_name')\n",
    "DF_eggnog.index.name = 'locus_tag'\n",
    "\n",
    "DF_eggnog.head()"
   ]
  },
  {
   "cell_type": "markdown",
   "metadata": {},
   "source": [
    "Now we will pull the KEGG information from the eggNOG file, including orthology, pathway, module, and reactions for each gene."
   ]
  },
  {
   "cell_type": "code",
   "execution_count": 14,
   "metadata": {
    "scrolled": true
   },
   "outputs": [
    {
     "data": {
      "text/html": [
       "<div>\n",
       "<style scoped>\n",
       "    .dataframe tbody tr th:only-of-type {\n",
       "        vertical-align: middle;\n",
       "    }\n",
       "\n",
       "    .dataframe tbody tr th {\n",
       "        vertical-align: top;\n",
       "    }\n",
       "\n",
       "    .dataframe thead th {\n",
       "        text-align: right;\n",
       "    }\n",
       "</style>\n",
       "<table border=\"1\" class=\"dataframe\">\n",
       "  <thead>\n",
       "    <tr style=\"text-align: right;\">\n",
       "      <th></th>\n",
       "      <th>gene_id</th>\n",
       "      <th>database</th>\n",
       "      <th>kegg_id</th>\n",
       "    </tr>\n",
       "  </thead>\n",
       "  <tbody>\n",
       "    <tr>\n",
       "      <th>2750</th>\n",
       "      <td>b0002</td>\n",
       "      <td>KEGG_pathway</td>\n",
       "      <td>map00260</td>\n",
       "    </tr>\n",
       "    <tr>\n",
       "      <th>2751</th>\n",
       "      <td>b0002</td>\n",
       "      <td>KEGG_pathway</td>\n",
       "      <td>map00261</td>\n",
       "    </tr>\n",
       "    <tr>\n",
       "      <th>2752</th>\n",
       "      <td>b0002</td>\n",
       "      <td>KEGG_pathway</td>\n",
       "      <td>map00270</td>\n",
       "    </tr>\n",
       "    <tr>\n",
       "      <th>2753</th>\n",
       "      <td>b0002</td>\n",
       "      <td>KEGG_pathway</td>\n",
       "      <td>map00300</td>\n",
       "    </tr>\n",
       "    <tr>\n",
       "      <th>2754</th>\n",
       "      <td>b0002</td>\n",
       "      <td>KEGG_pathway</td>\n",
       "      <td>map01100</td>\n",
       "    </tr>\n",
       "  </tbody>\n",
       "</table>\n",
       "</div>"
      ],
      "text/plain": [
       "     gene_id      database   kegg_id\n",
       "2750   b0002  KEGG_pathway  map00260\n",
       "2751   b0002  KEGG_pathway  map00261\n",
       "2752   b0002  KEGG_pathway  map00270\n",
       "2753   b0002  KEGG_pathway  map00300\n",
       "2754   b0002  KEGG_pathway  map01100"
      ]
     },
     "execution_count": 14,
     "metadata": {},
     "output_type": "execute_result"
    }
   ],
   "source": [
    "DF_kegg = DF_eggnog[['KEGG_orth','KEGG_pathway','KEGG_module','KEGG_reaction']]\n",
    "\n",
    "# Melt dataframe\n",
    "DF_kegg = DF_kegg.reset_index().melt(id_vars='locus_tag') \n",
    "\n",
    "# Remove null values\n",
    "DF_kegg = DF_kegg[DF_kegg.value.notnull()]\n",
    "\n",
    "# Split comma-separated values into their own rows\n",
    "list2struct = []\n",
    "for name,row in DF_kegg.iterrows():\n",
    "    for val in row.value.split(','):\n",
    "        list2struct.append([row.locus_tag,row.variable,val])\n",
    "\n",
    "DF_kegg = pd.DataFrame(list2struct,columns=['gene_id','database','kegg_id'])\n",
    "\n",
    "# Remove ko entries, as only map entries are searchable in KEGG pathway\n",
    "DF_kegg = DF_kegg[~DF_kegg.kegg_id.str.startswith('ko')]\n",
    "\n",
    "DF_kegg.head()"
   ]
  },
  {
   "cell_type": "markdown",
   "metadata": {},
   "source": [
    "### Save KEGG information"
   ]
  },
  {
   "cell_type": "markdown",
   "metadata": {},
   "source": [
    "Uncomment the line below to save the KEGG file"
   ]
  },
  {
   "cell_type": "code",
   "execution_count": 15,
   "metadata": {},
   "outputs": [],
   "source": [
    "# DF_kegg.to_csv('kegg_mapping.csv')"
   ]
  },
  {
   "cell_type": "markdown",
   "metadata": {},
   "source": [
    "### Save COGs to annotation dataframe"
   ]
  },
  {
   "cell_type": "code",
   "execution_count": 16,
   "metadata": {},
   "outputs": [],
   "source": [
    "DF_annot['COG'] = DF_eggnog.COG\n",
    "\n",
    "# Make sure COG only has one entry per gene\n",
    "DF_annot['COG'] = [item[0] if isinstance(item,str) else item for item in DF_annot['COG']]"
   ]
  },
  {
   "cell_type": "markdown",
   "metadata": {},
   "source": [
    "## Uniprot ID mapping"
   ]
  },
  {
   "cell_type": "markdown",
   "metadata": {},
   "source": [
    "The ``uniprot_id_mapping`` function is a python wrapper for the [Uniprot ID mapping tool](https://www.uniprot.org/uploadlists/). Use ``input_id=P_REFSEQ_AC`` if the FASTA/GFFf files are from RefSeq, and ``input_id=EMBL`` if the files are from Genbank."
   ]
  },
  {
   "cell_type": "code",
   "execution_count": 17,
   "metadata": {},
   "outputs": [
    {
     "data": {
      "text/html": [
       "<div>\n",
       "<style scoped>\n",
       "    .dataframe tbody tr th:only-of-type {\n",
       "        vertical-align: middle;\n",
       "    }\n",
       "\n",
       "    .dataframe tbody tr th {\n",
       "        vertical-align: top;\n",
       "    }\n",
       "\n",
       "    .dataframe thead th {\n",
       "        text-align: right;\n",
       "    }\n",
       "</style>\n",
       "<table border=\"1\" class=\"dataframe\">\n",
       "  <thead>\n",
       "    <tr style=\"text-align: right;\">\n",
       "      <th></th>\n",
       "      <th>ncbi_protein</th>\n",
       "      <th>uniprot</th>\n",
       "    </tr>\n",
       "  </thead>\n",
       "  <tbody>\n",
       "    <tr>\n",
       "      <th>2090</th>\n",
       "      <td>NP_416515.1</td>\n",
       "      <td>A0A0G3HGF9</td>\n",
       "    </tr>\n",
       "    <tr>\n",
       "      <th>4381</th>\n",
       "      <td>NP_418733.1</td>\n",
       "      <td>A0A0N9YI43</td>\n",
       "    </tr>\n",
       "    <tr>\n",
       "      <th>3651</th>\n",
       "      <td>NP_418014.1</td>\n",
       "      <td>A0A223DQZ5</td>\n",
       "    </tr>\n",
       "    <tr>\n",
       "      <th>26</th>\n",
       "      <td>NP_414563.1</td>\n",
       "      <td>A0A385XJ53</td>\n",
       "    </tr>\n",
       "    <tr>\n",
       "      <th>1978</th>\n",
       "      <td>NP_416408.1</td>\n",
       "      <td>A0A385XJ53</td>\n",
       "    </tr>\n",
       "  </tbody>\n",
       "</table>\n",
       "</div>"
      ],
      "text/plain": [
       "     ncbi_protein     uniprot\n",
       "2090  NP_416515.1  A0A0G3HGF9\n",
       "4381  NP_418733.1  A0A0N9YI43\n",
       "3651  NP_418014.1  A0A223DQZ5\n",
       "26    NP_414563.1  A0A385XJ53\n",
       "1978  NP_416408.1  A0A385XJ53"
      ]
     },
     "execution_count": 17,
     "metadata": {},
     "output_type": "execute_result"
    }
   ],
   "source": [
    "mapping_uniprot = uniprot_id_mapping(DF_annot.ncbi_protein.fillna(''),input_id='P_REFSEQ_AC',output_id='ACC',\n",
    "                             input_name='ncbi_protein',output_name='uniprot')\n",
    "mapping_uniprot.head()"
   ]
  },
  {
   "cell_type": "code",
   "execution_count": 18,
   "metadata": {},
   "outputs": [
    {
     "data": {
      "text/html": [
       "<div>\n",
       "<style scoped>\n",
       "    .dataframe tbody tr th:only-of-type {\n",
       "        vertical-align: middle;\n",
       "    }\n",
       "\n",
       "    .dataframe tbody tr th {\n",
       "        vertical-align: top;\n",
       "    }\n",
       "\n",
       "    .dataframe thead th {\n",
       "        text-align: right;\n",
       "    }\n",
       "</style>\n",
       "<table border=\"1\" class=\"dataframe\">\n",
       "  <thead>\n",
       "    <tr style=\"text-align: right;\">\n",
       "      <th></th>\n",
       "      <th>accession</th>\n",
       "      <th>start</th>\n",
       "      <th>end</th>\n",
       "      <th>strand</th>\n",
       "      <th>gene_name</th>\n",
       "      <th>old_locus_tag</th>\n",
       "      <th>gene_product</th>\n",
       "      <th>ncbi_protein</th>\n",
       "      <th>COG</th>\n",
       "      <th>uniprot</th>\n",
       "    </tr>\n",
       "    <tr>\n",
       "      <th>locus_tag</th>\n",
       "      <th></th>\n",
       "      <th></th>\n",
       "      <th></th>\n",
       "      <th></th>\n",
       "      <th></th>\n",
       "      <th></th>\n",
       "      <th></th>\n",
       "      <th></th>\n",
       "      <th></th>\n",
       "      <th></th>\n",
       "    </tr>\n",
       "  </thead>\n",
       "  <tbody>\n",
       "    <tr>\n",
       "      <th>b0001</th>\n",
       "      <td>NC_000913.3</td>\n",
       "      <td>190</td>\n",
       "      <td>255</td>\n",
       "      <td>+</td>\n",
       "      <td>thrL</td>\n",
       "      <td>None</td>\n",
       "      <td>thr operon leader peptide</td>\n",
       "      <td>NP_414542.1</td>\n",
       "      <td>NaN</td>\n",
       "      <td>P0AD86</td>\n",
       "    </tr>\n",
       "    <tr>\n",
       "      <th>b0002</th>\n",
       "      <td>NC_000913.3</td>\n",
       "      <td>337</td>\n",
       "      <td>2799</td>\n",
       "      <td>+</td>\n",
       "      <td>thrA</td>\n",
       "      <td>None</td>\n",
       "      <td>fused aspartate kinase/homoserine dehydrogenase 1</td>\n",
       "      <td>NP_414543.1</td>\n",
       "      <td>E</td>\n",
       "      <td>P00561</td>\n",
       "    </tr>\n",
       "    <tr>\n",
       "      <th>b0003</th>\n",
       "      <td>NC_000913.3</td>\n",
       "      <td>2801</td>\n",
       "      <td>3733</td>\n",
       "      <td>+</td>\n",
       "      <td>thrB</td>\n",
       "      <td>None</td>\n",
       "      <td>homoserine kinase</td>\n",
       "      <td>NP_414544.1</td>\n",
       "      <td>F</td>\n",
       "      <td>P00547</td>\n",
       "    </tr>\n",
       "    <tr>\n",
       "      <th>b0004</th>\n",
       "      <td>NC_000913.3</td>\n",
       "      <td>3734</td>\n",
       "      <td>5020</td>\n",
       "      <td>+</td>\n",
       "      <td>thrC</td>\n",
       "      <td>None</td>\n",
       "      <td>threonine synthase</td>\n",
       "      <td>NP_414545.1</td>\n",
       "      <td>E</td>\n",
       "      <td>P00934</td>\n",
       "    </tr>\n",
       "    <tr>\n",
       "      <th>b0005</th>\n",
       "      <td>NC_000913.3</td>\n",
       "      <td>5234</td>\n",
       "      <td>5530</td>\n",
       "      <td>+</td>\n",
       "      <td>yaaX</td>\n",
       "      <td>None</td>\n",
       "      <td>DUF2502 domain-containing protein YaaX</td>\n",
       "      <td>NP_414546.1</td>\n",
       "      <td>S</td>\n",
       "      <td>P75616</td>\n",
       "    </tr>\n",
       "  </tbody>\n",
       "</table>\n",
       "</div>"
      ],
      "text/plain": [
       "             accession  start   end strand gene_name old_locus_tag  \\\n",
       "locus_tag                                                            \n",
       "b0001      NC_000913.3    190   255      +      thrL          None   \n",
       "b0002      NC_000913.3    337  2799      +      thrA          None   \n",
       "b0003      NC_000913.3   2801  3733      +      thrB          None   \n",
       "b0004      NC_000913.3   3734  5020      +      thrC          None   \n",
       "b0005      NC_000913.3   5234  5530      +      yaaX          None   \n",
       "\n",
       "                                                gene_product ncbi_protein  \\\n",
       "locus_tag                                                                   \n",
       "b0001                              thr operon leader peptide  NP_414542.1   \n",
       "b0002      fused aspartate kinase/homoserine dehydrogenase 1  NP_414543.1   \n",
       "b0003                                      homoserine kinase  NP_414544.1   \n",
       "b0004                                     threonine synthase  NP_414545.1   \n",
       "b0005                 DUF2502 domain-containing protein YaaX  NP_414546.1   \n",
       "\n",
       "           COG uniprot  \n",
       "locus_tag               \n",
       "b0001      NaN  P0AD86  \n",
       "b0002        E  P00561  \n",
       "b0003        F  P00547  \n",
       "b0004        E  P00934  \n",
       "b0005        S  P75616  "
      ]
     },
     "execution_count": 18,
     "metadata": {},
     "output_type": "execute_result"
    }
   ],
   "source": [
    "# Merge with current annotation\n",
    "DF_annot = pd.merge(DF_annot.reset_index(),mapping_uniprot,how='left',on='ncbi_protein')\n",
    "DF_annot.set_index('locus_tag',inplace=True)\n",
    "DF_annot.head()"
   ]
  },
  {
   "cell_type": "markdown",
   "metadata": {},
   "source": [
    "## Add Biocyc Operon information"
   ]
  },
  {
   "cell_type": "markdown",
   "metadata": {},
   "source": [
    "To obtain operon information from Biocyc, follow the steps below\n",
    "\n",
    "1. Go to [Biocyc.org](https://biocyc.org/) (you may need to create an account and/or login)\n",
    "2. Change the organism database to your organism/strain\n",
    "3. Select **SmartTables** -> **Special SmartTables**\n",
    "4. Select **\"All genes of \\<organism\\>\"**\n",
    "5. Select the **\"Gene Name\"** column\n",
    "6. Under **\"ADD TRANSFORM COLUMN\"** select **\"Genes in same transcription unit\"**\n",
    "7. Select the **\"Genes in same transcription unit\"** column\n",
    "8. Under **\"ADD PROPERTY COLUMN\"** select **\"Accession-1\"**\n",
    "9. Under **OPERATIONS**, select **\"Export\"** -> **\"to Spreadsheet File...\"**\n",
    "10. Select **\"common names\"** and click **\"Export smarttable\"**\n",
    "11. Add file location below and run the code cell"
   ]
  },
  {
   "cell_type": "code",
   "execution_count": 19,
   "metadata": {},
   "outputs": [
    {
     "data": {
      "text/html": [
       "<div>\n",
       "<style scoped>\n",
       "    .dataframe tbody tr th:only-of-type {\n",
       "        vertical-align: middle;\n",
       "    }\n",
       "\n",
       "    .dataframe tbody tr th {\n",
       "        vertical-align: top;\n",
       "    }\n",
       "\n",
       "    .dataframe thead th {\n",
       "        text-align: right;\n",
       "    }\n",
       "</style>\n",
       "<table border=\"1\" class=\"dataframe\">\n",
       "  <thead>\n",
       "    <tr style=\"text-align: right;\">\n",
       "      <th></th>\n",
       "      <th>Gene Name</th>\n",
       "      <th>Left-End-Position</th>\n",
       "      <th>Right-End-Position</th>\n",
       "      <th>Product</th>\n",
       "      <th>Genes in same transcription unit</th>\n",
       "      <th>Accession-1.1</th>\n",
       "      <th>operon_list</th>\n",
       "    </tr>\n",
       "    <tr>\n",
       "      <th>locus_tag</th>\n",
       "      <th></th>\n",
       "      <th></th>\n",
       "      <th></th>\n",
       "      <th></th>\n",
       "      <th></th>\n",
       "      <th></th>\n",
       "      <th></th>\n",
       "    </tr>\n",
       "  </thead>\n",
       "  <tbody>\n",
       "    <tr>\n",
       "      <th>b0001</th>\n",
       "      <td>thrL</td>\n",
       "      <td>190.0</td>\n",
       "      <td>255.0</td>\n",
       "      <td>&lt;i&gt;thr&lt;/i&gt; operon leader peptide</td>\n",
       "      <td>thrL // thrA // thrB // thrC</td>\n",
       "      <td>b0001 // b0002 // b0003 // b0004</td>\n",
       "      <td>b0001;b0002;b0003;b0004</td>\n",
       "    </tr>\n",
       "    <tr>\n",
       "      <th>b0002</th>\n",
       "      <td>thrA</td>\n",
       "      <td>337.0</td>\n",
       "      <td>2799.0</td>\n",
       "      <td>fused aspartate kinase/homoserine dehydrogenase 1</td>\n",
       "      <td>thrA // thrB // thrC // thrL</td>\n",
       "      <td>b0002 // b0003 // b0004 // b0001</td>\n",
       "      <td>b0001;b0002;b0003;b0004</td>\n",
       "    </tr>\n",
       "    <tr>\n",
       "      <th>b0003</th>\n",
       "      <td>thrB</td>\n",
       "      <td>2801.0</td>\n",
       "      <td>3733.0</td>\n",
       "      <td>homoserine kinase</td>\n",
       "      <td>thrA // thrB // thrC // thrL</td>\n",
       "      <td>b0002 // b0003 // b0004 // b0001</td>\n",
       "      <td>b0001;b0002;b0003;b0004</td>\n",
       "    </tr>\n",
       "    <tr>\n",
       "      <th>b0004</th>\n",
       "      <td>thrC</td>\n",
       "      <td>3734.0</td>\n",
       "      <td>5020.0</td>\n",
       "      <td>threonine synthase</td>\n",
       "      <td>thrA // thrB // thrC // thrL</td>\n",
       "      <td>b0002 // b0003 // b0004 // b0001</td>\n",
       "      <td>b0001;b0002;b0003;b0004</td>\n",
       "    </tr>\n",
       "    <tr>\n",
       "      <th>b0005</th>\n",
       "      <td>yaaX</td>\n",
       "      <td>5234.0</td>\n",
       "      <td>5530.0</td>\n",
       "      <td>DUF2502 domain-containing protein YaaX</td>\n",
       "      <td>yaaX</td>\n",
       "      <td>b0005</td>\n",
       "      <td>b0005</td>\n",
       "    </tr>\n",
       "  </tbody>\n",
       "</table>\n",
       "</div>"
      ],
      "text/plain": [
       "          Gene Name  Left-End-Position  Right-End-Position  \\\n",
       "locus_tag                                                    \n",
       "b0001          thrL              190.0               255.0   \n",
       "b0002          thrA              337.0              2799.0   \n",
       "b0003          thrB             2801.0              3733.0   \n",
       "b0004          thrC             3734.0              5020.0   \n",
       "b0005          yaaX             5234.0              5530.0   \n",
       "\n",
       "                                                     Product  \\\n",
       "locus_tag                                                      \n",
       "b0001                       <i>thr</i> operon leader peptide   \n",
       "b0002      fused aspartate kinase/homoserine dehydrogenase 1   \n",
       "b0003                                      homoserine kinase   \n",
       "b0004                                     threonine synthase   \n",
       "b0005                 DUF2502 domain-containing protein YaaX   \n",
       "\n",
       "          Genes in same transcription unit                     Accession-1.1  \\\n",
       "locus_tag                                                                      \n",
       "b0001         thrL // thrA // thrB // thrC  b0001 // b0002 // b0003 // b0004   \n",
       "b0002         thrA // thrB // thrC // thrL  b0002 // b0003 // b0004 // b0001   \n",
       "b0003         thrA // thrB // thrC // thrL  b0002 // b0003 // b0004 // b0001   \n",
       "b0004         thrA // thrB // thrC // thrL  b0002 // b0003 // b0004 // b0001   \n",
       "b0005                                 yaaX                             b0005   \n",
       "\n",
       "                       operon_list  \n",
       "locus_tag                           \n",
       "b0001      b0001;b0002;b0003;b0004  \n",
       "b0002      b0001;b0002;b0003;b0004  \n",
       "b0003      b0001;b0002;b0003;b0004  \n",
       "b0004      b0001;b0002;b0003;b0004  \n",
       "b0005                        b0005  "
      ]
     },
     "execution_count": 19,
     "metadata": {},
     "output_type": "execute_result"
    }
   ],
   "source": [
    "biocyc_file = example_data.ecoli_biocyc\n",
    "\n",
    "DF_biocyc = pd.read_csv(biocyc_file,sep='\\t')\n",
    "\n",
    "# Remove genes with no accession\n",
    "DF_biocyc = DF_biocyc[DF_biocyc['Accession-1'].notnull()]\n",
    "\n",
    "# Set the accession (i.e. locus tag) as index\n",
    "DF_biocyc = DF_biocyc.set_index('Accession-1').sort_values('Left-End-Position')\n",
    "\n",
    "# Only keep genes in the final annotation file\n",
    "DF_biocyc = DF_biocyc.reindex(DF_annot.index)\n",
    "\n",
    "# Reformat transcription units\n",
    "DF_biocyc['operon_list'] = DF_biocyc['Accession-1.1'].apply(reformat_biocyc_tu)\n",
    "\n",
    "DF_biocyc.head()"
   ]
  },
  {
   "cell_type": "markdown",
   "metadata": {},
   "source": [
    "### Assign unique IDs to operons"
   ]
  },
  {
   "cell_type": "markdown",
   "metadata": {},
   "source": [
    "The following code assigns unique names to each operon"
   ]
  },
  {
   "cell_type": "code",
   "execution_count": 20,
   "metadata": {},
   "outputs": [
    {
     "data": {
      "text/html": [
       "<div>\n",
       "<style scoped>\n",
       "    .dataframe tbody tr th:only-of-type {\n",
       "        vertical-align: middle;\n",
       "    }\n",
       "\n",
       "    .dataframe tbody tr th {\n",
       "        vertical-align: top;\n",
       "    }\n",
       "\n",
       "    .dataframe thead th {\n",
       "        text-align: right;\n",
       "    }\n",
       "</style>\n",
       "<table border=\"1\" class=\"dataframe\">\n",
       "  <thead>\n",
       "    <tr style=\"text-align: right;\">\n",
       "      <th></th>\n",
       "      <th>Gene Name</th>\n",
       "      <th>Left-End-Position</th>\n",
       "      <th>Right-End-Position</th>\n",
       "      <th>Product</th>\n",
       "      <th>Genes in same transcription unit</th>\n",
       "      <th>Accession-1.1</th>\n",
       "      <th>operon_list</th>\n",
       "      <th>operon</th>\n",
       "    </tr>\n",
       "    <tr>\n",
       "      <th>locus_tag</th>\n",
       "      <th></th>\n",
       "      <th></th>\n",
       "      <th></th>\n",
       "      <th></th>\n",
       "      <th></th>\n",
       "      <th></th>\n",
       "      <th></th>\n",
       "      <th></th>\n",
       "    </tr>\n",
       "  </thead>\n",
       "  <tbody>\n",
       "    <tr>\n",
       "      <th>b0001</th>\n",
       "      <td>thrL</td>\n",
       "      <td>190.0</td>\n",
       "      <td>255.0</td>\n",
       "      <td>&lt;i&gt;thr&lt;/i&gt; operon leader peptide</td>\n",
       "      <td>thrL // thrA // thrB // thrC</td>\n",
       "      <td>b0001 // b0002 // b0003 // b0004</td>\n",
       "      <td>b0001;b0002;b0003;b0004</td>\n",
       "      <td>Op0</td>\n",
       "    </tr>\n",
       "    <tr>\n",
       "      <th>b0002</th>\n",
       "      <td>thrA</td>\n",
       "      <td>337.0</td>\n",
       "      <td>2799.0</td>\n",
       "      <td>fused aspartate kinase/homoserine dehydrogenase 1</td>\n",
       "      <td>thrA // thrB // thrC // thrL</td>\n",
       "      <td>b0002 // b0003 // b0004 // b0001</td>\n",
       "      <td>b0001;b0002;b0003;b0004</td>\n",
       "      <td>Op0</td>\n",
       "    </tr>\n",
       "    <tr>\n",
       "      <th>b0003</th>\n",
       "      <td>thrB</td>\n",
       "      <td>2801.0</td>\n",
       "      <td>3733.0</td>\n",
       "      <td>homoserine kinase</td>\n",
       "      <td>thrA // thrB // thrC // thrL</td>\n",
       "      <td>b0002 // b0003 // b0004 // b0001</td>\n",
       "      <td>b0001;b0002;b0003;b0004</td>\n",
       "      <td>Op0</td>\n",
       "    </tr>\n",
       "    <tr>\n",
       "      <th>b0004</th>\n",
       "      <td>thrC</td>\n",
       "      <td>3734.0</td>\n",
       "      <td>5020.0</td>\n",
       "      <td>threonine synthase</td>\n",
       "      <td>thrA // thrB // thrC // thrL</td>\n",
       "      <td>b0002 // b0003 // b0004 // b0001</td>\n",
       "      <td>b0001;b0002;b0003;b0004</td>\n",
       "      <td>Op0</td>\n",
       "    </tr>\n",
       "    <tr>\n",
       "      <th>b0005</th>\n",
       "      <td>yaaX</td>\n",
       "      <td>5234.0</td>\n",
       "      <td>5530.0</td>\n",
       "      <td>DUF2502 domain-containing protein YaaX</td>\n",
       "      <td>yaaX</td>\n",
       "      <td>b0005</td>\n",
       "      <td>b0005</td>\n",
       "      <td>Op1</td>\n",
       "    </tr>\n",
       "  </tbody>\n",
       "</table>\n",
       "</div>"
      ],
      "text/plain": [
       "          Gene Name  Left-End-Position  Right-End-Position  \\\n",
       "locus_tag                                                    \n",
       "b0001          thrL              190.0               255.0   \n",
       "b0002          thrA              337.0              2799.0   \n",
       "b0003          thrB             2801.0              3733.0   \n",
       "b0004          thrC             3734.0              5020.0   \n",
       "b0005          yaaX             5234.0              5530.0   \n",
       "\n",
       "                                                     Product  \\\n",
       "locus_tag                                                      \n",
       "b0001                       <i>thr</i> operon leader peptide   \n",
       "b0002      fused aspartate kinase/homoserine dehydrogenase 1   \n",
       "b0003                                      homoserine kinase   \n",
       "b0004                                     threonine synthase   \n",
       "b0005                 DUF2502 domain-containing protein YaaX   \n",
       "\n",
       "          Genes in same transcription unit                     Accession-1.1  \\\n",
       "locus_tag                                                                      \n",
       "b0001         thrL // thrA // thrB // thrC  b0001 // b0002 // b0003 // b0004   \n",
       "b0002         thrA // thrB // thrC // thrL  b0002 // b0003 // b0004 // b0001   \n",
       "b0003         thrA // thrB // thrC // thrL  b0002 // b0003 // b0004 // b0001   \n",
       "b0004         thrA // thrB // thrC // thrL  b0002 // b0003 // b0004 // b0001   \n",
       "b0005                                 yaaX                             b0005   \n",
       "\n",
       "                       operon_list operon  \n",
       "locus_tag                                  \n",
       "b0001      b0001;b0002;b0003;b0004    Op0  \n",
       "b0002      b0001;b0002;b0003;b0004    Op0  \n",
       "b0003      b0001;b0002;b0003;b0004    Op0  \n",
       "b0004      b0001;b0002;b0003;b0004    Op0  \n",
       "b0005                        b0005    Op1  "
      ]
     },
     "execution_count": 20,
     "metadata": {},
     "output_type": "execute_result"
    }
   ],
   "source": [
    "# Get all operons\n",
    "operons = DF_biocyc['operon_list'].unique()\n",
    "\n",
    "# Map each operon to a unique string\n",
    "operon_dict = {operon: \"Op\"+str(i) for i, operon in enumerate(operons)}\n",
    "\n",
    "# Add names to dataframe\n",
    "DF_biocyc['operon'] = [operon_dict[op] for op in DF_biocyc[\"operon_list\"]]\n",
    "\n",
    "DF_biocyc.head()"
   ]
  },
  {
   "cell_type": "markdown",
   "metadata": {},
   "source": [
    "Finally, merge the Biocyc information with the main annotation DataFrame"
   ]
  },
  {
   "cell_type": "code",
   "execution_count": 21,
   "metadata": {},
   "outputs": [],
   "source": [
    "DF_annot['operon'] = DF_biocyc['operon']"
   ]
  },
  {
   "cell_type": "markdown",
   "metadata": {},
   "source": [
    "## Clean up and save annotation"
   ]
  },
  {
   "cell_type": "markdown",
   "metadata": {},
   "source": [
    "First, we will re-order the annotation columns"
   ]
  },
  {
   "cell_type": "code",
   "execution_count": 22,
   "metadata": {},
   "outputs": [],
   "source": [
    "if 'old_locus_tag' in DF_annot.columns:\n",
    "    order = ['gene_name','accession','old_locus_tag','start','end','strand','gene_product','COG','uniprot','operon']\n",
    "else:\n",
    "    order = ['gene_name','accession','start','end','strand','gene_product','COG','uniprot','operon']\n",
    "    \n",
    "DF_annot = DF_annot[order]"
   ]
  },
  {
   "cell_type": "code",
   "execution_count": 23,
   "metadata": {},
   "outputs": [
    {
     "data": {
      "text/html": [
       "<div>\n",
       "<style scoped>\n",
       "    .dataframe tbody tr th:only-of-type {\n",
       "        vertical-align: middle;\n",
       "    }\n",
       "\n",
       "    .dataframe tbody tr th {\n",
       "        vertical-align: top;\n",
       "    }\n",
       "\n",
       "    .dataframe thead th {\n",
       "        text-align: right;\n",
       "    }\n",
       "</style>\n",
       "<table border=\"1\" class=\"dataframe\">\n",
       "  <thead>\n",
       "    <tr style=\"text-align: right;\">\n",
       "      <th></th>\n",
       "      <th>gene_name</th>\n",
       "      <th>accession</th>\n",
       "      <th>old_locus_tag</th>\n",
       "      <th>start</th>\n",
       "      <th>end</th>\n",
       "      <th>strand</th>\n",
       "      <th>gene_product</th>\n",
       "      <th>COG</th>\n",
       "      <th>uniprot</th>\n",
       "      <th>operon</th>\n",
       "    </tr>\n",
       "    <tr>\n",
       "      <th>locus_tag</th>\n",
       "      <th></th>\n",
       "      <th></th>\n",
       "      <th></th>\n",
       "      <th></th>\n",
       "      <th></th>\n",
       "      <th></th>\n",
       "      <th></th>\n",
       "      <th></th>\n",
       "      <th></th>\n",
       "      <th></th>\n",
       "    </tr>\n",
       "  </thead>\n",
       "  <tbody>\n",
       "    <tr>\n",
       "      <th>b0001</th>\n",
       "      <td>thrL</td>\n",
       "      <td>NC_000913.3</td>\n",
       "      <td>None</td>\n",
       "      <td>190</td>\n",
       "      <td>255</td>\n",
       "      <td>+</td>\n",
       "      <td>thr operon leader peptide</td>\n",
       "      <td>NaN</td>\n",
       "      <td>P0AD86</td>\n",
       "      <td>Op0</td>\n",
       "    </tr>\n",
       "    <tr>\n",
       "      <th>b0002</th>\n",
       "      <td>thrA</td>\n",
       "      <td>NC_000913.3</td>\n",
       "      <td>None</td>\n",
       "      <td>337</td>\n",
       "      <td>2799</td>\n",
       "      <td>+</td>\n",
       "      <td>fused aspartate kinase/homoserine dehydrogenase 1</td>\n",
       "      <td>E</td>\n",
       "      <td>P00561</td>\n",
       "      <td>Op0</td>\n",
       "    </tr>\n",
       "    <tr>\n",
       "      <th>b0003</th>\n",
       "      <td>thrB</td>\n",
       "      <td>NC_000913.3</td>\n",
       "      <td>None</td>\n",
       "      <td>2801</td>\n",
       "      <td>3733</td>\n",
       "      <td>+</td>\n",
       "      <td>homoserine kinase</td>\n",
       "      <td>F</td>\n",
       "      <td>P00547</td>\n",
       "      <td>Op0</td>\n",
       "    </tr>\n",
       "    <tr>\n",
       "      <th>b0004</th>\n",
       "      <td>thrC</td>\n",
       "      <td>NC_000913.3</td>\n",
       "      <td>None</td>\n",
       "      <td>3734</td>\n",
       "      <td>5020</td>\n",
       "      <td>+</td>\n",
       "      <td>threonine synthase</td>\n",
       "      <td>E</td>\n",
       "      <td>P00934</td>\n",
       "      <td>Op0</td>\n",
       "    </tr>\n",
       "    <tr>\n",
       "      <th>b0005</th>\n",
       "      <td>yaaX</td>\n",
       "      <td>NC_000913.3</td>\n",
       "      <td>None</td>\n",
       "      <td>5234</td>\n",
       "      <td>5530</td>\n",
       "      <td>+</td>\n",
       "      <td>DUF2502 domain-containing protein YaaX</td>\n",
       "      <td>S</td>\n",
       "      <td>P75616</td>\n",
       "      <td>Op1</td>\n",
       "    </tr>\n",
       "  </tbody>\n",
       "</table>\n",
       "</div>"
      ],
      "text/plain": [
       "          gene_name    accession old_locus_tag  start   end strand  \\\n",
       "locus_tag                                                            \n",
       "b0001          thrL  NC_000913.3          None    190   255      +   \n",
       "b0002          thrA  NC_000913.3          None    337  2799      +   \n",
       "b0003          thrB  NC_000913.3          None   2801  3733      +   \n",
       "b0004          thrC  NC_000913.3          None   3734  5020      +   \n",
       "b0005          yaaX  NC_000913.3          None   5234  5530      +   \n",
       "\n",
       "                                                gene_product  COG uniprot  \\\n",
       "locus_tag                                                                   \n",
       "b0001                              thr operon leader peptide  NaN  P0AD86   \n",
       "b0002      fused aspartate kinase/homoserine dehydrogenase 1    E  P00561   \n",
       "b0003                                      homoserine kinase    F  P00547   \n",
       "b0004                                     threonine synthase    E  P00934   \n",
       "b0005                 DUF2502 domain-containing protein YaaX    S  P75616   \n",
       "\n",
       "          operon  \n",
       "locus_tag         \n",
       "b0001        Op0  \n",
       "b0002        Op0  \n",
       "b0003        Op0  \n",
       "b0004        Op0  \n",
       "b0005        Op1  "
      ]
     },
     "execution_count": 23,
     "metadata": {},
     "output_type": "execute_result"
    }
   ],
   "source": [
    "DF_annot.head()"
   ]
  },
  {
   "cell_type": "markdown",
   "metadata": {},
   "source": [
    "## Final statistics"
   ]
  },
  {
   "cell_type": "markdown",
   "metadata": {},
   "source": [
    "The following graphs show how much information is available for the organism."
   ]
  },
  {
   "cell_type": "code",
   "execution_count": 24,
   "metadata": {},
   "outputs": [],
   "source": [
    "import seaborn as sns\n",
    "import matplotlib.pyplot as plt\n",
    "\n",
    "sns.set_style('ticks')"
   ]
  },
  {
   "cell_type": "code",
   "execution_count": 25,
   "metadata": {},
   "outputs": [
    {
     "data": {
      "image/png": "[encoded data removed]",
      "text/plain": [
       "<Figure size 432x288 with 1 Axes>"
      ]
     },
     "metadata": {},
     "output_type": "display_data"
    }
   ],
   "source": [
    "fig,ax = plt.subplots()\n",
    "DF_annot.count().plot(kind='bar',ax=ax)\n",
    "ax.set_ylabel('# of Values',fontsize=18)\n",
    "ax.tick_params(labelsize=16)"
   ]
  },
  {
   "cell_type": "markdown",
   "metadata": {},
   "source": [
    "## Fill missing values"
   ]
  },
  {
   "cell_type": "markdown",
   "metadata": {},
   "source": [
    "Some organisms are missing gene names, so these will be filled with locus tag gene names."
   ]
  },
  {
   "cell_type": "code",
   "execution_count": 26,
   "metadata": {
    "code_folding": []
   },
   "outputs": [],
   "source": [
    "# Fill in missing gene names with locus tag names\n",
    "DF_annot['tmp_name'] = DF_annot.copy().index.tolist()\n",
    "DF_annot.gene_name.fillna(DF_annot.tmp_name,inplace=True)\n",
    "DF_annot.drop('tmp_name',axis=1,inplace=True)"
   ]
  },
  {
   "cell_type": "markdown",
   "metadata": {},
   "source": [
    " COG letters will also be converted to the full name."
   ]
  },
  {
   "cell_type": "code",
   "execution_count": 27,
   "metadata": {},
   "outputs": [
    {
     "data": {
      "image/png": "[encoded data removed]",
      "text/plain": [
       "<Figure size 432x288 with 1 Axes>"
      ]
     },
     "metadata": {},
     "output_type": "display_data"
    }
   ],
   "source": [
    "# Fill missing COGs with X\n",
    "DF_annot['COG'].fillna('X',inplace=True)\n",
    "\n",
    "# Change single letter COG annotation to full description\n",
    "DF_annot['COG'] = DF_annot.COG.apply(cog2str)\n",
    "\n",
    "counts = DF_annot.COG.value_counts()\n",
    "plt.pie(counts.values,labels=counts.index);"
   ]
  },
  {
   "cell_type": "markdown",
   "metadata": {},
   "source": [
    "Uncomment the following line to save the gene annotation dataset"
   ]
  },
  {
   "cell_type": "code",
   "execution_count": 28,
   "metadata": {},
   "outputs": [],
   "source": [
    "# DF_annot.to_csv('gene_info.csv')"
   ]
  },
  {
   "cell_type": "markdown",
   "metadata": {},
   "source": [
    "## GO Annotations"
   ]
  },
  {
   "cell_type": "markdown",
   "metadata": {},
   "source": [
    "To start, download the GO Annotations for your organism from AmiGO 2\n",
    "\n",
    "1. Go to [AmiGO 2](http://amigo.geneontology.org/amigo/search/annotation)\n",
    "1. Filter for your organism\n",
    "1. Click ``CustomDL``\n",
    "1. Drag ``GO class (direct)`` to the end of your Selected Fields\n",
    "1. Enter the location of your GO annotation file below and run the following code block"
   ]
  },
  {
   "cell_type": "code",
   "execution_count": 29,
   "metadata": {},
   "outputs": [],
   "source": [
    "go_file = example_data.ecoli_go_example"
   ]
  },
  {
   "cell_type": "code",
   "execution_count": 30,
   "metadata": {},
   "outputs": [
    {
     "data": {
      "text/html": [
       "<div>\n",
       "<style scoped>\n",
       "    .dataframe tbody tr th:only-of-type {\n",
       "        vertical-align: middle;\n",
       "    }\n",
       "\n",
       "    .dataframe tbody tr th {\n",
       "        vertical-align: top;\n",
       "    }\n",
       "\n",
       "    .dataframe thead th {\n",
       "        text-align: right;\n",
       "    }\n",
       "</style>\n",
       "<table border=\"1\" class=\"dataframe\">\n",
       "  <thead>\n",
       "    <tr style=\"text-align: right;\">\n",
       "      <th></th>\n",
       "      <th>gene_id</th>\n",
       "      <th>gene_ontology</th>\n",
       "    </tr>\n",
       "  </thead>\n",
       "  <tbody>\n",
       "    <tr>\n",
       "      <th>0</th>\n",
       "      <td>b0312|ECK0310</td>\n",
       "      <td>betaine-aldehyde dehydrogenase activity</td>\n",
       "    </tr>\n",
       "    <tr>\n",
       "      <th>1</th>\n",
       "      <td>b0312|ECK0310</td>\n",
       "      <td>betaine-aldehyde dehydrogenase activity</td>\n",
       "    </tr>\n",
       "    <tr>\n",
       "      <th>2</th>\n",
       "      <td>b0312|ECK0310</td>\n",
       "      <td>betaine-aldehyde dehydrogenase activity</td>\n",
       "    </tr>\n",
       "    <tr>\n",
       "      <th>3</th>\n",
       "      <td>b0312|ECK0310</td>\n",
       "      <td>betaine-aldehyde dehydrogenase activity</td>\n",
       "    </tr>\n",
       "    <tr>\n",
       "      <th>4</th>\n",
       "      <td>b0312|ECK0310</td>\n",
       "      <td>response to osmotic stress</td>\n",
       "    </tr>\n",
       "  </tbody>\n",
       "</table>\n",
       "</div>"
      ],
      "text/plain": [
       "         gene_id                            gene_ontology\n",
       "0  b0312|ECK0310  betaine-aldehyde dehydrogenase activity\n",
       "1  b0312|ECK0310  betaine-aldehyde dehydrogenase activity\n",
       "2  b0312|ECK0310  betaine-aldehyde dehydrogenase activity\n",
       "3  b0312|ECK0310  betaine-aldehyde dehydrogenase activity\n",
       "4  b0312|ECK0310               response to osmotic stress"
      ]
     },
     "execution_count": 30,
     "metadata": {},
     "output_type": "execute_result"
    }
   ],
   "source": [
    "DF_GO = pd.read_csv(go_file,sep='\\t',header=None,usecols=[2,10,17])\n",
    "DF_GO.columns = ['gene_name','gene_id','gene_ontology']\n",
    "DF_GO.gene_id.fillna(DF_GO.gene_name,inplace=True)\n",
    "DF_GO = DF_GO[['gene_id','gene_ontology']]\n",
    "DF_GO.head()"
   ]
  },
  {
   "cell_type": "markdown",
   "metadata": {},
   "source": [
    "Take a look at the ``gene_id`` column:\n",
    "1. Make sure there are no null entries\n",
    "2. Check which naming convention is used (locus tag, new locus tag, or gene name)\n",
    "\n",
    "If it looks like it uses the old locus tag, set old_locus_tag to ``True``.\n",
    "\n",
    "In this example, the ``gene_id`` column needs to be altered slightly to match with the gene name. This may not be necessary for your organism."
   ]
  },
  {
   "cell_type": "code",
   "execution_count": 31,
   "metadata": {},
   "outputs": [],
   "source": [
    "def format_go_gene_id(gene_id):\n",
    "    locus_tags = [item for item in gene_id.split('|') if re.match('b\\d{4}',item)]\n",
    "    if len(locus_tags) > 0:\n",
    "        return locus_tags[0]\n",
    "    else:\n",
    "        return None\n",
    "\n",
    "DF_GO.gene_id = DF_GO.gene_id.apply(format_go_gene_id)"
   ]
  },
  {
   "cell_type": "markdown",
   "metadata": {},
   "source": [
    "Now we remove null entries"
   ]
  },
  {
   "cell_type": "code",
   "execution_count": 32,
   "metadata": {},
   "outputs": [],
   "source": [
    "DF_GO = DF_GO[DF_GO.gene_id.notnull()]"
   ]
  },
  {
   "cell_type": "code",
   "execution_count": 33,
   "metadata": {},
   "outputs": [],
   "source": [
    "naming = 'locus_tag' # Can be \"gene_name\" or \"old_locus_tag\"\n",
    "\n",
    "if naming != 'locus_tag':\n",
    "    convert_tags = {value:key for key,value in DF_annot[naming].items()}\n",
    "    DF_GO.gene_id = DF_GO.gene_id.apply(lambda x: convert_tags[x])"
   ]
  },
  {
   "cell_type": "code",
   "execution_count": 34,
   "metadata": {},
   "outputs": [
    {
     "data": {
      "text/html": [
       "<div>\n",
       "<style scoped>\n",
       "    .dataframe tbody tr th:only-of-type {\n",
       "        vertical-align: middle;\n",
       "    }\n",
       "\n",
       "    .dataframe tbody tr th {\n",
       "        vertical-align: top;\n",
       "    }\n",
       "\n",
       "    .dataframe thead th {\n",
       "        text-align: right;\n",
       "    }\n",
       "</style>\n",
       "<table border=\"1\" class=\"dataframe\">\n",
       "  <thead>\n",
       "    <tr style=\"text-align: right;\">\n",
       "      <th></th>\n",
       "      <th>gene_id</th>\n",
       "      <th>gene_ontology</th>\n",
       "    </tr>\n",
       "  </thead>\n",
       "  <tbody>\n",
       "    <tr>\n",
       "      <th>0</th>\n",
       "      <td>b0312</td>\n",
       "      <td>betaine-aldehyde dehydrogenase activity</td>\n",
       "    </tr>\n",
       "    <tr>\n",
       "      <th>1</th>\n",
       "      <td>b0312</td>\n",
       "      <td>betaine-aldehyde dehydrogenase activity</td>\n",
       "    </tr>\n",
       "    <tr>\n",
       "      <th>2</th>\n",
       "      <td>b0312</td>\n",
       "      <td>betaine-aldehyde dehydrogenase activity</td>\n",
       "    </tr>\n",
       "    <tr>\n",
       "      <th>3</th>\n",
       "      <td>b0312</td>\n",
       "      <td>betaine-aldehyde dehydrogenase activity</td>\n",
       "    </tr>\n",
       "    <tr>\n",
       "      <th>4</th>\n",
       "      <td>b0312</td>\n",
       "      <td>response to osmotic stress</td>\n",
       "    </tr>\n",
       "  </tbody>\n",
       "</table>\n",
       "</div>"
      ],
      "text/plain": [
       "  gene_id                            gene_ontology\n",
       "0   b0312  betaine-aldehyde dehydrogenase activity\n",
       "1   b0312  betaine-aldehyde dehydrogenase activity\n",
       "2   b0312  betaine-aldehyde dehydrogenase activity\n",
       "3   b0312  betaine-aldehyde dehydrogenase activity\n",
       "4   b0312               response to osmotic stress"
      ]
     },
     "execution_count": 34,
     "metadata": {},
     "output_type": "execute_result"
    }
   ],
   "source": [
    "DF_GO.head()"
   ]
  },
  {
   "cell_type": "markdown",
   "metadata": {},
   "source": [
    "Uncomment the line below to save the annotations"
   ]
  },
  {
   "cell_type": "code",
   "execution_count": 35,
   "metadata": {},
   "outputs": [],
   "source": [
    "# DF_GO[['gene_id','gene_ontology']].to_csv('GO_annotations.csv')"
   ]
  }
 ],
 "metadata": {
  "kernelspec": {
   "display_name": "Python 3",
   "language": "python",
   "name": "python3"
  },
  "language_info": {
   "codemirror_mode": {
    "name": "ipython",
    "version": 3
   },
   "file_extension": ".py",
   "mimetype": "text/x-python",
   "name": "python",
   "nbconvert_exporter": "python",
   "pygments_lexer": "ipython3",
   "version": "3.8.2"
  },
   "nbsphinx": {
   "execute": "never"
  },
  "toc": {
   "base_numbering": 1,
   "nav_menu": {},
   "number_sections": true,
   "sideBar": true,
   "skip_h1_title": false,
   "title_cell": "Table of Contents",
   "title_sidebar": "Contents",
   "toc_cell": true,
   "toc_position": {},
   "toc_section_display": true,
   "toc_window_display": false
  }
 },
 "nbformat": 4,
 "nbformat_minor": 2
}
