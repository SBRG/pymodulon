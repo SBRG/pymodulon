{
 "cells": [
  {
   "cell_type": "markdown",
   "metadata": {},
   "source": [
    "# Creating an iModulonDB Dashboard"
   ]
  },
  {
   "cell_type": "markdown",
   "metadata": {},
   "source": [
    "After an iModulon analysis is completed and published, dashboards for every iModulon and gene are made available on the [iModulonDB website](https://imodulondb.org). The **PyModulon** package enables generation of all necessary files for any ``IcaData`` object that meets a few simple requirements. "
   ]
  },
  {
   "cell_type": "markdown",
   "metadata": {},
   "source": [
    "## iModulonDB Site Overview"
   ]
  },
  {
   "cell_type": "markdown",
   "metadata": {},
   "source": [
    "For general information about iModulonDB, visit the [about page](https://imodulondb.org/about). Familiarize yourself with the main page types:\n",
    "\n",
    "* [Splash page](https://imodulondb.org/): The main entry point for the site\n",
    "* [Dataset page](https://imodulondb.org/dataset.html?organism=e_coli&dataset=precise1): After choosing a dataset on the splash page, you are directed to the dataset page, which contains gray dataset metadata box and a table of iModulons.\n",
    "* [iModulon page](https://imodulondb.org/iModulon.html?organism=e_coli&dataset=precise1&k=12): The iModulon dashboards, which have a gray iModulon metadata box, a gene table, and several plots.\n",
    "* [Gene page](https://imodulondb.org/gene.html?organism=e_coli&dataset=precise1&gene_id=b0002): Gene dashboards, which have an iModulon table connecting them to iModulons and an expression plot.\n",
    "\n",
    "It's helpful to understand the two parts to most websites:\n",
    "\n",
    "* **Front End**: The front end runs in a web user's browser. It requests and receives files from the back end, and contains JavaScript functions which can create interactive plots and other features. iModulonDB's front end code is available at [this GitHub repository](https://github.com/SBRG/modulytics).\n",
    "* **Back End**: The back end runs in a server, which is usually operated by the site owner. It sends the necessary files to the front end when requested. With iModulonDB, all back end data is precomputed by the **PyModulon** package using the instructions provided here. Output files are uploaded to GitHub Pages, which serves the files to users. If you host your own version of the site, the local server will be the back end.\n",
    "\n",
    "To generate and view iModulonDB dashboards for a custom project, follow these steps:\n",
    "\n",
    "1. Clone [the iModulonDB GitHub repository](https://github.com/SBRG/modulytics).\n",
    "2. Follow the instructions in this document to generate your own files for the new ``IcaData`` object of interest. In ``imodulondb_export``, specify the path to the cloned repository so that **PyModulon** can place new files in the appropriate locations.\n",
    "3. [Host a local server](https://docs.python.org/3/library/http.server.html) from the repository folder. This will act as the back end in place of GitHub Pages.\n",
    "4. In your browser, visit ``http://localhost:8000/dataset.html?organism=new_organism&dataset=new_dataset``. The organism and dataset names in the URL are customizable."
   ]
  },
  {
   "cell_type": "code",
   "execution_count": 1,
   "metadata": {},
   "outputs": [],
   "source": [
    "from pymodulon.core import IcaData\n",
    "from pymodulon.imodulondb import *\n",
    "from pymodulon.example_data import load_ecoli_data"
   ]
  },
  {
   "cell_type": "code",
   "execution_count": 2,
   "metadata": {},
   "outputs": [],
   "source": [
    "# Increase the maximum column width\n",
    "pd.set_option('display.max_colwidth', None)"
   ]
  },
  {
   "cell_type": "code",
   "execution_count": 3,
   "metadata": {},
   "outputs": [],
   "source": [
    "ica_data = load_ecoli_data()"
   ]
  },
  {
   "cell_type": "markdown",
   "metadata": {},
   "source": [
    "## The ``imodulondb_compatibility`` Function"
   ]
  },
  {
   "cell_type": "markdown",
   "metadata": {},
   "source": [
    "``imodulondb_compatibility`` is essentially a convenient checklist for iModulonDB-relevant metadata. It has four outputs, which we will go through one-by-one.\n",
    "\n",
    "Optional arguments:\n",
    "\n",
    "* ``inplace``: Whether to modify the object. It is not recommended to change this from its default (``False``).\n",
    "* ``tfcomplex_to_gene``: Dictionary mapping transcription factor complexes to gene names. See the [section](https://pymodulon.readthedocs.io/en/latest/tutorials/creating_an_imodulondb_dashboard.html#The-has_gene-Column) on ``tf_issues.has_gene`` for more information.\n",
    "\n",
    "Returns:\n",
    "\n",
    "* ``table_issues``: Dataframe describing missing columns from the major annotation tables and the site's behavior if they are not updated. Three elements in this table are \"CRITICAL\", meaning the site cannot be generated without them. If those elements are missing, they will be entries in this table as well as warnings.\n",
    "* ``tf_issues``: Dataframe describing each regulator from the ``imodulon_table`` that can't be mapped to the ``trn``, ``tf_links``, and/or ``gene_table``.\n",
    "* ``missing_gene_links``: Series listing each gene that doesn't have a ``gene_link`` to an external database.\n",
    "* ``missing_dois``: Index listing each sample that doesn't have an associated DOI in the ``sample_table``. Clicking on these samples in the activity plots on the table will not bring you to a relevant paper.\n",
    "\n",
    "Call this function and browse its output. Not all issues it lists will be important to fix. In some cases, the default values will be fine for your purposes, or the match it is seeking might not exist."
   ]
  },
  {
   "cell_type": "code",
   "execution_count": 4,
   "metadata": {},
   "outputs": [],
   "source": [
    "table_issues, tf_issues, missing_gene_links, missing_dois = imodulondb_compatibility(ica_data)"
   ]
  },
  {
   "cell_type": "markdown",
   "metadata": {},
   "source": [
    "For demonstration purposes, we will also create a minimal ``IcaData`` object called ``blank_data`` containing only the M and A matrices. If we call ``imodulondb_compatibility`` with this object, the ``table_issues`` output will contain all possible issues.\n",
    "\n",
    "Note the three warnings which appear when this happens; seeing any of these indicates that iModulonDB export cannot be completed. The possible CRITICAL issues are:\n",
    "\n",
    "* No ``X`` matrix: Each gene page contains a plot of gene expression, so you must provide the X matrix.\n",
    "* No ``project`` column in ``sample_table``: See the [section](https://pymodulon.readthedocs.io/en/latest/tutorials/creating_an_imodulondb_dashboard.html#The-sample_table-Variable) on ``table_issues.sample_table``.\n",
    "* No ``condition`` column in ``sample_table``: See the [section](https://pymodulon.readthedocs.io/en/latest/tutorials/creating_an_imodulondb_dashboard.html#The-sample_table-Variable) on ``table_issues.sample_table``."
   ]
  },
  {
   "cell_type": "code",
   "execution_count": 5,
   "metadata": {},
   "outputs": [
    {
     "name": "stderr",
     "output_type": "stream",
     "text": [
      "WARNING:root:Critical issue: No X matrix\n",
      "WARNING:root:Critical issue: No project column in sample_table.\n",
      "WARNING:root:Critical issue: No condition column in sample_table.\n"
     ]
    }
   ],
   "source": [
    "blank_data = IcaData(ica_data.M, ica_data.A)\n",
    "all_table_issues, b_tf_issues, b_missing_gene_links, b_missing_dois = imodulondb_compatibility(blank_data)"
   ]
  },
  {
   "cell_type": "markdown",
   "metadata": {},
   "source": [
    "### The ``table_issues`` Output"
   ]
  },
  {
   "cell_type": "markdown",
   "metadata": {},
   "source": [
    "The first output of ``imodulondb_compatibility`` is the ``table_issues``. Each row corresponds to an issue with one of the main class elements. The columns are:\n",
    "\n",
    "* ``Table``: which table or other variable the issue is in\n",
    "* ``Missing Column``: the column of the Table with the issue (not case sensitive; capitalization is ignored).\n",
    "* ``Solution``: Unless \"CRITICAL\" is in this cell, the site behavior if the issue remained is described here.\n",
    "\n",
    "If the ``X`` matrix is missing, it will be listed in the first row as a CRITICAL issue. After that, the ``imodulondb_table`` issues represent missing information from a dictionary specific to iModulonDB. The rest of the rows may relate to the ``gene_table``, ``sample_table``, or ``imodulon_table``. These issues arise from parsing the column names of the annotation tables. \n",
    "\n",
    "You may not be able to provide the information to fill in the missing columns (for example, if no database of gene functions exist for your organism). If you'd like, you can partially fill in any column and leave ``np.nan`` values for the information you do not know. In most cases, you can continue to omit the column - the ``Solution`` column of ``table_issues`` will describe what happens in those cases. \n",
    "\n",
    "Column names are **case insensitive.** Be sure not to have multiple columns with matching names, as that will cause errors later."
   ]
  },
  {
   "cell_type": "code",
   "execution_count": 6,
   "metadata": {},
   "outputs": [
    {
     "data": {
      "text/html": [
       "<div>\n",
       "<style scoped>\n",
       "    .dataframe tbody tr th:only-of-type {\n",
       "        vertical-align: middle;\n",
       "    }\n",
       "\n",
       "    .dataframe tbody tr th {\n",
       "        vertical-align: top;\n",
       "    }\n",
       "\n",
       "    .dataframe thead th {\n",
       "        text-align: right;\n",
       "    }\n",
       "</style>\n",
       "<table border=\"1\" class=\"dataframe\">\n",
       "  <thead>\n",
       "    <tr style=\"text-align: right;\">\n",
       "      <th></th>\n",
       "      <th>Table</th>\n",
       "      <th>Missing Column</th>\n",
       "      <th>Solution</th>\n",
       "    </tr>\n",
       "  </thead>\n",
       "  <tbody>\n",
       "    <tr>\n",
       "      <th>0</th>\n",
       "      <td>iModulonDB</td>\n",
       "      <td>organism</td>\n",
       "      <td>The default, \"New Organism\", will be used.</td>\n",
       "    </tr>\n",
       "    <tr>\n",
       "      <th>1</th>\n",
       "      <td>iModulonDB</td>\n",
       "      <td>dataset</td>\n",
       "      <td>The default, \"New Dataset\", will be used.</td>\n",
       "    </tr>\n",
       "    <tr>\n",
       "      <th>2</th>\n",
       "      <td>iModulonDB</td>\n",
       "      <td>strain</td>\n",
       "      <td>The default, \"Unspecified\", will be used.</td>\n",
       "    </tr>\n",
       "    <tr>\n",
       "      <th>3</th>\n",
       "      <td>iModulonDB</td>\n",
       "      <td>publication_name</td>\n",
       "      <td>The default, \"Unpublished Study\", will be used.</td>\n",
       "    </tr>\n",
       "    <tr>\n",
       "      <th>4</th>\n",
       "      <td>iModulonDB</td>\n",
       "      <td>publication_link</td>\n",
       "      <td>The publication name will not be a hyperlink.</td>\n",
       "    </tr>\n",
       "    <tr>\n",
       "      <th>5</th>\n",
       "      <td>iModulonDB</td>\n",
       "      <td>gene_link_db</td>\n",
       "      <td>The default, \"External Database\", will be used.</td>\n",
       "    </tr>\n",
       "    <tr>\n",
       "      <th>6</th>\n",
       "      <td>iModulonDB</td>\n",
       "      <td>organism_folder</td>\n",
       "      <td>The default, \"new_organism\", will be used.</td>\n",
       "    </tr>\n",
       "    <tr>\n",
       "      <th>7</th>\n",
       "      <td>iModulonDB</td>\n",
       "      <td>dataset_folder</td>\n",
       "      <td>The default, \"new_dataset\", will be used.</td>\n",
       "    </tr>\n",
       "    <tr>\n",
       "      <th>8</th>\n",
       "      <td>Gene</td>\n",
       "      <td>gene_product</td>\n",
       "      <td>Locus tags (gene_table.index) will be used.</td>\n",
       "    </tr>\n",
       "    <tr>\n",
       "      <th>9</th>\n",
       "      <td>Sample</td>\n",
       "      <td>sample</td>\n",
       "      <td>The sample_table.index will be used. Each entry must be unique. Note that the preferred syntax is \"project__condition__#.\"</td>\n",
       "    </tr>\n",
       "    <tr>\n",
       "      <th>10</th>\n",
       "      <td>Sample</td>\n",
       "      <td>n_replicates</td>\n",
       "      <td>This column will be generated for you.</td>\n",
       "    </tr>\n",
       "    <tr>\n",
       "      <th>11</th>\n",
       "      <td>iModulon</td>\n",
       "      <td>name</td>\n",
       "      <td>imodulon_table.index will be used.</td>\n",
       "    </tr>\n",
       "    <tr>\n",
       "      <th>12</th>\n",
       "      <td>iModulon</td>\n",
       "      <td>function</td>\n",
       "      <td>The function will be blank in the dataset table and \"Uncharacterized\" in the iModulon dashboard</td>\n",
       "    </tr>\n",
       "    <tr>\n",
       "      <th>13</th>\n",
       "      <td>iModulon</td>\n",
       "      <td>exp_var</td>\n",
       "      <td>This column will be left blank.</td>\n",
       "    </tr>\n",
       "  </tbody>\n",
       "</table>\n",
       "</div>"
      ],
      "text/plain": [
       "         Table    Missing Column  \\\n",
       "0   iModulonDB          organism   \n",
       "1   iModulonDB           dataset   \n",
       "2   iModulonDB            strain   \n",
       "3   iModulonDB  publication_name   \n",
       "4   iModulonDB  publication_link   \n",
       "5   iModulonDB      gene_link_db   \n",
       "6   iModulonDB   organism_folder   \n",
       "7   iModulonDB    dataset_folder   \n",
       "8         Gene      gene_product   \n",
       "9       Sample            sample   \n",
       "10      Sample      n_replicates   \n",
       "11    iModulon              name   \n",
       "12    iModulon          function   \n",
       "13    iModulon           exp_var   \n",
       "\n",
       "                                                                                                                      Solution  \n",
       "0                                                                                   The default, \"New Organism\", will be used.  \n",
       "1                                                                                    The default, \"New Dataset\", will be used.  \n",
       "2                                                                                    The default, \"Unspecified\", will be used.  \n",
       "3                                                                              The default, \"Unpublished Study\", will be used.  \n",
       "4                                                                                The publication name will not be a hyperlink.  \n",
       "5                                                                              The default, \"External Database\", will be used.  \n",
       "6                                                                                   The default, \"new_organism\", will be used.  \n",
       "7                                                                                    The default, \"new_dataset\", will be used.  \n",
       "8                                                                                  Locus tags (gene_table.index) will be used.  \n",
       "9   The sample_table.index will be used. Each entry must be unique. Note that the preferred syntax is \"project__condition__#.\"  \n",
       "10                                                                                      This column will be generated for you.  \n",
       "11                                                                                          imodulon_table.index will be used.  \n",
       "12                             The function will be blank in the dataset table and \"Uncharacterized\" in the iModulon dashboard  \n",
       "13                                                                                             This column will be left blank.  "
      ]
     },
     "execution_count": 6,
     "metadata": {},
     "output_type": "execute_result"
    }
   ],
   "source": [
    "table_issues"
   ]
  },
  {
   "cell_type": "markdown",
   "metadata": {},
   "source": [
    "#### The ``imodulondb_table`` Variable"
   ]
  },
  {
   "cell_type": "markdown",
   "metadata": {},
   "source": [
    "Unless you are missing the X matrix, the first set of table_issues will be relating to the iModulonDB table (``imodulondb_table``), which is a dictionary of details about the dataset in general. As you can see by reading the ``Solution`` column of ``table_issues`` for these entries, most entries have a default value (and the default behavior for a missing link is to not create a link).\n",
    "\n",
    "Each entry affects the following parts of the site:\n",
    "\n",
    "* ``organism``: Appears in the dataset page metadata box, and gets programmatically changed into a short form (\"Eshcerichia coli\" --> \"E. coli\") to appear in the dataset title on iModulon and Gene pages. Be sure to use the form \"Genus species\".\n",
    "* ``dataset``: The specific dataset title, which could distinguish it from other datasets in this organism. Appears in the dataset page metadata box, and gets appended to the shortened organism name in the dataset title on iModulon and Gene pages.\n",
    "* ``strain``: Appears on the dataset pages in the metadata box.\n",
    "* ``publication_name``: Appears on the dataset pages in the metadata box. Typically we use the form \"Smith, et al., year\".\n",
    "* ``publication_link``: The publication_name will be turned into a hyperlink if this entry is not blank. DOIs preferred. PyModulon does not test the validity of any links, so be sure this is a valid link.\n",
    "* ``gene_link_db``: Appears on Gene pages in the metadata box if a ``gene_link`` is also available for the gene. PyModulon expects all gene links to go to specific gene pages from the same database, and for the database name to be the one shown here. If gene links are not included, then \"Not Available\" will appear in place of the ``gene_link_db`` name. Examples of gene link databases include [EcoCyc](https://ecocyc.org/), [<i>Subti</i>Wiki](http://subtiwiki.uni-goettingen.de/), and [AureoWiki](https://aureowiki.med.uni-greifswald.de/Main_Page).\n",
    "* ``organism_folder``: Determines output file location names. Also used in the URLs. Cannot contain spaces or slashes.\n",
    "* ``dataset_folder``: Determines output file location names. Also used in URLs. Cannot contain spaces or slashes.\n",
    "\n",
    "Any files with matching ``organism_folder`` and ``dataset_folder`` will be overwritten.\n",
    "\n",
    "If you would like to italicize any part of these entries, you can use HTML tags: \\<i>italic\\</i>. These are automatically applied to organism names in the site."
   ]
  },
  {
   "cell_type": "code",
   "execution_count": 7,
   "metadata": {},
   "outputs": [
    {
     "data": {
      "text/html": [
       "<div>\n",
       "<style scoped>\n",
       "    .dataframe tbody tr th:only-of-type {\n",
       "        vertical-align: middle;\n",
       "    }\n",
       "\n",
       "    .dataframe tbody tr th {\n",
       "        vertical-align: top;\n",
       "    }\n",
       "\n",
       "    .dataframe thead th {\n",
       "        text-align: right;\n",
       "    }\n",
       "</style>\n",
       "<table border=\"1\" class=\"dataframe\">\n",
       "  <thead>\n",
       "    <tr style=\"text-align: right;\">\n",
       "      <th></th>\n",
       "      <th>Table</th>\n",
       "      <th>Missing Column</th>\n",
       "      <th>Solution</th>\n",
       "    </tr>\n",
       "  </thead>\n",
       "  <tbody>\n",
       "    <tr>\n",
       "      <th>1</th>\n",
       "      <td>iModulonDB</td>\n",
       "      <td>organism</td>\n",
       "      <td>The default, \"New Organism\", will be used.</td>\n",
       "    </tr>\n",
       "    <tr>\n",
       "      <th>2</th>\n",
       "      <td>iModulonDB</td>\n",
       "      <td>dataset</td>\n",
       "      <td>The default, \"New Dataset\", will be used.</td>\n",
       "    </tr>\n",
       "    <tr>\n",
       "      <th>3</th>\n",
       "      <td>iModulonDB</td>\n",
       "      <td>strain</td>\n",
       "      <td>The default, \"Unspecified\", will be used.</td>\n",
       "    </tr>\n",
       "    <tr>\n",
       "      <th>4</th>\n",
       "      <td>iModulonDB</td>\n",
       "      <td>publication_name</td>\n",
       "      <td>The default, \"Unpublished Study\", will be used.</td>\n",
       "    </tr>\n",
       "    <tr>\n",
       "      <th>5</th>\n",
       "      <td>iModulonDB</td>\n",
       "      <td>publication_link</td>\n",
       "      <td>The publication name will not be a hyperlink.</td>\n",
       "    </tr>\n",
       "    <tr>\n",
       "      <th>6</th>\n",
       "      <td>iModulonDB</td>\n",
       "      <td>gene_link_db</td>\n",
       "      <td>The default, \"External Database\", will be used.</td>\n",
       "    </tr>\n",
       "    <tr>\n",
       "      <th>7</th>\n",
       "      <td>iModulonDB</td>\n",
       "      <td>organism_folder</td>\n",
       "      <td>The default, \"new_organism\", will be used.</td>\n",
       "    </tr>\n",
       "    <tr>\n",
       "      <th>8</th>\n",
       "      <td>iModulonDB</td>\n",
       "      <td>dataset_folder</td>\n",
       "      <td>The default, \"new_dataset\", will be used.</td>\n",
       "    </tr>\n",
       "  </tbody>\n",
       "</table>\n",
       "</div>"
      ],
      "text/plain": [
       "        Table    Missing Column  \\\n",
       "1  iModulonDB          organism   \n",
       "2  iModulonDB           dataset   \n",
       "3  iModulonDB            strain   \n",
       "4  iModulonDB  publication_name   \n",
       "5  iModulonDB  publication_link   \n",
       "6  iModulonDB      gene_link_db   \n",
       "7  iModulonDB   organism_folder   \n",
       "8  iModulonDB    dataset_folder   \n",
       "\n",
       "                                          Solution  \n",
       "1       The default, \"New Organism\", will be used.  \n",
       "2        The default, \"New Dataset\", will be used.  \n",
       "3        The default, \"Unspecified\", will be used.  \n",
       "4  The default, \"Unpublished Study\", will be used.  \n",
       "5    The publication name will not be a hyperlink.  \n",
       "6  The default, \"External Database\", will be used.  \n",
       "7       The default, \"new_organism\", will be used.  \n",
       "8        The default, \"new_dataset\", will be used.  "
      ]
     },
     "execution_count": 7,
     "metadata": {},
     "output_type": "execute_result"
    }
   ],
   "source": [
    "# Here are ALL possible issues with the imodulondb_table\n",
    "all_table_issues.loc[all_table_issues.Table == 'iModulonDB']"
   ]
  },
  {
   "cell_type": "code",
   "execution_count": 8,
   "metadata": {},
   "outputs": [
    {
     "data": {
      "text/html": [
       "<div>\n",
       "<style scoped>\n",
       "    .dataframe tbody tr th:only-of-type {\n",
       "        vertical-align: middle;\n",
       "    }\n",
       "\n",
       "    .dataframe tbody tr th {\n",
       "        vertical-align: top;\n",
       "    }\n",
       "\n",
       "    .dataframe thead th {\n",
       "        text-align: right;\n",
       "    }\n",
       "</style>\n",
       "<table border=\"1\" class=\"dataframe\">\n",
       "  <thead>\n",
       "    <tr style=\"text-align: right;\">\n",
       "      <th></th>\n",
       "      <th>Table</th>\n",
       "      <th>Missing Column</th>\n",
       "      <th>Solution</th>\n",
       "    </tr>\n",
       "  </thead>\n",
       "  <tbody>\n",
       "    <tr>\n",
       "      <th>0</th>\n",
       "      <td>iModulonDB</td>\n",
       "      <td>organism</td>\n",
       "      <td>The default, \"New Organism\", will be used.</td>\n",
       "    </tr>\n",
       "    <tr>\n",
       "      <th>1</th>\n",
       "      <td>iModulonDB</td>\n",
       "      <td>dataset</td>\n",
       "      <td>The default, \"New Dataset\", will be used.</td>\n",
       "    </tr>\n",
       "    <tr>\n",
       "      <th>2</th>\n",
       "      <td>iModulonDB</td>\n",
       "      <td>strain</td>\n",
       "      <td>The default, \"Unspecified\", will be used.</td>\n",
       "    </tr>\n",
       "    <tr>\n",
       "      <th>3</th>\n",
       "      <td>iModulonDB</td>\n",
       "      <td>publication_name</td>\n",
       "      <td>The default, \"Unpublished Study\", will be used.</td>\n",
       "    </tr>\n",
       "    <tr>\n",
       "      <th>4</th>\n",
       "      <td>iModulonDB</td>\n",
       "      <td>publication_link</td>\n",
       "      <td>The publication name will not be a hyperlink.</td>\n",
       "    </tr>\n",
       "    <tr>\n",
       "      <th>5</th>\n",
       "      <td>iModulonDB</td>\n",
       "      <td>gene_link_db</td>\n",
       "      <td>The default, \"External Database\", will be used.</td>\n",
       "    </tr>\n",
       "    <tr>\n",
       "      <th>6</th>\n",
       "      <td>iModulonDB</td>\n",
       "      <td>organism_folder</td>\n",
       "      <td>The default, \"new_organism\", will be used.</td>\n",
       "    </tr>\n",
       "    <tr>\n",
       "      <th>7</th>\n",
       "      <td>iModulonDB</td>\n",
       "      <td>dataset_folder</td>\n",
       "      <td>The default, \"new_dataset\", will be used.</td>\n",
       "    </tr>\n",
       "  </tbody>\n",
       "</table>\n",
       "</div>"
      ],
      "text/plain": [
       "        Table    Missing Column  \\\n",
       "0  iModulonDB          organism   \n",
       "1  iModulonDB           dataset   \n",
       "2  iModulonDB            strain   \n",
       "3  iModulonDB  publication_name   \n",
       "4  iModulonDB  publication_link   \n",
       "5  iModulonDB      gene_link_db   \n",
       "6  iModulonDB   organism_folder   \n",
       "7  iModulonDB    dataset_folder   \n",
       "\n",
       "                                          Solution  \n",
       "0       The default, \"New Organism\", will be used.  \n",
       "1        The default, \"New Dataset\", will be used.  \n",
       "2        The default, \"Unspecified\", will be used.  \n",
       "3  The default, \"Unpublished Study\", will be used.  \n",
       "4    The publication name will not be a hyperlink.  \n",
       "5  The default, \"External Database\", will be used.  \n",
       "6       The default, \"new_organism\", will be used.  \n",
       "7        The default, \"new_dataset\", will be used.  "
      ]
     },
     "execution_count": 8,
     "metadata": {},
     "output_type": "execute_result"
    }
   ],
   "source": [
    "# here are the issues relevant to ica_data.imodulondb_table\n",
    "# in this case, all issues appear\n",
    "table_issues.loc[table_issues.Table == 'iModulonDB']"
   ]
  },
  {
   "cell_type": "code",
   "execution_count": 9,
   "metadata": {},
   "outputs": [],
   "source": [
    "# issues 0-7\n",
    "# complete the imodulondb_table\n",
    "ica_data.imodulondb_table = {\n",
    "     'organism': 'Escherichia coli',\n",
    "     'dataset': 'PRECISE 1',\n",
    "     'strain': 'K-12 MG1655 and BW25113',\n",
    "     'publication_name': 'Sastry, et al., 2019',\n",
    "     'publication_link': 'https://doi.org/10.1038/s41467-019-13483-w',\n",
    "     'gene_link_db': 'EcoCyc',\n",
    "     'organism_folder': 'e_coli',\n",
    "     'dataset_folder': 'precise1'\n",
    "}"
   ]
  },
  {
   "cell_type": "code",
   "execution_count": 10,
   "metadata": {},
   "outputs": [
    {
     "data": {
      "text/html": [
       "<div>\n",
       "<style scoped>\n",
       "    .dataframe tbody tr th:only-of-type {\n",
       "        vertical-align: middle;\n",
       "    }\n",
       "\n",
       "    .dataframe tbody tr th {\n",
       "        vertical-align: top;\n",
       "    }\n",
       "\n",
       "    .dataframe thead th {\n",
       "        text-align: right;\n",
       "    }\n",
       "</style>\n",
       "<table border=\"1\" class=\"dataframe\">\n",
       "  <thead>\n",
       "    <tr style=\"text-align: right;\">\n",
       "      <th></th>\n",
       "      <th>Table</th>\n",
       "      <th>Missing Column</th>\n",
       "      <th>Solution</th>\n",
       "    </tr>\n",
       "  </thead>\n",
       "  <tbody>\n",
       "  </tbody>\n",
       "</table>\n",
       "</div>"
      ],
      "text/plain": [
       "Empty DataFrame\n",
       "Columns: [Table, Missing Column, Solution]\n",
       "Index: []"
      ]
     },
     "execution_count": 10,
     "metadata": {},
     "output_type": "execute_result"
    }
   ],
   "source": [
    "# if we now re-call the function, the issues we fixed are removed.\n",
    "table_issues, tf_issues, missing_gene_links, missing_dois = imodulondb_compatibility(ica_data)\n",
    "table_issues.loc[table_issues.Table == 'iModulonDB']"
   ]
  },
  {
   "cell_type": "markdown",
   "metadata": {},
   "source": [
    "#### The ``gene_table`` Variable"
   ]
  },
  {
   "cell_type": "markdown",
   "metadata": {},
   "source": [
    "The ``gene_table`` contains details about each gene and shares an index with the ``M`` and ``X`` matrices. Its information is included in the following parts of the site:\n",
    "\n",
    "* Gene Tables on the iModulon Pages\n",
    "* Metadata box on the Gene Pages\n",
    "* Search results\n",
    "* ``name``, ``cog``, and ``gene_start`` are shown when a gene is hovered over in the gene scatter plot (middle right of iModulon Pages). ``cog`` is also used to color this scatter plot, and ``gene_start`` defines the x axis.\n",
    "\n",
    "Note that column names are case-insensitive.\n",
    "\n",
    "Some additional considerations for each column are described below:\n",
    "\n",
    "* ``gene_name``: Try to use the most up to date names. Also, if a gene encodes a transcription factor (regulator) in the TRN, make sure that the names match (e.g. the transcription factor listed in the trn as 'RpoS' is encoded by the gene with ``gene_name`` 'rpoS'). See the [section](https://pymodulon.readthedocs.io/en/latest/tutorials/creating_an_imodulondb_dashboard.html#The-has_gene-Column) on ``tf_issues.has_gene`` for more information.\n",
    "* ``gene_product``: This field is meant to be a concise but specific description of the function/product of the gene, such as 'homoserine kinase'. You can use html tags in this field if superscripts or subscripts are desired.\n",
    "* ``cog``: This stands for 'cluster of orthologous groups', and should be a larger category of genes such as 'Carbohydrate transport and metabolism'. In addition to being displayed everywhere listed above, each COG is assigned a random color in the gene scatter plot, so it is especially useful to have them.\n",
    "* ``gene_start``: This is not displayed anywhere, but it is used as the x axis value for each gene in the scatter plots on the iModulon Pages. If a few gene_starts are missing, those genes will have a value of 0 on the x axis. If all ``gene_start``s are not provided, then the order of the ``gene_table`` will be used to assign integer values to each gene for the x axis of this plot.\n",
    "* ``operon``: Preferably, this field will be the shortest string listing all genes, such as 'artPIQM', 'argT-hisJQMP', or 'pdxB-usg-truA-dedA'. For very long operons with names that don't share letters, you can list the first and last gene as in 'yitB->yisZ'. iModulonDB is not picky about this column, however, so operons as provided by another database are acceptable.\n",
    "* ``regulator``: Adding a TRN will automatically generate this column for you. It should contain a comma-separated list of all regulators that regulate this gene, e.g. 'ppGpp,Lrp,Nac'.\n",
    "\n",
    "If any of these columns are listed in your ``table_issues``, be sure to check the gene_table for the appropriate information under other column names. [Rename those columns](https://pandas.pydata.org/pandas-docs/stable/reference/api/pandas.DataFrame.rename.html) so that they match the names above."
   ]
  },
  {
   "cell_type": "code",
   "execution_count": 11,
   "metadata": {},
   "outputs": [
    {
     "data": {
      "text/html": [
       "<div>\n",
       "<style scoped>\n",
       "    .dataframe tbody tr th:only-of-type {\n",
       "        vertical-align: middle;\n",
       "    }\n",
       "\n",
       "    .dataframe tbody tr th {\n",
       "        vertical-align: top;\n",
       "    }\n",
       "\n",
       "    .dataframe thead th {\n",
       "        text-align: right;\n",
       "    }\n",
       "</style>\n",
       "<table border=\"1\" class=\"dataframe\">\n",
       "  <thead>\n",
       "    <tr style=\"text-align: right;\">\n",
       "      <th></th>\n",
       "      <th>Table</th>\n",
       "      <th>Missing Column</th>\n",
       "      <th>Solution</th>\n",
       "    </tr>\n",
       "  </thead>\n",
       "  <tbody>\n",
       "    <tr>\n",
       "      <th>9</th>\n",
       "      <td>Gene</td>\n",
       "      <td>gene_name</td>\n",
       "      <td>Locus tags (gene_table.index) will be used.</td>\n",
       "    </tr>\n",
       "    <tr>\n",
       "      <th>10</th>\n",
       "      <td>Gene</td>\n",
       "      <td>gene_product</td>\n",
       "      <td>Locus tags (gene_table.index) will be used.</td>\n",
       "    </tr>\n",
       "    <tr>\n",
       "      <th>11</th>\n",
       "      <td>Gene</td>\n",
       "      <td>cog</td>\n",
       "      <td>COG info will not display &amp; the gene scatter plot will not have color.</td>\n",
       "    </tr>\n",
       "    <tr>\n",
       "      <th>12</th>\n",
       "      <td>Gene</td>\n",
       "      <td>start</td>\n",
       "      <td>The x axis of the scatter plot will be a numerical value instead of a genome location.</td>\n",
       "    </tr>\n",
       "    <tr>\n",
       "      <th>13</th>\n",
       "      <td>Gene</td>\n",
       "      <td>operon</td>\n",
       "      <td>Operon info will not display.</td>\n",
       "    </tr>\n",
       "    <tr>\n",
       "      <th>14</th>\n",
       "      <td>Gene</td>\n",
       "      <td>regulator</td>\n",
       "      <td>Regulator info will not display. If you have a TRN, add it to the model to auto-generate this column.</td>\n",
       "    </tr>\n",
       "  </tbody>\n",
       "</table>\n",
       "</div>"
      ],
      "text/plain": [
       "   Table Missing Column  \\\n",
       "9   Gene      gene_name   \n",
       "10  Gene   gene_product   \n",
       "11  Gene            cog   \n",
       "12  Gene          start   \n",
       "13  Gene         operon   \n",
       "14  Gene      regulator   \n",
       "\n",
       "                                                                                                 Solution  \n",
       "9                                                             Locus tags (gene_table.index) will be used.  \n",
       "10                                                            Locus tags (gene_table.index) will be used.  \n",
       "11                                 COG info will not display & the gene scatter plot will not have color.  \n",
       "12                 The x axis of the scatter plot will be a numerical value instead of a genome location.  \n",
       "13                                                                          Operon info will not display.  \n",
       "14  Regulator info will not display. If you have a TRN, add it to the model to auto-generate this column.  "
      ]
     },
     "execution_count": 11,
     "metadata": {},
     "output_type": "execute_result"
    }
   ],
   "source": [
    "# here are all possible issues with the gene_table\n",
    "all_table_issues.loc[all_table_issues.Table == 'Gene']"
   ]
  },
  {
   "cell_type": "code",
   "execution_count": 12,
   "metadata": {},
   "outputs": [
    {
     "data": {
      "text/html": [
       "<div>\n",
       "<style scoped>\n",
       "    .dataframe tbody tr th:only-of-type {\n",
       "        vertical-align: middle;\n",
       "    }\n",
       "\n",
       "    .dataframe tbody tr th {\n",
       "        vertical-align: top;\n",
       "    }\n",
       "\n",
       "    .dataframe thead th {\n",
       "        text-align: right;\n",
       "    }\n",
       "</style>\n",
       "<table border=\"1\" class=\"dataframe\">\n",
       "  <thead>\n",
       "    <tr style=\"text-align: right;\">\n",
       "      <th></th>\n",
       "      <th>Table</th>\n",
       "      <th>Missing Column</th>\n",
       "      <th>Solution</th>\n",
       "    </tr>\n",
       "  </thead>\n",
       "  <tbody>\n",
       "    <tr>\n",
       "      <th>0</th>\n",
       "      <td>Gene</td>\n",
       "      <td>gene_product</td>\n",
       "      <td>Locus tags (gene_table.index) will be used.</td>\n",
       "    </tr>\n",
       "  </tbody>\n",
       "</table>\n",
       "</div>"
      ],
      "text/plain": [
       "  Table Missing Column                                     Solution\n",
       "0  Gene   gene_product  Locus tags (gene_table.index) will be used."
      ]
     },
     "execution_count": 12,
     "metadata": {},
     "output_type": "execute_result"
    }
   ],
   "source": [
    "# here are the issues relevant to ica_data.gene_table\n",
    "table_issues.loc[table_issues.Table == 'Gene']"
   ]
  },
  {
   "cell_type": "code",
   "execution_count": 13,
   "metadata": {},
   "outputs": [],
   "source": [
    "# issue 0\n",
    "# if gene_product information is available, add it to the gene_table."
   ]
  },
  {
   "cell_type": "markdown",
   "metadata": {},
   "source": [
    "#### The ``sample_table`` Variable"
   ]
  },
  {
   "cell_type": "markdown",
   "metadata": {},
   "source": [
    "The ``sample_table`` describes each sample and shares its index with the columns of ``X`` and ``A``. Its information is very important for generating the activity and expression bar graphs on the iModulon and gene pages. Familiarize yourself with [the activity plot](https://imodulondb.org/iModulon.html?organism=e_coli&dataset=precise1&k=12).\n",
    "\n",
    "Three columns in the ``sample_table`` define progressively smaller groupings of samples. It is CRITICAL that these columns exist so that the activity plots can be generated. Short, human readable, and specific names are preferred. Formatting should be consistent within your dataset, but is not necessarily constant throughout iModulonDB.\n",
    "\n",
    "* ``project``: This defines the largest grouping of samples, which share a common theme and/or were featured in the same paper. Examples include: 'biofilm', 'acid', and 'crp_KO'. In the activity bar graph on the iModulon Pages, the vertical lines separate each project and the names are displayed across the bottom.\n",
    "* ``condition``: This is the smallest grouping of samples, used for experimental conditions. Samples have matching ``project`` and ``condition`` names if and only if they are biological replicates. Examples include: 'biofilm_t0', 'biofilm_t10', 'wt_ctrl', 'del_crp'. In the activity bar graph on the iModulon Pages, each bar corresponds to a condition, and its height is the average activity value across all samples in the condition. Hovering over a bar provides additional details from the sample table, and zooming in switches the x labels to be conditions instead of projects.\n",
    "* ``sample``: This must be unique for each sample. If it is not a column, it is assumed that it is the index of the ``sample_table``. Use a human readable sample name, preferably of the form 'project__condition__#', where '#' indicates a replicate number. Examples: 'carbon__wt_ctrl__1', 'carbon__wt_ctrl__2', 'carbon__del_crp__1', 'biofilm__biofilm_t0__1'. In the activity bar graph on the iModulon Pages, each dot floating near the bar is a sample. Also, the regulon scatter plots contain points corresponding to each sample; sample names will appear when points are hovered over in that plot as well.\n",
    "\n",
    "Finally, two other columns are checked:\n",
    "\n",
    "* ``n_replicates``: For each condition, the samples all must have a matching ``n_replicates`` value that is used by the code. You can ignore this output, however, since a missing ``n_replicates`` column will automatically be generated. If you would like to remove this issue from the table, you can run the command ``generate_n_replicates_column(ica_data)``; otherwise, it will be automatically called on export.\n",
    "* ``doi``: If you click on the bars of the activity plot and the first sample of the corresponding condition has a link in the ``doi`` column, then you will go to that link. This could be useful to learn more about a given sample. DOIs are preferred, but any link is allowed. PyModulon does not test the validity of any links, so be sure this is a valid link. See the [section](https://pymodulon.readthedocs.io/en/latest/tutorials/creating_an_imodulondb_dashboard.html#The-missing_dois-Output) on ``missing_dois`` for more details on this.\n",
    "\n",
    "Note that in addition to the columns that PyModulon searches for, **all columns of the ``sample_table`` can be used to annotate or color the activity plots.** The more informative the sample_table is, the more useful the activity plots will be. You can access all the columns in any iModulon or Gene Page by clicking the wrench symbol next to the word 'Activity'. Checkboxes next to each column name indicate whether its value will be displayed on hovering over the sample, and the ink button allows you to recolor the activity plot by the values of that feature. For example, 'pH' is not a required ``sample_table`` column, but it could be useful to color or label each sample by that variable. Other useful but completely optional columns include:\n",
    "\n",
    "* Strain Description\n",
    "* Carbon Source (g/L)\n",
    "* Supplement\n",
    "* Temperature (C)\n",
    "* Time (min)\n",
    "* Growth Phase"
   ]
  },
  {
   "cell_type": "code",
   "execution_count": 14,
   "metadata": {
    "scrolled": true
   },
   "outputs": [
    {
     "data": {
      "text/html": [
       "<div>\n",
       "<style scoped>\n",
       "    .dataframe tbody tr th:only-of-type {\n",
       "        vertical-align: middle;\n",
       "    }\n",
       "\n",
       "    .dataframe tbody tr th {\n",
       "        vertical-align: top;\n",
       "    }\n",
       "\n",
       "    .dataframe thead th {\n",
       "        text-align: right;\n",
       "    }\n",
       "</style>\n",
       "<table border=\"1\" class=\"dataframe\">\n",
       "  <thead>\n",
       "    <tr style=\"text-align: right;\">\n",
       "      <th></th>\n",
       "      <th>Table</th>\n",
       "      <th>Missing Column</th>\n",
       "      <th>Solution</th>\n",
       "    </tr>\n",
       "  </thead>\n",
       "  <tbody>\n",
       "    <tr>\n",
       "      <th>15</th>\n",
       "      <td>Sample</td>\n",
       "      <td>project</td>\n",
       "      <td>This is a CRITICAL column defining the largest grouping of samples. Vertical bars in the activity plot will separate projects.</td>\n",
       "    </tr>\n",
       "    <tr>\n",
       "      <th>16</th>\n",
       "      <td>Sample</td>\n",
       "      <td>condition</td>\n",
       "      <td>This is an CRITICAL column defining the smallest grouping of samples. Biological replicates must have matching projects and conditions, and they will appear as single bars with averaged activities.</td>\n",
       "    </tr>\n",
       "    <tr>\n",
       "      <th>17</th>\n",
       "      <td>Sample</td>\n",
       "      <td>sample</td>\n",
       "      <td>The sample_table.index will be used. Each entry must be unique. Note that the preferred syntax is \"project__condition__#.\"</td>\n",
       "    </tr>\n",
       "    <tr>\n",
       "      <th>18</th>\n",
       "      <td>Sample</td>\n",
       "      <td>n_replicates</td>\n",
       "      <td>This column will be generated for you.</td>\n",
       "    </tr>\n",
       "    <tr>\n",
       "      <th>19</th>\n",
       "      <td>Sample</td>\n",
       "      <td>doi</td>\n",
       "      <td>Clicking on activity plot bars will not link to relevant papers for the samples.</td>\n",
       "    </tr>\n",
       "  </tbody>\n",
       "</table>\n",
       "</div>"
      ],
      "text/plain": [
       "     Table Missing Column  \\\n",
       "15  Sample        project   \n",
       "16  Sample      condition   \n",
       "17  Sample         sample   \n",
       "18  Sample   n_replicates   \n",
       "19  Sample            doi   \n",
       "\n",
       "                                                                                                                                                                                                 Solution  \n",
       "15                                                                         This is a CRITICAL column defining the largest grouping of samples. Vertical bars in the activity plot will separate projects.  \n",
       "16  This is an CRITICAL column defining the smallest grouping of samples. Biological replicates must have matching projects and conditions, and they will appear as single bars with averaged activities.  \n",
       "17                                                                             The sample_table.index will be used. Each entry must be unique. Note that the preferred syntax is \"project__condition__#.\"  \n",
       "18                                                                                                                                                                 This column will be generated for you.  \n",
       "19                                                                                                                       Clicking on activity plot bars will not link to relevant papers for the samples.  "
      ]
     },
     "execution_count": 14,
     "metadata": {},
     "output_type": "execute_result"
    }
   ],
   "source": [
    "# here are all possible issues with the sample_table\n",
    "all_table_issues.loc[all_table_issues.Table == 'Sample']"
   ]
  },
  {
   "cell_type": "code",
   "execution_count": 15,
   "metadata": {},
   "outputs": [
    {
     "data": {
      "text/html": [
       "<div>\n",
       "<style scoped>\n",
       "    .dataframe tbody tr th:only-of-type {\n",
       "        vertical-align: middle;\n",
       "    }\n",
       "\n",
       "    .dataframe tbody tr th {\n",
       "        vertical-align: top;\n",
       "    }\n",
       "\n",
       "    .dataframe thead th {\n",
       "        text-align: right;\n",
       "    }\n",
       "</style>\n",
       "<table border=\"1\" class=\"dataframe\">\n",
       "  <thead>\n",
       "    <tr style=\"text-align: right;\">\n",
       "      <th></th>\n",
       "      <th>Table</th>\n",
       "      <th>Missing Column</th>\n",
       "      <th>Solution</th>\n",
       "    </tr>\n",
       "  </thead>\n",
       "  <tbody>\n",
       "    <tr>\n",
       "      <th>1</th>\n",
       "      <td>Sample</td>\n",
       "      <td>sample</td>\n",
       "      <td>The sample_table.index will be used. Each entry must be unique. Note that the preferred syntax is \"project__condition__#.\"</td>\n",
       "    </tr>\n",
       "    <tr>\n",
       "      <th>2</th>\n",
       "      <td>Sample</td>\n",
       "      <td>n_replicates</td>\n",
       "      <td>This column will be generated for you.</td>\n",
       "    </tr>\n",
       "  </tbody>\n",
       "</table>\n",
       "</div>"
      ],
      "text/plain": [
       "    Table Missing Column  \\\n",
       "1  Sample         sample   \n",
       "2  Sample   n_replicates   \n",
       "\n",
       "                                                                                                                     Solution  \n",
       "1  The sample_table.index will be used. Each entry must be unique. Note that the preferred syntax is \"project__condition__#.\"  \n",
       "2                                                                                      This column will be generated for you.  "
      ]
     },
     "execution_count": 15,
     "metadata": {},
     "output_type": "execute_result"
    }
   ],
   "source": [
    "# here are the issues relevant to ica_data.sample_table\n",
    "table_issues.loc[table_issues.Table == 'Sample']"
   ]
  },
  {
   "cell_type": "code",
   "execution_count": 16,
   "metadata": {},
   "outputs": [
    {
     "data": {
      "text/plain": [
       "Index(['control__wt_glc__1', 'control__wt_glc__2', 'fur__wt_dpd__1',\n",
       "       'fur__wt_dpd__2', 'fur__wt_fe__1', 'fur__wt_fe__2',\n",
       "       'fur__delfur_dpd__1', 'fur__delfur_dpd__2', 'fur__delfur_fe2__1',\n",
       "       'fur__delfur_fe2__2',\n",
       "       ...\n",
       "       'efeU__menFentC_ale29__1', 'efeU__menFentC_ale29__2',\n",
       "       'efeU__menFentC_ale30__1', 'efeU__menFentC_ale30__2',\n",
       "       'efeU__menFentCubiC_ale36__1', 'efeU__menFentCubiC_ale36__2',\n",
       "       'efeU__menFentCubiC_ale37__1', 'efeU__menFentCubiC_ale37__2',\n",
       "       'efeU__menFentCubiC_ale38__1', 'efeU__menFentCubiC_ale38__2'],\n",
       "      dtype='object', length=278)"
      ]
     },
     "execution_count": 16,
     "metadata": {},
     "output_type": "execute_result"
    }
   ],
   "source": [
    "# issue 1\n",
    "# check to make sure that the sample_table.index contains good names\n",
    "ica_data.sample_table.index"
   ]
  },
  {
   "cell_type": "code",
   "execution_count": 17,
   "metadata": {},
   "outputs": [],
   "source": [
    "# the sample names above are good; we can now ignore issue 1\n",
    "\n",
    "# issue 2\n",
    "# optionally add the n_replicates column\n",
    "generate_n_replicates_column(ica_data)"
   ]
  },
  {
   "cell_type": "markdown",
   "metadata": {},
   "source": [
    "#### The ``imodulon_table`` Variable"
   ]
  },
  {
   "cell_type": "markdown",
   "metadata": {},
   "source": [
    "The ``imodulon_table`` describes each iModulon and shares its index with the columns of ``M`` and the index of ``A``. Its data is featured on iModulonDB in the following places:\n",
    "\n",
    "* Dataset Page, main section\n",
    "* iModulon tables on the Gene Pages (``regulator``, ``function``, and ``category`` columns)\n",
    "* Metadata box on the iModulon Pages\n",
    "* Search results\n",
    "\n",
    "Some additional considerations for each column are described below:\n",
    "\n",
    "* ``name``: Usually, this issue can be ignored because the ``imodulon_table.index`` always matches the ``imodulon_names``. If the names are all integers, then the word \"iModulon\" will be added (\"0\" --> \"iModulon 0\").\n",
    "* ``regulator``: This column is very important. Use regulator names that match the TRN. Join regulators using either '+' to represent the intersection of regulons or '/' to represent the union of regulons. Regulator links will be added in the iModulon Page metadata boxes according to the ``tf_links`` variable. The content of this column affects the behavior of the gene table, gene histogram, regulon venn diagram, and regulon scatter plots. See the [section](https://pymodulon.readthedocs.io/en/latest/tutorials/creating_an_imodulondb_dashboard.html#The-tf_issues-Output) on ``tf_issues``.\n",
    "* ``function``: This is meant to be a specific description of each iModulon's function, such as \"Histidine biosynthesis\".\n",
    "* ``category``: This column provides larger groupings of iModulons, such as \"Amino Acid Biosynthesis\".\n",
    "* ``n_genes``: The number of genes in the iModulon. This can be ignored since it will be computed for you.\n",
    "* ``precision``: The overlap between the iModulon and its regulon divided by the size of the iModulon. See the tutorial on gene enrichment analysis.\n",
    "* ``recall``: The overlap between the iModulon and its regulon divided by the size of the regulon. See the tutorial on gene enrichment analysis.\n",
    "* ``exp_var``: The explained variance when this iModulon alone is used to reconstruct the original ``X`` matrix. Use decimal values; they will be converted to percentages in iModulonDB. These can be computed using the ``explained_variance`` function; see the tutorial on additional functions."
   ]
  },
  {
   "cell_type": "code",
   "execution_count": 18,
   "metadata": {},
   "outputs": [
    {
     "data": {
      "text/html": [
       "<div>\n",
       "<style scoped>\n",
       "    .dataframe tbody tr th:only-of-type {\n",
       "        vertical-align: middle;\n",
       "    }\n",
       "\n",
       "    .dataframe tbody tr th {\n",
       "        vertical-align: top;\n",
       "    }\n",
       "\n",
       "    .dataframe thead th {\n",
       "        text-align: right;\n",
       "    }\n",
       "</style>\n",
       "<table border=\"1\" class=\"dataframe\">\n",
       "  <thead>\n",
       "    <tr style=\"text-align: right;\">\n",
       "      <th></th>\n",
       "      <th>Table</th>\n",
       "      <th>Missing Column</th>\n",
       "      <th>Solution</th>\n",
       "    </tr>\n",
       "  </thead>\n",
       "  <tbody>\n",
       "    <tr>\n",
       "      <th>20</th>\n",
       "      <td>iModulon</td>\n",
       "      <td>name</td>\n",
       "      <td>imodulon_table.index will be used.</td>\n",
       "    </tr>\n",
       "    <tr>\n",
       "      <th>21</th>\n",
       "      <td>iModulon</td>\n",
       "      <td>regulator</td>\n",
       "      <td>The regulator details will be left blank.</td>\n",
       "    </tr>\n",
       "    <tr>\n",
       "      <th>22</th>\n",
       "      <td>iModulon</td>\n",
       "      <td>function</td>\n",
       "      <td>The function will be blank in the dataset table and \"Uncharacterized\" in the iModulon dashboard</td>\n",
       "    </tr>\n",
       "    <tr>\n",
       "      <th>23</th>\n",
       "      <td>iModulon</td>\n",
       "      <td>category</td>\n",
       "      <td>The categories will be filled in as \"Uncharacterized\".</td>\n",
       "    </tr>\n",
       "    <tr>\n",
       "      <th>24</th>\n",
       "      <td>iModulon</td>\n",
       "      <td>n_genes</td>\n",
       "      <td>This column will be computed for you.</td>\n",
       "    </tr>\n",
       "    <tr>\n",
       "      <th>25</th>\n",
       "      <td>iModulon</td>\n",
       "      <td>precision</td>\n",
       "      <td>This column will be left blank.</td>\n",
       "    </tr>\n",
       "    <tr>\n",
       "      <th>26</th>\n",
       "      <td>iModulon</td>\n",
       "      <td>recall</td>\n",
       "      <td>This column will be left blank.</td>\n",
       "    </tr>\n",
       "    <tr>\n",
       "      <th>27</th>\n",
       "      <td>iModulon</td>\n",
       "      <td>exp_var</td>\n",
       "      <td>This column will be left blank.</td>\n",
       "    </tr>\n",
       "  </tbody>\n",
       "</table>\n",
       "</div>"
      ],
      "text/plain": [
       "       Table Missing Column  \\\n",
       "20  iModulon           name   \n",
       "21  iModulon      regulator   \n",
       "22  iModulon       function   \n",
       "23  iModulon       category   \n",
       "24  iModulon        n_genes   \n",
       "25  iModulon      precision   \n",
       "26  iModulon         recall   \n",
       "27  iModulon        exp_var   \n",
       "\n",
       "                                                                                           Solution  \n",
       "20                                                               imodulon_table.index will be used.  \n",
       "21                                                        The regulator details will be left blank.  \n",
       "22  The function will be blank in the dataset table and \"Uncharacterized\" in the iModulon dashboard  \n",
       "23                                           The categories will be filled in as \"Uncharacterized\".  \n",
       "24                                                            This column will be computed for you.  \n",
       "25                                                                  This column will be left blank.  \n",
       "26                                                                  This column will be left blank.  \n",
       "27                                                                  This column will be left blank.  "
      ]
     },
     "execution_count": 18,
     "metadata": {},
     "output_type": "execute_result"
    }
   ],
   "source": [
    "# here are all possible issues with the imodulon_table\n",
    "all_table_issues.loc[all_table_issues.Table == 'iModulon']"
   ]
  },
  {
   "cell_type": "code",
   "execution_count": 19,
   "metadata": {},
   "outputs": [
    {
     "data": {
      "text/html": [
       "<div>\n",
       "<style scoped>\n",
       "    .dataframe tbody tr th:only-of-type {\n",
       "        vertical-align: middle;\n",
       "    }\n",
       "\n",
       "    .dataframe tbody tr th {\n",
       "        vertical-align: top;\n",
       "    }\n",
       "\n",
       "    .dataframe thead th {\n",
       "        text-align: right;\n",
       "    }\n",
       "</style>\n",
       "<table border=\"1\" class=\"dataframe\">\n",
       "  <thead>\n",
       "    <tr style=\"text-align: right;\">\n",
       "      <th></th>\n",
       "      <th>Table</th>\n",
       "      <th>Missing Column</th>\n",
       "      <th>Solution</th>\n",
       "    </tr>\n",
       "  </thead>\n",
       "  <tbody>\n",
       "    <tr>\n",
       "      <th>3</th>\n",
       "      <td>iModulon</td>\n",
       "      <td>name</td>\n",
       "      <td>imodulon_table.index will be used.</td>\n",
       "    </tr>\n",
       "    <tr>\n",
       "      <th>4</th>\n",
       "      <td>iModulon</td>\n",
       "      <td>function</td>\n",
       "      <td>The function will be blank in the dataset table and \"Uncharacterized\" in the iModulon dashboard</td>\n",
       "    </tr>\n",
       "    <tr>\n",
       "      <th>5</th>\n",
       "      <td>iModulon</td>\n",
       "      <td>exp_var</td>\n",
       "      <td>This column will be left blank.</td>\n",
       "    </tr>\n",
       "  </tbody>\n",
       "</table>\n",
       "</div>"
      ],
      "text/plain": [
       "      Table Missing Column  \\\n",
       "3  iModulon           name   \n",
       "4  iModulon       function   \n",
       "5  iModulon        exp_var   \n",
       "\n",
       "                                                                                          Solution  \n",
       "3                                                               imodulon_table.index will be used.  \n",
       "4  The function will be blank in the dataset table and \"Uncharacterized\" in the iModulon dashboard  \n",
       "5                                                                  This column will be left blank.  "
      ]
     },
     "execution_count": 19,
     "metadata": {},
     "output_type": "execute_result"
    }
   ],
   "source": [
    "# here are the issues relevant to ica_data.imodulon_table\n",
    "table_issues.loc[table_issues.Table == 'iModulon']"
   ]
  },
  {
   "cell_type": "code",
   "execution_count": 20,
   "metadata": {
    "scrolled": true
   },
   "outputs": [
    {
     "data": {
      "text/plain": [
       "Index(['AllR/AraC/FucR', 'ArcA-1', 'ArcA-2', 'ArgR', 'AtoC', 'BW25113',\n",
       "       'Cbl+CysB', 'CdaR', 'CecR', 'Copper', 'CpxR', 'Cra', 'Crp-1', 'Crp-2',\n",
       "       'CsqR', 'CysB', 'DhaR/Mlc', 'EvgA', 'ExuR/FucR', 'FadR', 'FecI',\n",
       "       'FlhDC', 'FliA', 'Fnr', 'Fur-1', 'Fur-2', 'GadEWX', 'GadWX', 'GcvA',\n",
       "       'GlcC', 'GlpR', 'GntR/TyrR', 'His-tRNA', 'Leu/Ile', 'Lrp', 'MalT',\n",
       "       'MetJ', 'Nac', 'NagC/TyrR', 'NarL', 'NikR', 'NtrC+RpoN', 'OxyR', 'PrpR',\n",
       "       'PurR-1', 'PurR-2', 'PuuR', 'Pyruvate', 'RbsR', 'RcsAB', 'RpoH', 'RpoS',\n",
       "       'SoxS', 'SrlR+GutM', 'Thiamine', 'Tryptophan', 'XylR', 'YgbI', 'YiaJ',\n",
       "       'YieP', 'YneJ', 'Zinc', 'crp-KO', 'curli', 'deletion-1', 'deletion-2',\n",
       "       'duplication-1', 'e14-deletion', 'efeU-repair', 'entC-menF-KO',\n",
       "       'fimbriae', 'flu-yeeRS', 'fur-KO', 'gadWX-KO', 'insertion',\n",
       "       'iron-related', 'lipopolysaccharide', 'membrane', 'nitrate-related',\n",
       "       'proVWX', 'purR-KO', 'sgrT', 'thrA-KO', 'translation',\n",
       "       'uncharacterized-1', 'uncharacterized-2', 'uncharacterized-3',\n",
       "       'uncharacterized-4', 'uncharacterized-5', 'uncharacterized-6',\n",
       "       'ydcI-KO', 'yheO-KO'],\n",
       "      dtype='object')"
      ]
     },
     "execution_count": 20,
     "metadata": {},
     "output_type": "execute_result"
    }
   ],
   "source": [
    "# issue 3\n",
    "# check that the imodulon_table.index contains good names\n",
    "ica_data.imodulon_table.index"
   ]
  },
  {
   "cell_type": "code",
   "execution_count": 21,
   "metadata": {},
   "outputs": [],
   "source": [
    "# the names are good; we can ignore issue 3\n",
    "\n",
    "# issue 4\n",
    "# write a function column if desired \n",
    "# (part of iModulon characterization)\n",
    "\n",
    "# issue 5\n",
    "# compute the explained variance for each iModulon\n",
    "from pymodulon.util import explained_variance\n",
    "\n",
    "for k in ica_data.imodulon_table.index:\n",
    "    ica_data.imodulon_table.loc[k, 'exp_var'] = explained_variance(\n",
    "        ica_data, imodulons=k)"
   ]
  },
  {
   "cell_type": "markdown",
   "metadata": {},
   "source": [
    "### The ``tf_issues`` Output"
   ]
  },
  {
   "cell_type": "markdown",
   "metadata": {},
   "source": [
    "The next output is the ``tf_issues`` dataframe. Each row corresponds to a regulator that is used in the ``imodulon_table``. Regulators that satisfy all requirements are omitted. ``False`` values in this table represent potentially missing information. \n",
    "\n",
    "The columns refer to the following:\n",
    "\n",
    "* ``in_trn``: whether the regulator is in the model.trn. Regulators not in the TRN will be ignored in the site's histograms and gene tables. It is highly recommended that all regulators be in the TRN. **Any ``False`` values in this column should be fixed** by adding rows to the ``trn`` and/or ensuring that names all match up between ``imodulon_table.regulator`` and ``trn.regulator``.\n",
    "* ``has_link``: whether the regulator has a link in ``ica_data.tf_links``. If it does, its name will be clickable in the iModulon Page metadata box. If not, the regulator name will not appear as a hyperlink. Any regulators without dedicated pages in other databases should be ignored.\n",
    "* ``has_gene``: whether the regulator can be matched to a gene in the model. This is used to generate the regulon scatter plot which appears at the bottom of the iModulon Page, comparing iModulon activity to the expression of the regulators. If your regulator is a gene, try to ensure that its name matches the ``gene_table.gene_name``. If your regulator doesn't correspond to a gene (e.g. the small molecule regulator ppGpp), then a ``False`` value in this column is acceptable.\n",
    "\n",
    "Note that in our minimal example, the ``tf_issues`` will be empty because there is no regulator column in the ``imodulon_table``."
   ]
  },
  {
   "cell_type": "code",
   "execution_count": 22,
   "metadata": {},
   "outputs": [
    {
     "data": {
      "text/html": [
       "<div>\n",
       "<style scoped>\n",
       "    .dataframe tbody tr th:only-of-type {\n",
       "        vertical-align: middle;\n",
       "    }\n",
       "\n",
       "    .dataframe tbody tr th {\n",
       "        vertical-align: top;\n",
       "    }\n",
       "\n",
       "    .dataframe thead th {\n",
       "        text-align: right;\n",
       "    }\n",
       "</style>\n",
       "<table border=\"1\" class=\"dataframe\">\n",
       "  <thead>\n",
       "    <tr style=\"text-align: right;\">\n",
       "      <th></th>\n",
       "      <th>in_trn</th>\n",
       "      <th>has_link</th>\n",
       "      <th>has_gene</th>\n",
       "    </tr>\n",
       "  </thead>\n",
       "  <tbody>\n",
       "    <tr>\n",
       "      <th>allR</th>\n",
       "      <td>True</td>\n",
       "      <td>False</td>\n",
       "      <td>True</td>\n",
       "    </tr>\n",
       "    <tr>\n",
       "      <th>fucR</th>\n",
       "      <td>True</td>\n",
       "      <td>False</td>\n",
       "      <td>True</td>\n",
       "    </tr>\n",
       "    <tr>\n",
       "      <th>araC</th>\n",
       "      <td>True</td>\n",
       "      <td>False</td>\n",
       "      <td>True</td>\n",
       "    </tr>\n",
       "    <tr>\n",
       "      <th>arcA</th>\n",
       "      <td>True</td>\n",
       "      <td>False</td>\n",
       "      <td>True</td>\n",
       "    </tr>\n",
       "    <tr>\n",
       "      <th>argR</th>\n",
       "      <td>True</td>\n",
       "      <td>False</td>\n",
       "      <td>True</td>\n",
       "    </tr>\n",
       "    <tr>\n",
       "      <th>...</th>\n",
       "      <td>...</td>\n",
       "      <td>...</td>\n",
       "      <td>...</td>\n",
       "    </tr>\n",
       "    <tr>\n",
       "      <th>trpR</th>\n",
       "      <td>True</td>\n",
       "      <td>False</td>\n",
       "      <td>True</td>\n",
       "    </tr>\n",
       "    <tr>\n",
       "      <th>xylR</th>\n",
       "      <td>True</td>\n",
       "      <td>False</td>\n",
       "      <td>True</td>\n",
       "    </tr>\n",
       "    <tr>\n",
       "      <th>yiaJ</th>\n",
       "      <td>True</td>\n",
       "      <td>False</td>\n",
       "      <td>True</td>\n",
       "    </tr>\n",
       "    <tr>\n",
       "      <th>zur</th>\n",
       "      <td>True</td>\n",
       "      <td>False</td>\n",
       "      <td>True</td>\n",
       "    </tr>\n",
       "    <tr>\n",
       "      <th>zntR</th>\n",
       "      <td>True</td>\n",
       "      <td>False</td>\n",
       "      <td>True</td>\n",
       "    </tr>\n",
       "  </tbody>\n",
       "</table>\n",
       "<p>70 rows × 3 columns</p>\n",
       "</div>"
      ],
      "text/plain": [
       "     in_trn has_link has_gene\n",
       "allR   True    False     True\n",
       "fucR   True    False     True\n",
       "araC   True    False     True\n",
       "arcA   True    False     True\n",
       "argR   True    False     True\n",
       "...     ...      ...      ...\n",
       "trpR   True    False     True\n",
       "xylR   True    False     True\n",
       "yiaJ   True    False     True\n",
       "zur    True    False     True\n",
       "zntR   True    False     True\n",
       "\n",
       "[70 rows x 3 columns]"
      ]
     },
     "execution_count": 22,
     "metadata": {},
     "output_type": "execute_result"
    }
   ],
   "source": [
    "tf_issues"
   ]
  },
  {
   "cell_type": "markdown",
   "metadata": {},
   "source": [
    "#### The ``in_trn`` Column"
   ]
  },
  {
   "cell_type": "markdown",
   "metadata": {},
   "source": [
    "As described above, any ``False`` values in this column should definitely be fixed by ensuring name match-ups between ``imodulon_table.regulator`` and ``trn.regulator`` columns, or by adding rows to ``trn``. ``True`` values and omitted regulators indicate matchable regulators."
   ]
  },
  {
   "cell_type": "code",
   "execution_count": 23,
   "metadata": {},
   "outputs": [
    {
     "data": {
      "text/plain": [
       "Index([], dtype='object')"
      ]
     },
     "execution_count": 23,
     "metadata": {},
     "output_type": "execute_result"
    }
   ],
   "source": [
    "# here is a list of missing regulators from the TRN\n",
    "tf_issues.index[~tf_issues.in_trn.astype(bool)]"
   ]
  },
  {
   "cell_type": "code",
   "execution_count": 24,
   "metadata": {},
   "outputs": [],
   "source": [
    "# it is empty; no issues"
   ]
  },
  {
   "cell_type": "markdown",
   "metadata": {},
   "source": [
    "#### The ``has_link`` Column"
   ]
  },
  {
   "cell_type": "markdown",
   "metadata": {},
   "source": [
    "This column encourages you to find links for each transcription factor and put them in the dictionary ``ica_data.tf_links``. Find a database for your regulators (e.g. [RegulonDB](http://regulondb.ccg.unam.mx/)), and either make a file full of links or programmatically generate links by finding patterns in the databases URLs.\n",
    "\n",
    "In the example below, a file of regulator links has alreay been made."
   ]
  },
  {
   "cell_type": "code",
   "execution_count": 25,
   "metadata": {},
   "outputs": [
    {
     "data": {
      "text/plain": [
       "Index(['allR', 'fucR', 'araC', 'arcA', 'argR', 'atoC', 'cbl', 'cysB', 'cdaR',\n",
       "       'cecR', 'cusR', 'hprR', 'cueR', 'cpxR', 'cra', 'crp', 'csqR', 'dhaR',\n",
       "       'mlc', 'evgA', 'exuR', 'fadR', 'fecI', 'flhD;flhC', 'fliA', 'fnr',\n",
       "       'fur', 'gadW', 'gadE', 'gadX', 'gcvA', 'glcC', 'glpR', 'tyrR', 'gntR',\n",
       "       'his-tRNA', 'leu-tRNA', 'ile-tRNA', 'ilvY', 'lrp', 'malT', 'metJ',\n",
       "       'nac', 'nagC', 'narL', 'nikR', 'ntrC', 'rpoN', 'oxyR', 'prpR', 'purR',\n",
       "       'puuR', 'btsR', 'ypdB', 'pdhR', 'rbsR', 'rcsA;rcsB', 'rpoH', 'rpoS',\n",
       "       'soxS', 'gutM', 'srlR', 'TPP', 'L-tryptophan', 'trp-tRNA', 'trpR',\n",
       "       'xylR', 'yiaJ', 'zur', 'zntR'],\n",
       "      dtype='object')"
      ]
     },
     "execution_count": 25,
     "metadata": {},
     "output_type": "execute_result"
    }
   ],
   "source": [
    "# here is a list of missing tf_links\n",
    "tf_issues.index[~tf_issues.has_link.astype(bool)]"
   ]
  },
  {
   "cell_type": "code",
   "execution_count": 26,
   "metadata": {},
   "outputs": [
    {
     "data": {
      "text/plain": [
       "{'glpR': 'http://regulondb.ccg.unam.mx/regulon?term=ECK120012730&organism=ECK12&format=jsp&type=regulon',\n",
       " 'dhaR': 'http://regulondb.ccg.unam.mx/regulon?term=ECK120015690&organism=ECK12&format=jsp&type=regulon',\n",
       " 'mlc': 'http://regulondb.ccg.unam.mx/regulon?term=ECK120011240&organism=ECK12&format=jsp&type=regulon',\n",
       " 'argR': 'http://regulondb.ccg.unam.mx/regulon?term=ECK120011670&organism=ECK12&format=jsp&type=regulon',\n",
       " 'narL': 'http://regulondb.ccg.unam.mx/regulon?term=ECK120011502&organism=ECK12&format=jsp&type=regulon'}"
      ]
     },
     "execution_count": 26,
     "metadata": {},
     "output_type": "execute_result"
    }
   ],
   "source": [
    "# read in a file of links\n",
    "import pandas as pd\n",
    "file_location = '../../src/pymodulon/data/imodulondb/e_coli_tf_links.csv'\n",
    "tf_links = pd.read_csv(file_location, header = None, index_col = 0)\n",
    "\n",
    "# convert to dictionary\n",
    "tf_links = tf_links.to_dict()[1]\n",
    "\n",
    "# add to ica_data\n",
    "ica_data.tf_links = tf_links\n",
    "\n",
    "# display a few for demonstration purposes\n",
    "{k:tf_links[k] for k in list(tf_links.keys())[0:5]}"
   ]
  },
  {
   "cell_type": "code",
   "execution_count": 27,
   "metadata": {},
   "outputs": [
    {
     "data": {
      "text/plain": [
       "Index(['his-tRNA', 'leu-tRNA', 'ile-tRNA', 'TPP', 'L-tryptophan', 'trp-tRNA'], dtype='object')"
      ]
     },
     "execution_count": 27,
     "metadata": {},
     "output_type": "execute_result"
    }
   ],
   "source": [
    "# let's re-check the tf_issues now\n",
    "table_issues, tf_issues, missing_gene_links, missing_dois = imodulondb_compatibility(ica_data)\n",
    "tf_issues.index[~tf_issues.has_link.astype(bool)]"
   ]
  },
  {
   "cell_type": "code",
   "execution_count": 28,
   "metadata": {},
   "outputs": [],
   "source": [
    "# none of those regulators have pages on RegulonDB\n",
    "# so they can be ignored"
   ]
  },
  {
   "cell_type": "markdown",
   "metadata": {},
   "source": [
    "#### The ``has_gene`` Column"
   ]
  },
  {
   "cell_type": "markdown",
   "metadata": {},
   "source": [
    "As described above, any ``False`` values in this column indicate an inability to match between ``imodulon_table.regulator`` and ``gene_table.gene_name``. Some regulators will not have genes, so some ``False`` values are acceptable.\n",
    "\n",
    "In some cases, the regulator name will be a complex of several genes. PyModulon supports an additional input, ``tfcomplex_to_gene``, which is a dictionary mapping those regulators to their preferred gene. This variable will need to be passed to both ``imodulondb_compatibility`` and ``imodulondb_export``."
   ]
  },
  {
   "cell_type": "code",
   "execution_count": 29,
   "metadata": {},
   "outputs": [
    {
     "data": {
      "text/plain": [
       "Index(['cecR', 'flhD;flhC', 'glpR', 'his-tRNA', 'leu-tRNA', 'ile-tRNA', 'btsR',\n",
       "       'rcsA;rcsB', 'gutM', 'TPP', 'L-tryptophan', 'trp-tRNA'],\n",
       "      dtype='object')"
      ]
     },
     "execution_count": 29,
     "metadata": {},
     "output_type": "execute_result"
    }
   ],
   "source": [
    "tf_issues.index[~tf_issues.has_gene.astype(bool)]"
   ]
  },
  {
   "cell_type": "code",
   "execution_count": 30,
   "metadata": {},
   "outputs": [],
   "source": [
    "# three of these are name mismatches\n",
    "# find the old names and replace them\n",
    "ica_data.gene_table = ica_data.gene_table.replace({\n",
    "    'ybiH':'cecR',\n",
    "    'yehT':'btsR',\n",
    "    'srlM':'gutM'\n",
    "})\n",
    "\n",
    "# two are complexes\n",
    "tfcomplex_to_gene = {\n",
    "    'flhD;flhC':'flhD',\n",
    "    'rcsA;rcsB':'rcsB'\n",
    "}"
   ]
  },
  {
   "cell_type": "code",
   "execution_count": 31,
   "metadata": {},
   "outputs": [
    {
     "data": {
      "text/plain": [
       "Index(['glpR', 'his-tRNA', 'leu-tRNA', 'ile-tRNA', 'TPP', 'L-tryptophan',\n",
       "       'trp-tRNA'],\n",
       "      dtype='object')"
      ]
     },
     "execution_count": 31,
     "metadata": {},
     "output_type": "execute_result"
    }
   ],
   "source": [
    "# let's re-check the tf_issues now\n",
    "# use the tfcomplex_to_gene input\n",
    "table_issues, tf_issues, missing_gene_links, missing_dois = \\\n",
    "    imodulondb_compatibility(ica_data, tfcomplex_to_gene = tfcomplex_to_gene)\n",
    "\n",
    "tf_issues.index[~tf_issues.has_gene.astype(bool)]"
   ]
  },
  {
   "cell_type": "code",
   "execution_count": 32,
   "metadata": {},
   "outputs": [],
   "source": [
    "# the rest are pseudogene or non-gene regulators; ignore."
   ]
  },
  {
   "cell_type": "markdown",
   "metadata": {},
   "source": [
    "### The ``missing_gene_links`` Output"
   ]
  },
  {
   "cell_type": "markdown",
   "metadata": {},
   "source": [
    "The next output is ``missing_gene_links``. Similar to ``tf_issues.has_link``, this output shows all the genes that are missing links in the ``gene_links`` dictionary. The ``gene_links`` dictionary is indexed by locus tag (``gene_table.index``).\n",
    "\n",
    "Gene links are featured on the Gene Pages in the metadata box. The text of the hyperlink is determined by ``imodulondb_table.gene_link_db``. Note that this does **not** have to be the same database as the one used for ``tf_links``.\n",
    "\n",
    "As with the ``tf_links``, ``gene_links`` can be filled out programmatically or using an external file. In the example below, we use an external file."
   ]
  },
  {
   "cell_type": "code",
   "execution_count": 33,
   "metadata": {},
   "outputs": [
    {
     "data": {
      "text/plain": [
       "0         b0002\n",
       "1         b0003\n",
       "2         b0004\n",
       "3         b0005\n",
       "4         b0006\n",
       "         ...   \n",
       "3918      b4688\n",
       "3919      b4693\n",
       "3920    b4696_1\n",
       "3921    b4696_2\n",
       "3922      b4705\n",
       "Name: missing_gene_links, Length: 3923, dtype: object"
      ]
     },
     "execution_count": 33,
     "metadata": {},
     "output_type": "execute_result"
    }
   ],
   "source": [
    "missing_gene_links"
   ]
  },
  {
   "cell_type": "code",
   "execution_count": 34,
   "metadata": {},
   "outputs": [
    {
     "data": {
      "text/plain": [
       "{'b0002': 'https://ecocyc.org/gene?orgid=ECOLI&id=EG10998',\n",
       " 'b0003': 'https://ecocyc.org/gene?orgid=ECOLI&id=EG10999',\n",
       " 'b0004': 'https://ecocyc.org/gene?orgid=ECOLI&id=EG11000',\n",
       " 'b0005': 'https://ecocyc.org/gene?orgid=ECOLI&id=G6081',\n",
       " 'b0006': 'https://ecocyc.org/gene?orgid=ECOLI&id=EG10011'}"
      ]
     },
     "execution_count": 34,
     "metadata": {},
     "output_type": "execute_result"
    }
   ],
   "source": [
    "# read in a file of links\n",
    "import pandas as pd\n",
    "file_location = '../../src/pymodulon/data/imodulondb/e_coli_gene_links.csv'\n",
    "gene_links = pd.read_csv(file_location, header = None, index_col = 0)\n",
    "\n",
    "# convert to dictionary\n",
    "gene_links = gene_links.to_dict()[1]\n",
    "\n",
    "# add to ica_data\n",
    "ica_data.gene_links = gene_links\n",
    "\n",
    "# display a few for demonstration purposes\n",
    "{k:gene_links[k] for k in list(gene_links.keys())[0:5]}"
   ]
  },
  {
   "cell_type": "code",
   "execution_count": 35,
   "metadata": {
    "scrolled": true
   },
   "outputs": [
    {
     "data": {
      "text/plain": [
       "array(['b0240_2', 'b0502_1', 'b0553_1', 'b0562_2', 'b1459_1', 'b2092_1',\n",
       "       'b2092_2', 'b2139_2', 'b2190_2', 'b2641_2', 'b2681_1', 'b2681_2',\n",
       "       'b2891_2', 'b3046_2', 'b3268_2', 'b3423_1', 'b3423_2', 'b3643_1',\n",
       "       'b3777_2', 'b4038_3', 'b4308_2', 'b4488_1', 'b4488_2', 'b4490_2',\n",
       "       'b4491_1', 'b4492_1', 'b4492_3', 'b4493_1', 'b4493_2', 'b4495_1',\n",
       "       'b4495_2', 'b4496_1', 'b4496_2', 'b4498_1', 'b4498_2', 'b4499_1',\n",
       "       'b4571_1', 'b4571_2', 'b4575_2', 'b4580_1', 'b4580_2', 'b4581_2',\n",
       "       'b4582_1', 'b4582_2', 'b4587_1', 'b4587_2', 'b4600_2', 'b4623_1',\n",
       "       'b4640_1', 'b4646_2', 'b4658_1', 'b4658_2', 'b4659_1', 'b4659_2',\n",
       "       'b4660_1', 'b4696_1', 'b4696_2'], dtype=object)"
      ]
     },
     "execution_count": 35,
     "metadata": {},
     "output_type": "execute_result"
    }
   ],
   "source": [
    "# let's re-check the tf_issues now\n",
    "table_issues, tf_issues, missing_gene_links, missing_dois = \\\n",
    "    imodulondb_compatibility(ica_data, tfcomplex_to_gene = tfcomplex_to_gene)\n",
    "\n",
    "missing_gene_links.values"
   ]
  },
  {
   "cell_type": "code",
   "execution_count": 36,
   "metadata": {},
   "outputs": [],
   "source": [
    "# all the above are pseudogenes without available links\n",
    "# they can be ignored"
   ]
  },
  {
   "cell_type": "markdown",
   "metadata": {},
   "source": [
    "### The ``missing_dois`` Output"
   ]
  },
  {
   "cell_type": "markdown",
   "metadata": {},
   "source": [
    "The final output is the ``missing_dois`` output. This output searches for completed entries in ``sample_table.doi``, and lists the ``sample_table.index`` associated with any missing entries. \n",
    "\n",
    "It may be helpful to think of the DOIs as \"sample_links\". Clicking on the bar of an activity plot on the iModulon Pages or an expression plot on the Gene Pages will take users to the DOI of the corresponding sample if it exists. If this project is part of the modulome, in which samples from many publications are pooled, it is especially useful to fill in all of the DOIs. \n",
    "\n",
    "In the case where no ``doi`` column exists in the ``sample_table``, all samples will be listed as missing their dois."
   ]
  },
  {
   "cell_type": "code",
   "execution_count": 37,
   "metadata": {},
   "outputs": [
    {
     "data": {
      "text/plain": [
       "Index(['misc__wt_no_te__1', 'misc__wt_no_te__2', 'misc__bw_delcbl__1',\n",
       "       'misc__bw_delcbl__2', 'misc__bw_delfabr__1', 'misc__bw_delfabr__2',\n",
       "       'misc__bw_delfadr__1', 'misc__bw_delfadr__2', 'misc__nitr_031__1',\n",
       "       'omics__wt_glu__1', 'omics__wt_glu__2', 'minspan__wt_glc__4',\n",
       "       'minspan__bw_delcra_glc__2', 'ica__wt_glc__1', 'ica__wt_glc__2',\n",
       "       'ica__wt_glc__3', 'ica__wt_glc__4', 'ica__arg_sbt__1',\n",
       "       'ica__arg_sbt__2', 'ica__cytd_rib__1', 'ica__cytd_rib__2',\n",
       "       'ica__gth__1', 'ica__gth__2', 'ica__leu_glcr__1', 'ica__leu_glcr__2',\n",
       "       'ica__met_glc__1', 'ica__met_glc__2', 'ica__no3_anaero__1',\n",
       "       'ica__no3_anaero__2', 'ica__phe_acgam__1', 'ica__phe_acgam__2',\n",
       "       'ica__thm_gal__1', 'ica__thm_gal__2', 'ica__tyr_glcn__1',\n",
       "       'ica__tyr_glcn__2', 'ica__ura_pyr__1', 'ica__ura_pyr__2',\n",
       "       'ica__wt_glc__5', 'ica__wt_glc__6', 'ica__bw_delpurR_cytd__1',\n",
       "       'ica__bw_delpurR_cytd__2', 'ica__ade_glc__1', 'ica__ade_glc__2'],\n",
       "      dtype='object', name='missing_DOIs')"
      ]
     },
     "execution_count": 37,
     "metadata": {},
     "output_type": "execute_result"
    }
   ],
   "source": [
    "missing_dois"
   ]
  },
  {
   "cell_type": "code",
   "execution_count": 38,
   "metadata": {},
   "outputs": [],
   "source": [
    "# a couple of the missing dois do exist\n",
    "dois = {\n",
    "    'minspan__wt_glc__4': 'doi.org/10.15252/msb.20145243',\n",
    "    'minspan__bw_delcra_glc__2': 'doi.org/10.15252/msb.20145243',\n",
    "    'omics__wt_glu__1': 'doi.org/10.1038/ncomms13091',\n",
    "    'omics__wt_glu__2': 'doi.org/10.1038/ncomms13091'\n",
    "}\n",
    "\n",
    "# add them to the sample_table\n",
    "for sample, doi in dois.items():\n",
    "    ica_data.sample_table.loc[sample, 'DOI'] = doi"
   ]
  },
  {
   "cell_type": "markdown",
   "metadata": {},
   "source": [
    "### Double-check Compatibility and Save"
   ]
  },
  {
   "cell_type": "markdown",
   "metadata": {},
   "source": [
    "Once all the outputs have been checked, it is encouraged to re-run the ``imodulondb_compatibility`` check to make sure that you are comfortable ignoring all missing information. If so, save your ``ica_data`` object so that you don't need to repeat any of these steps!"
   ]
  },
  {
   "cell_type": "code",
   "execution_count": 39,
   "metadata": {},
   "outputs": [
    {
     "name": "stdout",
     "output_type": "stream",
     "text": [
      "--Table Issues--\n"
     ]
    },
    {
     "data": {
      "text/html": [
       "<div>\n",
       "<style scoped>\n",
       "    .dataframe tbody tr th:only-of-type {\n",
       "        vertical-align: middle;\n",
       "    }\n",
       "\n",
       "    .dataframe tbody tr th {\n",
       "        vertical-align: top;\n",
       "    }\n",
       "\n",
       "    .dataframe thead th {\n",
       "        text-align: right;\n",
       "    }\n",
       "</style>\n",
       "<table border=\"1\" class=\"dataframe\">\n",
       "  <thead>\n",
       "    <tr style=\"text-align: right;\">\n",
       "      <th></th>\n",
       "      <th>Table</th>\n",
       "      <th>Missing Column</th>\n",
       "      <th>Solution</th>\n",
       "    </tr>\n",
       "  </thead>\n",
       "  <tbody>\n",
       "    <tr>\n",
       "      <th>0</th>\n",
       "      <td>Gene</td>\n",
       "      <td>gene_product</td>\n",
       "      <td>Locus tags (gene_table.index) will be used.</td>\n",
       "    </tr>\n",
       "    <tr>\n",
       "      <th>1</th>\n",
       "      <td>Sample</td>\n",
       "      <td>sample</td>\n",
       "      <td>The sample_table.index will be used. Each entry must be unique. Note that the preferred syntax is \"project__condition__#.\"</td>\n",
       "    </tr>\n",
       "    <tr>\n",
       "      <th>2</th>\n",
       "      <td>iModulon</td>\n",
       "      <td>name</td>\n",
       "      <td>imodulon_table.index will be used.</td>\n",
       "    </tr>\n",
       "    <tr>\n",
       "      <th>3</th>\n",
       "      <td>iModulon</td>\n",
       "      <td>function</td>\n",
       "      <td>The function will be blank in the dataset table and \"Uncharacterized\" in the iModulon dashboard</td>\n",
       "    </tr>\n",
       "  </tbody>\n",
       "</table>\n",
       "</div>"
      ],
      "text/plain": [
       "      Table Missing Column  \\\n",
       "0      Gene   gene_product   \n",
       "1    Sample         sample   \n",
       "2  iModulon           name   \n",
       "3  iModulon       function   \n",
       "\n",
       "                                                                                                                     Solution  \n",
       "0                                                                                 Locus tags (gene_table.index) will be used.  \n",
       "1  The sample_table.index will be used. Each entry must be unique. Note that the preferred syntax is \"project__condition__#.\"  \n",
       "2                                                                                          imodulon_table.index will be used.  \n",
       "3                             The function will be blank in the dataset table and \"Uncharacterized\" in the iModulon dashboard  "
      ]
     },
     "metadata": {},
     "output_type": "display_data"
    },
    {
     "name": "stdout",
     "output_type": "stream",
     "text": [
      "--TF Issues--\n"
     ]
    },
    {
     "data": {
      "text/html": [
       "<div>\n",
       "<style scoped>\n",
       "    .dataframe tbody tr th:only-of-type {\n",
       "        vertical-align: middle;\n",
       "    }\n",
       "\n",
       "    .dataframe tbody tr th {\n",
       "        vertical-align: top;\n",
       "    }\n",
       "\n",
       "    .dataframe thead th {\n",
       "        text-align: right;\n",
       "    }\n",
       "</style>\n",
       "<table border=\"1\" class=\"dataframe\">\n",
       "  <thead>\n",
       "    <tr style=\"text-align: right;\">\n",
       "      <th></th>\n",
       "      <th>in_trn</th>\n",
       "      <th>has_link</th>\n",
       "      <th>has_gene</th>\n",
       "    </tr>\n",
       "  </thead>\n",
       "  <tbody>\n",
       "    <tr>\n",
       "      <th>glpR</th>\n",
       "      <td>True</td>\n",
       "      <td>True</td>\n",
       "      <td>False</td>\n",
       "    </tr>\n",
       "    <tr>\n",
       "      <th>his-tRNA</th>\n",
       "      <td>True</td>\n",
       "      <td>False</td>\n",
       "      <td>False</td>\n",
       "    </tr>\n",
       "    <tr>\n",
       "      <th>leu-tRNA</th>\n",
       "      <td>True</td>\n",
       "      <td>False</td>\n",
       "      <td>False</td>\n",
       "    </tr>\n",
       "    <tr>\n",
       "      <th>ile-tRNA</th>\n",
       "      <td>True</td>\n",
       "      <td>False</td>\n",
       "      <td>False</td>\n",
       "    </tr>\n",
       "    <tr>\n",
       "      <th>TPP</th>\n",
       "      <td>True</td>\n",
       "      <td>False</td>\n",
       "      <td>False</td>\n",
       "    </tr>\n",
       "    <tr>\n",
       "      <th>L-tryptophan</th>\n",
       "      <td>True</td>\n",
       "      <td>False</td>\n",
       "      <td>False</td>\n",
       "    </tr>\n",
       "    <tr>\n",
       "      <th>trp-tRNA</th>\n",
       "      <td>True</td>\n",
       "      <td>False</td>\n",
       "      <td>False</td>\n",
       "    </tr>\n",
       "  </tbody>\n",
       "</table>\n",
       "</div>"
      ],
      "text/plain": [
       "             in_trn has_link has_gene\n",
       "glpR           True     True    False\n",
       "his-tRNA       True    False    False\n",
       "leu-tRNA       True    False    False\n",
       "ile-tRNA       True    False    False\n",
       "TPP            True    False    False\n",
       "L-tryptophan   True    False    False\n",
       "trp-tRNA       True    False    False"
      ]
     },
     "metadata": {},
     "output_type": "display_data"
    },
    {
     "name": "stdout",
     "output_type": "stream",
     "text": [
      "--Missing Gene Links--\n"
     ]
    },
    {
     "data": {
      "text/plain": [
       "array(['b0240_2', 'b0502_1', 'b0553_1', 'b0562_2', 'b1459_1', 'b2092_1',\n",
       "       'b2092_2', 'b2139_2', 'b2190_2', 'b2641_2', 'b2681_1', 'b2681_2',\n",
       "       'b2891_2', 'b3046_2', 'b3268_2', 'b3423_1', 'b3423_2', 'b3643_1',\n",
       "       'b3777_2', 'b4038_3', 'b4308_2', 'b4488_1', 'b4488_2', 'b4490_2',\n",
       "       'b4491_1', 'b4492_1', 'b4492_3', 'b4493_1', 'b4493_2', 'b4495_1',\n",
       "       'b4495_2', 'b4496_1', 'b4496_2', 'b4498_1', 'b4498_2', 'b4499_1',\n",
       "       'b4571_1', 'b4571_2', 'b4575_2', 'b4580_1', 'b4580_2', 'b4581_2',\n",
       "       'b4582_1', 'b4582_2', 'b4587_1', 'b4587_2', 'b4600_2', 'b4623_1',\n",
       "       'b4640_1', 'b4646_2', 'b4658_1', 'b4658_2', 'b4659_1', 'b4659_2',\n",
       "       'b4660_1', 'b4696_1', 'b4696_2'], dtype=object)"
      ]
     },
     "metadata": {},
     "output_type": "display_data"
    },
    {
     "name": "stdout",
     "output_type": "stream",
     "text": [
      "--Missing DOIs--\n"
     ]
    },
    {
     "data": {
      "text/plain": [
       "array(['misc__wt_no_te__1', 'misc__wt_no_te__2', 'misc__bw_delcbl__1',\n",
       "       'misc__bw_delcbl__2', 'misc__bw_delfabr__1', 'misc__bw_delfabr__2',\n",
       "       'misc__bw_delfadr__1', 'misc__bw_delfadr__2', 'misc__nitr_031__1',\n",
       "       'ica__wt_glc__1', 'ica__wt_glc__2', 'ica__wt_glc__3',\n",
       "       'ica__wt_glc__4', 'ica__arg_sbt__1', 'ica__arg_sbt__2',\n",
       "       'ica__cytd_rib__1', 'ica__cytd_rib__2', 'ica__gth__1',\n",
       "       'ica__gth__2', 'ica__leu_glcr__1', 'ica__leu_glcr__2',\n",
       "       'ica__met_glc__1', 'ica__met_glc__2', 'ica__no3_anaero__1',\n",
       "       'ica__no3_anaero__2', 'ica__phe_acgam__1', 'ica__phe_acgam__2',\n",
       "       'ica__thm_gal__1', 'ica__thm_gal__2', 'ica__tyr_glcn__1',\n",
       "       'ica__tyr_glcn__2', 'ica__ura_pyr__1', 'ica__ura_pyr__2',\n",
       "       'ica__wt_glc__5', 'ica__wt_glc__6', 'ica__bw_delpurR_cytd__1',\n",
       "       'ica__bw_delpurR_cytd__2', 'ica__ade_glc__1', 'ica__ade_glc__2'],\n",
       "      dtype=object)"
      ]
     },
     "metadata": {},
     "output_type": "display_data"
    }
   ],
   "source": [
    "table_issues, tf_issues, missing_gene_links, missing_dois = \\\n",
    "    imodulondb_compatibility(ica_data, tfcomplex_to_gene = tfcomplex_to_gene)\n",
    "\n",
    "print('--Table Issues--')\n",
    "display(table_issues)\n",
    "print('--TF Issues--')\n",
    "display(tf_issues)\n",
    "print('--Missing Gene Links--')\n",
    "display(missing_gene_links.values)\n",
    "print('--Missing DOIs--')\n",
    "display(missing_dois.values)"
   ]
  },
  {
   "cell_type": "code",
   "execution_count": 40,
   "metadata": {},
   "outputs": [],
   "source": [
    "# the above output is all acceptable\n",
    "\n",
    "# save your results\n",
    "from pymodulon.io import *\n",
    "save_to_json(ica_data, 'e_coli_imdb.json')"
   ]
  },
  {
   "cell_type": "markdown",
   "metadata": {},
   "source": [
    "## The ``imodulondb_export`` Function"
   ]
  },
  {
   "cell_type": "markdown",
   "metadata": {},
   "source": [
    "After iModulonDB compatibility has been assured, it is time to use the ``imodulondb_export`` function.\n",
    "\n",
    "Arguments:\n",
    "\n",
    "* ``model``: the ``ica_data`` object\n",
    "* ``path``: the path to the main folder of iModulonDB. This is where you cloned the [iModulonDB GitHub repository](https://github.com/SBRG/modulytics), and where you should [host your local server](https://docs.python.org/3/library/http.server.html) from. This function will create new folders and files inside this repository. The default is the current working directory.\n",
    "* ``cat_order``: a list of each of the ``imodulon_table.category``s in order. When sorting by category in the Dataset Pages, the categories will appear in this order. Otherwise, they will appear in alphabetical order. Note that the default sorting is now by ``imodulon_table.exp_var`` (or by iModulon name if no explained variance is provided), so this input is not very important.\n",
    "* ``tfcomplex_to_gene``: a dictionary relating regulatory complexes in the ``imodulon_table.regulator``s to gene names in ``gene_table.gene_name``s. See the secion on ``tf_issues.has_gene``."
   ]
  },
  {
   "cell_type": "code",
   "execution_count": 41,
   "metadata": {},
   "outputs": [
    {
     "name": "stdout",
     "output_type": "stream",
     "text": [
      "Writing main site files...\n",
      "Done writing main site files. Writing plot files...\n",
      "Two progress bars will appear below. The second will take significantly longer than the first.\n",
      "Writing iModulon page files (1/2)\n"
     ]
    },
    {
     "data": {
      "application/vnd.jupyter.widget-view+json": {
       "model_id": "1beb2426dcd04c8cb3eeb2f2471d852b",
       "version_major": 2,
       "version_minor": 0
      },
      "text/plain": [
       "HBox(children=(FloatProgress(value=0.0, max=92.0), HTML(value='')))"
      ]
     },
     "metadata": {},
     "output_type": "display_data"
    },
    {
     "name": "stdout",
     "output_type": "stream",
     "text": [
      "\n",
      "Writing Gene page files (2/2)\n"
     ]
    },
    {
     "data": {
      "application/vnd.jupyter.widget-view+json": {
       "model_id": "21ed857f057544fba16a5593637988bb",
       "version_major": 2,
       "version_minor": 0
      },
      "text/plain": [
       "HBox(children=(FloatProgress(value=0.0, max=3923.0), HTML(value='')))"
      ]
     },
     "metadata": {},
     "output_type": "display_data"
    },
    {
     "name": "stdout",
     "output_type": "stream",
     "text": [
      "\n",
      "Complete! (Organism = e_coli; Dataset = precise1)\n"
     ]
    }
   ],
   "source": [
    "cat_order = ['Carbon Source Utilization',\n",
    "             'Amino Acid and Nucleotide Biosynthesis',\n",
    "             'Energy Metabolism',\n",
    "             'Miscellaneous Metabolism',\n",
    "             'Structural Components',\n",
    "             'Metal Homeostasis',\n",
    "             'Stress Response',\n",
    "             'Regulator Discovery', \n",
    "             'Biological Enrichment',\n",
    "             'Genomic Alterations',\n",
    "             'Uncharacterized']\n",
    "\n",
    "imodulondb_export(ica_data, \n",
    "                  '../iModulonDB', \n",
    "                  cat_order = cat_order, \n",
    "                  tfcomplex_to_gene = tfcomplex_to_gene)"
   ]
  },
  {
   "cell_type": "markdown",
   "metadata": {},
   "source": [
    "Now that the files have been exported, you can access them in your browser using the [instructions](https://pymodulon.readthedocs.io/en/latest/tutorials/creating_an_imodulondb_dashboard.html#iModulonDB-Site-Overview) at the beginning of this tutorial."
   ]
  },
  {
   "cell_type": "markdown",
   "metadata": {},
   "source": [
    "### Adding a Link to the Splash Page"
   ]
  },
  {
   "cell_type": "markdown",
   "metadata": {},
   "source": [
    "If you would like to be able to access your data from the splash page of your locally hosted site, you will have to edit the HTML code in ``index.html``, which is in the main folder.\n",
    "\n",
    "1. Copy the contents of organisms/new_organism/new_dataset/html_for_splash.html\n",
    "2. Open index.html using a text editor or IDE.\n",
    "3. Find \"\\<!-- INSERT NEW DATASETS BELOW THIS LINE -->\", which should be near line 297\n",
    "4. Paste the contents according to the comments in the file\n",
    "5. If desired, increase the indentation of the pasted lines.\n",
    "\n",
    "Now, if you reload localhost:8000, the new dataset will appear in the left hand side of the splash page."
   ]
  }
 ],
 "metadata": {
  "kernelspec": {
   "display_name": "Python 3",
   "language": "python",
   "name": "python3"
  },
  "language_info": {
   "codemirror_mode": {
    "name": "ipython",
    "version": 3
   },
   "file_extension": ".py",
   "mimetype": "text/x-python",
   "name": "python",
   "nbconvert_exporter": "python",
   "pygments_lexer": "ipython3",
   "version": "3.8.5"
  },
  "nbsphinx": {
   "execute": "never"
  },
  "toc": {
   "base_numbering": 1,
   "nav_menu": {},
   "number_sections": true,
   "sideBar": true,
   "skip_h1_title": true,
   "title_cell": "Table of Contents",
   "title_sidebar": "Contents",
   "toc_cell": true,
   "toc_position": {},
   "toc_section_display": true,
   "toc_window_display": false
  }
 },
 "nbformat": 4,
 "nbformat_minor": 4
}
