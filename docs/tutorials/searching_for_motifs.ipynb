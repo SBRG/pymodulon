{
 "cells": [
  {
   "cell_type": "markdown",
   "metadata": {},
   "source": [
    "# Searching for motifs"
   ]
  },
  {
   "cell_type": "markdown",
   "metadata": {},
   "source": [
    "## Using MEME to find motifs"
   ]
  },
  {
   "cell_type": "markdown",
   "metadata": {},
   "source": [
    "[MEME](https://meme-suite.org/meme/) must be installed to use this functionality. `find_motifs` searches for motifs upstream of all genes in an iModulon. The `gene_table` must contain the columns `accession` and `operon` for this function to work (see `notebooks/gene_annotation.ipynb`).\n",
    "\n",
    "`find_motifs` supports many of the command-line options for MEME:\n",
    "\n",
    "* `outdir`: Directory for output files\n",
    "* `palindrome`: If True, limit search to palindromic motifs (default: False)\n",
    "* `nmotifs`: Number of motifs to search for (default: 5)\n",
    "* `upstream`: Number of basepairs upstream from first gene in operon to include in motif search (default: 500)\n",
    "* `downstream`: Number of basepairs upstream from first gene in operon to include in motif search (default: 100)\n",
    "* `verbose`: Show steps in verbose output (default: True)\n",
    "* `force`: Force execution of MEME even if output already exists (default: False)\n",
    "* `evt`: E-value threshold (default: 0.001)\n",
    "* `cores` Number of cores to use (default: 8)\n",
    "* `minw`: Minimum motif width in basepairs (default: 6)\n",
    "* `maxw`: Maximum motif width in basepairs (default: 40)\n",
    "* `minsites`: Minimum number of sites required for a motif. Default is the number of operons divided by 3."
   ]
  },
  {
   "cell_type": "code",
   "execution_count": 1,
   "metadata": {},
   "outputs": [],
   "source": [
    "from pymodulon.motif import *\n",
    "from pymodulon.data.example_data import load_ecoli_data, ecoli_fasta\n",
    "ica_data = load_ecoli_data()"
   ]
  },
  {
   "cell_type": "code",
   "execution_count": 2,
   "metadata": {},
   "outputs": [
    {
     "name": "stdout",
     "output_type": "stream",
     "text": [
      "Finding motifs for 7 sequences\n",
      "Found 1 motif across 7 sites\n"
     ]
    }
   ],
   "source": [
    "motifs = find_motifs(ica_data, 'ArgR', ecoli_fasta)"
   ]
  },
  {
   "cell_type": "markdown",
   "metadata": {},
   "source": [
    "`find_motifs` creates a `MotifInfo` object"
   ]
  },
  {
   "cell_type": "code",
   "execution_count": 3,
   "metadata": {
    "scrolled": true
   },
   "outputs": [
    {
     "data": {
      "text/plain": [
       "<MotifInfo with 1 motif across 7 sites>"
      ]
     },
     "execution_count": 3,
     "metadata": {},
     "output_type": "execute_result"
    }
   ],
   "source": [
    "motifs"
   ]
  },
  {
   "cell_type": "markdown",
   "metadata": {},
   "source": [
    "The `MotifInfo` object contains the following properties:\n",
    "\n",
    "* `motifs`: Information about the motifs (e.g. E-value, width, consensus sequence)"
   ]
  },
  {
   "cell_type": "code",
   "execution_count": 7,
   "metadata": {},
   "outputs": [
    {
     "data": {
      "text/html": [
       "<div>\n",
       "<style scoped>\n",
       "    .dataframe tbody tr th:only-of-type {\n",
       "        vertical-align: middle;\n",
       "    }\n",
       "\n",
       "    .dataframe tbody tr th {\n",
       "        vertical-align: top;\n",
       "    }\n",
       "\n",
       "    .dataframe thead th {\n",
       "        text-align: right;\n",
       "    }\n",
       "</style>\n",
       "<table border=\"1\" class=\"dataframe\">\n",
       "  <thead>\n",
       "    <tr style=\"text-align: right;\">\n",
       "      <th></th>\n",
       "      <th>e_value</th>\n",
       "      <th>sites</th>\n",
       "      <th>width</th>\n",
       "      <th>consensus</th>\n",
       "      <th>motif_frac</th>\n",
       "    </tr>\n",
       "    <tr>\n",
       "      <th>motif</th>\n",
       "      <th></th>\n",
       "      <th></th>\n",
       "      <th></th>\n",
       "      <th></th>\n",
       "      <th></th>\n",
       "    </tr>\n",
       "  </thead>\n",
       "  <tbody>\n",
       "    <tr>\n",
       "      <th>MEME-1</th>\n",
       "      <td>1.2e-16</td>\n",
       "      <td>7</td>\n",
       "      <td>37</td>\n",
       "      <td>TGAATWWAWATKCAMTWWWTATGMATAAWWATTCANT</td>\n",
       "      <td>1.0</td>\n",
       "    </tr>\n",
       "  </tbody>\n",
       "</table>\n",
       "</div>"
      ],
      "text/plain": [
       "        e_value sites width                              consensus  motif_frac\n",
       "motif                                                                         \n",
       "MEME-1  1.2e-16     7    37  TGAATWWAWATKCAMTWWWTATGMATAAWWATTCANT         1.0"
      ]
     },
     "execution_count": 7,
     "metadata": {},
     "output_type": "execute_result"
    }
   ],
   "source": [
    "motifs.motifs"
   ]
  },
  {
   "cell_type": "markdown",
   "metadata": {},
   "source": [
    "* `sites`: Information about predicted binding sites (e.g. location, p-value)"
   ]
  },
  {
   "cell_type": "code",
   "execution_count": 9,
   "metadata": {},
   "outputs": [
    {
     "data": {
      "text/html": [
       "<div>\n",
       "<style scoped>\n",
       "    .dataframe tbody tr th:only-of-type {\n",
       "        vertical-align: middle;\n",
       "    }\n",
       "\n",
       "    .dataframe tbody tr th {\n",
       "        vertical-align: top;\n",
       "    }\n",
       "\n",
       "    .dataframe thead th {\n",
       "        text-align: right;\n",
       "    }\n",
       "</style>\n",
       "<table border=\"1\" class=\"dataframe\">\n",
       "  <thead>\n",
       "    <tr style=\"text-align: right;\">\n",
       "      <th></th>\n",
       "      <th></th>\n",
       "      <th>rel_position</th>\n",
       "      <th>pvalue</th>\n",
       "      <th>site_seq</th>\n",
       "      <th>genes</th>\n",
       "      <th>locus_tags</th>\n",
       "      <th>start_pos</th>\n",
       "      <th>strand</th>\n",
       "    </tr>\n",
       "    <tr>\n",
       "      <th>motif</th>\n",
       "      <th>operon</th>\n",
       "      <th></th>\n",
       "      <th></th>\n",
       "      <th></th>\n",
       "      <th></th>\n",
       "      <th></th>\n",
       "      <th></th>\n",
       "      <th></th>\n",
       "    </tr>\n",
       "  </thead>\n",
       "  <tbody>\n",
       "    <tr>\n",
       "      <th rowspan=\"7\" valign=\"top\">MEME-1</th>\n",
       "      <th>argA</th>\n",
       "      <td>453</td>\n",
       "      <td>2.36e-13</td>\n",
       "      <td>AGAATAAAAATACACTAATTTCGAATAATCATGCAAA</td>\n",
       "      <td>argA</td>\n",
       "      <td>b2818</td>\n",
       "      <td>2948741</td>\n",
       "      <td>+</td>\n",
       "    </tr>\n",
       "    <tr>\n",
       "      <th>argCBH</th>\n",
       "      <td>375</td>\n",
       "      <td>7.76e-14</td>\n",
       "      <td>TCAATATTCATGCAGTATTTATGAATAAAAATACACT</td>\n",
       "      <td>argC,argB,argH</td>\n",
       "      <td>b3958,b3959,b3960</td>\n",
       "      <td>4154500</td>\n",
       "      <td>+</td>\n",
       "    </tr>\n",
       "    <tr>\n",
       "      <th>argD</th>\n",
       "      <td>132</td>\n",
       "      <td>4.31e-14</td>\n",
       "      <td>TGAAATTATAACCACAAAATATGCATAAAAAATCACT</td>\n",
       "      <td>argD</td>\n",
       "      <td>b3359</td>\n",
       "      <td>3490080</td>\n",
       "      <td>-</td>\n",
       "    </tr>\n",
       "    <tr>\n",
       "      <th>argF</th>\n",
       "      <td>129</td>\n",
       "      <td>2.74e-17</td>\n",
       "      <td>TGAATTAAAATTCACTTTATATGTGTAATTATTCATT</td>\n",
       "      <td>argF</td>\n",
       "      <td>b0273</td>\n",
       "      <td>290205</td>\n",
       "      <td>-</td>\n",
       "    </tr>\n",
       "    <tr>\n",
       "      <th>argG</th>\n",
       "      <td>412</td>\n",
       "      <td>2.48e-14</td>\n",
       "      <td>TAAATGAAAACTCATTTATTTTGCATAAAAATTCAGT</td>\n",
       "      <td>argG</td>\n",
       "      <td>b3172</td>\n",
       "      <td>3318136</td>\n",
       "      <td>+</td>\n",
       "    </tr>\n",
       "    <tr>\n",
       "      <th>argI</th>\n",
       "      <td>127</td>\n",
       "      <td>8.81e-17</td>\n",
       "      <td>TGAATTAAAATTCAATTTATATGGATGATTATTCATT</td>\n",
       "      <td>argI</td>\n",
       "      <td>b4254</td>\n",
       "      <td>4478211</td>\n",
       "      <td>-</td>\n",
       "    </tr>\n",
       "    <tr>\n",
       "      <th>artJ</th>\n",
       "      <td>171</td>\n",
       "      <td>2.66e-13</td>\n",
       "      <td>TGAATTTATATGCAATAAACATGATTAAATAATTTAA</td>\n",
       "      <td>artJ</td>\n",
       "      <td>b0860</td>\n",
       "      <td>900475</td>\n",
       "      <td>-</td>\n",
       "    </tr>\n",
       "  </tbody>\n",
       "</table>\n",
       "</div>"
      ],
      "text/plain": [
       "              rel_position    pvalue                               site_seq  \\\n",
       "motif  operon                                                                 \n",
       "MEME-1 argA            453  2.36e-13  AGAATAAAAATACACTAATTTCGAATAATCATGCAAA   \n",
       "       argCBH          375  7.76e-14  TCAATATTCATGCAGTATTTATGAATAAAAATACACT   \n",
       "       argD            132  4.31e-14  TGAAATTATAACCACAAAATATGCATAAAAAATCACT   \n",
       "       argF            129  2.74e-17  TGAATTAAAATTCACTTTATATGTGTAATTATTCATT   \n",
       "       argG            412  2.48e-14  TAAATGAAAACTCATTTATTTTGCATAAAAATTCAGT   \n",
       "       argI            127  8.81e-17  TGAATTAAAATTCAATTTATATGGATGATTATTCATT   \n",
       "       artJ            171  2.66e-13  TGAATTTATATGCAATAAACATGATTAAATAATTTAA   \n",
       "\n",
       "                        genes         locus_tags  start_pos strand  \n",
       "motif  operon                                                       \n",
       "MEME-1 argA              argA              b2818    2948741      +  \n",
       "       argCBH  argC,argB,argH  b3958,b3959,b3960    4154500      +  \n",
       "       argD              argD              b3359    3490080      -  \n",
       "       argF              argF              b0273     290205      -  \n",
       "       argG              argG              b3172    3318136      +  \n",
       "       argI              argI              b4254    4478211      -  \n",
       "       artJ              artJ              b0860     900475      -  "
      ]
     },
     "execution_count": 9,
     "metadata": {},
     "output_type": "execute_result"
    }
   ],
   "source": [
    "motifs.sites"
   ]
  },
  {
   "cell_type": "markdown",
   "metadata": {},
   "source": [
    "* `cmd`: The original command used to run MEME"
   ]
  },
  {
   "cell_type": "code",
   "execution_count": 11,
   "metadata": {},
   "outputs": [
    {
     "data": {
      "text/plain": [
       "'meme motifs/ArgR.fasta -oc motifs/ArgR -dna -mod zoops -p 8 -nmotifs 5 -evt 0.001 -minw 6 -maxw 40 -allw -minsites 2'"
      ]
     },
     "execution_count": 11,
     "metadata": {},
     "output_type": "execute_result"
    }
   ],
   "source": [
    "motifs.cmd"
   ]
  },
  {
   "cell_type": "markdown",
   "metadata": {},
   "source": [
    "* `file`: Path to MEME output. This is the relative path of the file from the notebook that ran `find_motifs`"
   ]
  },
  {
   "cell_type": "code",
   "execution_count": 12,
   "metadata": {},
   "outputs": [
    {
     "data": {
      "text/plain": [
       "'motifs/ArgR/meme.txt'"
      ]
     },
     "execution_count": 12,
     "metadata": {},
     "output_type": "execute_result"
    }
   ],
   "source": [
    "motifs.file"
   ]
  },
  {
   "cell_type": "markdown",
   "metadata": {},
   "source": [
    "This `MotifInfo` object is automatically stored as a dictionary in the IcaData object. It will persist after saving and re-loading the IcaData object."
   ]
  },
  {
   "cell_type": "code",
   "execution_count": 14,
   "metadata": {},
   "outputs": [
    {
     "data": {
      "text/plain": [
       "{'ArgR': <MotifInfo with 1 motif across 7 sites>}"
      ]
     },
     "execution_count": 14,
     "metadata": {},
     "output_type": "execute_result"
    }
   ],
   "source": [
    "ica_data.motif_info"
   ]
  },
  {
   "cell_type": "markdown",
   "metadata": {},
   "source": [
    "## Using TOMTOM to compare motifs against external databases"
   ]
  },
  {
   "cell_type": "markdown",
   "metadata": {},
   "source": [
    "Once you have a motif from MEME, you can use [TOMTOM](https://meme-suite.org/meme/tools/tomtom) to compare your motif against external databases. The `compare_motifs` function makes this process simple.\n",
    "\n",
    "The `MotifInfo` object generated in the `find_motifs` function contains the MEME file location, which is the primary input for `compare_motifs`."
   ]
  },
  {
   "cell_type": "code",
   "execution_count": 15,
   "metadata": {},
   "outputs": [
    {
     "data": {
      "text/html": [
       "<div>\n",
       "<style scoped>\n",
       "    .dataframe tbody tr th:only-of-type {\n",
       "        vertical-align: middle;\n",
       "    }\n",
       "\n",
       "    .dataframe tbody tr th {\n",
       "        vertical-align: top;\n",
       "    }\n",
       "\n",
       "    .dataframe thead th {\n",
       "        text-align: right;\n",
       "    }\n",
       "</style>\n",
       "<table border=\"1\" class=\"dataframe\">\n",
       "  <thead>\n",
       "    <tr style=\"text-align: right;\">\n",
       "      <th></th>\n",
       "      <th>motif</th>\n",
       "      <th>target</th>\n",
       "      <th>target_id</th>\n",
       "      <th>pvalue</th>\n",
       "      <th>Evalue</th>\n",
       "      <th>qvalue</th>\n",
       "      <th>overlap</th>\n",
       "      <th>optimal_offset</th>\n",
       "      <th>orientation</th>\n",
       "      <th>database</th>\n",
       "    </tr>\n",
       "  </thead>\n",
       "  <tbody>\n",
       "    <tr>\n",
       "      <th>0</th>\n",
       "      <td>MEME-1</td>\n",
       "      <td>argR2</td>\n",
       "      <td>argR2</td>\n",
       "      <td>9.891940e-38</td>\n",
       "      <td>5.846130e-35</td>\n",
       "      <td>1.144640e-34</td>\n",
       "      <td>37</td>\n",
       "      <td>2</td>\n",
       "      <td>-</td>\n",
       "      <td>dpinteract</td>\n",
       "    </tr>\n",
       "    <tr>\n",
       "      <th>1</th>\n",
       "      <td>MEME-1</td>\n",
       "      <td>ArgR_26-5</td>\n",
       "      <td>ArgR_26-5</td>\n",
       "      <td>7.285650e-14</td>\n",
       "      <td>4.305820e-11</td>\n",
       "      <td>4.215270e-11</td>\n",
       "      <td>26</td>\n",
       "      <td>0</td>\n",
       "      <td>-</td>\n",
       "      <td>SwissRegulon_e_coli</td>\n",
       "    </tr>\n",
       "    <tr>\n",
       "      <th>2</th>\n",
       "      <td>MEME-1</td>\n",
       "      <td>argR</td>\n",
       "      <td>argR</td>\n",
       "      <td>1.245330e-10</td>\n",
       "      <td>7.359880e-08</td>\n",
       "      <td>2.882040e-08</td>\n",
       "      <td>18</td>\n",
       "      <td>-19</td>\n",
       "      <td>-</td>\n",
       "      <td>dpinteract</td>\n",
       "    </tr>\n",
       "    <tr>\n",
       "      <th>3</th>\n",
       "      <td>MEME-1</td>\n",
       "      <td>ArgR</td>\n",
       "      <td>MX000116</td>\n",
       "      <td>3.707110e-07</td>\n",
       "      <td>2.190900e-04</td>\n",
       "      <td>7.149420e-05</td>\n",
       "      <td>14</td>\n",
       "      <td>0</td>\n",
       "      <td>-</td>\n",
       "      <td>prodoric</td>\n",
       "    </tr>\n",
       "    <tr>\n",
       "      <th>4</th>\n",
       "      <td>MEME-1</td>\n",
       "      <td>AhrC</td>\n",
       "      <td>MX000043</td>\n",
       "      <td>5.803230e-07</td>\n",
       "      <td>3.429710e-04</td>\n",
       "      <td>8.393960e-05</td>\n",
       "      <td>16</td>\n",
       "      <td>-20</td>\n",
       "      <td>-</td>\n",
       "      <td>prodoric</td>\n",
       "    </tr>\n",
       "  </tbody>\n",
       "</table>\n",
       "</div>"
      ],
      "text/plain": [
       "    motif     target  target_id        pvalue        Evalue        qvalue  \\\n",
       "0  MEME-1      argR2      argR2  9.891940e-38  5.846130e-35  1.144640e-34   \n",
       "1  MEME-1  ArgR_26-5  ArgR_26-5  7.285650e-14  4.305820e-11  4.215270e-11   \n",
       "2  MEME-1       argR       argR  1.245330e-10  7.359880e-08  2.882040e-08   \n",
       "3  MEME-1       ArgR   MX000116  3.707110e-07  2.190900e-04  7.149420e-05   \n",
       "4  MEME-1       AhrC   MX000043  5.803230e-07  3.429710e-04  8.393960e-05   \n",
       "\n",
       "   overlap  optimal_offset orientation             database  \n",
       "0       37               2           -           dpinteract  \n",
       "1       26               0           -  SwissRegulon_e_coli  \n",
       "2       18             -19           -           dpinteract  \n",
       "3       14               0           -             prodoric  \n",
       "4       16             -20           -             prodoric  "
      ]
     },
     "execution_count": 15,
     "metadata": {},
     "output_type": "execute_result"
    }
   ],
   "source": [
    "compare_motifs(ica_data.motif_info['ArgR'])"
   ]
  },
  {
   "cell_type": "markdown",
   "metadata": {},
   "source": [
    "This information is saved in the `matches` attribute of the ArgR `MotifInfo`. Again, this information will be maintained if you save the file to json."
   ]
  },
  {
   "cell_type": "code",
   "execution_count": 16,
   "metadata": {},
   "outputs": [
    {
     "data": {
      "text/html": [
       "<div>\n",
       "<style scoped>\n",
       "    .dataframe tbody tr th:only-of-type {\n",
       "        vertical-align: middle;\n",
       "    }\n",
       "\n",
       "    .dataframe tbody tr th {\n",
       "        vertical-align: top;\n",
       "    }\n",
       "\n",
       "    .dataframe thead th {\n",
       "        text-align: right;\n",
       "    }\n",
       "</style>\n",
       "<table border=\"1\" class=\"dataframe\">\n",
       "  <thead>\n",
       "    <tr style=\"text-align: right;\">\n",
       "      <th></th>\n",
       "      <th>motif</th>\n",
       "      <th>target</th>\n",
       "      <th>target_id</th>\n",
       "      <th>pvalue</th>\n",
       "      <th>Evalue</th>\n",
       "      <th>qvalue</th>\n",
       "      <th>overlap</th>\n",
       "      <th>optimal_offset</th>\n",
       "      <th>orientation</th>\n",
       "      <th>database</th>\n",
       "    </tr>\n",
       "  </thead>\n",
       "  <tbody>\n",
       "    <tr>\n",
       "      <th>0</th>\n",
       "      <td>MEME-1</td>\n",
       "      <td>argR2</td>\n",
       "      <td>argR2</td>\n",
       "      <td>9.891940e-38</td>\n",
       "      <td>5.846130e-35</td>\n",
       "      <td>1.144640e-34</td>\n",
       "      <td>37</td>\n",
       "      <td>2</td>\n",
       "      <td>-</td>\n",
       "      <td>dpinteract</td>\n",
       "    </tr>\n",
       "    <tr>\n",
       "      <th>1</th>\n",
       "      <td>MEME-1</td>\n",
       "      <td>ArgR_26-5</td>\n",
       "      <td>ArgR_26-5</td>\n",
       "      <td>7.285650e-14</td>\n",
       "      <td>4.305820e-11</td>\n",
       "      <td>4.215270e-11</td>\n",
       "      <td>26</td>\n",
       "      <td>0</td>\n",
       "      <td>-</td>\n",
       "      <td>SwissRegulon_e_coli</td>\n",
       "    </tr>\n",
       "    <tr>\n",
       "      <th>2</th>\n",
       "      <td>MEME-1</td>\n",
       "      <td>argR</td>\n",
       "      <td>argR</td>\n",
       "      <td>1.245330e-10</td>\n",
       "      <td>7.359880e-08</td>\n",
       "      <td>2.882040e-08</td>\n",
       "      <td>18</td>\n",
       "      <td>-19</td>\n",
       "      <td>-</td>\n",
       "      <td>dpinteract</td>\n",
       "    </tr>\n",
       "    <tr>\n",
       "      <th>3</th>\n",
       "      <td>MEME-1</td>\n",
       "      <td>ArgR</td>\n",
       "      <td>MX000116</td>\n",
       "      <td>3.707110e-07</td>\n",
       "      <td>2.190900e-04</td>\n",
       "      <td>7.149420e-05</td>\n",
       "      <td>14</td>\n",
       "      <td>0</td>\n",
       "      <td>-</td>\n",
       "      <td>prodoric</td>\n",
       "    </tr>\n",
       "    <tr>\n",
       "      <th>4</th>\n",
       "      <td>MEME-1</td>\n",
       "      <td>AhrC</td>\n",
       "      <td>MX000043</td>\n",
       "      <td>5.803230e-07</td>\n",
       "      <td>3.429710e-04</td>\n",
       "      <td>8.393960e-05</td>\n",
       "      <td>16</td>\n",
       "      <td>-20</td>\n",
       "      <td>-</td>\n",
       "      <td>prodoric</td>\n",
       "    </tr>\n",
       "  </tbody>\n",
       "</table>\n",
       "</div>"
      ],
      "text/plain": [
       "    motif     target  target_id        pvalue        Evalue        qvalue  \\\n",
       "0  MEME-1      argR2      argR2  9.891940e-38  5.846130e-35  1.144640e-34   \n",
       "1  MEME-1  ArgR_26-5  ArgR_26-5  7.285650e-14  4.305820e-11  4.215270e-11   \n",
       "2  MEME-1       argR       argR  1.245330e-10  7.359880e-08  2.882040e-08   \n",
       "3  MEME-1       ArgR   MX000116  3.707110e-07  2.190900e-04  7.149420e-05   \n",
       "4  MEME-1       AhrC   MX000043  5.803230e-07  3.429710e-04  8.393960e-05   \n",
       "\n",
       "   overlap  optimal_offset orientation             database  \n",
       "0       37               2           -           dpinteract  \n",
       "1       26               0           -  SwissRegulon_e_coli  \n",
       "2       18             -19           -           dpinteract  \n",
       "3       14               0           -             prodoric  \n",
       "4       16             -20           -             prodoric  "
      ]
     },
     "execution_count": 16,
     "metadata": {},
     "output_type": "execute_result"
    }
   ],
   "source": [
    "ica_data.motif_info['ArgR'].matches"
   ]
  },
  {
   "cell_type": "markdown",
   "metadata": {},
   "source": [
    "By default, `compare_motifs` compares your motifs to 5 prokaryotic databases. You can also use the path to a local motif file or limit the search to a single database, namely:\n",
    "\n",
    "* `'prodoric'`\n",
    "* `'collectf'`\n",
    "* `'dpinteract'`\n",
    "* `'regtransbase'`\n",
    "* `'SwissRegulon_e_coli'`\n",
    "\n",
    "To re-run `compare_motifs` with different arguments, set `force=True`"
   ]
  },
  {
   "cell_type": "code",
   "execution_count": 17,
   "metadata": {},
   "outputs": [
    {
     "data": {
      "text/html": [
       "<div>\n",
       "<style scoped>\n",
       "    .dataframe tbody tr th:only-of-type {\n",
       "        vertical-align: middle;\n",
       "    }\n",
       "\n",
       "    .dataframe tbody tr th {\n",
       "        vertical-align: top;\n",
       "    }\n",
       "\n",
       "    .dataframe thead th {\n",
       "        text-align: right;\n",
       "    }\n",
       "</style>\n",
       "<table border=\"1\" class=\"dataframe\">\n",
       "  <thead>\n",
       "    <tr style=\"text-align: right;\">\n",
       "      <th></th>\n",
       "      <th>motif</th>\n",
       "      <th>target</th>\n",
       "      <th>target_id</th>\n",
       "      <th>pvalue</th>\n",
       "      <th>Evalue</th>\n",
       "      <th>qvalue</th>\n",
       "      <th>overlap</th>\n",
       "      <th>optimal_offset</th>\n",
       "      <th>orientation</th>\n",
       "      <th>database</th>\n",
       "    </tr>\n",
       "  </thead>\n",
       "  <tbody>\n",
       "    <tr>\n",
       "      <th>0</th>\n",
       "      <td>MEME-1</td>\n",
       "      <td>ArgR</td>\n",
       "      <td>MX000116</td>\n",
       "      <td>4.205030e-07</td>\n",
       "      <td>0.000085</td>\n",
       "      <td>0.000076</td>\n",
       "      <td>14</td>\n",
       "      <td>0</td>\n",
       "      <td>-</td>\n",
       "      <td>prodoric</td>\n",
       "    </tr>\n",
       "    <tr>\n",
       "      <th>1</th>\n",
       "      <td>MEME-1</td>\n",
       "      <td>AhrC</td>\n",
       "      <td>MX000043</td>\n",
       "      <td>5.760780e-07</td>\n",
       "      <td>0.000116</td>\n",
       "      <td>0.000076</td>\n",
       "      <td>16</td>\n",
       "      <td>-20</td>\n",
       "      <td>-</td>\n",
       "      <td>prodoric</td>\n",
       "    </tr>\n",
       "  </tbody>\n",
       "</table>\n",
       "</div>"
      ],
      "text/plain": [
       "    motif target target_id        pvalue    Evalue    qvalue  overlap  \\\n",
       "0  MEME-1   ArgR  MX000116  4.205030e-07  0.000085  0.000076       14   \n",
       "1  MEME-1   AhrC  MX000043  5.760780e-07  0.000116  0.000076       16   \n",
       "\n",
       "   optimal_offset orientation  database  \n",
       "0               0           -  prodoric  \n",
       "1             -20           -  prodoric  "
      ]
     },
     "execution_count": 17,
     "metadata": {},
     "output_type": "execute_result"
    }
   ],
   "source": [
    "compare_motifs(ica_data.motif_info['ArgR'], motif_db = 'prodoric', force=True)"
   ]
  },
  {
   "cell_type": "code",
   "execution_count": null,
   "metadata": {},
   "outputs": [],
   "source": []
  }
 ],
 "metadata": {
  "kernelspec": {
   "display_name": "Python 3",
   "language": "python",
   "name": "python3"
  },
  "language_info": {
   "codemirror_mode": {
    "name": "ipython",
    "version": 3
   },
   "file_extension": ".py",
   "mimetype": "text/x-python",
   "name": "python",
   "nbconvert_exporter": "python",
   "pygments_lexer": "ipython3",
   "version": "3.8.2"
  },
  "toc": {
   "base_numbering": 1,
   "nav_menu": {},
   "number_sections": true,
   "sideBar": true,
   "skip_h1_title": false,
   "title_cell": "Table of Contents",
   "title_sidebar": "Contents",
   "toc_cell": true,
   "toc_position": {},
   "toc_section_display": true,
   "toc_window_display": false
  }
 },
 "nbformat": 4,
 "nbformat_minor": 1
}
