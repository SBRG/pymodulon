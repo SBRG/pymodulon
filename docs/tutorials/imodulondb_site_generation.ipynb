{
 "cells": [
  {
   "cell_type": "markdown",
   "metadata": {
    "toc": true
   },
   "source": [
    "<h1>Table of Contents<span class=\"tocSkip\"></span></h1>\n",
    "<div class=\"toc\"><ul class=\"toc-item\"><li><span><a href=\"#iModulonDB-Site-Overview\" data-toc-modified-id=\"iModulonDB-Site-Overview-1\"><span class=\"toc-item-num\">1&nbsp;&nbsp;</span>iModulonDB Site Overview</a></span></li><li><span><a href=\"#The-imodulondb_compatibility-Function\" data-toc-modified-id=\"The-imodulondb_compatibility-Function-2\"><span class=\"toc-item-num\">2&nbsp;&nbsp;</span>The <code>imodulondb_compatibility</code> Function</a></span><ul class=\"toc-item\"><li><span><a href=\"#The-table_issues-Output\" data-toc-modified-id=\"The-table_issues-Output-2.1\"><span class=\"toc-item-num\">2.1&nbsp;&nbsp;</span>The <code>table_issues</code> Output</a></span><ul class=\"toc-item\"><li><span><a href=\"#The-imodulondb_table-Variable\" data-toc-modified-id=\"The-imodulondb_table-Variable-2.1.1\"><span class=\"toc-item-num\">2.1.1&nbsp;&nbsp;</span>The <code>imodulondb_table</code> Variable</a></span></li><li><span><a href=\"#The-gene_table-Variable\" data-toc-modified-id=\"The-gene_table-Variable-2.1.2\"><span class=\"toc-item-num\">2.1.2&nbsp;&nbsp;</span>The <code>gene_table</code> Variable</a></span></li><li><span><a href=\"#The-sample_table-Variable\" data-toc-modified-id=\"The-sample_table-Variable-2.1.3\"><span class=\"toc-item-num\">2.1.3&nbsp;&nbsp;</span>The <code>sample_table</code> Variable</a></span></li><li><span><a href=\"#The-imodulon_table-Variable\" data-toc-modified-id=\"The-imodulon_table-Variable-2.1.4\"><span class=\"toc-item-num\">2.1.4&nbsp;&nbsp;</span>The <code>imodulon_table</code> Variable</a></span></li></ul></li><li><span><a href=\"#The-tf_issues-Output\" data-toc-modified-id=\"The-tf_issues-Output-2.2\"><span class=\"toc-item-num\">2.2&nbsp;&nbsp;</span>The <code>tf_issues</code> Output</a></span><ul class=\"toc-item\"><li><span><a href=\"#The-in_trn-Column\" data-toc-modified-id=\"The-in_trn-Column-2.2.1\"><span class=\"toc-item-num\">2.2.1&nbsp;&nbsp;</span>The <code>in_trn</code> Column</a></span></li><li><span><a href=\"#The-has_link-Column\" data-toc-modified-id=\"The-has_link-Column-2.2.2\"><span class=\"toc-item-num\">2.2.2&nbsp;&nbsp;</span>The <code>has_link</code> Column</a></span></li><li><span><a href=\"#The-has_gene-Column\" data-toc-modified-id=\"The-has_gene-Column-2.2.3\"><span class=\"toc-item-num\">2.2.3&nbsp;&nbsp;</span>The <code>has_gene</code> Column</a></span></li></ul></li><li><span><a href=\"#The-missing_gene_links-Output\" data-toc-modified-id=\"The-missing_gene_links-Output-2.3\"><span class=\"toc-item-num\">2.3&nbsp;&nbsp;</span>The <code>missing_gene_links</code> Output</a></span></li><li><span><a href=\"#The-missing_dois-Output\" data-toc-modified-id=\"The-missing_dois-Output-2.4\"><span class=\"toc-item-num\">2.4&nbsp;&nbsp;</span>The <code>missing_dois</code> Output</a></span></li></ul></li><li><span><a href=\"#The-imodulondb_export-Function\" data-toc-modified-id=\"The-imodulondb_export-Function-3\"><span class=\"toc-item-num\">3&nbsp;&nbsp;</span>The <code>imodulondb_export</code> Function</a></span><ul class=\"toc-item\"><li><span><a href=\"#The-cat_order-Input\" data-toc-modified-id=\"The-cat_order-Input-3.1\"><span class=\"toc-item-num\">3.1&nbsp;&nbsp;</span>The <code>cat_order</code> Input</a></span></li></ul></li></ul></div>"
   ]
  },
  {
   "cell_type": "markdown",
   "metadata": {},
   "source": [
    "# iModulonDB Site Generation"
   ]
  },
  {
   "cell_type": "markdown",
   "metadata": {},
   "source": [
    "After an iModulon analysis is completed and published, dashboards for every iModulon and gene are made available on the [iModulonDB website](https://imodulondb.org). The **PyModulon** package enables generation of all necessary files for any ``IcaData`` object that meets a few simple requirements. "
   ]
  },
  {
   "cell_type": "markdown",
   "metadata": {},
   "source": [
    "## iModulonDB Site Overview"
   ]
  },
  {
   "cell_type": "markdown",
   "metadata": {},
   "source": [
    "For general information about iModulonDB, visit the [about page](https://imodulondb.org/about). Familiarize yourself with the main page types:\n",
    "\n",
    "* [Splash page](https://imodulondb.org/): The main entry point for the site\n",
    "* [Dataset page](https://imodulondb.org/dataset.html?organism=e_coli&dataset=precise1): After choosing a dataset on the splash page, you are directed to the dataset page, which contains gray dataset metadata box and a table of iModulons.\n",
    "* [iModulon page](https://imodulondb.org/iModulon.html?organism=e_coli&dataset=precise1&k=12): The iModulon dashboards, which have a gray iModulon metadata box, a gene table, and several plots.\n",
    "* [Gene page](https://imodulondb.org/gene.html?organism=e_coli&dataset=precise1&gene_id=b0002): Gene dashboards, which have an iModulon table connecting them to iModulons and an expression plot.\n",
    "\n",
    "It's helpful to understand the two parts to most websites:\n",
    "\n",
    "* **Front End**: The front end runs in a web user's browser. It requests and receives files from the back end, and contains JavaScript functions which can create interactive plots and other features. iModulonDB's front end code is available at [this GitHub repository](https://github.com/SBRG/modulytics).\n",
    "* **Back End**: The back end runs in a server, which is usually operated by the site owner. It sends the necessary files to the front end when requested. With iModulonDB, all back end data is precomputed by the **PyModulon** package using the instructions provided here. Output files are uploaded to GitHub Pages, which serves the files to users.\n",
    "\n",
    "To generate and view iModulonDB dashboards for a custom project, follow these steps:\n",
    "\n",
    "1. Clone [the iModulonDB GitHub repository](https://github.com/SBRG/modulytics).\n",
    "2. Follow the instructions in this document to generate your own files for the new ``IcaData`` object of interest. In ``imodulondb_export``, specify the path to the cloned repository so that **PyModulon** can place new files in the appropriate locations.\n",
    "3. [Host a local server](https://docs.python.org/3/library/http.server.html) from the repository folder. This will act as the back end in place of GitHub Pages.\n",
    "4. In your browser, visit http://localhost:8000/dataset.html?organism=new_organism&dataset=new_dataset. The organism and dataset names in the URL are customizable."
   ]
  },
  {
   "cell_type": "code",
   "execution_count": 1,
   "metadata": {},
   "outputs": [],
   "source": [
    "from pymodulon.core import IcaData\n",
    "from pymodulon.io import *\n",
    "from pymodulon.imodulondb import *\n",
    "from pymodulon.example_data import load_ecoli_data"
   ]
  },
  {
   "cell_type": "code",
   "execution_count": 2,
   "metadata": {},
   "outputs": [],
   "source": [
    "pd.set_option('display.max_colwidth', None)"
   ]
  },
  {
   "cell_type": "code",
   "execution_count": 3,
   "metadata": {},
   "outputs": [],
   "source": [
    "ica_data = load_ecoli_data()"
   ]
  },
  {
   "cell_type": "markdown",
   "metadata": {},
   "source": [
    "## The ``imodulondb_compatibility`` Function"
   ]
  },
  {
   "cell_type": "markdown",
   "metadata": {},
   "source": [
    "``imodulondb_compatibility`` is essentially a convenient checklist for iModulonDB-relevant metadata. It has four outputs, which we will go through one-by-one.\n",
    "\n",
    "Optional arguments:\n",
    "\n",
    "* ``inplace``: Whether to modify the object. It is not recommended to change this from its default (``False``).\n",
    "* ``tfcomplex_to_gene``: Dictionary mapping transcription factor complexes to gene names. See the section <span style=\"color:red\">I haven't written yet</span>.\n",
    "\n",
    "Returns:\n",
    "\n",
    "* ``table_issues``: Dataframe describing missing columns from the major annotation tables and the site's behavior if they are not updated. Three elements in this table are \"CRITICAL\", meaning the site cannot be generated without them. If those elements are missing, they will be entries in this table as well as warnings.\n",
    "* ``tf_issues``: Dataframe describing each regulator from the ``imodulon_table`` that can't be mapped to the ``trn``, ``tf_links``, and/or ``gene_table``.\n",
    "* ``missing_gene_links``: Series listing each gene that doesn't have a ``gene_link`` to an external database.\n",
    "* ``missing_dois``: Index listing each sample that doesn't have an associated DOI in the ``sample_table``. Clicking on these samples in the activity plots on the table will not bring you to a relevant paper.\n",
    "\n",
    "Call this function and browse its output. Not all issues it lists will be important to fix. In some cases, the default values will be fine for your purposes, or the match it is seeking might not exist."
   ]
  },
  {
   "cell_type": "code",
   "execution_count": 4,
   "metadata": {},
   "outputs": [],
   "source": [
    "table_issues, tf_issues, missing_gene_links, missing_dois = imodulondb_compatibility(ica_data)"
   ]
  },
  {
   "cell_type": "markdown",
   "metadata": {},
   "source": [
    "For demonstration purposes, we will also create a minimal ``IcaData`` object called ``blank_data`` containing only the M and A matrices. If we call ``imodulondb_compatibility`` with this object, the ``table_issues`` output will contain all possible issues.\n",
    "\n",
    "Note the three warnings which appear when this happens; seeing any of these indicates that iModulonDB export cannot be completed. The possible CRITICAL issues are:\n",
    "* No ``X`` matrix: Each gene page [(example here)](https://imodulondb.org/gene.html?organism=e_coli&dataset=precise1&gene_id=b0002) contains a plot of gene expression, so you must provide the X matrix.\n",
    "* No ``project`` column in ``sample_table``: See the section <span style=\"color:red\">I haven't written yet</span>.\n",
    "* No ``condition`` column in ``sample_table``: See the section <span style=\"color:red\">I haven't written yet</span>."
   ]
  },
  {
   "cell_type": "code",
   "execution_count": null,
   "metadata": {},
   "outputs": [],
   "source": [
    "#blank_data = IcaData(ica_data.M, ica_data.A)\n",
    "#all_table_issues, b_tf_issues, b_missing_gene_links, b_missing_dois = imodulondb_compatibility(blank_data)"
   ]
  },
  {
   "cell_type": "markdown",
   "metadata": {},
   "source": [
    "### The ``table_issues`` Output"
   ]
  },
  {
   "cell_type": "markdown",
   "metadata": {},
   "source": [
    "The first output of ``imodulondb_compatibility`` is the ``table_issues``. Each row corresponds to an issue with one of the main class elements. The columns are:\n",
    "* ``Table``: which table or other variable the issue is in\n",
    "* ``Missing Column``: the column of the Table with the issue (not case sensitive; capitalization is ignored).\n",
    "* ``Solution``: Unless \"CRITICAL\" is in this cell, the site behavior if the issue remained is described here.\n",
    "\n",
    "If the ``X`` matrix is missing, it will be listed in the first row as a CRITICAL issue. After that, the ``imodulondb_table`` issues represent missing information from a dictionary specific to iModulonDB.\n",
    "\n",
    "The rest of the rows may relate to the ``gene_table``, ``sample_table``, or ``imodulon_table``. These issues arise from parsing the column names of the annotation tables. You may not be able to provide the information to fill in the missing columns (for example, if no database of gene functions exist for your organism). If you'd like, you can partially fill in any column and leave ``np.nan`` values for the information you do not know. In most cases, you can continue to omit the column - the ``Solution`` column of ``table_issues`` will describe what happens in those cases. \n",
    "\n",
    "Column names are case insensitive. Be sure not to have multiple columns with matching names, as that will cause errors later."
   ]
  },
  {
   "cell_type": "code",
   "execution_count": 5,
   "metadata": {},
   "outputs": [
    {
     "data": {
      "text/html": [
       "<div>\n",
       "<style scoped>\n",
       "    .dataframe tbody tr th:only-of-type {\n",
       "        vertical-align: middle;\n",
       "    }\n",
       "\n",
       "    .dataframe tbody tr th {\n",
       "        vertical-align: top;\n",
       "    }\n",
       "\n",
       "    .dataframe thead th {\n",
       "        text-align: right;\n",
       "    }\n",
       "</style>\n",
       "<table border=\"1\" class=\"dataframe\">\n",
       "  <thead>\n",
       "    <tr style=\"text-align: right;\">\n",
       "      <th></th>\n",
       "      <th>Table</th>\n",
       "      <th>Missing Column</th>\n",
       "      <th>Solution</th>\n",
       "    </tr>\n",
       "  </thead>\n",
       "  <tbody>\n",
       "    <tr>\n",
       "      <th>0</th>\n",
       "      <td>iModulonDB</td>\n",
       "      <td>organism</td>\n",
       "      <td>The default, \"New Organism\", will be used.</td>\n",
       "    </tr>\n",
       "    <tr>\n",
       "      <th>1</th>\n",
       "      <td>iModulonDB</td>\n",
       "      <td>dataset</td>\n",
       "      <td>The default, \"New Dataset\", will be used.</td>\n",
       "    </tr>\n",
       "    <tr>\n",
       "      <th>2</th>\n",
       "      <td>iModulonDB</td>\n",
       "      <td>strain</td>\n",
       "      <td>The default, \"Unspecified\", will be used.</td>\n",
       "    </tr>\n",
       "    <tr>\n",
       "      <th>3</th>\n",
       "      <td>iModulonDB</td>\n",
       "      <td>publication_name</td>\n",
       "      <td>The default, \"Unpublished Study\", will be used.</td>\n",
       "    </tr>\n",
       "    <tr>\n",
       "      <th>4</th>\n",
       "      <td>iModulonDB</td>\n",
       "      <td>publication_link</td>\n",
       "      <td>The publication name will not be a hyperlink.</td>\n",
       "    </tr>\n",
       "    <tr>\n",
       "      <th>5</th>\n",
       "      <td>iModulonDB</td>\n",
       "      <td>gene_link_db</td>\n",
       "      <td>The default, \"External Database\", will be used.</td>\n",
       "    </tr>\n",
       "    <tr>\n",
       "      <th>6</th>\n",
       "      <td>iModulonDB</td>\n",
       "      <td>organism_folder</td>\n",
       "      <td>The default, \"new_organism\", will be used.</td>\n",
       "    </tr>\n",
       "    <tr>\n",
       "      <th>7</th>\n",
       "      <td>iModulonDB</td>\n",
       "      <td>dataset_folder</td>\n",
       "      <td>The default, \"new_dataset\", will be used.</td>\n",
       "    </tr>\n",
       "    <tr>\n",
       "      <th>8</th>\n",
       "      <td>Gene</td>\n",
       "      <td>gene_product</td>\n",
       "      <td>Locus tags (gene_table.index) will be used.</td>\n",
       "    </tr>\n",
       "    <tr>\n",
       "      <th>9</th>\n",
       "      <td>Sample</td>\n",
       "      <td>sample</td>\n",
       "      <td>The sample_table.index will be used. Each entry must be unique. Note that the preferred syntax is \"project__condition__#.\"</td>\n",
       "    </tr>\n",
       "    <tr>\n",
       "      <th>10</th>\n",
       "      <td>Sample</td>\n",
       "      <td>n_replicates</td>\n",
       "      <td>This column will be generated for you.</td>\n",
       "    </tr>\n",
       "    <tr>\n",
       "      <th>11</th>\n",
       "      <td>iModulon</td>\n",
       "      <td>name</td>\n",
       "      <td>imodulon_table.index will be used.</td>\n",
       "    </tr>\n",
       "    <tr>\n",
       "      <th>12</th>\n",
       "      <td>iModulon</td>\n",
       "      <td>function</td>\n",
       "      <td>The function will be blank in the dataset table and \"Uncharacterized\" in the iModulon dashboard</td>\n",
       "    </tr>\n",
       "    <tr>\n",
       "      <th>13</th>\n",
       "      <td>iModulon</td>\n",
       "      <td>exp_var</td>\n",
       "      <td>This column will be left blank.</td>\n",
       "    </tr>\n",
       "  </tbody>\n",
       "</table>\n",
       "</div>"
      ],
      "text/plain": [
       "         Table    Missing Column  \\\n",
       "0   iModulonDB          organism   \n",
       "1   iModulonDB           dataset   \n",
       "2   iModulonDB            strain   \n",
       "3   iModulonDB  publication_name   \n",
       "4   iModulonDB  publication_link   \n",
       "5   iModulonDB      gene_link_db   \n",
       "6   iModulonDB   organism_folder   \n",
       "7   iModulonDB    dataset_folder   \n",
       "8         Gene      gene_product   \n",
       "9       Sample            sample   \n",
       "10      Sample      n_replicates   \n",
       "11    iModulon              name   \n",
       "12    iModulon          function   \n",
       "13    iModulon           exp_var   \n",
       "\n",
       "                                                                                                                      Solution  \n",
       "0                                                                                   The default, \"New Organism\", will be used.  \n",
       "1                                                                                    The default, \"New Dataset\", will be used.  \n",
       "2                                                                                    The default, \"Unspecified\", will be used.  \n",
       "3                                                                              The default, \"Unpublished Study\", will be used.  \n",
       "4                                                                                The publication name will not be a hyperlink.  \n",
       "5                                                                              The default, \"External Database\", will be used.  \n",
       "6                                                                                   The default, \"new_organism\", will be used.  \n",
       "7                                                                                    The default, \"new_dataset\", will be used.  \n",
       "8                                                                                  Locus tags (gene_table.index) will be used.  \n",
       "9   The sample_table.index will be used. Each entry must be unique. Note that the preferred syntax is \"project__condition__#.\"  \n",
       "10                                                                                      This column will be generated for you.  \n",
       "11                                                                                          imodulon_table.index will be used.  \n",
       "12                             The function will be blank in the dataset table and \"Uncharacterized\" in the iModulon dashboard  \n",
       "13                                                                                             This column will be left blank.  "
      ]
     },
     "execution_count": 5,
     "metadata": {},
     "output_type": "execute_result"
    }
   ],
   "source": [
    "table_issues"
   ]
  },
  {
   "cell_type": "markdown",
   "metadata": {},
   "source": [
    "#### The ``imodulondb_table`` Variable"
   ]
  },
  {
   "cell_type": "markdown",
   "metadata": {},
   "source": [
    "Unless you are missing the X matrix, the first set of table_issues will be relating to the iModulonDB table (``imodulondb_table``), which is a dictionary of details about the dataset in general. As you can see by reading the ``Solution`` column of ``table_issues`` for these entries, most entries have a default value (and the default behavior for a missing link is to not create a link).\n",
    "\n",
    "Each entry affects the following parts of the site:\n",
    "* ``organism``: Appears in the dataset page metadata box, and gets programmatically changed into a short form (\"Eshcerichia coli\" --> \"E. coli\") to appear in the dataset title on iModulon and Gene pages. Be sure to use the form \"Genus species\".\n",
    "* ``dataset``: The specific dataset title, which could distinguish it from other datasets in this organism. Appears in the dataset page metadata box, and gets appended to the shortened organism name in the dataset title on iModulon and Gene pages.\n",
    "* ``strain``: Appears on the dataset pages in the metadata box.\n",
    "* ``publication_name``: Appears on the dataset pages in the metadata box. Typically we use the form \"Smith, et al., year\".\n",
    "* ``publication_link``: The publication_name will be turned into a hyperlink if this entry is not blank. DOIs preferred. PyModulon does not test the validity of any links, so be sure this is a valid link.\n",
    "* ``gene_link_db``: Appears on Gene pages in the metadata box if a ``gene_link`` is also available for the gene. PyModulon expects all gene links to go to specific gene pages from the same database, and for the database name to be the one shown here. If gene links are not included, then \"Not Available\" will appear in place of the ``gene_link_db`` name. Examples of gene link databases include [EcoCyc](https://ecocyc.org/), [<i>Subti</i>Wiki](http://subtiwiki.uni-goettingen.de/), and [AureoWiki](https://aureowiki.med.uni-greifswald.de/Main_Page).\n",
    "* ``organism_folder``: Determines output file location names. Also used in the URLs. Cannot contain spaces or slashes.\n",
    "* ``dataset_folder``: Determines output file location names. Also used in URLs. Cannot contain spaces or slashes.\n",
    "\n",
    "Any files with matching ``organism_folder`` and ``dataset_folder`` will be overwritten."
   ]
  },
  {
   "cell_type": "code",
   "execution_count": null,
   "metadata": {},
   "outputs": [],
   "source": [
    "#all_table_issues.loc[all_table_issues.Table == 'iModulonDB']"
   ]
  },
  {
   "cell_type": "code",
   "execution_count": 6,
   "metadata": {},
   "outputs": [],
   "source": [
    "# example completed imodulondb_table\n",
    "ica_data.imodulondb_table = {'organism': 'Escherichia coli',\n",
    "     'dataset': 'PRECISE 1',\n",
    "     'strain': 'K-12 MG1655 and BW25113',\n",
    "     'publication_name': 'Sastry, et al., 2019',\n",
    "     'publication_link': 'https://doi.org/10.1038/s41467-019-13483-w',\n",
    "     'gene_link_db': 'EcoCyc',\n",
    "     'organism_folder': 'e_coli',\n",
    "     'dataset_folder': 'precise1'}"
   ]
  },
  {
   "cell_type": "markdown",
   "metadata": {},
   "source": [
    "#### The ``gene_table`` Variable"
   ]
  },
  {
   "cell_type": "markdown",
   "metadata": {},
   "source": [
    "The ``gene_table`` contains details about each gene and shares an index with the ``M`` and ``X`` matrices. Its information is included in the following parts of the site:\n",
    "\n",
    "* Gene Table plot on the iModulon Pages\n",
    "* Metadata box on the Gene Pages\n",
    "* Search results\n",
    "* ``name``, ``cog``, and ``gene_start`` are shown when a gene is hovered over in the gene scatter plot (middle right of iModulon Pages). ``cog`` is also used to color this scatter plot, and ``gene_start`` defines the x axis.\n",
    "\n",
    "Note that column names are case-insensitive.\n",
    "\n",
    "Some additional considerations for each column are described below:\n",
    "\n",
    "* ``gene_name``: Try to use the most up to date names. Also, if a gene encodes a transcription factor (regulator) in the TRN, make sure that the names match (e.g. the transcription factor listed in the trn as 'RpoS' is encoded by the gene with ``gene_name`` 'rpoS'). See the section <span style=\"color:red\">I haven't written yet</span> for more details on this.\n",
    "* ``gene_product``: This field is meant to be a concise but specific description of the function/product of the gene, such as 'homoserine kinase'. You can use html tags in this field if superscripts or subscripts are desired.\n",
    "* ``cog``: This stands for 'cluster of orthologous groups', and should be a larger category of genes such as 'Carbohydrate transport and metabolism'. In addition to being displayed everywhere listed above, each COG is assigned a random color in the gene scatter plot, so it is especially useful to have them.\n",
    "* ``gene_start``: This is not displayed anywhere, but it is used as the x axis value for each gene in the scatter plots on the iModulon Pages. If a few gene_starts are missing, those genes will have a value of 0 on the x axis. If all ``gene_start``s are not provided, then the order of the ``gene_table`` will be used to assign integer values to each gene for the x axis of this plot.\n",
    "* ``operon``: Preferably, this field will be the shortest string listing all genes, such as 'artPIQM', 'argT-hisJQMP', or 'pdxB-usg-truA-dedA'. For very long operons with names that don't share letters, you can list the first and last gene as in 'yitB->yisZ'. iModulonDB is not picky about this column, however, so operons as provided by another database are acceptable.\n",
    "* ``regulator``: Adding a TRN will automatically generate this column for you. It should contain a comma-separated list of all regulators that regulate this gene, e.g. 'ppGpp,Lrp,Nac'.\n",
    "\n",
    "If any of these columns are listed in your ``table_issues``, be sure to check the gene_table for the appropriate information under other column names. [Rename those columns](https://pandas.pydata.org/pandas-docs/stable/reference/api/pandas.DataFrame.rename.html) so that they match the names above."
   ]
  },
  {
   "cell_type": "code",
   "execution_count": 7,
   "metadata": {},
   "outputs": [
    {
     "data": {
      "text/html": [
       "<div>\n",
       "<style scoped>\n",
       "    .dataframe tbody tr th:only-of-type {\n",
       "        vertical-align: middle;\n",
       "    }\n",
       "\n",
       "    .dataframe tbody tr th {\n",
       "        vertical-align: top;\n",
       "    }\n",
       "\n",
       "    .dataframe thead th {\n",
       "        text-align: right;\n",
       "    }\n",
       "</style>\n",
       "<table border=\"1\" class=\"dataframe\">\n",
       "  <thead>\n",
       "    <tr style=\"text-align: right;\">\n",
       "      <th></th>\n",
       "      <th>Table</th>\n",
       "      <th>Missing Column</th>\n",
       "      <th>Solution</th>\n",
       "    </tr>\n",
       "  </thead>\n",
       "  <tbody>\n",
       "    <tr>\n",
       "      <th>0</th>\n",
       "      <td>iModulonDB</td>\n",
       "      <td>organism</td>\n",
       "      <td>The default, \"New Organism\", will be used.</td>\n",
       "    </tr>\n",
       "    <tr>\n",
       "      <th>1</th>\n",
       "      <td>iModulonDB</td>\n",
       "      <td>dataset</td>\n",
       "      <td>The default, \"New Dataset\", will be used.</td>\n",
       "    </tr>\n",
       "    <tr>\n",
       "      <th>2</th>\n",
       "      <td>iModulonDB</td>\n",
       "      <td>strain</td>\n",
       "      <td>The default, \"Unspecified\", will be used.</td>\n",
       "    </tr>\n",
       "    <tr>\n",
       "      <th>3</th>\n",
       "      <td>iModulonDB</td>\n",
       "      <td>publication_name</td>\n",
       "      <td>The default, \"Unpublished Study\", will be used.</td>\n",
       "    </tr>\n",
       "    <tr>\n",
       "      <th>4</th>\n",
       "      <td>iModulonDB</td>\n",
       "      <td>publication_link</td>\n",
       "      <td>The publication name will not be a hyperlink.</td>\n",
       "    </tr>\n",
       "    <tr>\n",
       "      <th>5</th>\n",
       "      <td>iModulonDB</td>\n",
       "      <td>gene_link_db</td>\n",
       "      <td>The default, \"External Database\", will be used.</td>\n",
       "    </tr>\n",
       "    <tr>\n",
       "      <th>6</th>\n",
       "      <td>iModulonDB</td>\n",
       "      <td>organism_folder</td>\n",
       "      <td>The default, \"new_organism\", will be used.</td>\n",
       "    </tr>\n",
       "    <tr>\n",
       "      <th>7</th>\n",
       "      <td>iModulonDB</td>\n",
       "      <td>dataset_folder</td>\n",
       "      <td>The default, \"new_dataset\", will be used.</td>\n",
       "    </tr>\n",
       "    <tr>\n",
       "      <th>8</th>\n",
       "      <td>Gene</td>\n",
       "      <td>gene_product</td>\n",
       "      <td>Locus tags (gene_table.index) will be used.</td>\n",
       "    </tr>\n",
       "    <tr>\n",
       "      <th>9</th>\n",
       "      <td>Sample</td>\n",
       "      <td>sample</td>\n",
       "      <td>The sample_table.index will be used. Each entry must be unique. Note that the preferred syntax is \"project__condition__#.\"</td>\n",
       "    </tr>\n",
       "    <tr>\n",
       "      <th>10</th>\n",
       "      <td>Sample</td>\n",
       "      <td>n_replicates</td>\n",
       "      <td>This column will be generated for you.</td>\n",
       "    </tr>\n",
       "    <tr>\n",
       "      <th>11</th>\n",
       "      <td>iModulon</td>\n",
       "      <td>name</td>\n",
       "      <td>imodulon_table.index will be used.</td>\n",
       "    </tr>\n",
       "    <tr>\n",
       "      <th>12</th>\n",
       "      <td>iModulon</td>\n",
       "      <td>function</td>\n",
       "      <td>The function will be blank in the dataset table and \"Uncharacterized\" in the iModulon dashboard</td>\n",
       "    </tr>\n",
       "    <tr>\n",
       "      <th>13</th>\n",
       "      <td>iModulon</td>\n",
       "      <td>exp_var</td>\n",
       "      <td>This column will be left blank.</td>\n",
       "    </tr>\n",
       "  </tbody>\n",
       "</table>\n",
       "</div>"
      ],
      "text/plain": [
       "         Table    Missing Column  \\\n",
       "0   iModulonDB          organism   \n",
       "1   iModulonDB           dataset   \n",
       "2   iModulonDB            strain   \n",
       "3   iModulonDB  publication_name   \n",
       "4   iModulonDB  publication_link   \n",
       "5   iModulonDB      gene_link_db   \n",
       "6   iModulonDB   organism_folder   \n",
       "7   iModulonDB    dataset_folder   \n",
       "8         Gene      gene_product   \n",
       "9       Sample            sample   \n",
       "10      Sample      n_replicates   \n",
       "11    iModulon              name   \n",
       "12    iModulon          function   \n",
       "13    iModulon           exp_var   \n",
       "\n",
       "                                                                                                                      Solution  \n",
       "0                                                                                   The default, \"New Organism\", will be used.  \n",
       "1                                                                                    The default, \"New Dataset\", will be used.  \n",
       "2                                                                                    The default, \"Unspecified\", will be used.  \n",
       "3                                                                              The default, \"Unpublished Study\", will be used.  \n",
       "4                                                                                The publication name will not be a hyperlink.  \n",
       "5                                                                              The default, \"External Database\", will be used.  \n",
       "6                                                                                   The default, \"new_organism\", will be used.  \n",
       "7                                                                                    The default, \"new_dataset\", will be used.  \n",
       "8                                                                                  Locus tags (gene_table.index) will be used.  \n",
       "9   The sample_table.index will be used. Each entry must be unique. Note that the preferred syntax is \"project__condition__#.\"  \n",
       "10                                                                                      This column will be generated for you.  \n",
       "11                                                                                          imodulon_table.index will be used.  \n",
       "12                             The function will be blank in the dataset table and \"Uncharacterized\" in the iModulon dashboard  \n",
       "13                                                                                             This column will be left blank.  "
      ]
     },
     "execution_count": 7,
     "metadata": {},
     "output_type": "execute_result"
    }
   ],
   "source": [
    "table_issues"
   ]
  },
  {
   "cell_type": "markdown",
   "metadata": {},
   "source": [
    "#### The ``sample_table`` Variable"
   ]
  },
  {
   "cell_type": "markdown",
   "metadata": {},
   "source": [
    "The ``sample_table`` describes each sample. Its information is very important for generating the activity and expression bar graphs on the iModulon and gene pages.\n",
    "\n",
    "Three columns in the ``sample_table`` define progressively smaller groupings of samples. It is CRITICAL that these columns exist so that the activity plots can be generated. Short, human readable, and specific names are preferred. Formatting should be consistent within your dataset, but is not necessarily constant throughout iModulonDB.\n",
    "* ``project``: This defines the largest grouping of samples, which share a common theme and/or were featured in the same paper. Examples include: 'biofilm', 'acid', and 'crp_KO'.\n",
    "* ``condition``: This is the smallest grouping of samples, used for experimental conditions. Samples have matching ``project`` and ``condition`` names if and only if they are biological replicates. Examples include: 'biofilm_t0', 'biofilm_t10', 'wt_ctrl', 'del_crp'.\n",
    "* ``sample``: This must be unique for each sample; if it is not a column, it is assumed that it is the index of the ``sample_table``. Use a human readable sample name, preferably of the form 'project__condition__#', where '#' indicates a replicate number. Examples: 'carbon__wt_ctrl__1', 'carbon__wt_ctrl__2', 'carbon__del_crp__1', 'biofilm__biofilm_t0__1'.\n",
    "\n",
    "## DOI THING HERE\n",
    "\n",
    "Note that in addition to the columns that PyModulon searches for, **all columns of the ``sample_table`` can be used to annotate or color the activity plots.** The more informative the sample_table is, the more useful the activity plots will be. You can access all the columns in [any](https://imodulondb.org/iModulon.html?organism=e_coli&dataset=precise1&k=12) iModulon or Gene Page by clicking the wrench symbol next to the word 'Activity'. Checkboxes next to each column name indicate whether its value will be displayed on hovering over the sample, and the ink button allows you to recolor the activity plot by the values of that feature. For example, 'pH' is not a required ``sample_table`` column, but it could be useful to color or label each sample by that variable. Other useful but completely optional columns include:\n",
    "\n",
    "* Strain Description\n",
    "* Carbon Source (g/L)\n",
    "* Supplement\n",
    "* Temperature (C)\n",
    "* Time (min)\n",
    "* Growth Phase"
   ]
  },
  {
   "cell_type": "markdown",
   "metadata": {},
   "source": [
    "#### The ``imodulon_table`` Variable"
   ]
  },
  {
   "cell_type": "markdown",
   "metadata": {},
   "source": [
    "### The ``tf_issues`` Output"
   ]
  },
  {
   "cell_type": "markdown",
   "metadata": {},
   "source": [
    "Each row corresponds to a regulator that is used in the imodulon_table. Regulators that satisfy all requirements are omitted.\n",
    "* ``in_trn``: whether the regulator is in the model.trn. Regulators not in the TRN will be ignored in the site's histograms and gene tables. \n",
    "* ``has_link``: whether the regulator has a link in tf_links. If not, no link to external regulator databases will be shown.\n",
    "* ``has_gene``: whether the regulator can be matched to a gene in the model. If this is false, then there will be no regulator scatter plot on the site. You can link TF complexes to one of their genes using the tfcomplex_to_gene input."
   ]
  },
  {
   "cell_type": "markdown",
   "metadata": {},
   "source": [
    "#### The ``in_trn`` Column"
   ]
  },
  {
   "cell_type": "markdown",
   "metadata": {},
   "source": [
    "#### The ``has_link`` Column"
   ]
  },
  {
   "cell_type": "markdown",
   "metadata": {},
   "source": [
    "#### The ``has_gene`` Column"
   ]
  },
  {
   "cell_type": "markdown",
   "metadata": {},
   "source": [
    "### The ``missing_gene_links`` Output"
   ]
  },
  {
   "cell_type": "markdown",
   "metadata": {},
   "source": [
    "### The ``missing_dois`` Output"
   ]
  },
  {
   "cell_type": "markdown",
   "metadata": {},
   "source": [
    "## The ``imodulondb_export`` Function"
   ]
  },
  {
   "cell_type": "markdown",
   "metadata": {},
   "source": [
    "### The ``cat_order`` Input"
   ]
  }
 ],
 "metadata": {
  "kernelspec": {
   "display_name": "Python 3",
   "language": "python",
   "name": "python3"
  },
  "language_info": {
   "codemirror_mode": {
    "name": "ipython",
    "version": 3
   },
   "file_extension": ".py",
   "mimetype": "text/x-python",
   "name": "python",
   "nbconvert_exporter": "python",
   "pygments_lexer": "ipython3",
   "version": "3.8.5"
  },
  "toc": {
   "base_numbering": 1,
   "nav_menu": {},
   "number_sections": true,
   "sideBar": true,
   "skip_h1_title": true,
   "title_cell": "Table of Contents",
   "title_sidebar": "Contents",
   "toc_cell": true,
   "toc_position": {},
   "toc_section_display": true,
   "toc_window_display": false
  }
 },
 "nbformat": 4,
 "nbformat_minor": 4
}
