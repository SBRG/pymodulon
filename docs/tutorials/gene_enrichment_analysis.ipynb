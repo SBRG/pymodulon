{
 "cells": [
  {
   "cell_type": "markdown",
   "metadata": {},
   "source": [
    "# Gene enrichment analysis"
   ]
  },
  {
   "cell_type": "code",
   "execution_count": 23,
   "metadata": {},
   "outputs": [],
   "source": [
    "from pymodulon.enrichment import *\n",
    "from pymodulon.data.example_data import load_ecoli_data, trn\n",
    "ica_data = load_ecoli_data()"
   ]
  },
  {
   "cell_type": "markdown",
   "metadata": {},
   "source": [
    "## General functions"
   ]
  },
  {
   "cell_type": "markdown",
   "metadata": {},
   "source": [
    "To perform a basic enrichment test between two gene sets, use the ``compute_enrichment`` function.\n",
    "Optional arguments:\n",
    "\n",
    "* ``label``: Label for your target gene set (e.g. regulator name or GO term)"
   ]
  },
  {
   "cell_type": "code",
   "execution_count": 21,
   "metadata": {},
   "outputs": [],
   "source": [
    "gene_set = ['b0002','b0003','b0004'] # e.g. an iModulon or other gene set\n",
    "target_genes = ['b0002','b0005','b0007'] # e.g. a regulon or genes in a COG category\n",
    "all_genes = ica_data.gene_names # List of all genes in your expression dataset"
   ]
  },
  {
   "cell_type": "code",
   "execution_count": 22,
   "metadata": {},
   "outputs": [
    {
     "data": {
      "text/plain": [
       "pvalue             0.002293\n",
       "precision          0.333333\n",
       "recall             0.333333\n",
       "f1score            0.333333\n",
       "TP                 1.000000\n",
       "target_set_size    3.000000\n",
       "gene_set_size      3.000000\n",
       "dtype: float64"
      ]
     },
     "execution_count": 22,
     "metadata": {},
     "output_type": "execute_result"
    }
   ],
   "source": [
    "compute_enrichment(gene_set,target_genes,all_genes)"
   ]
  },
  {
   "cell_type": "markdown",
   "metadata": {},
   "source": [
    "To perform an enrichment test against a regulon in a TRN table, use the ``compute_regulon`` function."
   ]
  },
  {
   "cell_type": "code",
   "execution_count": 27,
   "metadata": {},
   "outputs": [
    {
     "data": {
      "text/plain": [
       "pvalue             0.000131\n",
       "precision          0.015000\n",
       "recall             1.000000\n",
       "f1score            0.029557\n",
       "TP                 3.000000\n",
       "regulon_size     200.000000\n",
       "gene_set_size      3.000000\n",
       "n_regs             1.000000\n",
       "Name: lrp, dtype: float64"
      ]
     },
     "execution_count": 27,
     "metadata": {},
     "output_type": "execute_result"
    }
   ],
   "source": [
    "compute_regulon_enrichment(gene_set,'lrp',all_genes,trn) "
   ]
  },
  {
   "cell_type": "markdown",
   "metadata": {},
   "source": [
    "Each row of the TRN table represents a regulatory interaction. The table requires the columns ``regulator`` and ``gene_id``."
   ]
  },
  {
   "cell_type": "code",
   "execution_count": 35,
   "metadata": {},
   "outputs": [
    {
     "data": {
      "text/html": [
       "<div>\n",
       "<style scoped>\n",
       "    .dataframe tbody tr th:only-of-type {\n",
       "        vertical-align: middle;\n",
       "    }\n",
       "\n",
       "    .dataframe tbody tr th {\n",
       "        vertical-align: top;\n",
       "    }\n",
       "\n",
       "    .dataframe thead th {\n",
       "        text-align: right;\n",
       "    }\n",
       "</style>\n",
       "<table border=\"1\" class=\"dataframe\">\n",
       "  <thead>\n",
       "    <tr style=\"text-align: right;\">\n",
       "      <th></th>\n",
       "      <th>regulator</th>\n",
       "      <th>gene_id</th>\n",
       "      <th>effect</th>\n",
       "    </tr>\n",
       "  </thead>\n",
       "  <tbody>\n",
       "    <tr>\n",
       "      <th>0</th>\n",
       "      <td>FMN</td>\n",
       "      <td>b3041</td>\n",
       "      <td>-</td>\n",
       "    </tr>\n",
       "    <tr>\n",
       "      <th>1</th>\n",
       "      <td>L-tryptophan</td>\n",
       "      <td>b3708</td>\n",
       "      <td>+</td>\n",
       "    </tr>\n",
       "    <tr>\n",
       "      <th>2</th>\n",
       "      <td>L-tryptophan</td>\n",
       "      <td>b3709</td>\n",
       "      <td>+</td>\n",
       "    </tr>\n",
       "    <tr>\n",
       "      <th>3</th>\n",
       "      <td>TPP</td>\n",
       "      <td>b0066</td>\n",
       "      <td>-</td>\n",
       "    </tr>\n",
       "    <tr>\n",
       "      <th>4</th>\n",
       "      <td>TPP</td>\n",
       "      <td>b0067</td>\n",
       "      <td>-</td>\n",
       "    </tr>\n",
       "  </tbody>\n",
       "</table>\n",
       "</div>"
      ],
      "text/plain": [
       "      regulator gene_id effect\n",
       "0           FMN   b3041      -\n",
       "1  L-tryptophan   b3708      +\n",
       "2  L-tryptophan   b3709      +\n",
       "3           TPP   b0066      -\n",
       "4           TPP   b0067      -"
      ]
     },
     "execution_count": 35,
     "metadata": {},
     "output_type": "execute_result"
    }
   ],
   "source": [
    "trn.head()"
   ]
  },
  {
   "cell_type": "markdown",
   "metadata": {},
   "source": [
    "To perform an enrichment against all regulons in a TRN table, use the ``compute_trn_enrichment`` function. This function includes false detection correction using the Benjamini-Hochberg procedure to compute [Q-values](https://en.wikipedia.org/wiki/Q-value_(statistics)). By default, the false detection rate is ``1e-5``, and can be updated using the ``fdr`` argument."
   ]
  },
  {
   "cell_type": "code",
   "execution_count": 33,
   "metadata": {},
   "outputs": [
    {
     "data": {
      "text/html": [
       "<div>\n",
       "<style scoped>\n",
       "    .dataframe tbody tr th:only-of-type {\n",
       "        vertical-align: middle;\n",
       "    }\n",
       "\n",
       "    .dataframe tbody tr th {\n",
       "        vertical-align: top;\n",
       "    }\n",
       "\n",
       "    .dataframe thead th {\n",
       "        text-align: right;\n",
       "    }\n",
       "</style>\n",
       "<table border=\"1\" class=\"dataframe\">\n",
       "  <thead>\n",
       "    <tr style=\"text-align: right;\">\n",
       "      <th></th>\n",
       "      <th>pvalue</th>\n",
       "      <th>precision</th>\n",
       "      <th>recall</th>\n",
       "      <th>f1score</th>\n",
       "      <th>TP</th>\n",
       "      <th>regulon_size</th>\n",
       "      <th>gene_set_size</th>\n",
       "      <th>n_regs</th>\n",
       "      <th>qvalue</th>\n",
       "    </tr>\n",
       "  </thead>\n",
       "  <tbody>\n",
       "    <tr>\n",
       "      <th>thr-tRNA</th>\n",
       "      <td>0.000000e+00</td>\n",
       "      <td>1.000000</td>\n",
       "      <td>1.0</td>\n",
       "      <td>1.000000</td>\n",
       "      <td>3.0</td>\n",
       "      <td>3.0</td>\n",
       "      <td>3.0</td>\n",
       "      <td>1.0</td>\n",
       "      <td>0.000000e+00</td>\n",
       "    </tr>\n",
       "    <tr>\n",
       "      <th>ile-tRNA</th>\n",
       "      <td>8.354256e-09</td>\n",
       "      <td>0.333333</td>\n",
       "      <td>1.0</td>\n",
       "      <td>0.500000</td>\n",
       "      <td>3.0</td>\n",
       "      <td>9.0</td>\n",
       "      <td>3.0</td>\n",
       "      <td>1.0</td>\n",
       "      <td>2.923990e-08</td>\n",
       "    </tr>\n",
       "    <tr>\n",
       "      <th>lrp</th>\n",
       "      <td>1.306248e-04</td>\n",
       "      <td>0.015000</td>\n",
       "      <td>1.0</td>\n",
       "      <td>0.029557</td>\n",
       "      <td>3.0</td>\n",
       "      <td>200.0</td>\n",
       "      <td>3.0</td>\n",
       "      <td>1.0</td>\n",
       "      <td>3.047911e-04</td>\n",
       "    </tr>\n",
       "    <tr>\n",
       "      <th>arcA</th>\n",
       "      <td>1.540883e-03</td>\n",
       "      <td>0.006608</td>\n",
       "      <td>1.0</td>\n",
       "      <td>0.013129</td>\n",
       "      <td>3.0</td>\n",
       "      <td>454.0</td>\n",
       "      <td>3.0</td>\n",
       "      <td>1.0</td>\n",
       "      <td>2.157237e-03</td>\n",
       "    </tr>\n",
       "    <tr>\n",
       "      <th>fnr</th>\n",
       "      <td>1.411995e-03</td>\n",
       "      <td>0.006803</td>\n",
       "      <td>1.0</td>\n",
       "      <td>0.013514</td>\n",
       "      <td>3.0</td>\n",
       "      <td>441.0</td>\n",
       "      <td>3.0</td>\n",
       "      <td>1.0</td>\n",
       "      <td>2.157237e-03</td>\n",
       "    </tr>\n",
       "    <tr>\n",
       "      <th>crp</th>\n",
       "      <td>3.335561e-03</td>\n",
       "      <td>0.005111</td>\n",
       "      <td>1.0</td>\n",
       "      <td>0.010169</td>\n",
       "      <td>3.0</td>\n",
       "      <td>587.0</td>\n",
       "      <td>3.0</td>\n",
       "      <td>1.0</td>\n",
       "      <td>3.891487e-03</td>\n",
       "    </tr>\n",
       "  </tbody>\n",
       "</table>\n",
       "</div>"
      ],
      "text/plain": [
       "                pvalue  precision  recall   f1score   TP  regulon_size  \\\n",
       "thr-tRNA  0.000000e+00   1.000000     1.0  1.000000  3.0           3.0   \n",
       "ile-tRNA  8.354256e-09   0.333333     1.0  0.500000  3.0           9.0   \n",
       "lrp       1.306248e-04   0.015000     1.0  0.029557  3.0         200.0   \n",
       "arcA      1.540883e-03   0.006608     1.0  0.013129  3.0         454.0   \n",
       "fnr       1.411995e-03   0.006803     1.0  0.013514  3.0         441.0   \n",
       "crp       3.335561e-03   0.005111     1.0  0.010169  3.0         587.0   \n",
       "\n",
       "          gene_set_size  n_regs        qvalue  \n",
       "thr-tRNA            3.0     1.0  0.000000e+00  \n",
       "ile-tRNA            3.0     1.0  2.923990e-08  \n",
       "lrp                 3.0     1.0  3.047911e-04  \n",
       "arcA                3.0     1.0  2.157237e-03  \n",
       "fnr                 3.0     1.0  2.157237e-03  \n",
       "crp                 3.0     1.0  3.891487e-03  "
      ]
     },
     "execution_count": 33,
     "metadata": {},
     "output_type": "execute_result"
    }
   ],
   "source": [
    "compute_trn_enrichment(gene_set,all_genes,trn)"
   ]
  },
  {
   "cell_type": "markdown",
   "metadata": {},
   "source": [
    "``compute_trn_enrichment`` can perform enrichment against complex regulons in boolean combinations. The ``max_regs`` argument determines the number of regulators to include in the complex regulon, and the ``method`` argument determines how to combine complex regulons. ``method='or'`` computes enrichments against the union of regulons, ``'and'`` computes enrichment against intersection of regulons, and ``'both'`` performs both tests (default)."
   ]
  },
  {
   "cell_type": "code",
   "execution_count": 36,
   "metadata": {},
   "outputs": [
    {
     "data": {
      "text/html": [
       "<div>\n",
       "<style scoped>\n",
       "    .dataframe tbody tr th:only-of-type {\n",
       "        vertical-align: middle;\n",
       "    }\n",
       "\n",
       "    .dataframe tbody tr th {\n",
       "        vertical-align: top;\n",
       "    }\n",
       "\n",
       "    .dataframe thead th {\n",
       "        text-align: right;\n",
       "    }\n",
       "</style>\n",
       "<table border=\"1\" class=\"dataframe\">\n",
       "  <thead>\n",
       "    <tr style=\"text-align: right;\">\n",
       "      <th></th>\n",
       "      <th>pvalue</th>\n",
       "      <th>precision</th>\n",
       "      <th>recall</th>\n",
       "      <th>f1score</th>\n",
       "      <th>TP</th>\n",
       "      <th>regulon_size</th>\n",
       "      <th>gene_set_size</th>\n",
       "      <th>n_regs</th>\n",
       "      <th>qvalue</th>\n",
       "    </tr>\n",
       "  </thead>\n",
       "  <tbody>\n",
       "    <tr>\n",
       "      <th>fnr+ile-tRNA</th>\n",
       "      <td>0.0</td>\n",
       "      <td>1.0</td>\n",
       "      <td>1.0</td>\n",
       "      <td>1.0</td>\n",
       "      <td>3.0</td>\n",
       "      <td>3.0</td>\n",
       "      <td>3.0</td>\n",
       "      <td>2.0</td>\n",
       "      <td>0.0</td>\n",
       "    </tr>\n",
       "    <tr>\n",
       "      <th>thr-tRNA</th>\n",
       "      <td>0.0</td>\n",
       "      <td>1.0</td>\n",
       "      <td>1.0</td>\n",
       "      <td>1.0</td>\n",
       "      <td>3.0</td>\n",
       "      <td>3.0</td>\n",
       "      <td>3.0</td>\n",
       "      <td>1.0</td>\n",
       "      <td>0.0</td>\n",
       "    </tr>\n",
       "    <tr>\n",
       "      <th>arcA+ile-tRNA</th>\n",
       "      <td>0.0</td>\n",
       "      <td>1.0</td>\n",
       "      <td>1.0</td>\n",
       "      <td>1.0</td>\n",
       "      <td>3.0</td>\n",
       "      <td>3.0</td>\n",
       "      <td>3.0</td>\n",
       "      <td>2.0</td>\n",
       "      <td>0.0</td>\n",
       "    </tr>\n",
       "    <tr>\n",
       "      <th>lrp+thr-tRNA</th>\n",
       "      <td>0.0</td>\n",
       "      <td>1.0</td>\n",
       "      <td>1.0</td>\n",
       "      <td>1.0</td>\n",
       "      <td>3.0</td>\n",
       "      <td>3.0</td>\n",
       "      <td>3.0</td>\n",
       "      <td>2.0</td>\n",
       "      <td>0.0</td>\n",
       "    </tr>\n",
       "    <tr>\n",
       "      <th>arcA+thr-tRNA</th>\n",
       "      <td>0.0</td>\n",
       "      <td>1.0</td>\n",
       "      <td>1.0</td>\n",
       "      <td>1.0</td>\n",
       "      <td>3.0</td>\n",
       "      <td>3.0</td>\n",
       "      <td>3.0</td>\n",
       "      <td>2.0</td>\n",
       "      <td>0.0</td>\n",
       "    </tr>\n",
       "  </tbody>\n",
       "</table>\n",
       "</div>"
      ],
      "text/plain": [
       "               pvalue  precision  recall  f1score   TP  regulon_size  \\\n",
       "fnr+ile-tRNA      0.0        1.0     1.0      1.0  3.0           3.0   \n",
       "thr-tRNA          0.0        1.0     1.0      1.0  3.0           3.0   \n",
       "arcA+ile-tRNA     0.0        1.0     1.0      1.0  3.0           3.0   \n",
       "lrp+thr-tRNA      0.0        1.0     1.0      1.0  3.0           3.0   \n",
       "arcA+thr-tRNA     0.0        1.0     1.0      1.0  3.0           3.0   \n",
       "\n",
       "               gene_set_size  n_regs  qvalue  \n",
       "fnr+ile-tRNA             3.0     2.0     0.0  \n",
       "thr-tRNA                 3.0     1.0     0.0  \n",
       "arcA+ile-tRNA            3.0     2.0     0.0  \n",
       "lrp+thr-tRNA             3.0     2.0     0.0  \n",
       "arcA+thr-tRNA            3.0     2.0     0.0  "
      ]
     },
     "execution_count": 36,
     "metadata": {},
     "output_type": "execute_result"
    }
   ],
   "source": [
    "compute_trn_enrichment(gene_set,all_genes,trn,max_regs=2).head()"
   ]
  },
  {
   "cell_type": "markdown",
   "metadata": {},
   "source": [
    "Increasing the number of regulators for complex regulons beyond three can lead to a combinatorial explosion. If you are sure you want to search for larger complex regulons, use ``force=True``"
   ]
  },
  {
   "cell_type": "code",
   "execution_count": 38,
   "metadata": {},
   "outputs": [
    {
     "data": {
      "text/html": [
       "<div>\n",
       "<style scoped>\n",
       "    .dataframe tbody tr th:only-of-type {\n",
       "        vertical-align: middle;\n",
       "    }\n",
       "\n",
       "    .dataframe tbody tr th {\n",
       "        vertical-align: top;\n",
       "    }\n",
       "\n",
       "    .dataframe thead th {\n",
       "        text-align: right;\n",
       "    }\n",
       "</style>\n",
       "<table border=\"1\" class=\"dataframe\">\n",
       "  <thead>\n",
       "    <tr style=\"text-align: right;\">\n",
       "      <th></th>\n",
       "      <th>pvalue</th>\n",
       "      <th>precision</th>\n",
       "      <th>recall</th>\n",
       "      <th>f1score</th>\n",
       "      <th>TP</th>\n",
       "      <th>regulon_size</th>\n",
       "      <th>gene_set_size</th>\n",
       "      <th>n_regs</th>\n",
       "      <th>qvalue</th>\n",
       "    </tr>\n",
       "  </thead>\n",
       "  <tbody>\n",
       "    <tr>\n",
       "      <th>arcA+ile-tRNA+lrp</th>\n",
       "      <td>0.0</td>\n",
       "      <td>1.0</td>\n",
       "      <td>1.0</td>\n",
       "      <td>1.0</td>\n",
       "      <td>3.0</td>\n",
       "      <td>3.0</td>\n",
       "      <td>3.0</td>\n",
       "      <td>3.0</td>\n",
       "      <td>0.0</td>\n",
       "    </tr>\n",
       "    <tr>\n",
       "      <th>arcA+ile-tRNA+thr-tRNA</th>\n",
       "      <td>0.0</td>\n",
       "      <td>1.0</td>\n",
       "      <td>1.0</td>\n",
       "      <td>1.0</td>\n",
       "      <td>3.0</td>\n",
       "      <td>3.0</td>\n",
       "      <td>3.0</td>\n",
       "      <td>3.0</td>\n",
       "      <td>0.0</td>\n",
       "    </tr>\n",
       "    <tr>\n",
       "      <th>arcA+lrp+thr-tRNA</th>\n",
       "      <td>0.0</td>\n",
       "      <td>1.0</td>\n",
       "      <td>1.0</td>\n",
       "      <td>1.0</td>\n",
       "      <td>3.0</td>\n",
       "      <td>3.0</td>\n",
       "      <td>3.0</td>\n",
       "      <td>3.0</td>\n",
       "      <td>0.0</td>\n",
       "    </tr>\n",
       "    <tr>\n",
       "      <th>arcA+rpoD+thr-tRNA</th>\n",
       "      <td>0.0</td>\n",
       "      <td>1.0</td>\n",
       "      <td>1.0</td>\n",
       "      <td>1.0</td>\n",
       "      <td>3.0</td>\n",
       "      <td>3.0</td>\n",
       "      <td>3.0</td>\n",
       "      <td>3.0</td>\n",
       "      <td>0.0</td>\n",
       "    </tr>\n",
       "    <tr>\n",
       "      <th>crp+fnr+ile-tRNA</th>\n",
       "      <td>0.0</td>\n",
       "      <td>1.0</td>\n",
       "      <td>1.0</td>\n",
       "      <td>1.0</td>\n",
       "      <td>3.0</td>\n",
       "      <td>3.0</td>\n",
       "      <td>3.0</td>\n",
       "      <td>3.0</td>\n",
       "      <td>0.0</td>\n",
       "    </tr>\n",
       "  </tbody>\n",
       "</table>\n",
       "</div>"
      ],
      "text/plain": [
       "                        pvalue  precision  recall  f1score   TP  regulon_size  \\\n",
       "arcA+ile-tRNA+lrp          0.0        1.0     1.0      1.0  3.0           3.0   \n",
       "arcA+ile-tRNA+thr-tRNA     0.0        1.0     1.0      1.0  3.0           3.0   \n",
       "arcA+lrp+thr-tRNA          0.0        1.0     1.0      1.0  3.0           3.0   \n",
       "arcA+rpoD+thr-tRNA         0.0        1.0     1.0      1.0  3.0           3.0   \n",
       "crp+fnr+ile-tRNA           0.0        1.0     1.0      1.0  3.0           3.0   \n",
       "\n",
       "                        gene_set_size  n_regs  qvalue  \n",
       "arcA+ile-tRNA+lrp                 3.0     3.0     0.0  \n",
       "arcA+ile-tRNA+thr-tRNA            3.0     3.0     0.0  \n",
       "arcA+lrp+thr-tRNA                 3.0     3.0     0.0  \n",
       "arcA+rpoD+thr-tRNA                3.0     3.0     0.0  \n",
       "crp+fnr+ile-tRNA                  3.0     3.0     0.0  "
      ]
     },
     "execution_count": 38,
     "metadata": {},
     "output_type": "execute_result"
    }
   ],
   "source": [
    "compute_trn_enrichment(gene_set,all_genes,trn,max_regs=3,force=True).head()"
   ]
  },
  {
   "cell_type": "markdown",
   "metadata": {},
   "source": [
    "## Using the ``IcaData`` object"
   ]
  },
  {
   "cell_type": "code",
   "execution_count": null,
   "metadata": {},
   "outputs": [],
   "source": [
    "# Compare a single iModulon to a simple regulon\n",
    "ica_data.compute_regulon_enrichment('GlpR',regulator='glpR')"
   ]
  },
  {
   "cell_type": "code",
   "execution_count": null,
   "metadata": {},
   "outputs": [],
   "source": [
    "# Compare a single iModulon to a complex regulon\n",
    "ica_data.compute_regulon_enrichment('Copper','cusR/cueR')"
   ]
  },
  {
   "cell_type": "code",
   "execution_count": null,
   "metadata": {},
   "outputs": [],
   "source": [
    "# Get all significant enrichments for all iModulons. \n",
    "# Optional parameters are same as the global compute_trn_enrichment function\n",
    "ica_data.compute_trn_enrichment()"
   ]
  },
  {
   "cell_type": "markdown",
   "metadata": {},
   "source": [
    "### Save to sample table\n",
    "You can directly save iModulon enrichments to the sample table using either the `ica_data.compute_regulon_enrichment` function or `ica_data.compute_trn_enrichment` function. Columns unrelated to regulon enrichments (e.g. `Function` and `Category`) are left alone."
   ]
  },
  {
   "cell_type": "code",
   "execution_count": null,
   "metadata": {},
   "outputs": [],
   "source": [
    "ica_data.imodulon_table.loc[['GlpR']]"
   ]
  },
  {
   "cell_type": "code",
   "execution_count": null,
   "metadata": {},
   "outputs": [],
   "source": [
    "ica_data.compute_regulon_enrichment('GlpR',regulator='crp',save=True)\n",
    "ica_data.imodulon_table.loc[['GlpR']]"
   ]
  },
  {
   "cell_type": "code",
   "execution_count": null,
   "metadata": {},
   "outputs": [],
   "source": [
    "# The enrichment with the lowest qvalue is saved as the official enrichment\n",
    "ica_data.compute_trn_enrichment(save=True)\n",
    "ica_data.imodulon_table"
   ]
  }
 ],
 "metadata": {
  "kernelspec": {
   "display_name": "Python 3",
   "language": "python",
   "name": "python3"
  },
  "language_info": {
   "codemirror_mode": {
    "name": "ipython",
    "version": 3
   },
   "file_extension": ".py",
   "mimetype": "text/x-python",
   "name": "python",
   "nbconvert_exporter": "python",
   "pygments_lexer": "ipython3",
   "version": "3.8.2"
  },
  "toc": {
   "base_numbering": 1,
   "nav_menu": {},
   "number_sections": true,
   "sideBar": true,
   "skip_h1_title": false,
   "title_cell": "Table of Contents",
   "title_sidebar": "Contents",
   "toc_cell": true,
   "toc_position": {},
   "toc_section_display": true,
   "toc_window_display": false
  }
 },
 "nbformat": 4,
 "nbformat_minor": 1
}
