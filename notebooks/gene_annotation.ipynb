{
 "cells": [
  {
   "cell_type": "markdown",
   "metadata": {
    "toc": true
   },
   "source": [
    "<h1>Table of Contents<span class=\"tocSkip\"></span></h1>\n",
    "<div class=\"toc\"><ul class=\"toc-item\"><li><span><a href=\"#Get-information-from-GFF-file\" data-toc-modified-id=\"Get-information-from-GFF-file-1\"><span class=\"toc-item-num\">1&nbsp;&nbsp;</span>Get information from GFF file</a></span><ul class=\"toc-item\"><li><span><a href=\"#Convert-GFF-to-Pandas-DataFrame\" data-toc-modified-id=\"Convert-GFF-to-Pandas-DataFrame-1.1\"><span class=\"toc-item-num\">1.1&nbsp;&nbsp;</span>Convert GFF to Pandas DataFrame</a></span></li></ul></li><li><span><a href=\"#KEGG-and-COGs\" data-toc-modified-id=\"KEGG-and-COGs-2\"><span class=\"toc-item-num\">2&nbsp;&nbsp;</span>KEGG and COGs</a></span><ul class=\"toc-item\"><li><span><a href=\"#Generate-nucleotide-fasta-files-for-CDS\" data-toc-modified-id=\"Generate-nucleotide-fasta-files-for-CDS-2.1\"><span class=\"toc-item-num\">2.1&nbsp;&nbsp;</span>Generate nucleotide fasta files for CDS</a></span></li><li><span><a href=\"#Run-EggNOG-Mapper\" data-toc-modified-id=\"Run-EggNOG-Mapper-2.2\"><span class=\"toc-item-num\">2.2&nbsp;&nbsp;</span>Run EggNOG Mapper</a></span></li><li><span><a href=\"#Get-KEGG-attributes\" data-toc-modified-id=\"Get-KEGG-attributes-2.3\"><span class=\"toc-item-num\">2.3&nbsp;&nbsp;</span>Get KEGG attributes</a></span></li><li><span><a href=\"#Save-KEGG-information\" data-toc-modified-id=\"Save-KEGG-information-2.4\"><span class=\"toc-item-num\">2.4&nbsp;&nbsp;</span>Save KEGG information</a></span></li><li><span><a href=\"#Save-COGs-to-annotation-dataframe\" data-toc-modified-id=\"Save-COGs-to-annotation-dataframe-2.5\"><span class=\"toc-item-num\">2.5&nbsp;&nbsp;</span>Save COGs to annotation dataframe</a></span></li></ul></li><li><span><a href=\"#Uniprot-ID-mapping\" data-toc-modified-id=\"Uniprot-ID-mapping-3\"><span class=\"toc-item-num\">3&nbsp;&nbsp;</span>Uniprot ID mapping</a></span></li><li><span><a href=\"#Clean-up-and-save-annotation\" data-toc-modified-id=\"Clean-up-and-save-annotation-4\"><span class=\"toc-item-num\">4&nbsp;&nbsp;</span>Clean up and save annotation</a></span><ul class=\"toc-item\"><li><span><a href=\"#Final-statistics\" data-toc-modified-id=\"Final-statistics-4.1\"><span class=\"toc-item-num\">4.1&nbsp;&nbsp;</span>Final statistics</a></span></li><li><span><a href=\"#Fill-missing-values\" data-toc-modified-id=\"Fill-missing-values-4.2\"><span class=\"toc-item-num\">4.2&nbsp;&nbsp;</span>Fill missing values</a></span></li></ul></li><li><span><a href=\"#GO-Annotations\" data-toc-modified-id=\"GO-Annotations-5\"><span class=\"toc-item-num\">5&nbsp;&nbsp;</span>GO Annotations</a></span></li></ul></div>"
   ]
  },
  {
   "cell_type": "code",
   "execution_count": 1,
   "metadata": {},
   "outputs": [],
   "source": [
    "import sys\n",
    "sys.path.append('..')"
   ]
  },
  {
   "cell_type": "code",
   "execution_count": 2,
   "metadata": {},
   "outputs": [],
   "source": [
    "from pymodulon.gene_util import *\n",
    "import os\n",
    "from Bio import SeqIO"
   ]
  },
  {
   "cell_type": "code",
   "execution_count": 3,
   "metadata": {},
   "outputs": [],
   "source": [
    "org_dir = '../example_data/modulome_example'\n",
    "kegg_organism_code = 'sai'\n",
    "seq_dir = os.path.join(org_dir,'sequence_files')"
   ]
  },
  {
   "cell_type": "markdown",
   "metadata": {},
   "source": [
    "# Get information from GFF file"
   ]
  },
  {
   "cell_type": "markdown",
   "metadata": {},
   "source": [
    "## Convert GFF to Pandas DataFrame"
   ]
  },
  {
   "cell_type": "code",
   "execution_count": 4,
   "metadata": {},
   "outputs": [],
   "source": [
    "annot_list = []\n",
    "for filename in os.listdir(seq_dir):\n",
    "    if filename.endswith('.gff3'):\n",
    "        gff = os.path.join(seq_dir,filename)\n",
    "        annot_list.append(gff2pandas(gff))\n",
    "keep_cols = ['refseq','start','end','strand','gene_name','locus_tag','old_locus_tag','gene_product','ncbi_protein']\n",
    "DF_annot = pd.concat(annot_list)[keep_cols]\n",
    "DF_annot = DF_annot.drop_duplicates('locus_tag')\n",
    "DF_annot.set_index('locus_tag',drop=True,inplace=True)"
   ]
  },
  {
   "cell_type": "code",
   "execution_count": 5,
   "metadata": {},
   "outputs": [],
   "source": [
    "tpm_file = os.path.join(org_dir,'data','log_tpm.csv')\n",
    "DF_log_tpm = pd.read_csv(tpm_file,index_col=0)"
   ]
  },
  {
   "cell_type": "markdown",
   "metadata": {},
   "source": [
    "Check that the genes are the same in the expression dataset as in the annotation dataframe."
   ]
  },
  {
   "cell_type": "code",
   "execution_count": 6,
   "metadata": {},
   "outputs": [
    {
     "data": {
      "text/html": [
       "<div>\n",
       "<style scoped>\n",
       "    .dataframe tbody tr th:only-of-type {\n",
       "        vertical-align: middle;\n",
       "    }\n",
       "\n",
       "    .dataframe tbody tr th {\n",
       "        vertical-align: top;\n",
       "    }\n",
       "\n",
       "    .dataframe thead th {\n",
       "        text-align: right;\n",
       "    }\n",
       "</style>\n",
       "<table border=\"1\" class=\"dataframe\">\n",
       "  <thead>\n",
       "    <tr style=\"text-align: right;\">\n",
       "      <th></th>\n",
       "      <th>refseq</th>\n",
       "      <th>start</th>\n",
       "      <th>end</th>\n",
       "      <th>strand</th>\n",
       "      <th>gene_name</th>\n",
       "      <th>old_locus_tag</th>\n",
       "      <th>gene_product</th>\n",
       "      <th>ncbi_protein</th>\n",
       "    </tr>\n",
       "    <tr>\n",
       "      <th>locus_tag</th>\n",
       "      <th></th>\n",
       "      <th></th>\n",
       "      <th></th>\n",
       "      <th></th>\n",
       "      <th></th>\n",
       "      <th></th>\n",
       "      <th></th>\n",
       "      <th></th>\n",
       "    </tr>\n",
       "  </thead>\n",
       "  <tbody>\n",
       "  </tbody>\n",
       "</table>\n",
       "</div>"
      ],
      "text/plain": [
       "Empty DataFrame\n",
       "Columns: [refseq, start, end, strand, gene_name, old_locus_tag, gene_product, ncbi_protein]\n",
       "Index: []"
      ]
     },
     "execution_count": 6,
     "metadata": {},
     "output_type": "execute_result"
    }
   ],
   "source": [
    "# Mismatched genes are listed below\n",
    "test = DF_annot.sort_index().index == DF_log_tpm.sort_index().index\n",
    "DF_annot[~test]"
   ]
  },
  {
   "cell_type": "markdown",
   "metadata": {},
   "source": [
    "# KEGG and COGs"
   ]
  },
  {
   "cell_type": "markdown",
   "metadata": {},
   "source": [
    "## Generate nucleotide fasta files for CDS"
   ]
  },
  {
   "cell_type": "code",
   "execution_count": 7,
   "metadata": {},
   "outputs": [],
   "source": [
    "cds_list = []\n",
    "for filename in os.listdir(seq_dir):\n",
    "    if filename.endswith('.fasta'):\n",
    "        fasta = os.path.join(seq_dir,filename)\n",
    "        seq = SeqIO.read(fasta,'fasta')\n",
    "        \n",
    "        # Get gene information for genes in this fasta file\n",
    "        df_genes = DF_annot[DF_annot.refseq == seq.id]\n",
    "        for i,row in df_genes.iterrows():\n",
    "            cds = seq[row.start-1:row.end]\n",
    "            if row.strand == '-':\n",
    "                cds = seq[row.start-1:row.end].reverse_complement()\n",
    "            cds.id = row.name\n",
    "            cds.description = row.gene_name if pd.notnull(row.gene_name) else row.name\n",
    "            cds_list.append(cds)"
   ]
  },
  {
   "cell_type": "code",
   "execution_count": 8,
   "metadata": {
    "scrolled": true
   },
   "outputs": [
    {
     "data": {
      "text/plain": [
       "2296"
      ]
     },
     "execution_count": 8,
     "metadata": {},
     "output_type": "execute_result"
    }
   ],
   "source": [
    "SeqIO.write(cds_list,os.path.join(seq_dir,'CDS.fna'),'fasta')"
   ]
  },
  {
   "cell_type": "markdown",
   "metadata": {},
   "source": [
    "## Run EggNOG Mapper\n",
    "1. Go to http://eggnog-mapper.embl.de/.\n",
    "1. Upload the CDS.fna file from your organism directory (within the sequence_files folder)\n",
    "1. Make sure to limit the taxonomy to the correct level\n",
    "1. After the job is submitted, you must follow the link in your email to run the job.\n",
    "1. Once the job completes (after ~4 hrs), download the annotations file.\n",
    "1. Save the annotation file to `<org_dir>/data/eggNOG.annotations`"
   ]
  },
  {
   "cell_type": "markdown",
   "metadata": {},
   "source": [
    "## Get KEGG attributes"
   ]
  },
  {
   "cell_type": "code",
   "execution_count": 9,
   "metadata": {},
   "outputs": [],
   "source": [
    "DF_eggnog = pd.read_csv(os.path.join(org_dir,'data','eggNOG.annotations'),sep='\\t',skiprows=4,header=None)\n",
    "eggnog_cols = ['query_name','seed eggNOG ortholog','seed ortholog evalue','seed ortholog score',\n",
    "               'Predicted taxonomic group','Predicted protein name','Gene Ontology terms',\n",
    "               'EC number','KEGG_orth','KEGG_pathway','KEGG_module','KEGG_reaction',\n",
    "               'KEGG_rclass','BRITE','KEGG_TC','CAZy','BiGG Reaction','tax_scope',\n",
    "               'eggNOG OGs','bestOG_deprecated','COG','eggNOG free text description']\n",
    "\n",
    "DF_eggnog.columns = eggnog_cols\n",
    "\n",
    "# Strip last three rows as they are comments\n",
    "DF_eggnog = DF_eggnog.iloc[:-3]\n",
    "\n",
    "# Set locus tag as index\n",
    "DF_eggnog = DF_eggnog.set_index('query_name')\n",
    "DF_eggnog.index.name = 'locus_tag'"
   ]
  },
  {
   "cell_type": "code",
   "execution_count": 10,
   "metadata": {
    "scrolled": true
   },
   "outputs": [
    {
     "data": {
      "text/html": [
       "<div>\n",
       "<style scoped>\n",
       "    .dataframe tbody tr th:only-of-type {\n",
       "        vertical-align: middle;\n",
       "    }\n",
       "\n",
       "    .dataframe tbody tr th {\n",
       "        vertical-align: top;\n",
       "    }\n",
       "\n",
       "    .dataframe thead th {\n",
       "        text-align: right;\n",
       "    }\n",
       "</style>\n",
       "<table border=\"1\" class=\"dataframe\">\n",
       "  <thead>\n",
       "    <tr style=\"text-align: right;\">\n",
       "      <th></th>\n",
       "      <th>gene_id</th>\n",
       "      <th>database</th>\n",
       "      <th>kegg_id</th>\n",
       "    </tr>\n",
       "  </thead>\n",
       "  <tbody>\n",
       "    <tr>\n",
       "      <th>1045</th>\n",
       "      <td>SACI_RS00040</td>\n",
       "      <td>KEGG_pathway</td>\n",
       "      <td>map00760</td>\n",
       "    </tr>\n",
       "    <tr>\n",
       "      <th>1046</th>\n",
       "      <td>SACI_RS00040</td>\n",
       "      <td>KEGG_pathway</td>\n",
       "      <td>map01100</td>\n",
       "    </tr>\n",
       "    <tr>\n",
       "      <th>1048</th>\n",
       "      <td>SACI_RS00060</td>\n",
       "      <td>KEGG_pathway</td>\n",
       "      <td>map00230</td>\n",
       "    </tr>\n",
       "    <tr>\n",
       "      <th>1050</th>\n",
       "      <td>SACI_RS00070</td>\n",
       "      <td>KEGG_pathway</td>\n",
       "      <td>map03410</td>\n",
       "    </tr>\n",
       "    <tr>\n",
       "      <th>1055</th>\n",
       "      <td>SACI_RS00085</td>\n",
       "      <td>KEGG_pathway</td>\n",
       "      <td>map00361</td>\n",
       "    </tr>\n",
       "  </tbody>\n",
       "</table>\n",
       "</div>"
      ],
      "text/plain": [
       "           gene_id      database   kegg_id\n",
       "1045  SACI_RS00040  KEGG_pathway  map00760\n",
       "1046  SACI_RS00040  KEGG_pathway  map01100\n",
       "1048  SACI_RS00060  KEGG_pathway  map00230\n",
       "1050  SACI_RS00070  KEGG_pathway  map03410\n",
       "1055  SACI_RS00085  KEGG_pathway  map00361"
      ]
     },
     "execution_count": 10,
     "metadata": {},
     "output_type": "execute_result"
    }
   ],
   "source": [
    "DF_kegg = DF_eggnog[['KEGG_orth','KEGG_pathway','KEGG_module','KEGG_reaction']]\n",
    "\n",
    "# Melt dataframe\n",
    "DF_kegg = DF_kegg.reset_index().melt(id_vars='locus_tag') \n",
    "\n",
    "# Remove null values\n",
    "DF_kegg = DF_kegg[DF_kegg.value.notnull()]\n",
    "\n",
    "# Split comma-separated values into their own rows\n",
    "list2struct = []\n",
    "for name,row in DF_kegg.iterrows():\n",
    "    for val in row.value.split(','):\n",
    "        list2struct.append([row.locus_tag,row.variable,val])\n",
    "\n",
    "DF_kegg = pd.DataFrame(list2struct,columns=['gene_id','database','kegg_id'])\n",
    "\n",
    "# Remove ko entries, as only map entries are searchable in KEGG pathway\n",
    "DF_kegg = DF_kegg[~DF_kegg.kegg_id.str.startswith('ko')]\n",
    "\n",
    "DF_kegg.head()"
   ]
  },
  {
   "cell_type": "markdown",
   "metadata": {},
   "source": [
    "## Save KEGG information"
   ]
  },
  {
   "cell_type": "code",
   "execution_count": 11,
   "metadata": {},
   "outputs": [],
   "source": [
    "DF_kegg.to_csv(os.path.join(org_dir,'data','kegg_mapping.csv'))"
   ]
  },
  {
   "cell_type": "markdown",
   "metadata": {},
   "source": [
    "## Save COGs to annotation dataframe"
   ]
  },
  {
   "cell_type": "code",
   "execution_count": 14,
   "metadata": {},
   "outputs": [],
   "source": [
    "DF_annot['COG'] = DF_eggnog.COG\n",
    "\n",
    "# Make sure COG only has one entry per gene\n",
    "DF_annot['COG'] = [item[0] if isinstance(item,str) else item for item in DF_annot['COG']]"
   ]
  },
  {
   "cell_type": "markdown",
   "metadata": {},
   "source": [
    "# Uniprot ID mapping"
   ]
  },
  {
   "cell_type": "code",
   "execution_count": 15,
   "metadata": {},
   "outputs": [],
   "source": [
    "# Try the uniprot ID mapping tool - Use EMBL for Genbank file and P_REFSEQ_AC for Refseq file\n",
    "mapping_uniprot = uniprot_id_mapping(DF_annot.ncbi_protein.fillna(''),input_id='P_REFSEQ_AC',output_id='ACC',\n",
    "                             input_name='ncbi_protein',output_name='uniprot')\n",
    "\n",
    "# Merge with current annotation\n",
    "DF_annot = pd.merge(DF_annot.reset_index(),mapping_uniprot,how='left',on='ncbi_protein')\n",
    "DF_annot.set_index('locus_tag',inplace=True)\n",
    "assert(len(DF_annot) == len(DF_annot))"
   ]
  },
  {
   "cell_type": "code",
   "execution_count": 16,
   "metadata": {},
   "outputs": [
    {
     "data": {
      "text/html": [
       "<div>\n",
       "<style scoped>\n",
       "    .dataframe tbody tr th:only-of-type {\n",
       "        vertical-align: middle;\n",
       "    }\n",
       "\n",
       "    .dataframe tbody tr th {\n",
       "        vertical-align: top;\n",
       "    }\n",
       "\n",
       "    .dataframe thead th {\n",
       "        text-align: right;\n",
       "    }\n",
       "</style>\n",
       "<table border=\"1\" class=\"dataframe\">\n",
       "  <thead>\n",
       "    <tr style=\"text-align: right;\">\n",
       "      <th></th>\n",
       "      <th>refseq</th>\n",
       "      <th>start</th>\n",
       "      <th>end</th>\n",
       "      <th>strand</th>\n",
       "      <th>gene_name</th>\n",
       "      <th>old_locus_tag</th>\n",
       "      <th>gene_product</th>\n",
       "      <th>ncbi_protein</th>\n",
       "      <th>COG</th>\n",
       "      <th>uniprot</th>\n",
       "    </tr>\n",
       "    <tr>\n",
       "      <th>locus_tag</th>\n",
       "      <th></th>\n",
       "      <th></th>\n",
       "      <th></th>\n",
       "      <th></th>\n",
       "      <th></th>\n",
       "      <th></th>\n",
       "      <th></th>\n",
       "      <th></th>\n",
       "      <th></th>\n",
       "      <th></th>\n",
       "    </tr>\n",
       "  </thead>\n",
       "  <tbody>\n",
       "    <tr>\n",
       "      <th>SACI_RS00005</th>\n",
       "      <td>NC_007181.1</td>\n",
       "      <td>101</td>\n",
       "      <td>1261</td>\n",
       "      <td>+</td>\n",
       "      <td>None</td>\n",
       "      <td>Saci_0001</td>\n",
       "      <td>AAA family ATPase</td>\n",
       "      <td>WP_011276932.1</td>\n",
       "      <td>L</td>\n",
       "      <td>A0A0U3H3T6</td>\n",
       "    </tr>\n",
       "    <tr>\n",
       "      <th>SACI_RS00010</th>\n",
       "      <td>NC_007181.1</td>\n",
       "      <td>1294</td>\n",
       "      <td>1629</td>\n",
       "      <td>+</td>\n",
       "      <td>None</td>\n",
       "      <td>Saci_0002</td>\n",
       "      <td>hypothetical protein</td>\n",
       "      <td>WP_011276933.1</td>\n",
       "      <td>NaN</td>\n",
       "      <td>A0A0U3FP71</td>\n",
       "    </tr>\n",
       "    <tr>\n",
       "      <th>SACI_RS00015</th>\n",
       "      <td>NC_007181.1</td>\n",
       "      <td>1665</td>\n",
       "      <td>2504</td>\n",
       "      <td>+</td>\n",
       "      <td>None</td>\n",
       "      <td>Saci_0003</td>\n",
       "      <td>hypothetical protein</td>\n",
       "      <td>WP_011276934.1</td>\n",
       "      <td>S</td>\n",
       "      <td>A0A0U2NAH6</td>\n",
       "    </tr>\n",
       "    <tr>\n",
       "      <th>SACI_RS00020</th>\n",
       "      <td>NC_007181.1</td>\n",
       "      <td>2553</td>\n",
       "      <td>3056</td>\n",
       "      <td>-</td>\n",
       "      <td>None</td>\n",
       "      <td>Saci_0004</td>\n",
       "      <td>hypothetical protein</td>\n",
       "      <td>WP_015385334.1</td>\n",
       "      <td>NaN</td>\n",
       "      <td>A0A0U3HCE5</td>\n",
       "    </tr>\n",
       "    <tr>\n",
       "      <th>SACI_RS00025</th>\n",
       "      <td>NC_007181.1</td>\n",
       "      <td>3049</td>\n",
       "      <td>3768</td>\n",
       "      <td>-</td>\n",
       "      <td>None</td>\n",
       "      <td>Saci_0005</td>\n",
       "      <td>hypothetical protein</td>\n",
       "      <td>WP_011276936.1</td>\n",
       "      <td>NaN</td>\n",
       "      <td>Q4JCP4</td>\n",
       "    </tr>\n",
       "  </tbody>\n",
       "</table>\n",
       "</div>"
      ],
      "text/plain": [
       "                   refseq  start   end strand gene_name old_locus_tag  \\\n",
       "locus_tag                                                               \n",
       "SACI_RS00005  NC_007181.1    101  1261      +      None     Saci_0001   \n",
       "SACI_RS00010  NC_007181.1   1294  1629      +      None     Saci_0002   \n",
       "SACI_RS00015  NC_007181.1   1665  2504      +      None     Saci_0003   \n",
       "SACI_RS00020  NC_007181.1   2553  3056      -      None     Saci_0004   \n",
       "SACI_RS00025  NC_007181.1   3049  3768      -      None     Saci_0005   \n",
       "\n",
       "                      gene_product    ncbi_protein  COG     uniprot  \n",
       "locus_tag                                                            \n",
       "SACI_RS00005     AAA family ATPase  WP_011276932.1    L  A0A0U3H3T6  \n",
       "SACI_RS00010  hypothetical protein  WP_011276933.1  NaN  A0A0U3FP71  \n",
       "SACI_RS00015  hypothetical protein  WP_011276934.1    S  A0A0U2NAH6  \n",
       "SACI_RS00020  hypothetical protein  WP_015385334.1  NaN  A0A0U3HCE5  \n",
       "SACI_RS00025  hypothetical protein  WP_011276936.1  NaN      Q4JCP4  "
      ]
     },
     "execution_count": 16,
     "metadata": {},
     "output_type": "execute_result"
    }
   ],
   "source": [
    "DF_annot.head()"
   ]
  },
  {
   "cell_type": "markdown",
   "metadata": {},
   "source": [
    "# Clean up and save annotation"
   ]
  },
  {
   "cell_type": "code",
   "execution_count": 17,
   "metadata": {},
   "outputs": [],
   "source": [
    "# Temporarily remove warning\n",
    "pd.set_option('mode.chained_assignment', None)"
   ]
  },
  {
   "cell_type": "code",
   "execution_count": 18,
   "metadata": {},
   "outputs": [],
   "source": [
    "# Reorder annotation file\n",
    "if 'old_locus_tag' in DF_annot.columns:\n",
    "    order = ['gene_name','old_locus_tag','start','end','strand','gene_product','COG','uniprot']\n",
    "else:\n",
    "    order = ['gene_name','start','end','strand','gene_product','COG','uniprot']\n",
    "    \n",
    "DF_annot = DF_annot[order]"
   ]
  },
  {
   "cell_type": "code",
   "execution_count": 19,
   "metadata": {},
   "outputs": [
    {
     "data": {
      "text/html": [
       "<div>\n",
       "<style scoped>\n",
       "    .dataframe tbody tr th:only-of-type {\n",
       "        vertical-align: middle;\n",
       "    }\n",
       "\n",
       "    .dataframe tbody tr th {\n",
       "        vertical-align: top;\n",
       "    }\n",
       "\n",
       "    .dataframe thead th {\n",
       "        text-align: right;\n",
       "    }\n",
       "</style>\n",
       "<table border=\"1\" class=\"dataframe\">\n",
       "  <thead>\n",
       "    <tr style=\"text-align: right;\">\n",
       "      <th></th>\n",
       "      <th>gene_name</th>\n",
       "      <th>old_locus_tag</th>\n",
       "      <th>start</th>\n",
       "      <th>end</th>\n",
       "      <th>strand</th>\n",
       "      <th>gene_product</th>\n",
       "      <th>COG</th>\n",
       "      <th>uniprot</th>\n",
       "    </tr>\n",
       "    <tr>\n",
       "      <th>locus_tag</th>\n",
       "      <th></th>\n",
       "      <th></th>\n",
       "      <th></th>\n",
       "      <th></th>\n",
       "      <th></th>\n",
       "      <th></th>\n",
       "      <th></th>\n",
       "      <th></th>\n",
       "    </tr>\n",
       "  </thead>\n",
       "  <tbody>\n",
       "    <tr>\n",
       "      <th>SACI_RS00005</th>\n",
       "      <td>None</td>\n",
       "      <td>Saci_0001</td>\n",
       "      <td>101</td>\n",
       "      <td>1261</td>\n",
       "      <td>+</td>\n",
       "      <td>AAA family ATPase</td>\n",
       "      <td>L</td>\n",
       "      <td>A0A0U3H3T6</td>\n",
       "    </tr>\n",
       "    <tr>\n",
       "      <th>SACI_RS00010</th>\n",
       "      <td>None</td>\n",
       "      <td>Saci_0002</td>\n",
       "      <td>1294</td>\n",
       "      <td>1629</td>\n",
       "      <td>+</td>\n",
       "      <td>hypothetical protein</td>\n",
       "      <td>NaN</td>\n",
       "      <td>A0A0U3FP71</td>\n",
       "    </tr>\n",
       "    <tr>\n",
       "      <th>SACI_RS00015</th>\n",
       "      <td>None</td>\n",
       "      <td>Saci_0003</td>\n",
       "      <td>1665</td>\n",
       "      <td>2504</td>\n",
       "      <td>+</td>\n",
       "      <td>hypothetical protein</td>\n",
       "      <td>S</td>\n",
       "      <td>A0A0U2NAH6</td>\n",
       "    </tr>\n",
       "    <tr>\n",
       "      <th>SACI_RS00020</th>\n",
       "      <td>None</td>\n",
       "      <td>Saci_0004</td>\n",
       "      <td>2553</td>\n",
       "      <td>3056</td>\n",
       "      <td>-</td>\n",
       "      <td>hypothetical protein</td>\n",
       "      <td>NaN</td>\n",
       "      <td>A0A0U3HCE5</td>\n",
       "    </tr>\n",
       "    <tr>\n",
       "      <th>SACI_RS00025</th>\n",
       "      <td>None</td>\n",
       "      <td>Saci_0005</td>\n",
       "      <td>3049</td>\n",
       "      <td>3768</td>\n",
       "      <td>-</td>\n",
       "      <td>hypothetical protein</td>\n",
       "      <td>NaN</td>\n",
       "      <td>Q4JCP4</td>\n",
       "    </tr>\n",
       "  </tbody>\n",
       "</table>\n",
       "</div>"
      ],
      "text/plain": [
       "             gene_name old_locus_tag  start   end strand  \\\n",
       "locus_tag                                                  \n",
       "SACI_RS00005      None     Saci_0001    101  1261      +   \n",
       "SACI_RS00010      None     Saci_0002   1294  1629      +   \n",
       "SACI_RS00015      None     Saci_0003   1665  2504      +   \n",
       "SACI_RS00020      None     Saci_0004   2553  3056      -   \n",
       "SACI_RS00025      None     Saci_0005   3049  3768      -   \n",
       "\n",
       "                      gene_product  COG     uniprot  \n",
       "locus_tag                                            \n",
       "SACI_RS00005     AAA family ATPase    L  A0A0U3H3T6  \n",
       "SACI_RS00010  hypothetical protein  NaN  A0A0U3FP71  \n",
       "SACI_RS00015  hypothetical protein    S  A0A0U2NAH6  \n",
       "SACI_RS00020  hypothetical protein  NaN  A0A0U3HCE5  \n",
       "SACI_RS00025  hypothetical protein  NaN      Q4JCP4  "
      ]
     },
     "execution_count": 19,
     "metadata": {},
     "output_type": "execute_result"
    }
   ],
   "source": [
    "DF_annot.head()"
   ]
  },
  {
   "cell_type": "markdown",
   "metadata": {},
   "source": [
    "## Final statistics"
   ]
  },
  {
   "cell_type": "code",
   "execution_count": 20,
   "metadata": {},
   "outputs": [],
   "source": [
    "import seaborn as sns\n",
    "import matplotlib.pyplot as plt"
   ]
  },
  {
   "cell_type": "code",
   "execution_count": 21,
   "metadata": {},
   "outputs": [],
   "source": [
    "sns.set_style('ticks')"
   ]
  },
  {
   "cell_type": "code",
   "execution_count": 22,
   "metadata": {},
   "outputs": [
    {
     "data": {
      "image/png": "[encoded data removed]",
      "text/plain": [
       "<Figure size 432x288 with 1 Axes>"
      ]
     },
     "metadata": {},
     "output_type": "display_data"
    }
   ],
   "source": [
    "fig,ax = plt.subplots()\n",
    "DF_annot.count().plot(kind='bar',ax=ax)\n",
    "ax.set_ylabel('# of Values',fontsize=18)\n",
    "ax.tick_params(labelsize=16)"
   ]
  },
  {
   "cell_type": "markdown",
   "metadata": {},
   "source": [
    "## Fill missing values"
   ]
  },
  {
   "cell_type": "code",
   "execution_count": 23,
   "metadata": {},
   "outputs": [],
   "source": [
    "# Fill in missing gene names with locus tag names\n",
    "DF_annot['tmp_name'] = DF_annot.copy().index.tolist()\n",
    "DF_annot.gene_name.fillna(DF_annot.tmp_name,inplace=True)\n",
    "DF_annot.drop('tmp_name',axis=1,inplace=True)\n",
    "\n",
    "# Fill missing COGs with X\n",
    "DF_annot['COG'].fillna('X',inplace=True)\n",
    "\n",
    "# Change single letter COG annotation to full description\n",
    "DF_annot['COG'] = DF_annot.COG.apply(cog2str)"
   ]
  },
  {
   "cell_type": "code",
   "execution_count": 26,
   "metadata": {},
   "outputs": [
    {
     "data": {
      "image/png": "[encoded data removed]",
      "text/plain": [
       "<Figure size 432x288 with 1 Axes>"
      ]
     },
     "metadata": {},
     "output_type": "display_data"
    }
   ],
   "source": [
    "counts = DF_annot.COG.value_counts()\n",
    "plt.pie(counts.values,labels=counts.index);"
   ]
  },
  {
   "cell_type": "code",
   "execution_count": 27,
   "metadata": {},
   "outputs": [],
   "source": [
    "DF_annot.to_csv(os.path.join(org_dir,'data','gene_info.csv'))"
   ]
  },
  {
   "cell_type": "markdown",
   "metadata": {},
   "source": [
    "# GO Annotations"
   ]
  },
  {
   "cell_type": "markdown",
   "metadata": {},
   "source": [
    "To start, download the GO Annotations for your organism from AmiGO 2\n",
    "1. Go to http://amigo.geneontology.org/amigo/search/annotation\n",
    "1. Filter for your organism\n",
    "1. Click `CustomDL`\n",
    "1. Drag `GO class (direct)` to the end of your Selected Fields\n",
    "1. Save as `GO_annotations.txt` in the `data` folder of your organism directory"
   ]
  },
  {
   "cell_type": "code",
   "execution_count": 28,
   "metadata": {},
   "outputs": [
    {
     "data": {
      "text/html": [
       "<div>\n",
       "<style scoped>\n",
       "    .dataframe tbody tr th:only-of-type {\n",
       "        vertical-align: middle;\n",
       "    }\n",
       "\n",
       "    .dataframe tbody tr th {\n",
       "        vertical-align: top;\n",
       "    }\n",
       "\n",
       "    .dataframe thead th {\n",
       "        text-align: right;\n",
       "    }\n",
       "</style>\n",
       "<table border=\"1\" class=\"dataframe\">\n",
       "  <thead>\n",
       "    <tr style=\"text-align: right;\">\n",
       "      <th></th>\n",
       "      <th>gene_id</th>\n",
       "      <th>gene_ontology</th>\n",
       "    </tr>\n",
       "  </thead>\n",
       "  <tbody>\n",
       "    <tr>\n",
       "      <th>0</th>\n",
       "      <td>Saci_1117</td>\n",
       "      <td>glycerol kinase activity</td>\n",
       "    </tr>\n",
       "    <tr>\n",
       "      <th>1</th>\n",
       "      <td>Saci_1117</td>\n",
       "      <td>glycerol metabolic process</td>\n",
       "    </tr>\n",
       "    <tr>\n",
       "      <th>2</th>\n",
       "      <td>Saci_1160</td>\n",
       "      <td>maltose alpha-glucosidase activity</td>\n",
       "    </tr>\n",
       "    <tr>\n",
       "      <th>3</th>\n",
       "      <td>Saci_1173</td>\n",
       "      <td>protein binding</td>\n",
       "    </tr>\n",
       "    <tr>\n",
       "      <th>4</th>\n",
       "      <td>Saci_1175</td>\n",
       "      <td>identical protein binding</td>\n",
       "    </tr>\n",
       "  </tbody>\n",
       "</table>\n",
       "</div>"
      ],
      "text/plain": [
       "     gene_id                       gene_ontology\n",
       "0  Saci_1117            glycerol kinase activity\n",
       "1  Saci_1117          glycerol metabolic process\n",
       "2  Saci_1160  maltose alpha-glucosidase activity\n",
       "3  Saci_1173                     protein binding\n",
       "4  Saci_1175           identical protein binding"
      ]
     },
     "execution_count": 28,
     "metadata": {},
     "output_type": "execute_result"
    }
   ],
   "source": [
    "DF_GO = pd.read_csv(os.path.join(org_dir,'data','GO_annotations.txt'),sep='\\t',header=None,usecols=[2,10,17])\n",
    "DF_GO.columns = ['gene_name','gene_id','gene_ontology']\n",
    "DF_GO.gene_id.fillna(DF_GO.gene_name,inplace=True)\n",
    "DF_GO = DF_GO[['gene_id','gene_ontology']]\n",
    "DF_GO.head()"
   ]
  },
  {
   "cell_type": "markdown",
   "metadata": {},
   "source": [
    "Take a look at the `gene_id` column:\n",
    "1. Make sure there are no null entries\n",
    "2. Check if it uses the new or old locus tag (if applicable)\n",
    "\n",
    "If it looks like it uses the old locus tag, set old_locus_tag to `True`"
   ]
  },
  {
   "cell_type": "code",
   "execution_count": 25,
   "metadata": {},
   "outputs": [],
   "source": [
    "old_locus_tag = False"
   ]
  },
  {
   "cell_type": "code",
   "execution_count": 26,
   "metadata": {},
   "outputs": [
    {
     "data": {
      "text/html": [
       "<div>\n",
       "<style scoped>\n",
       "    .dataframe tbody tr th:only-of-type {\n",
       "        vertical-align: middle;\n",
       "    }\n",
       "\n",
       "    .dataframe tbody tr th {\n",
       "        vertical-align: top;\n",
       "    }\n",
       "\n",
       "    .dataframe thead th {\n",
       "        text-align: right;\n",
       "    }\n",
       "</style>\n",
       "<table border=\"1\" class=\"dataframe\">\n",
       "  <thead>\n",
       "    <tr style=\"text-align: right;\">\n",
       "      <th></th>\n",
       "      <th>gene_id</th>\n",
       "      <th>gene_ontology</th>\n",
       "    </tr>\n",
       "  </thead>\n",
       "  <tbody>\n",
       "  </tbody>\n",
       "</table>\n",
       "</div>"
      ],
      "text/plain": [
       "Empty DataFrame\n",
       "Columns: [gene_id, gene_ontology]\n",
       "Index: []"
      ]
     },
     "execution_count": 29,
     "metadata": {},
     "output_type": "execute_result"
    }
   ],
   "source": [
    "DF_GO[DF_GO.gene_id.isnull()]"
   ]
  },
  {
   "cell_type": "code",
   "execution_count": 30,
   "metadata": {},
   "outputs": [],
   "source": [
    "if not old_locus_tag:\n",
    "    convert_tags = {value:key for key,value in DF_annot.old_locus_tag.items()}\n",
    "    DF_GO.gene_id = DF_GO.gene_id.apply(lambda x: convert_tags[x])"
   ]
  },
  {
   "cell_type": "code",
   "execution_count": 45,
   "metadata": {},
   "outputs": [
    {
     "data": {
      "text/html": [
       "<div>\n",
       "<style scoped>\n",
       "    .dataframe tbody tr th:only-of-type {\n",
       "        vertical-align: middle;\n",
       "    }\n",
       "\n",
       "    .dataframe tbody tr th {\n",
       "        vertical-align: top;\n",
       "    }\n",
       "\n",
       "    .dataframe thead th {\n",
       "        text-align: right;\n",
       "    }\n",
       "</style>\n",
       "<table border=\"1\" class=\"dataframe\">\n",
       "  <thead>\n",
       "    <tr style=\"text-align: right;\">\n",
       "      <th></th>\n",
       "      <th>gene_id</th>\n",
       "      <th>gene_ontology</th>\n",
       "    </tr>\n",
       "  </thead>\n",
       "  <tbody>\n",
       "    <tr>\n",
       "      <th>0</th>\n",
       "      <td>SACI_RS05325</td>\n",
       "      <td>glycerol kinase activity</td>\n",
       "    </tr>\n",
       "    <tr>\n",
       "      <th>1</th>\n",
       "      <td>SACI_RS05325</td>\n",
       "      <td>glycerol metabolic process</td>\n",
       "    </tr>\n",
       "    <tr>\n",
       "      <th>2</th>\n",
       "      <td>SACI_RS05525</td>\n",
       "      <td>maltose alpha-glucosidase activity</td>\n",
       "    </tr>\n",
       "    <tr>\n",
       "      <th>3</th>\n",
       "      <td>SACI_RS05590</td>\n",
       "      <td>protein binding</td>\n",
       "    </tr>\n",
       "    <tr>\n",
       "      <th>4</th>\n",
       "      <td>SACI_RS05600</td>\n",
       "      <td>identical protein binding</td>\n",
       "    </tr>\n",
       "  </tbody>\n",
       "</table>\n",
       "</div>"
      ],
      "text/plain": [
       "        gene_id                       gene_ontology\n",
       "0  SACI_RS05325            glycerol kinase activity\n",
       "1  SACI_RS05325          glycerol metabolic process\n",
       "2  SACI_RS05525  maltose alpha-glucosidase activity\n",
       "3  SACI_RS05590                     protein binding\n",
       "4  SACI_RS05600           identical protein binding"
      ]
     },
     "execution_count": 45,
     "metadata": {},
     "output_type": "execute_result"
    }
   ],
   "source": [
    "DF_GO.head()"
   ]
  },
  {
   "cell_type": "code",
   "execution_count": 46,
   "metadata": {},
   "outputs": [],
   "source": [
    "DF_GO[['gene_id','gene_ontology']].to_csv(os.path.join(org_dir,'data','GO_annotations.csv'))"
   ]
  },
  {
   "cell_type": "code",
   "execution_count": null,
   "metadata": {},
   "outputs": [],
   "source": []
  },
  {
   "cell_type": "markdown",
   "metadata": {},
   "source": [
    "# Dalldorf - Add operon information"
   ]
  },
  {
   "cell_type": "markdown",
   "metadata": {},
   "source": [
    "To obtain operon information, follow the steps below\n",
    "1. Go to Biocyc.org (you may need to create an account and/or login)\n",
    "2. Change the organism database to your organism/strain\n",
    "3. Select SmartTables -> Special SmartTables\n",
    "4. Select \"All genes of <organism>\"\n",
    "5. Select the \"Gene Name\" column\n",
    "6. Under \"ADD TRANSFORM COLUMN\" select \"Genes in same transcription unit\"\n",
    "7. Select the \"Genes in same transcription unit\" column\n",
    "8. Under \"ADD PROPERTY COLUMN\" select \"Accession-1\"\n",
    "9. Under OPERATIONS, select \"Export\" -> \"to Spreadsheet File...\"\n",
    "10. Select \"common names\" and click \"Export smarttable\"\n",
    "11. Move file to \"<org_dir>/data/\" and name it as \"biocyc_operon_annotations.txt\"\n",
    "12. Run the code cell below this"
   ]
  },
  {
   "cell_type": "code",
   "execution_count": 109,
   "metadata": {},
   "outputs": [
    {
     "data": {
      "text/html": [
       "<div>\n",
       "<style scoped>\n",
       "    .dataframe tbody tr th:only-of-type {\n",
       "        vertical-align: middle;\n",
       "    }\n",
       "\n",
       "    .dataframe tbody tr th {\n",
       "        vertical-align: top;\n",
       "    }\n",
       "\n",
       "    .dataframe thead th {\n",
       "        text-align: right;\n",
       "    }\n",
       "</style>\n",
       "<table border=\"1\" class=\"dataframe\">\n",
       "  <thead>\n",
       "    <tr style=\"text-align: right;\">\n",
       "      <th></th>\n",
       "      <th>gene_name</th>\n",
       "      <th>old_locus_tag</th>\n",
       "      <th>start</th>\n",
       "      <th>end</th>\n",
       "      <th>strand</th>\n",
       "      <th>gene_product</th>\n",
       "      <th>COG</th>\n",
       "      <th>uniprot</th>\n",
       "      <th>Operon</th>\n",
       "    </tr>\n",
       "    <tr>\n",
       "      <th>locus_tag</th>\n",
       "      <th></th>\n",
       "      <th></th>\n",
       "      <th></th>\n",
       "      <th></th>\n",
       "      <th></th>\n",
       "      <th></th>\n",
       "      <th></th>\n",
       "      <th></th>\n",
       "      <th></th>\n",
       "    </tr>\n",
       "  </thead>\n",
       "  <tbody>\n",
       "    <tr>\n",
       "      <th>SACI_RS00005</th>\n",
       "      <td>SACI_RS00005</td>\n",
       "      <td>Saci_0001</td>\n",
       "      <td>101</td>\n",
       "      <td>1261</td>\n",
       "      <td>+</td>\n",
       "      <td>AAA family ATPase</td>\n",
       "      <td>Replication, recombination and repair</td>\n",
       "      <td>A0A0U3H3T6</td>\n",
       "      <td>O1</td>\n",
       "    </tr>\n",
       "    <tr>\n",
       "      <th>SACI_RS00010</th>\n",
       "      <td>SACI_RS00010</td>\n",
       "      <td>Saci_0002</td>\n",
       "      <td>1294</td>\n",
       "      <td>1629</td>\n",
       "      <td>+</td>\n",
       "      <td>hypothetical protein</td>\n",
       "      <td>No COG annotation</td>\n",
       "      <td>A0A0U3FP71</td>\n",
       "      <td>O1</td>\n",
       "    </tr>\n",
       "    <tr>\n",
       "      <th>SACI_RS00015</th>\n",
       "      <td>SACI_RS00015</td>\n",
       "      <td>Saci_0003</td>\n",
       "      <td>1665</td>\n",
       "      <td>2504</td>\n",
       "      <td>+</td>\n",
       "      <td>hypothetical protein</td>\n",
       "      <td>Function unknown</td>\n",
       "      <td>A0A0U2NAH6</td>\n",
       "      <td>O1</td>\n",
       "    </tr>\n",
       "    <tr>\n",
       "      <th>SACI_RS00020</th>\n",
       "      <td>SACI_RS00020</td>\n",
       "      <td>Saci_0004</td>\n",
       "      <td>2553</td>\n",
       "      <td>3056</td>\n",
       "      <td>-</td>\n",
       "      <td>hypothetical protein</td>\n",
       "      <td>No COG annotation</td>\n",
       "      <td>A0A0U3HCE5</td>\n",
       "      <td>O2</td>\n",
       "    </tr>\n",
       "    <tr>\n",
       "      <th>SACI_RS00025</th>\n",
       "      <td>SACI_RS00025</td>\n",
       "      <td>Saci_0005</td>\n",
       "      <td>3049</td>\n",
       "      <td>3768</td>\n",
       "      <td>-</td>\n",
       "      <td>hypothetical protein</td>\n",
       "      <td>No COG annotation</td>\n",
       "      <td>Q4JCP4</td>\n",
       "      <td>O2</td>\n",
       "    </tr>\n",
       "  </tbody>\n",
       "</table>\n",
       "</div>"
      ],
      "text/plain": [
       "                 gene_name old_locus_tag  start   end strand  \\\n",
       "locus_tag                                                      \n",
       "SACI_RS00005  SACI_RS00005     Saci_0001    101  1261      +   \n",
       "SACI_RS00010  SACI_RS00010     Saci_0002   1294  1629      +   \n",
       "SACI_RS00015  SACI_RS00015     Saci_0003   1665  2504      +   \n",
       "SACI_RS00020  SACI_RS00020     Saci_0004   2553  3056      -   \n",
       "SACI_RS00025  SACI_RS00025     Saci_0005   3049  3768      -   \n",
       "\n",
       "                      gene_product                                    COG  \\\n",
       "locus_tag                                                                   \n",
       "SACI_RS00005     AAA family ATPase  Replication, recombination and repair   \n",
       "SACI_RS00010  hypothetical protein                      No COG annotation   \n",
       "SACI_RS00015  hypothetical protein                       Function unknown   \n",
       "SACI_RS00020  hypothetical protein                      No COG annotation   \n",
       "SACI_RS00025  hypothetical protein                      No COG annotation   \n",
       "\n",
       "                 uniprot Operon  \n",
       "locus_tag                        \n",
       "SACI_RS00005  A0A0U3H3T6     O1  \n",
       "SACI_RS00010  A0A0U3FP71     O1  \n",
       "SACI_RS00015  A0A0U2NAH6     O1  \n",
       "SACI_RS00020  A0A0U3HCE5     O2  \n",
       "SACI_RS00025      Q4JCP4     O2  "
      ]
     },
     "execution_count": 109,
     "metadata": {},
     "output_type": "execute_result"
    }
   ],
   "source": [
    "with open(os.path.join(org_dir,'data','biocyc_operon_annotations.txt'), 'r') as f:\n",
    "    lines = f.readlines()\n",
    "    column_names = lines[0].split('\\t')\n",
    "DF_temp = pd.read_csv(os.path.join(org_dir,'data','biocyc_operon_annotations.txt'),sep='\\t',skiprows=1,names=column_names)\n",
    "DF_temp = DF_temp.set_index('Gene Name')\n",
    "operon_column = []\n",
    "operon_to_operon_num = {}\n",
    "next_ct = 1\n",
    "for index in DF_annot.index:\n",
    "    if index in DF_temp.index:\n",
    "        operon = DF_temp.loc[index]['Accession-1']\n",
    "        if operon not in operon_to_operon_num:\n",
    "            for other_gene_in_operon in DF_temp.loc[index]['Accession-1\\n'].split(' // '):\n",
    "                operon_to_operon_num.update({other_gene_in_operon : 'O'+str(next_ct)})\n",
    "            next_ct += 1\n",
    "        operon_column.append(operon_to_operon_num[operon])\n",
    "    else:\n",
    "        operon_column.append('')\n",
    "DF_annot['Operon'] = operon_column\n",
    "DF_annot.to_csv(os.path.join(org_dir,'data','gene_info.csv'))\n",
    "DF_annot.head()"
   ]
  },
  {
   "cell_type": "code",
   "execution_count": null,
   "metadata": {},
   "outputs": [],
   "source": []
  }
 ],
 "metadata": {
  "kernelspec": {
   "display_name": "Python 3",
   "language": "python",
   "name": "python3"
  },
  "language_info": {
   "codemirror_mode": {
    "name": "ipython",
    "version": 3
   },
   "file_extension": ".py",
   "mimetype": "text/x-python",
   "name": "python",
   "nbconvert_exporter": "python",
   "pygments_lexer": "ipython3",
   "version": "3.8.2"
  },
  "toc": {
   "base_numbering": 1,
   "nav_menu": {},
   "number_sections": true,
   "sideBar": true,
   "skip_h1_title": false,
   "title_cell": "Table of Contents",
   "title_sidebar": "Contents",
   "toc_cell": true,
   "toc_position": {},
   "toc_section_display": true,
   "toc_window_display": false
  }
 },
 "nbformat": 4,
 "nbformat_minor": 2
}
