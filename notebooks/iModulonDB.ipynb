{
 "cells": [
  {
   "cell_type": "markdown",
   "metadata": {},
   "source": [
    "# iModulonDB Tutorial\n",
    "\n",
    "This notebook will help you add information and generate \n",
    "\n",
    "Follow the advice [here](https://github.com/SBRG/modulytics/wiki/Adding-a-Private-Project) to get started, and learn to use pymodulon with the initial Tutorial if needed.\n",
    "\n",
    "Please contact krychel@eng.ucsd.edu with any questions!"
   ]
  },
  {
   "cell_type": "code",
   "execution_count": 1,
   "metadata": {},
   "outputs": [],
   "source": [
    "from pymodulon.core import IcaData\n",
    "from pymodulon.io import *\n",
    "from pymodulon.imodulondb import *\n",
    "import pandas as pd"
   ]
  },
  {
   "cell_type": "markdown",
   "metadata": {},
   "source": [
    "## Step 1: Load Your Data\n",
    "\n",
    "More details on this can be found in the main tutorial.\n",
    "\n",
    "All that is absolutely required is the following:\n",
    "\n",
    "- M matrix (part of initial ICA output)\n",
    "- A matrix (part of initial ICA output)\n",
    "- X matrix (log_tpm.csv) -- initial data, preferably not normalized to the base condition.\n",
    "- Sample_table containing:\n",
    "    - Either a column labeled 'sample' or an index (leftmost column) that serves the purpose of sample labels. These should be unique to each sample (no duplicates in the entire table), and it must match the columns of A and X.\n",
    "    - A column labeled 'project' -- this is the largest grouping of samples; they may be downloaded from the same original paper or contain a set of samples/experiments with a common theme. The contents of this column will appear on the X axis when zoomed all the way out in the activity bar graphs on iModulonDB.\n",
    "    - A column labeled 'condition' -- this groups samples such that all biological replicates have the same condition name. Samples in the same project with matching conditions will be grouped into a single bar in the activity bar graphs. If you'd like to re-use condition names across different projects (for example, giving each project a 'control' condition), that is okay.\n",
    "    \n",
    "Additional information will only improve your version of the site!"
   ]
  },
  {
   "cell_type": "code",
   "execution_count": 3,
   "metadata": {},
   "outputs": [],
   "source": [
    "ica_data = load_json_model('../example_data/example.json')"
   ]
  },
  {
   "cell_type": "markdown",
   "metadata": {},
   "source": [
    "## Step 2: Fill out some metadata\n",
    "\n",
    "When you load an ica_data model, it fills out default metadata for you. Therefore you can technically skip this step.\n",
    "\n",
    "### 2.a: Splash Table (Dictionary)\n",
    "\n",
    "This table provides the basic elements shown on [the splash page](http://imodulondb.org) and the names of the directories in which all data will be stored.\n",
    "\n",
    "First, look at the default one:"
   ]
  },
  {
   "cell_type": "code",
   "execution_count": 5,
   "metadata": {},
   "outputs": [
    {
     "data": {
      "text/plain": [
       "{'large_title': 'New Dataset',\n",
       " 'subtitle': 'Unpublished study',\n",
       " 'author': 'Pymodulon User',\n",
       " 'organism_folder': 'new_org',\n",
       " 'dataset_folder': 'new_dataset'}"
      ]
     },
     "execution_count": 5,
     "metadata": {},
     "output_type": "execute_result"
    }
   ],
   "source": [
    "ica_data.splash_table"
   ]
  },
  {
   "cell_type": "markdown",
   "metadata": {},
   "source": [
    "The first three entries are shown on the splash page directly. The last two are important folder names. Typical organism folder names are in the form 'g_species'. Choose a name for your dataset that will be unique; it is likely the only one for your organism, so you could choose 'modulome' if that is the project you are working on.\n",
    "\n",
    "Let's update this table with your information."
   ]
  },
  {
   "cell_type": "code",
   "execution_count": 8,
   "metadata": {},
   "outputs": [
    {
     "data": {
      "text/plain": [
       "{'large_title': 'M. favoritespeciesus',\n",
       " 'subtitle': 'Modulome Dataset',\n",
       " 'author': 'Rychel, et al.',\n",
       " 'organism_folder': 'm_favoritespeciesus',\n",
       " 'dataset_folder': 'modulome'}"
      ]
     },
     "execution_count": 8,
     "metadata": {},
     "output_type": "execute_result"
    }
   ],
   "source": [
    "# FILL IN THESE DETAILS\n",
    "\n",
    "# <i> tags italicize the species name\n",
    "# So far on the site, large titles are all simply species names.\n",
    "ica_data.splash_table['large_title'] = '<i>M. favoritespeciesus</i>'\n",
    "\n",
    "# subtitle provides additional information about the dataset's origins\n",
    "ica_data.splash_table['subtitle'] = 'Modulome Dataset'\n",
    "ica_data.splash_table['author'] = 'Rychel, et al.'\n",
    "\n",
    "# these will correspond to actual folders, which will be generated for you.\n",
    "ica_data.splash_table['organism_folder'] = 'm_favoritespeciesus'\n",
    "ica_data.splash_table['dataset_folder'] = 'modulome'\n",
    "\n",
    "# make sure the output is desired\n",
    "ica_data.splash_table"
   ]
  },
  {
   "cell_type": "markdown",
   "metadata": {},
   "source": [
    "### 2.b: Dataset Table (Dictionary)\n",
    "\n",
    "This table provides the basic elements shown in the [dataset page](https://imodulondb.org/dataset.html?organism=e_coli&dataset=precise1). The numerical elements are computed for you in the default.\n",
    "\n",
    "If desired, you can add your own entries to this with whatever names you'd like. They can even include links if you obey the [rules for making HTML links](https://www.w3schools.com/html/html_links.asp). For example, the published datasets include a 'Publication' entry."
   ]
  },
  {
   "cell_type": "code",
   "execution_count": 9,
   "metadata": {},
   "outputs": [
    {
     "data": {
      "text/plain": [
       "Title                             New Dataset\n",
       "Organism                         New Organism\n",
       "Strain                         Unknown Strain\n",
       "Number of Samples                         278\n",
       "Number of Unique Conditions               163\n",
       "Number of Genes                          3923\n",
       "Number of iModulons                        92\n",
       "dtype: object"
      ]
     },
     "execution_count": 9,
     "metadata": {},
     "output_type": "execute_result"
    }
   ],
   "source": [
    "ica_data.dataset_table"
   ]
  },
  {
   "cell_type": "code",
   "execution_count": 11,
   "metadata": {},
   "outputs": [
    {
     "data": {
      "text/plain": [
       "Title                            M. favoritespeciesus Modulome\n",
       "Organism                           <i>M. favoritespeciesus</i>\n",
       "Strain                                                IMDB1000\n",
       "Number of Samples                                          278\n",
       "Number of Unique Conditions                                163\n",
       "Number of Genes                                           3923\n",
       "Number of iModulons                                         92\n",
       "Useful Additional Link         <a href=\"google.com\">Google</a>\n",
       "dtype: object"
      ]
     },
     "execution_count": 11,
     "metadata": {},
     "output_type": "execute_result"
    }
   ],
   "source": [
    "# FILL IN THESE DETAILS, TOO\n",
    "\n",
    "# This title can combine some information from the splash table\n",
    "ica_data.dataset_table['Title'] = 'M. favoritespeciesus Modulome'\n",
    "ica_data.dataset_table['Organism'] = '<i>M. favoritespeciesus</i>'\n",
    "ica_data.dataset_table['Strain'] = 'IMDB1000'\n",
    "\n",
    "# additional rows if desired\n",
    "ica_data.dataset_table['Useful Additional Link'] = '<a href=\"google.com\">Google</a>'\n",
    "\n",
    "# check output\n",
    "ica_data.dataset_table"
   ]
  },
  {
   "cell_type": "markdown",
   "metadata": {},
   "source": [
    "## Step 3: Add Links (Optional)\n",
    "\n",
    "If your organism has a database like EcoCyc, SubtiWiki, or AureoWiki, you may be interested in adding links to it.\n",
    "\n",
    "iModulonDB has two kinds of links:\n",
    "\n",
    "- gene_links: \n",
    "    - Associate gene **loci** from the **index of ica_data.M** to websites\n",
    "    - On the [gene pages](https://imodulondb.org/gene.html?organism=e_coli&dataset=precise1&gene_id=b0002), these links have the name of the database that you are linking to. The name of the database needs to be saved as a string in ica_data.link_database.\n",
    "    - For programming reasons, the default value of gene_links is all genes as keys, each pointing to the value np.nan.\n",
    "    \n",
    "- tf_links:\n",
    "    - Associate **TF names** from **ica_data.TRN.regulator and ica_data.imodulon_table.regulator** to websites\n",
    "    - On the [iModulon pages](https://imodulondb.org/iModulon.html?organism=e_coli&dataset=precise1&k=43), the name of the regulator becomes a link. You never have to state the name of this database, and it doesn't have to be the same one used for gene_links (i.e. ica_data.link_database does NOT have to be the one you use).\n",
    "    - For programming reasons, the default value is an empty dictionary.\n",
    "    \n",
    "Note that gene_links uses gene loci since not every gene has a readable name, but tf_links uses readable names since not all regulators have associated gene loci. This could create some confusion between the two types of links; for example, the gene b2741 in E. coli encodes the TF rpoS:\n",
    "\n",
    "- ica_data.gene_links\\['b2741'\\] = 'https://ecocyc.org/gene?orgid=ECOLI&id=EG10510 '\n",
    "- ica_data.tf_links\\['rpoS'\\] = 'http://regulondb.ccg.unam.mx/sigmulon?term=ECK125110294&organism=ECK12&format=jsp&type=sigmulon '\n",
    "\n",
    "In this example, ica_data.link_database = 'EcoCyc' since that is where the gene links point to.\n",
    "\n",
    "You are free to skip this step, or you can use any of the following strategies to generate your links:\n",
    "\n",
    "#### Strategy 1: Look at the URLs in your database.\n",
    "\n",
    "Search for your gene in your database. You might notice that it always uses the same URL, but enters your search term in part of that URL. You could then take the pieces of that URL and use those to generate all needed URLs:"
   ]
  },
  {
   "cell_type": "code",
   "execution_count": 15,
   "metadata": {},
   "outputs": [],
   "source": [
    "prefix = 'http://subtiwiki.uni-goettingen.de/v3/gene/search/exact/'\n",
    "\n",
    "temp_gene_links = dict()\n",
    "for gene in ica_data.M.index:\n",
    "    temp_gene_links[gene] = prefix + gene\n",
    "    \n",
    "# Then, test a few of the links and uncomment this line\n",
    "# ica_data.gene_links = temp_gene_links"
   ]
  },
  {
   "cell_type": "markdown",
   "metadata": {},
   "source": [
    "You may need to add a suffix. You may also have to deal with databases that use different loci abbreviations than the ones you have - this can be remedied by finding a mapping file between the two naming systems.\n",
    "\n",
    "#### Strategy 2: Make a file\n",
    "\n",
    "If you are more proficient in excel than python, have found a gene <-> link mapping file elsewhere, or already used strategy 1 to generate a file, you can make sure it has only two columns (gene and link) and no headers, then simply read it in as shown below.\n",
    "\n",
    "This may be especially useful if you have no database, but want to keep a file of gene_links or tf_links with specific papers instead of db entries."
   ]
  },
  {
   "cell_type": "code",
   "execution_count": 16,
   "metadata": {},
   "outputs": [],
   "source": [
    "# ica_data.gene_links = 'gene_links.csv'"
   ]
  },
  {
   "cell_type": "markdown",
   "metadata": {},
   "source": [
    "#### Strategy 3: Individual modifications\n",
    "\n",
    "You can also just tell the model the links one at a time. This can be useful if you generate all links with another strategy, but want to overide it in a few cases."
   ]
  },
  {
   "cell_type": "code",
   "execution_count": 18,
   "metadata": {},
   "outputs": [],
   "source": [
    "# ica_data.gene_links['b2741'] = 'https://ecocyc.org/gene?orgid=ECOLI&id=EG10510'"
   ]
  },
  {
   "cell_type": "markdown",
   "metadata": {},
   "source": [
    "#### If using gene links, don't forget to update ica_data.link_database\n",
    "\n",
    "If you don't, the default value is 'External Database'. If you have no links, nothing will appear so this is irrelevant."
   ]
  },
  {
   "cell_type": "code",
   "execution_count": 19,
   "metadata": {},
   "outputs": [
    {
     "data": {
      "text/plain": [
       "'External Database'"
      ]
     },
     "execution_count": 19,
     "metadata": {},
     "output_type": "execute_result"
    }
   ],
   "source": [
    "# ica_data.link_database = 'EcoCyc'\n",
    "\n",
    "ica_data.link_database"
   ]
  },
  {
   "cell_type": "markdown",
   "metadata": {},
   "source": [
    "## Step 4: Check for compatibility"
   ]
  }
 ],
 "metadata": {
  "kernelspec": {
   "display_name": "Python 3",
   "language": "python",
   "name": "python3"
  },
  "language_info": {
   "codemirror_mode": {
    "name": "ipython",
    "version": 3
   },
   "file_extension": ".py",
   "mimetype": "text/x-python",
   "name": "python",
   "nbconvert_exporter": "python",
   "pygments_lexer": "ipython3",
   "version": "3.8.5"
  }
 },
 "nbformat": 4,
 "nbformat_minor": 4
}
