{
 "cells": [
  {
   "cell_type": "markdown",
   "metadata": {
    "toc": true
   },
   "source": [
    "<h1>Table of Contents<span class=\"tocSkip\"></span></h1>\n",
    "<div class=\"toc\"><ul class=\"toc-item\"><li><span><a href=\"#Setup\" data-toc-modified-id=\"Setup-1\"><span class=\"toc-item-num\">1&nbsp;&nbsp;</span>Setup</a></span><ul class=\"toc-item\"><li><span><a href=\"#Check-your-sample-table-(i.e.-metadata-file)\" data-toc-modified-id=\"Check-your-sample-table-(i.e.-metadata-file)-1.1\"><span class=\"toc-item-num\">1.1&nbsp;&nbsp;</span>Check your sample table (i.e. metadata file)</a></span></li><li><span><a href=\"#Check-your-TRN\" data-toc-modified-id=\"Check-your-TRN-1.2\"><span class=\"toc-item-num\">1.2&nbsp;&nbsp;</span>Check your TRN</a></span></li><li><span><a href=\"#Load-the-data\" data-toc-modified-id=\"Load-the-data-1.3\"><span class=\"toc-item-num\">1.3&nbsp;&nbsp;</span>Load the data</a></span></li></ul></li><li><span><a href=\"#Regulatory-iModulons\" data-toc-modified-id=\"Regulatory-iModulons-2\"><span class=\"toc-item-num\">2&nbsp;&nbsp;</span>Regulatory iModulons</a></span></li><li><span><a href=\"#Functional-iModulons\" data-toc-modified-id=\"Functional-iModulons-3\"><span class=\"toc-item-num\">3&nbsp;&nbsp;</span>Functional iModulons</a></span><ul class=\"toc-item\"><li><span><a href=\"#GO-Enrichments\" data-toc-modified-id=\"GO-Enrichments-3.1\"><span class=\"toc-item-num\">3.1&nbsp;&nbsp;</span>GO Enrichments</a></span></li><li><span><a href=\"#KEGG-Enrichments\" data-toc-modified-id=\"KEGG-Enrichments-3.2\"><span class=\"toc-item-num\">3.2&nbsp;&nbsp;</span>KEGG Enrichments</a></span><ul class=\"toc-item\"><li><span><a href=\"#Load-KEGG-mapping\" data-toc-modified-id=\"Load-KEGG-mapping-3.2.1\"><span class=\"toc-item-num\">3.2.1&nbsp;&nbsp;</span>Load KEGG mapping</a></span></li><li><span><a href=\"#Perform-enrichment\" data-toc-modified-id=\"Perform-enrichment-3.2.2\"><span class=\"toc-item-num\">3.2.2&nbsp;&nbsp;</span>Perform enrichment</a></span></li><li><span><a href=\"#Convert-KEGG-IDs-to-human-readable-names\" data-toc-modified-id=\"Convert-KEGG-IDs-to-human-readable-names-3.2.3\"><span class=\"toc-item-num\">3.2.3&nbsp;&nbsp;</span>Convert KEGG IDs to human-readable names</a></span></li><li><span><a href=\"#Save-files\" data-toc-modified-id=\"Save-files-3.2.4\"><span class=\"toc-item-num\">3.2.4&nbsp;&nbsp;</span>Save files</a></span></li></ul></li></ul></li><li><span><a href=\"#Check-for-single-gene-iModulons\" data-toc-modified-id=\"Check-for-single-gene-iModulons-4\"><span class=\"toc-item-num\">4&nbsp;&nbsp;</span>Check for single gene iModulons</a></span></li><li><span><a href=\"#Compare-against-published-iModulons\" data-toc-modified-id=\"Compare-against-published-iModulons-5\"><span class=\"toc-item-num\">5&nbsp;&nbsp;</span>Compare against published iModulons</a></span></li><li><span><a href=\"#Save-iModulon-object\" data-toc-modified-id=\"Save-iModulon-object-6\"><span class=\"toc-item-num\">6&nbsp;&nbsp;</span>Save iModulon object</a></span></li><li><span><a href=\"#Coming-soon\" data-toc-modified-id=\"Coming-soon-7\"><span class=\"toc-item-num\">7&nbsp;&nbsp;</span>Coming soon</a></span></li></ul></div>"
   ]
  },
  {
   "cell_type": "markdown",
   "metadata": {},
   "source": [
    "# Setup\n",
    "This IPython notebook will walk through the steps of characterizing iModulons through semi-automated tools. You will need:\n",
    "* M and A matrices\n",
    "* Expression data (e.g. `log_tpm_norm.csv`)\n",
    "* Gene table and KEGG/GO annotations (Generated in `gene_annotation.ipynb`)\n",
    "* Sample table, with a column for `project` and `condition`\n",
    "* TRN file\n",
    "\n",
    "Optional:\n",
    "* iModulon table (if you already have some characterized iModulons)"
   ]
  },
  {
   "cell_type": "code",
   "execution_count": 32,
   "metadata": {},
   "outputs": [],
   "source": [
    "from pymodulon.core import IcaData\n",
    "from os import path\n",
    "import pandas as pd\n",
    "import re\n",
    "from Bio.KEGG import REST\n",
    "from tqdm.notebook import tqdm"
   ]
  },
  {
   "cell_type": "code",
   "execution_count": 2,
   "metadata": {},
   "outputs": [],
   "source": [
    "# Enter the location of your data here\n",
    "data_dir = '../example_data/modulome_example/data/'"
   ]
  },
  {
   "cell_type": "markdown",
   "metadata": {},
   "source": [
    "## Check your sample table (i.e. metadata file)\n",
    "Your metadata file will probably have a lot of columns, most of which you may not care about. Feel free to save a secondary copy of your metadata file with only columns that seem relevant to you. The two most important columns are:\n",
    "1. `project`\n",
    "2. `condition`\n",
    "\n",
    "Make sure that these columns exist in your metadata file"
   ]
  },
  {
   "cell_type": "code",
   "execution_count": 3,
   "metadata": {},
   "outputs": [
    {
     "data": {
      "text/html": [
       "<div>\n",
       "<style scoped>\n",
       "    .dataframe tbody tr th:only-of-type {\n",
       "        vertical-align: middle;\n",
       "    }\n",
       "\n",
       "    .dataframe tbody tr th {\n",
       "        vertical-align: top;\n",
       "    }\n",
       "\n",
       "    .dataframe thead th {\n",
       "        text-align: right;\n",
       "    }\n",
       "</style>\n",
       "<table border=\"1\" class=\"dataframe\">\n",
       "  <thead>\n",
       "    <tr style=\"text-align: right;\">\n",
       "      <th></th>\n",
       "      <th>project</th>\n",
       "      <th>condition</th>\n",
       "    </tr>\n",
       "  </thead>\n",
       "  <tbody>\n",
       "    <tr>\n",
       "      <th>SRX3467357</th>\n",
       "      <td>FadR</td>\n",
       "      <td>wt_p</td>\n",
       "    </tr>\n",
       "    <tr>\n",
       "      <th>SRX3467358</th>\n",
       "      <td>FadR</td>\n",
       "      <td>wt_p</td>\n",
       "    </tr>\n",
       "    <tr>\n",
       "      <th>SRX3467359</th>\n",
       "      <td>FadR</td>\n",
       "      <td>ko_p</td>\n",
       "    </tr>\n",
       "    <tr>\n",
       "      <th>SRX3467360</th>\n",
       "      <td>FadR</td>\n",
       "      <td>ko_p</td>\n",
       "    </tr>\n",
       "    <tr>\n",
       "      <th>SRX3565164</th>\n",
       "      <td>GDGT</td>\n",
       "      <td>75_2.4_log</td>\n",
       "    </tr>\n",
       "  </tbody>\n",
       "</table>\n",
       "</div>"
      ],
      "text/plain": [
       "           project   condition\n",
       "SRX3467357    FadR        wt_p\n",
       "SRX3467358    FadR        wt_p\n",
       "SRX3467359    FadR        ko_p\n",
       "SRX3467360    FadR        ko_p\n",
       "SRX3565164    GDGT  75_2.4_log"
      ]
     },
     "execution_count": 3,
     "metadata": {},
     "output_type": "execute_result"
    }
   ],
   "source": [
    "df_metadata = pd.read_csv(path.join(data_dir,'sample_table.csv'),index_col=0)\n",
    "df_metadata[['project','condition']].head()"
   ]
  },
  {
   "cell_type": "code",
   "execution_count": 4,
   "metadata": {},
   "outputs": [
    {
     "name": "stdout",
     "output_type": "stream",
     "text": [
      "True\n",
      "True\n"
     ]
    }
   ],
   "source": [
    "print(df_metadata.project.notnull().all())\n",
    "print(df_metadata.condition.notnull().all())"
   ]
  },
  {
   "cell_type": "markdown",
   "metadata": {},
   "source": [
    "## Check your TRN"
   ]
  },
  {
   "cell_type": "markdown",
   "metadata": {},
   "source": [
    "Each row of the TRN file represents a regulatory interaction.  \n",
    "**Your TRN file must have the following columns:**\n",
    "1. `regulator` - Name of regulator (`/` or `+` characters will be converted to `;`)\n",
    "1. `gene_id` - Locus tag of gene being regulated\n",
    "\n",
    "The following columns are optional, but are helpful to have:\n",
    "1. `regulator_id` - Locus tag of regulator\n",
    "1. `gene_name` - Name of gene (can automatically update this using `name2num`)\n",
    "1. `direction` - Direction of regulation ('+' for activation, '-' for repression, '?' or NaN for unknown)\n",
    "1. `evidence` - Evidence of regulation (e.g. ChIP-exo, qRT-PCR, SELEX, Motif search)\n",
    "1. `PMID` - Reference for regulation\n",
    "\n",
    "You may add any other columns that could help you. TRNs may be saved as either CSV or TSV files. See below for an example:"
   ]
  },
  {
   "cell_type": "code",
   "execution_count": 5,
   "metadata": {},
   "outputs": [
    {
     "data": {
      "text/html": [
       "<div>\n",
       "<style scoped>\n",
       "    .dataframe tbody tr th:only-of-type {\n",
       "        vertical-align: middle;\n",
       "    }\n",
       "\n",
       "    .dataframe tbody tr th {\n",
       "        vertical-align: top;\n",
       "    }\n",
       "\n",
       "    .dataframe thead th {\n",
       "        text-align: right;\n",
       "    }\n",
       "</style>\n",
       "<table border=\"1\" class=\"dataframe\">\n",
       "  <thead>\n",
       "    <tr style=\"text-align: right;\">\n",
       "      <th></th>\n",
       "      <th>regulator</th>\n",
       "      <th>gene_id</th>\n",
       "      <th>regulator_id</th>\n",
       "      <th>gene_name</th>\n",
       "      <th>old_locus_tag</th>\n",
       "      <th>gene_issue</th>\n",
       "      <th>other_id</th>\n",
       "      <th>direction</th>\n",
       "      <th>evidence</th>\n",
       "      <th>PMID</th>\n",
       "      <th>Additional Notes</th>\n",
       "    </tr>\n",
       "  </thead>\n",
       "  <tbody>\n",
       "    <tr>\n",
       "      <th>0</th>\n",
       "      <td>BarR</td>\n",
       "      <td>SACI_RS10330</td>\n",
       "      <td>SACI_RS10330</td>\n",
       "      <td>barR</td>\n",
       "      <td>Saci_2136</td>\n",
       "      <td>NaN</td>\n",
       "      <td>3472865</td>\n",
       "      <td>NaN</td>\n",
       "      <td>qRT-PCR</td>\n",
       "      <td>24646198</td>\n",
       "      <td>BarR TF (Lrp/AsnC family transcriptional regul...</td>\n",
       "    </tr>\n",
       "    <tr>\n",
       "      <th>1</th>\n",
       "      <td>BarR</td>\n",
       "      <td>SACI_RS10335</td>\n",
       "      <td>SACI_RS10330</td>\n",
       "      <td>NaN</td>\n",
       "      <td>Saci_2137</td>\n",
       "      <td>NaN</td>\n",
       "      <td>3472866</td>\n",
       "      <td>+</td>\n",
       "      <td>qRT-PCR</td>\n",
       "      <td>24646198</td>\n",
       "      <td>NaN</td>\n",
       "    </tr>\n",
       "    <tr>\n",
       "      <th>2</th>\n",
       "      <td>BarR</td>\n",
       "      <td>SACI_RS00130</td>\n",
       "      <td>SACI_RS10330</td>\n",
       "      <td>NaN</td>\n",
       "      <td>Saci_0028</td>\n",
       "      <td>NaN</td>\n",
       "      <td>3472576</td>\n",
       "      <td>NaN</td>\n",
       "      <td>ChIP-Seq, qRT-PCR</td>\n",
       "      <td>27502941</td>\n",
       "      <td>NaN</td>\n",
       "    </tr>\n",
       "    <tr>\n",
       "      <th>3</th>\n",
       "      <td>BarR</td>\n",
       "      <td>SACI_RS00275</td>\n",
       "      <td>SACI_RS10330</td>\n",
       "      <td>meaB</td>\n",
       "      <td>Saci_0061</td>\n",
       "      <td>NaN</td>\n",
       "      <td>3472976</td>\n",
       "      <td>NaN</td>\n",
       "      <td>ChIP-Seq, qRT-PCR</td>\n",
       "      <td>27502941</td>\n",
       "      <td>NaN</td>\n",
       "    </tr>\n",
       "    <tr>\n",
       "      <th>4</th>\n",
       "      <td>BarR</td>\n",
       "      <td>SACI_RS03305</td>\n",
       "      <td>SACI_RS10330</td>\n",
       "      <td>infB</td>\n",
       "      <td>Saci_0695</td>\n",
       "      <td>NaN</td>\n",
       "      <td>3472541</td>\n",
       "      <td>NaN</td>\n",
       "      <td>ChIP-Seq, qRT-PCR</td>\n",
       "      <td>27502941</td>\n",
       "      <td>NaN</td>\n",
       "    </tr>\n",
       "  </tbody>\n",
       "</table>\n",
       "</div>"
      ],
      "text/plain": [
       "  regulator       gene_id  regulator_id gene_name old_locus_tag gene_issue  \\\n",
       "0      BarR  SACI_RS10330  SACI_RS10330      barR     Saci_2136        NaN   \n",
       "1     BarR   SACI_RS10335  SACI_RS10330       NaN     Saci_2137        NaN   \n",
       "2      BarR  SACI_RS00130  SACI_RS10330       NaN     Saci_0028        NaN   \n",
       "3     BarR   SACI_RS00275  SACI_RS10330      meaB     Saci_0061        NaN   \n",
       "4      BarR  SACI_RS03305  SACI_RS10330      infB     Saci_0695        NaN   \n",
       "\n",
       "   other_id direction           evidence      PMID  \\\n",
       "0   3472865       NaN            qRT-PCR  24646198   \n",
       "1   3472866         +            qRT-PCR  24646198   \n",
       "2   3472576       NaN  ChIP-Seq, qRT-PCR  27502941   \n",
       "3   3472976       NaN  ChIP-Seq, qRT-PCR  27502941   \n",
       "4   3472541       NaN  ChIP-Seq, qRT-PCR  27502941   \n",
       "\n",
       "                                    Additional Notes  \n",
       "0  BarR TF (Lrp/AsnC family transcriptional regul...  \n",
       "1                                                NaN  \n",
       "2                                                NaN  \n",
       "3                                                NaN  \n",
       "4                                                NaN  "
      ]
     },
     "execution_count": 5,
     "metadata": {},
     "output_type": "execute_result"
    }
   ],
   "source": [
    "df_trn = pd.read_csv(path.join(data_dir,'TRN.tsv'),sep='\\t')\n",
    "df_trn.head()"
   ]
  },
  {
   "cell_type": "markdown",
   "metadata": {},
   "source": [
    "The `regulator` and `gene_id` must be filled in for each row"
   ]
  },
  {
   "cell_type": "code",
   "execution_count": 6,
   "metadata": {},
   "outputs": [
    {
     "name": "stdout",
     "output_type": "stream",
     "text": [
      "True\n",
      "True\n"
     ]
    }
   ],
   "source": [
    "print(df_trn.regulator.notnull().all())\n",
    "print(df_trn.gene_id.notnull().all())"
   ]
  },
  {
   "cell_type": "markdown",
   "metadata": {},
   "source": [
    "## Load the data\n",
    "You're now ready to load your IcaData object!"
   ]
  },
  {
   "cell_type": "code",
   "execution_count": 7,
   "metadata": {},
   "outputs": [],
   "source": [
    "ica_data = IcaData(M = path.join(data_dir,'M.csv'),\n",
    "                   A = path.join(data_dir,'A.csv'),\n",
    "                   X = path.join(data_dir,'X.csv'),\n",
    "                   gene_table = path.join(data_dir,'gene_table.csv'),\n",
    "                   sample_table = path.join(data_dir,'sample_table.csv'),\n",
    "                   trn = path.join(data_dir,'TRN.tsv'))"
   ]
  },
  {
   "cell_type": "markdown",
   "metadata": {},
   "source": [
    "If you don't have a TRN (or have a very minimal TRN), use `threshold_method = 'kmeans'`"
   ]
  },
  {
   "cell_type": "code",
   "execution_count": 8,
   "metadata": {},
   "outputs": [],
   "source": [
    "ica_data = IcaData(M = path.join(data_dir,'M.csv'),\n",
    "                   A = path.join(data_dir,'A.csv'),\n",
    "                   X = path.join(data_dir,'X.csv'),\n",
    "                   gene_table = path.join(data_dir,'gene_table.csv'),\n",
    "                   sample_table = path.join(data_dir,'sample_table.csv'),\n",
    "                   trn = path.join(data_dir,'TRN.tsv'),\n",
    "                   threshold_method = 'kmeans')"
   ]
  },
  {
   "cell_type": "markdown",
   "metadata": {},
   "source": [
    "# Regulatory iModulons\n",
    "Use `compute_trn_enrichment` to automatically check for Regulatory iModulons. The more complete your TRN, the more regulatory iModulons you'll find."
   ]
  },
  {
   "cell_type": "code",
   "execution_count": 9,
   "metadata": {},
   "outputs": [
    {
     "data": {
      "text/html": [
       "<div>\n",
       "<style scoped>\n",
       "    .dataframe tbody tr th:only-of-type {\n",
       "        vertical-align: middle;\n",
       "    }\n",
       "\n",
       "    .dataframe tbody tr th {\n",
       "        vertical-align: top;\n",
       "    }\n",
       "\n",
       "    .dataframe thead th {\n",
       "        text-align: right;\n",
       "    }\n",
       "</style>\n",
       "<table border=\"1\" class=\"dataframe\">\n",
       "  <thead>\n",
       "    <tr style=\"text-align: right;\">\n",
       "      <th></th>\n",
       "      <th>imodulon</th>\n",
       "      <th>regulator</th>\n",
       "      <th>pvalue</th>\n",
       "      <th>qvalue</th>\n",
       "      <th>precision</th>\n",
       "      <th>recall</th>\n",
       "      <th>f1score</th>\n",
       "      <th>TP</th>\n",
       "      <th>regulon_size</th>\n",
       "      <th>imodulon_size</th>\n",
       "      <th>n_regs</th>\n",
       "    </tr>\n",
       "  </thead>\n",
       "  <tbody>\n",
       "    <tr>\n",
       "      <th>0</th>\n",
       "      <td>4</td>\n",
       "      <td>ArnR;ArnR1</td>\n",
       "      <td>8.720300e-21</td>\n",
       "      <td>1.046436e-19</td>\n",
       "      <td>0.727273</td>\n",
       "      <td>1.000</td>\n",
       "      <td>0.842105</td>\n",
       "      <td>8.0</td>\n",
       "      <td>11.0</td>\n",
       "      <td>8.0</td>\n",
       "      <td>1.0</td>\n",
       "    </tr>\n",
       "    <tr>\n",
       "      <th>1</th>\n",
       "      <td>4</td>\n",
       "      <td>ArnA;ArnB</td>\n",
       "      <td>4.140730e-16</td>\n",
       "      <td>2.484438e-15</td>\n",
       "      <td>0.500000</td>\n",
       "      <td>0.875</td>\n",
       "      <td>0.636364</td>\n",
       "      <td>7.0</td>\n",
       "      <td>14.0</td>\n",
       "      <td>8.0</td>\n",
       "      <td>1.0</td>\n",
       "    </tr>\n",
       "    <tr>\n",
       "      <th>2</th>\n",
       "      <td>26</td>\n",
       "      <td>FadR</td>\n",
       "      <td>6.388367e-14</td>\n",
       "      <td>7.666040e-13</td>\n",
       "      <td>0.526316</td>\n",
       "      <td>0.250</td>\n",
       "      <td>0.338983</td>\n",
       "      <td>10.0</td>\n",
       "      <td>19.0</td>\n",
       "      <td>40.0</td>\n",
       "      <td>1.0</td>\n",
       "    </tr>\n",
       "  </tbody>\n",
       "</table>\n",
       "</div>"
      ],
      "text/plain": [
       "   imodulon   regulator        pvalue        qvalue  precision  recall  \\\n",
       "0         4  ArnR;ArnR1  8.720300e-21  1.046436e-19   0.727273   1.000   \n",
       "1         4   ArnA;ArnB  4.140730e-16  2.484438e-15   0.500000   0.875   \n",
       "2        26        FadR  6.388367e-14  7.666040e-13   0.526316   0.250   \n",
       "\n",
       "    f1score    TP  regulon_size  imodulon_size  n_regs  \n",
       "0  0.842105   8.0          11.0            8.0     1.0  \n",
       "1  0.636364   7.0          14.0            8.0     1.0  \n",
       "2  0.338983  10.0          19.0           40.0     1.0  "
      ]
     },
     "execution_count": 9,
     "metadata": {},
     "output_type": "execute_result"
    }
   ],
   "source": [
    "ica_data.compute_trn_enrichment()"
   ]
  },
  {
   "cell_type": "markdown",
   "metadata": {},
   "source": [
    "You can also search for AND/OR combinations of regulators using the `max_regs` argument. Here, we see that iModulon #4 may be regulated by the both ArnR;ArnR1 and ArnA;ArnB."
   ]
  },
  {
   "cell_type": "code",
   "execution_count": 10,
   "metadata": {},
   "outputs": [
    {
     "data": {
      "text/html": [
       "<div>\n",
       "<style scoped>\n",
       "    .dataframe tbody tr th:only-of-type {\n",
       "        vertical-align: middle;\n",
       "    }\n",
       "\n",
       "    .dataframe tbody tr th {\n",
       "        vertical-align: top;\n",
       "    }\n",
       "\n",
       "    .dataframe thead th {\n",
       "        text-align: right;\n",
       "    }\n",
       "</style>\n",
       "<table border=\"1\" class=\"dataframe\">\n",
       "  <thead>\n",
       "    <tr style=\"text-align: right;\">\n",
       "      <th></th>\n",
       "      <th>imodulon</th>\n",
       "      <th>regulator</th>\n",
       "      <th>pvalue</th>\n",
       "      <th>qvalue</th>\n",
       "      <th>precision</th>\n",
       "      <th>recall</th>\n",
       "      <th>f1score</th>\n",
       "      <th>TP</th>\n",
       "      <th>regulon_size</th>\n",
       "      <th>imodulon_size</th>\n",
       "      <th>n_regs</th>\n",
       "    </tr>\n",
       "  </thead>\n",
       "  <tbody>\n",
       "    <tr>\n",
       "      <th>0</th>\n",
       "      <td>4</td>\n",
       "      <td>ArnR;ArnR1</td>\n",
       "      <td>8.720300e-21</td>\n",
       "      <td>3.662526e-19</td>\n",
       "      <td>0.727273</td>\n",
       "      <td>1.000</td>\n",
       "      <td>0.842105</td>\n",
       "      <td>8.0</td>\n",
       "      <td>11.0</td>\n",
       "      <td>8.0</td>\n",
       "      <td>1.0</td>\n",
       "    </tr>\n",
       "    <tr>\n",
       "      <th>1</th>\n",
       "      <td>4</td>\n",
       "      <td>ArnR;ArnR1+ArnA;ArnB</td>\n",
       "      <td>1.209743e-19</td>\n",
       "      <td>2.540461e-18</td>\n",
       "      <td>1.000000</td>\n",
       "      <td>0.875</td>\n",
       "      <td>0.933333</td>\n",
       "      <td>7.0</td>\n",
       "      <td>7.0</td>\n",
       "      <td>8.0</td>\n",
       "      <td>2.0</td>\n",
       "    </tr>\n",
       "    <tr>\n",
       "      <th>2</th>\n",
       "      <td>4</td>\n",
       "      <td>ArnA;ArnB</td>\n",
       "      <td>4.140730e-16</td>\n",
       "      <td>5.797022e-15</td>\n",
       "      <td>0.500000</td>\n",
       "      <td>0.875</td>\n",
       "      <td>0.636364</td>\n",
       "      <td>7.0</td>\n",
       "      <td>14.0</td>\n",
       "      <td>8.0</td>\n",
       "      <td>1.0</td>\n",
       "    </tr>\n",
       "    <tr>\n",
       "      <th>3</th>\n",
       "      <td>26</td>\n",
       "      <td>FadR</td>\n",
       "      <td>6.388367e-14</td>\n",
       "      <td>2.683114e-12</td>\n",
       "      <td>0.526316</td>\n",
       "      <td>0.250</td>\n",
       "      <td>0.338983</td>\n",
       "      <td>10.0</td>\n",
       "      <td>19.0</td>\n",
       "      <td>40.0</td>\n",
       "      <td>1.0</td>\n",
       "    </tr>\n",
       "  </tbody>\n",
       "</table>\n",
       "</div>"
      ],
      "text/plain": [
       "   imodulon             regulator        pvalue        qvalue  precision  \\\n",
       "0         4            ArnR;ArnR1  8.720300e-21  3.662526e-19   0.727273   \n",
       "1         4  ArnR;ArnR1+ArnA;ArnB  1.209743e-19  2.540461e-18   1.000000   \n",
       "2         4             ArnA;ArnB  4.140730e-16  5.797022e-15   0.500000   \n",
       "3        26                  FadR  6.388367e-14  2.683114e-12   0.526316   \n",
       "\n",
       "   recall   f1score    TP  regulon_size  imodulon_size  n_regs  \n",
       "0   1.000  0.842105   8.0          11.0            8.0     1.0  \n",
       "1   0.875  0.933333   7.0           7.0            8.0     2.0  \n",
       "2   0.875  0.636364   7.0          14.0            8.0     1.0  \n",
       "3   0.250  0.338983  10.0          19.0           40.0     1.0  "
      ]
     },
     "execution_count": 10,
     "metadata": {},
     "output_type": "execute_result"
    }
   ],
   "source": [
    "ica_data.compute_trn_enrichment(max_regs=2)"
   ]
  },
  {
   "cell_type": "markdown",
   "metadata": {},
   "source": [
    "Regulator enrichments can be directly saved to the `imodulon_table` using the `save` argument. This saves the enrichment with the lowest q-value to the table. For iModulon #4, it will automatically save `ArnR;ArnR1` as the enrichment, but we want to save `ArnR;ArnR1+ArnA;ArnB`. We can update our enrichments accordingly, using `compute_regulon_enrichment`:"
   ]
  },
  {
   "cell_type": "code",
   "execution_count": 11,
   "metadata": {},
   "outputs": [
    {
     "data": {
      "text/html": [
       "<div>\n",
       "<style scoped>\n",
       "    .dataframe tbody tr th:only-of-type {\n",
       "        vertical-align: middle;\n",
       "    }\n",
       "\n",
       "    .dataframe tbody tr th {\n",
       "        vertical-align: top;\n",
       "    }\n",
       "\n",
       "    .dataframe thead th {\n",
       "        text-align: right;\n",
       "    }\n",
       "</style>\n",
       "<table border=\"1\" class=\"dataframe\">\n",
       "  <thead>\n",
       "    <tr style=\"text-align: right;\">\n",
       "      <th></th>\n",
       "      <th>imodulon</th>\n",
       "      <th>regulator</th>\n",
       "      <th>pvalue</th>\n",
       "      <th>qvalue</th>\n",
       "      <th>precision</th>\n",
       "      <th>recall</th>\n",
       "      <th>f1score</th>\n",
       "      <th>TP</th>\n",
       "      <th>regulon_size</th>\n",
       "      <th>imodulon_size</th>\n",
       "      <th>n_regs</th>\n",
       "    </tr>\n",
       "  </thead>\n",
       "  <tbody>\n",
       "    <tr>\n",
       "      <th>0</th>\n",
       "      <td>4</td>\n",
       "      <td>ArnR;ArnR1</td>\n",
       "      <td>8.720300e-21</td>\n",
       "      <td>3.662526e-19</td>\n",
       "      <td>0.727273</td>\n",
       "      <td>1.000</td>\n",
       "      <td>0.842105</td>\n",
       "      <td>8.0</td>\n",
       "      <td>11.0</td>\n",
       "      <td>8.0</td>\n",
       "      <td>1.0</td>\n",
       "    </tr>\n",
       "    <tr>\n",
       "      <th>1</th>\n",
       "      <td>4</td>\n",
       "      <td>ArnR;ArnR1+ArnA;ArnB</td>\n",
       "      <td>1.209743e-19</td>\n",
       "      <td>2.540461e-18</td>\n",
       "      <td>1.000000</td>\n",
       "      <td>0.875</td>\n",
       "      <td>0.933333</td>\n",
       "      <td>7.0</td>\n",
       "      <td>7.0</td>\n",
       "      <td>8.0</td>\n",
       "      <td>2.0</td>\n",
       "    </tr>\n",
       "    <tr>\n",
       "      <th>2</th>\n",
       "      <td>4</td>\n",
       "      <td>ArnA;ArnB</td>\n",
       "      <td>4.140730e-16</td>\n",
       "      <td>5.797022e-15</td>\n",
       "      <td>0.500000</td>\n",
       "      <td>0.875</td>\n",
       "      <td>0.636364</td>\n",
       "      <td>7.0</td>\n",
       "      <td>14.0</td>\n",
       "      <td>8.0</td>\n",
       "      <td>1.0</td>\n",
       "    </tr>\n",
       "    <tr>\n",
       "      <th>3</th>\n",
       "      <td>26</td>\n",
       "      <td>FadR</td>\n",
       "      <td>6.388367e-14</td>\n",
       "      <td>2.683114e-12</td>\n",
       "      <td>0.526316</td>\n",
       "      <td>0.250</td>\n",
       "      <td>0.338983</td>\n",
       "      <td>10.0</td>\n",
       "      <td>19.0</td>\n",
       "      <td>40.0</td>\n",
       "      <td>1.0</td>\n",
       "    </tr>\n",
       "  </tbody>\n",
       "</table>\n",
       "</div>"
      ],
      "text/plain": [
       "   imodulon             regulator        pvalue        qvalue  precision  \\\n",
       "0         4            ArnR;ArnR1  8.720300e-21  3.662526e-19   0.727273   \n",
       "1         4  ArnR;ArnR1+ArnA;ArnB  1.209743e-19  2.540461e-18   1.000000   \n",
       "2         4             ArnA;ArnB  4.140730e-16  5.797022e-15   0.500000   \n",
       "3        26                  FadR  6.388367e-14  2.683114e-12   0.526316   \n",
       "\n",
       "   recall   f1score    TP  regulon_size  imodulon_size  n_regs  \n",
       "0   1.000  0.842105   8.0          11.0            8.0     1.0  \n",
       "1   0.875  0.933333   7.0           7.0            8.0     2.0  \n",
       "2   0.875  0.636364   7.0          14.0            8.0     1.0  \n",
       "3   0.250  0.338983  10.0          19.0           40.0     1.0  "
      ]
     },
     "execution_count": 11,
     "metadata": {},
     "output_type": "execute_result"
    }
   ],
   "source": [
    "ica_data.compute_trn_enrichment(max_regs=2,save=True)"
   ]
  },
  {
   "cell_type": "code",
   "execution_count": 12,
   "metadata": {},
   "outputs": [
    {
     "data": {
      "text/html": [
       "<div>\n",
       "<style scoped>\n",
       "    .dataframe tbody tr th:only-of-type {\n",
       "        vertical-align: middle;\n",
       "    }\n",
       "\n",
       "    .dataframe tbody tr th {\n",
       "        vertical-align: top;\n",
       "    }\n",
       "\n",
       "    .dataframe thead th {\n",
       "        text-align: right;\n",
       "    }\n",
       "</style>\n",
       "<table border=\"1\" class=\"dataframe\">\n",
       "  <thead>\n",
       "    <tr style=\"text-align: right;\">\n",
       "      <th></th>\n",
       "      <th>regulator</th>\n",
       "      <th>pvalue</th>\n",
       "      <th>qvalue</th>\n",
       "      <th>precision</th>\n",
       "      <th>recall</th>\n",
       "      <th>f1score</th>\n",
       "      <th>TP</th>\n",
       "      <th>regulon_size</th>\n",
       "      <th>imodulon_size</th>\n",
       "      <th>n_regs</th>\n",
       "    </tr>\n",
       "  </thead>\n",
       "  <tbody>\n",
       "    <tr>\n",
       "      <th>0</th>\n",
       "      <td>NaN</td>\n",
       "      <td>NaN</td>\n",
       "      <td>NaN</td>\n",
       "      <td>NaN</td>\n",
       "      <td>NaN</td>\n",
       "      <td>NaN</td>\n",
       "      <td>NaN</td>\n",
       "      <td>NaN</td>\n",
       "      <td>NaN</td>\n",
       "      <td>NaN</td>\n",
       "    </tr>\n",
       "    <tr>\n",
       "      <th>1</th>\n",
       "      <td>NaN</td>\n",
       "      <td>NaN</td>\n",
       "      <td>NaN</td>\n",
       "      <td>NaN</td>\n",
       "      <td>NaN</td>\n",
       "      <td>NaN</td>\n",
       "      <td>NaN</td>\n",
       "      <td>NaN</td>\n",
       "      <td>NaN</td>\n",
       "      <td>NaN</td>\n",
       "    </tr>\n",
       "    <tr>\n",
       "      <th>2</th>\n",
       "      <td>NaN</td>\n",
       "      <td>NaN</td>\n",
       "      <td>NaN</td>\n",
       "      <td>NaN</td>\n",
       "      <td>NaN</td>\n",
       "      <td>NaN</td>\n",
       "      <td>NaN</td>\n",
       "      <td>NaN</td>\n",
       "      <td>NaN</td>\n",
       "      <td>NaN</td>\n",
       "    </tr>\n",
       "    <tr>\n",
       "      <th>3</th>\n",
       "      <td>NaN</td>\n",
       "      <td>NaN</td>\n",
       "      <td>NaN</td>\n",
       "      <td>NaN</td>\n",
       "      <td>NaN</td>\n",
       "      <td>NaN</td>\n",
       "      <td>NaN</td>\n",
       "      <td>NaN</td>\n",
       "      <td>NaN</td>\n",
       "      <td>NaN</td>\n",
       "    </tr>\n",
       "    <tr>\n",
       "      <th>4</th>\n",
       "      <td>ArnR;ArnR1</td>\n",
       "      <td>8.720300e-21</td>\n",
       "      <td>3.662526e-19</td>\n",
       "      <td>0.727273</td>\n",
       "      <td>1.0</td>\n",
       "      <td>0.842105</td>\n",
       "      <td>8.0</td>\n",
       "      <td>11.0</td>\n",
       "      <td>8.0</td>\n",
       "      <td>1.0</td>\n",
       "    </tr>\n",
       "  </tbody>\n",
       "</table>\n",
       "</div>"
      ],
      "text/plain": [
       "    regulator        pvalue        qvalue  precision  recall   f1score   TP  \\\n",
       "0         NaN           NaN           NaN        NaN     NaN       NaN  NaN   \n",
       "1         NaN           NaN           NaN        NaN     NaN       NaN  NaN   \n",
       "2         NaN           NaN           NaN        NaN     NaN       NaN  NaN   \n",
       "3         NaN           NaN           NaN        NaN     NaN       NaN  NaN   \n",
       "4  ArnR;ArnR1  8.720300e-21  3.662526e-19   0.727273     1.0  0.842105  8.0   \n",
       "\n",
       "   regulon_size  imodulon_size  n_regs  \n",
       "0           NaN            NaN     NaN  \n",
       "1           NaN            NaN     NaN  \n",
       "2           NaN            NaN     NaN  \n",
       "3           NaN            NaN     NaN  \n",
       "4          11.0            8.0     1.0  "
      ]
     },
     "execution_count": 12,
     "metadata": {},
     "output_type": "execute_result"
    }
   ],
   "source": [
    "ica_data.imodulon_table.head()"
   ]
  },
  {
   "cell_type": "code",
   "execution_count": 13,
   "metadata": {},
   "outputs": [
    {
     "data": {
      "text/plain": [
       "pvalue           1.209743e-19\n",
       "precision        1.000000e+00\n",
       "recall           8.750000e-01\n",
       "f1score          9.333333e-01\n",
       "TP               7.000000e+00\n",
       "regulon_size     7.000000e+00\n",
       "imodulon_size    8.000000e+00\n",
       "n_regs           2.000000e+00\n",
       "Name: ArnR;ArnR1+ArnA;ArnB, dtype: float64"
      ]
     },
     "execution_count": 13,
     "metadata": {},
     "output_type": "execute_result"
    }
   ],
   "source": [
    "ica_data.compute_regulon_enrichment(4,'ArnR;ArnR1+ArnA;ArnB',save=True)"
   ]
  },
  {
   "cell_type": "code",
   "execution_count": 14,
   "metadata": {},
   "outputs": [
    {
     "data": {
      "text/html": [
       "<div>\n",
       "<style scoped>\n",
       "    .dataframe tbody tr th:only-of-type {\n",
       "        vertical-align: middle;\n",
       "    }\n",
       "\n",
       "    .dataframe tbody tr th {\n",
       "        vertical-align: top;\n",
       "    }\n",
       "\n",
       "    .dataframe thead th {\n",
       "        text-align: right;\n",
       "    }\n",
       "</style>\n",
       "<table border=\"1\" class=\"dataframe\">\n",
       "  <thead>\n",
       "    <tr style=\"text-align: right;\">\n",
       "      <th></th>\n",
       "      <th>regulator</th>\n",
       "      <th>pvalue</th>\n",
       "      <th>qvalue</th>\n",
       "      <th>precision</th>\n",
       "      <th>recall</th>\n",
       "      <th>f1score</th>\n",
       "      <th>TP</th>\n",
       "      <th>regulon_size</th>\n",
       "      <th>imodulon_size</th>\n",
       "      <th>n_regs</th>\n",
       "    </tr>\n",
       "  </thead>\n",
       "  <tbody>\n",
       "    <tr>\n",
       "      <th>0</th>\n",
       "      <td>NaN</td>\n",
       "      <td>NaN</td>\n",
       "      <td>NaN</td>\n",
       "      <td>NaN</td>\n",
       "      <td>NaN</td>\n",
       "      <td>NaN</td>\n",
       "      <td>NaN</td>\n",
       "      <td>NaN</td>\n",
       "      <td>NaN</td>\n",
       "      <td>NaN</td>\n",
       "    </tr>\n",
       "    <tr>\n",
       "      <th>1</th>\n",
       "      <td>NaN</td>\n",
       "      <td>NaN</td>\n",
       "      <td>NaN</td>\n",
       "      <td>NaN</td>\n",
       "      <td>NaN</td>\n",
       "      <td>NaN</td>\n",
       "      <td>NaN</td>\n",
       "      <td>NaN</td>\n",
       "      <td>NaN</td>\n",
       "      <td>NaN</td>\n",
       "    </tr>\n",
       "    <tr>\n",
       "      <th>2</th>\n",
       "      <td>NaN</td>\n",
       "      <td>NaN</td>\n",
       "      <td>NaN</td>\n",
       "      <td>NaN</td>\n",
       "      <td>NaN</td>\n",
       "      <td>NaN</td>\n",
       "      <td>NaN</td>\n",
       "      <td>NaN</td>\n",
       "      <td>NaN</td>\n",
       "      <td>NaN</td>\n",
       "    </tr>\n",
       "    <tr>\n",
       "      <th>3</th>\n",
       "      <td>NaN</td>\n",
       "      <td>NaN</td>\n",
       "      <td>NaN</td>\n",
       "      <td>NaN</td>\n",
       "      <td>NaN</td>\n",
       "      <td>NaN</td>\n",
       "      <td>NaN</td>\n",
       "      <td>NaN</td>\n",
       "      <td>NaN</td>\n",
       "      <td>NaN</td>\n",
       "    </tr>\n",
       "    <tr>\n",
       "      <th>4</th>\n",
       "      <td>ArnR;ArnR1+ArnA;ArnB</td>\n",
       "      <td>1.209743e-19</td>\n",
       "      <td>3.662526e-19</td>\n",
       "      <td>1.0</td>\n",
       "      <td>0.875</td>\n",
       "      <td>0.933333</td>\n",
       "      <td>7.0</td>\n",
       "      <td>7.0</td>\n",
       "      <td>8.0</td>\n",
       "      <td>2.0</td>\n",
       "    </tr>\n",
       "  </tbody>\n",
       "</table>\n",
       "</div>"
      ],
      "text/plain": [
       "              regulator        pvalue        qvalue  precision  recall  \\\n",
       "0                   NaN           NaN           NaN        NaN     NaN   \n",
       "1                   NaN           NaN           NaN        NaN     NaN   \n",
       "2                   NaN           NaN           NaN        NaN     NaN   \n",
       "3                   NaN           NaN           NaN        NaN     NaN   \n",
       "4  ArnR;ArnR1+ArnA;ArnB  1.209743e-19  3.662526e-19        1.0   0.875   \n",
       "\n",
       "    f1score   TP  regulon_size  imodulon_size  n_regs  \n",
       "0       NaN  NaN           NaN            NaN     NaN  \n",
       "1       NaN  NaN           NaN            NaN     NaN  \n",
       "2       NaN  NaN           NaN            NaN     NaN  \n",
       "3       NaN  NaN           NaN            NaN     NaN  \n",
       "4  0.933333  7.0           7.0            8.0     2.0  "
      ]
     },
     "execution_count": 14,
     "metadata": {},
     "output_type": "execute_result"
    }
   ],
   "source": [
    "ica_data.imodulon_table.head()"
   ]
  },
  {
   "cell_type": "markdown",
   "metadata": {},
   "source": [
    "You can rename iModulons in this jupyter notebook, or you can save the iModulon table as a CSV and edit it in Excel."
   ]
  },
  {
   "cell_type": "code",
   "execution_count": 15,
   "metadata": {},
   "outputs": [
    {
     "data": {
      "text/html": [
       "<div>\n",
       "<style scoped>\n",
       "    .dataframe tbody tr th:only-of-type {\n",
       "        vertical-align: middle;\n",
       "    }\n",
       "\n",
       "    .dataframe tbody tr th {\n",
       "        vertical-align: top;\n",
       "    }\n",
       "\n",
       "    .dataframe thead th {\n",
       "        text-align: right;\n",
       "    }\n",
       "</style>\n",
       "<table border=\"1\" class=\"dataframe\">\n",
       "  <thead>\n",
       "    <tr style=\"text-align: right;\">\n",
       "      <th></th>\n",
       "      <th>regulator</th>\n",
       "      <th>pvalue</th>\n",
       "      <th>qvalue</th>\n",
       "      <th>precision</th>\n",
       "      <th>recall</th>\n",
       "      <th>f1score</th>\n",
       "      <th>TP</th>\n",
       "      <th>regulon_size</th>\n",
       "      <th>imodulon_size</th>\n",
       "      <th>n_regs</th>\n",
       "    </tr>\n",
       "  </thead>\n",
       "  <tbody>\n",
       "    <tr>\n",
       "      <th>4</th>\n",
       "      <td>ArnR;ArnR1+ArnA;ArnB</td>\n",
       "      <td>1.209743e-19</td>\n",
       "      <td>3.662526e-19</td>\n",
       "      <td>1.000000</td>\n",
       "      <td>0.875</td>\n",
       "      <td>0.933333</td>\n",
       "      <td>7.0</td>\n",
       "      <td>7.0</td>\n",
       "      <td>8.0</td>\n",
       "      <td>2.0</td>\n",
       "    </tr>\n",
       "    <tr>\n",
       "      <th>26</th>\n",
       "      <td>FadR</td>\n",
       "      <td>6.388367e-14</td>\n",
       "      <td>2.683114e-12</td>\n",
       "      <td>0.526316</td>\n",
       "      <td>0.250</td>\n",
       "      <td>0.338983</td>\n",
       "      <td>10.0</td>\n",
       "      <td>19.0</td>\n",
       "      <td>40.0</td>\n",
       "      <td>1.0</td>\n",
       "    </tr>\n",
       "  </tbody>\n",
       "</table>\n",
       "</div>"
      ],
      "text/plain": [
       "               regulator        pvalue        qvalue  precision  recall  \\\n",
       "4   ArnR;ArnR1+ArnA;ArnB  1.209743e-19  3.662526e-19   1.000000   0.875   \n",
       "26                  FadR  6.388367e-14  2.683114e-12   0.526316   0.250   \n",
       "\n",
       "     f1score    TP  regulon_size  imodulon_size  n_regs  \n",
       "4   0.933333   7.0           7.0            8.0     2.0  \n",
       "26  0.338983  10.0          19.0           40.0     1.0  "
      ]
     },
     "execution_count": 15,
     "metadata": {},
     "output_type": "execute_result"
    }
   ],
   "source": [
    "reg_entries = ica_data.imodulon_table[ica_data.imodulon_table.regulator.notnull()]\n",
    "reg_entries"
   ]
  },
  {
   "cell_type": "code",
   "execution_count": 16,
   "metadata": {},
   "outputs": [
    {
     "name": "stdout",
     "output_type": "stream",
     "text": [
      "[0, 1, 2, 3, 'ArnR;ArnR1+ArnA;ArnB']\n"
     ]
    }
   ],
   "source": [
    "ica_data.rename_imodulons(reg_entries.regulator.to_dict())\n",
    "print(ica_data.imodulon_names[:5])"
   ]
  },
  {
   "cell_type": "markdown",
   "metadata": {},
   "source": [
    "You can also manually rename iModulons with long names"
   ]
  },
  {
   "cell_type": "code",
   "execution_count": 17,
   "metadata": {},
   "outputs": [],
   "source": [
    "ica_data.rename_imodulons({'ArnR;ArnR1+ArnA;ArnB':'ArnRAB'})"
   ]
  },
  {
   "cell_type": "code",
   "execution_count": 18,
   "metadata": {},
   "outputs": [
    {
     "data": {
      "text/plain": [
       "[0, 1, 2, 3, 'ArnRAB']"
      ]
     },
     "execution_count": 18,
     "metadata": {},
     "output_type": "execute_result"
    }
   ],
   "source": [
    "ica_data.imodulon_names[:5]"
   ]
  },
  {
   "cell_type": "markdown",
   "metadata": {},
   "source": [
    "# Functional iModulons"
   ]
  },
  {
   "cell_type": "markdown",
   "metadata": {},
   "source": [
    "## GO Enrichments"
   ]
  },
  {
   "cell_type": "markdown",
   "metadata": {},
   "source": [
    "The `GO_annotations.csv` file was created from `gene_annotation.ipynb`."
   ]
  },
  {
   "cell_type": "code",
   "execution_count": 19,
   "metadata": {},
   "outputs": [
    {
     "data": {
      "text/html": [
       "<div>\n",
       "<style scoped>\n",
       "    .dataframe tbody tr th:only-of-type {\n",
       "        vertical-align: middle;\n",
       "    }\n",
       "\n",
       "    .dataframe tbody tr th {\n",
       "        vertical-align: top;\n",
       "    }\n",
       "\n",
       "    .dataframe thead th {\n",
       "        text-align: right;\n",
       "    }\n",
       "</style>\n",
       "<table border=\"1\" class=\"dataframe\">\n",
       "  <thead>\n",
       "    <tr style=\"text-align: right;\">\n",
       "      <th></th>\n",
       "      <th>gene_id</th>\n",
       "      <th>gene_ontology</th>\n",
       "    </tr>\n",
       "  </thead>\n",
       "  <tbody>\n",
       "    <tr>\n",
       "      <th>0</th>\n",
       "      <td>SACI_RS05325</td>\n",
       "      <td>glycerol kinase activity</td>\n",
       "    </tr>\n",
       "    <tr>\n",
       "      <th>1</th>\n",
       "      <td>SACI_RS05325</td>\n",
       "      <td>glycerol metabolic process</td>\n",
       "    </tr>\n",
       "    <tr>\n",
       "      <th>2</th>\n",
       "      <td>SACI_RS05525</td>\n",
       "      <td>maltose alpha-glucosidase activity</td>\n",
       "    </tr>\n",
       "    <tr>\n",
       "      <th>3</th>\n",
       "      <td>SACI_RS05590</td>\n",
       "      <td>protein binding</td>\n",
       "    </tr>\n",
       "    <tr>\n",
       "      <th>4</th>\n",
       "      <td>SACI_RS05600</td>\n",
       "      <td>identical protein binding</td>\n",
       "    </tr>\n",
       "  </tbody>\n",
       "</table>\n",
       "</div>"
      ],
      "text/plain": [
       "        gene_id                       gene_ontology\n",
       "0  SACI_RS05325            glycerol kinase activity\n",
       "1  SACI_RS05325          glycerol metabolic process\n",
       "2  SACI_RS05525  maltose alpha-glucosidase activity\n",
       "3  SACI_RS05590                     protein binding\n",
       "4  SACI_RS05600           identical protein binding"
      ]
     },
     "execution_count": 19,
     "metadata": {},
     "output_type": "execute_result"
    }
   ],
   "source": [
    "DF_GO = pd.read_csv(path.join(data_dir,'GO_annotations.csv'),index_col=0)\n",
    "DF_GO.head()"
   ]
  },
  {
   "cell_type": "code",
   "execution_count": 20,
   "metadata": {},
   "outputs": [],
   "source": [
    "DF_GO_enrich = ica_data.compute_annotation_enrichment(DF_GO,'gene_ontology')"
   ]
  },
  {
   "cell_type": "code",
   "execution_count": 21,
   "metadata": {},
   "outputs": [],
   "source": [
    "DF_GO_enrich.to_csv(path.join(data_dir,'GO_enrichments.csv'))"
   ]
  },
  {
   "cell_type": "markdown",
   "metadata": {},
   "source": [
    "## KEGG Enrichments"
   ]
  },
  {
   "cell_type": "markdown",
   "metadata": {},
   "source": [
    "### Load KEGG mapping\n",
    "The `kegg_mapping.csv` file was created from `gene_annotation.ipynb`. This contains KEGG orthologies, pathways, modules, and reactions. Only pathways and modules are relevant to iModulon characterization."
   ]
  },
  {
   "cell_type": "code",
   "execution_count": 22,
   "metadata": {},
   "outputs": [
    {
     "name": "stdout",
     "output_type": "stream",
     "text": [
      "['KEGG_pathway' 'KEGG_module' 'KEGG_reaction']\n"
     ]
    },
    {
     "data": {
      "text/html": [
       "<div>\n",
       "<style scoped>\n",
       "    .dataframe tbody tr th:only-of-type {\n",
       "        vertical-align: middle;\n",
       "    }\n",
       "\n",
       "    .dataframe tbody tr th {\n",
       "        vertical-align: top;\n",
       "    }\n",
       "\n",
       "    .dataframe thead th {\n",
       "        text-align: right;\n",
       "    }\n",
       "</style>\n",
       "<table border=\"1\" class=\"dataframe\">\n",
       "  <thead>\n",
       "    <tr style=\"text-align: right;\">\n",
       "      <th></th>\n",
       "      <th>gene_id</th>\n",
       "      <th>database</th>\n",
       "      <th>kegg_id</th>\n",
       "    </tr>\n",
       "  </thead>\n",
       "  <tbody>\n",
       "    <tr>\n",
       "      <th>1045</th>\n",
       "      <td>SACI_RS00040</td>\n",
       "      <td>KEGG_pathway</td>\n",
       "      <td>map00760</td>\n",
       "    </tr>\n",
       "    <tr>\n",
       "      <th>1046</th>\n",
       "      <td>SACI_RS00040</td>\n",
       "      <td>KEGG_pathway</td>\n",
       "      <td>map01100</td>\n",
       "    </tr>\n",
       "    <tr>\n",
       "      <th>1048</th>\n",
       "      <td>SACI_RS00060</td>\n",
       "      <td>KEGG_pathway</td>\n",
       "      <td>map00230</td>\n",
       "    </tr>\n",
       "    <tr>\n",
       "      <th>1050</th>\n",
       "      <td>SACI_RS00070</td>\n",
       "      <td>KEGG_pathway</td>\n",
       "      <td>map03410</td>\n",
       "    </tr>\n",
       "    <tr>\n",
       "      <th>1055</th>\n",
       "      <td>SACI_RS00085</td>\n",
       "      <td>KEGG_pathway</td>\n",
       "      <td>map00361</td>\n",
       "    </tr>\n",
       "  </tbody>\n",
       "</table>\n",
       "</div>"
      ],
      "text/plain": [
       "           gene_id      database   kegg_id\n",
       "1045  SACI_RS00040  KEGG_pathway  map00760\n",
       "1046  SACI_RS00040  KEGG_pathway  map01100\n",
       "1048  SACI_RS00060  KEGG_pathway  map00230\n",
       "1050  SACI_RS00070  KEGG_pathway  map03410\n",
       "1055  SACI_RS00085  KEGG_pathway  map00361"
      ]
     },
     "execution_count": 22,
     "metadata": {},
     "output_type": "execute_result"
    }
   ],
   "source": [
    "DF_KEGG = pd.read_csv(path.join(data_dir,'kegg_mapping.csv'),index_col=0)\n",
    "print(DF_KEGG.database.unique())\n",
    "DF_KEGG.head()"
   ]
  },
  {
   "cell_type": "code",
   "execution_count": 23,
   "metadata": {},
   "outputs": [],
   "source": [
    "kegg_pathways = DF_KEGG[DF_KEGG.database == 'KEGG_pathway']\n",
    "kegg_modules = DF_KEGG[DF_KEGG.database == 'KEGG_module']"
   ]
  },
  {
   "cell_type": "markdown",
   "metadata": {},
   "source": [
    "### Perform enrichment\n",
    "Uses the `compute_annotation_enrichment` function"
   ]
  },
  {
   "cell_type": "code",
   "execution_count": 24,
   "metadata": {},
   "outputs": [],
   "source": [
    "DF_pathway_enrich = ica_data.compute_annotation_enrichment(kegg_pathways,'kegg_id')\n",
    "DF_module_enrich = ica_data.compute_annotation_enrichment(kegg_modules,'kegg_id')"
   ]
  },
  {
   "cell_type": "code",
   "execution_count": 25,
   "metadata": {},
   "outputs": [
    {
     "data": {
      "text/html": [
       "<div>\n",
       "<style scoped>\n",
       "    .dataframe tbody tr th:only-of-type {\n",
       "        vertical-align: middle;\n",
       "    }\n",
       "\n",
       "    .dataframe tbody tr th {\n",
       "        vertical-align: top;\n",
       "    }\n",
       "\n",
       "    .dataframe thead th {\n",
       "        text-align: right;\n",
       "    }\n",
       "</style>\n",
       "<table border=\"1\" class=\"dataframe\">\n",
       "  <thead>\n",
       "    <tr style=\"text-align: right;\">\n",
       "      <th></th>\n",
       "      <th>imodulon</th>\n",
       "      <th>kegg_id</th>\n",
       "      <th>pvalue</th>\n",
       "      <th>qvalue</th>\n",
       "      <th>precision</th>\n",
       "      <th>recall</th>\n",
       "      <th>f1score</th>\n",
       "      <th>TP</th>\n",
       "      <th>target_set_size</th>\n",
       "      <th>imodulon_size</th>\n",
       "    </tr>\n",
       "  </thead>\n",
       "  <tbody>\n",
       "    <tr>\n",
       "      <th>0</th>\n",
       "      <td>1</td>\n",
       "      <td>map00920</td>\n",
       "      <td>7.583891e-09</td>\n",
       "      <td>0.000001</td>\n",
       "      <td>0.444444</td>\n",
       "      <td>0.500000</td>\n",
       "      <td>0.470588</td>\n",
       "      <td>4.0</td>\n",
       "      <td>9.0</td>\n",
       "      <td>8.0</td>\n",
       "    </tr>\n",
       "    <tr>\n",
       "      <th>1</th>\n",
       "      <td>1</td>\n",
       "      <td>map01120</td>\n",
       "      <td>5.148720e-05</td>\n",
       "      <td>0.005071</td>\n",
       "      <td>0.033557</td>\n",
       "      <td>0.625000</td>\n",
       "      <td>0.063694</td>\n",
       "      <td>5.0</td>\n",
       "      <td>149.0</td>\n",
       "      <td>8.0</td>\n",
       "    </tr>\n",
       "    <tr>\n",
       "      <th>2</th>\n",
       "      <td>9</td>\n",
       "      <td>map00633</td>\n",
       "      <td>8.768797e-08</td>\n",
       "      <td>0.000017</td>\n",
       "      <td>1.000000</td>\n",
       "      <td>0.097561</td>\n",
       "      <td>0.177778</td>\n",
       "      <td>4.0</td>\n",
       "      <td>4.0</td>\n",
       "      <td>41.0</td>\n",
       "    </tr>\n",
       "    <tr>\n",
       "      <th>3</th>\n",
       "      <td>9</td>\n",
       "      <td>map00620</td>\n",
       "      <td>2.566049e-07</td>\n",
       "      <td>0.000025</td>\n",
       "      <td>0.200000</td>\n",
       "      <td>0.195122</td>\n",
       "      <td>0.197531</td>\n",
       "      <td>8.0</td>\n",
       "      <td>40.0</td>\n",
       "      <td>41.0</td>\n",
       "    </tr>\n",
       "    <tr>\n",
       "      <th>4</th>\n",
       "      <td>9</td>\n",
       "      <td>map00680</td>\n",
       "      <td>9.621038e-06</td>\n",
       "      <td>0.000632</td>\n",
       "      <td>0.200000</td>\n",
       "      <td>0.146341</td>\n",
       "      <td>0.169014</td>\n",
       "      <td>6.0</td>\n",
       "      <td>30.0</td>\n",
       "      <td>41.0</td>\n",
       "    </tr>\n",
       "  </tbody>\n",
       "</table>\n",
       "</div>"
      ],
      "text/plain": [
       "  imodulon   kegg_id        pvalue    qvalue  precision    recall   f1score  \\\n",
       "0        1  map00920  7.583891e-09  0.000001   0.444444  0.500000  0.470588   \n",
       "1        1  map01120  5.148720e-05  0.005071   0.033557  0.625000  0.063694   \n",
       "2        9  map00633  8.768797e-08  0.000017   1.000000  0.097561  0.177778   \n",
       "3        9  map00620  2.566049e-07  0.000025   0.200000  0.195122  0.197531   \n",
       "4        9  map00680  9.621038e-06  0.000632   0.200000  0.146341  0.169014   \n",
       "\n",
       "    TP  target_set_size  imodulon_size  \n",
       "0  4.0              9.0            8.0  \n",
       "1  5.0            149.0            8.0  \n",
       "2  4.0              4.0           41.0  \n",
       "3  8.0             40.0           41.0  \n",
       "4  6.0             30.0           41.0  "
      ]
     },
     "execution_count": 25,
     "metadata": {},
     "output_type": "execute_result"
    }
   ],
   "source": [
    "DF_pathway_enrich.head()"
   ]
  },
  {
   "cell_type": "code",
   "execution_count": 26,
   "metadata": {},
   "outputs": [
    {
     "data": {
      "text/html": [
       "<div>\n",
       "<style scoped>\n",
       "    .dataframe tbody tr th:only-of-type {\n",
       "        vertical-align: middle;\n",
       "    }\n",
       "\n",
       "    .dataframe tbody tr th {\n",
       "        vertical-align: top;\n",
       "    }\n",
       "\n",
       "    .dataframe thead th {\n",
       "        text-align: right;\n",
       "    }\n",
       "</style>\n",
       "<table border=\"1\" class=\"dataframe\">\n",
       "  <thead>\n",
       "    <tr style=\"text-align: right;\">\n",
       "      <th></th>\n",
       "      <th>imodulon</th>\n",
       "      <th>kegg_id</th>\n",
       "      <th>pvalue</th>\n",
       "      <th>qvalue</th>\n",
       "      <th>precision</th>\n",
       "      <th>recall</th>\n",
       "      <th>f1score</th>\n",
       "      <th>TP</th>\n",
       "      <th>target_set_size</th>\n",
       "      <th>imodulon_size</th>\n",
       "    </tr>\n",
       "  </thead>\n",
       "  <tbody>\n",
       "    <tr>\n",
       "      <th>0</th>\n",
       "      <td>1</td>\n",
       "      <td>M00176</td>\n",
       "      <td>2.779658e-08</td>\n",
       "      <td>0.000005</td>\n",
       "      <td>1.000000</td>\n",
       "      <td>0.375000</td>\n",
       "      <td>0.545455</td>\n",
       "      <td>3.0</td>\n",
       "      <td>3.0</td>\n",
       "      <td>8.0</td>\n",
       "    </tr>\n",
       "    <tr>\n",
       "      <th>1</th>\n",
       "      <td>9</td>\n",
       "      <td>M00307</td>\n",
       "      <td>1.281569e-06</td>\n",
       "      <td>0.000218</td>\n",
       "      <td>0.666667</td>\n",
       "      <td>0.097561</td>\n",
       "      <td>0.170213</td>\n",
       "      <td>4.0</td>\n",
       "      <td>6.0</td>\n",
       "      <td>41.0</td>\n",
       "    </tr>\n",
       "    <tr>\n",
       "      <th>2</th>\n",
       "      <td>9</td>\n",
       "      <td>M00620</td>\n",
       "      <td>3.912129e-05</td>\n",
       "      <td>0.003325</td>\n",
       "      <td>0.333333</td>\n",
       "      <td>0.097561</td>\n",
       "      <td>0.150943</td>\n",
       "      <td>4.0</td>\n",
       "      <td>12.0</td>\n",
       "      <td>41.0</td>\n",
       "    </tr>\n",
       "    <tr>\n",
       "      <th>3</th>\n",
       "      <td>9</td>\n",
       "      <td>M00173</td>\n",
       "      <td>3.451772e-04</td>\n",
       "      <td>0.019560</td>\n",
       "      <td>0.200000</td>\n",
       "      <td>0.097561</td>\n",
       "      <td>0.131148</td>\n",
       "      <td>4.0</td>\n",
       "      <td>20.0</td>\n",
       "      <td>41.0</td>\n",
       "    </tr>\n",
       "    <tr>\n",
       "      <th>4</th>\n",
       "      <td>9</td>\n",
       "      <td>M00374</td>\n",
       "      <td>1.944239e-03</td>\n",
       "      <td>0.082630</td>\n",
       "      <td>0.129032</td>\n",
       "      <td>0.097561</td>\n",
       "      <td>0.111111</td>\n",
       "      <td>4.0</td>\n",
       "      <td>31.0</td>\n",
       "      <td>41.0</td>\n",
       "    </tr>\n",
       "  </tbody>\n",
       "</table>\n",
       "</div>"
      ],
      "text/plain": [
       "  imodulon kegg_id        pvalue    qvalue  precision    recall   f1score  \\\n",
       "0        1  M00176  2.779658e-08  0.000005   1.000000  0.375000  0.545455   \n",
       "1        9  M00307  1.281569e-06  0.000218   0.666667  0.097561  0.170213   \n",
       "2        9  M00620  3.912129e-05  0.003325   0.333333  0.097561  0.150943   \n",
       "3        9  M00173  3.451772e-04  0.019560   0.200000  0.097561  0.131148   \n",
       "4        9  M00374  1.944239e-03  0.082630   0.129032  0.097561  0.111111   \n",
       "\n",
       "    TP  target_set_size  imodulon_size  \n",
       "0  3.0              3.0            8.0  \n",
       "1  4.0              6.0           41.0  \n",
       "2  4.0             12.0           41.0  \n",
       "3  4.0             20.0           41.0  \n",
       "4  4.0             31.0           41.0  "
      ]
     },
     "execution_count": 26,
     "metadata": {},
     "output_type": "execute_result"
    }
   ],
   "source": [
    "DF_module_enrich.head()"
   ]
  },
  {
   "cell_type": "markdown",
   "metadata": {},
   "source": [
    "### Convert KEGG IDs to human-readable names"
   ]
  },
  {
   "cell_type": "code",
   "execution_count": 33,
   "metadata": {},
   "outputs": [
    {
     "data": {
      "application/vnd.jupyter.widget-view+json": {
       "model_id": "086c639f3a9b477cbe97e851d38d7b3e",
       "version_major": 2,
       "version_minor": 0
      },
      "text/plain": [
       "HBox(children=(FloatProgress(value=0.0, max=45.0), HTML(value='')))"
      ]
     },
     "metadata": {},
     "output_type": "display_data"
    },
    {
     "name": "stdout",
     "output_type": "stream",
     "text": [
      "\n"
     ]
    },
    {
     "data": {
      "application/vnd.jupyter.widget-view+json": {
       "model_id": "1803630be8624921ab120ffbce1b3543",
       "version_major": 2,
       "version_minor": 0
      },
      "text/plain": [
       "HBox(children=(FloatProgress(value=0.0, max=39.0), HTML(value='')))"
      ]
     },
     "metadata": {},
     "output_type": "display_data"
    },
    {
     "name": "stdout",
     "output_type": "stream",
     "text": [
      "\n"
     ]
    }
   ],
   "source": [
    "for idx,key in tqdm(DF_pathway_enrich.kegg_id.items(),total=len(DF_pathway_enrich)):\n",
    "    text = REST.kegg_find('pathway',key).read()\n",
    "    try:\n",
    "        name = re.search('\\t(.*)\\n',text).group(1)\n",
    "        DF_pathway_enrich.loc[idx,'pathway_name'] = name\n",
    "    except AttributeError:\n",
    "        DF_pathway_enrich.loc[idx,'pathway_name'] = None\n",
    "    \n",
    "for idx,key in tqdm(DF_module_enrich.kegg_id.items(),total=len(DF_module_enrich)):\n",
    "    text = REST.kegg_find('module',key).read()\n",
    "    try:\n",
    "        name = re.search('\\t(.*)\\n',text).group(1)\n",
    "        DF_module_enrich.loc[idx,'module_name'] = name\n",
    "    except AttributeError:\n",
    "        DF_module_enrich.loc[idx,'module_name'] = None"
   ]
  },
  {
   "cell_type": "code",
   "execution_count": 34,
   "metadata": {},
   "outputs": [
    {
     "data": {
      "text/html": [
       "<div>\n",
       "<style scoped>\n",
       "    .dataframe tbody tr th:only-of-type {\n",
       "        vertical-align: middle;\n",
       "    }\n",
       "\n",
       "    .dataframe tbody tr th {\n",
       "        vertical-align: top;\n",
       "    }\n",
       "\n",
       "    .dataframe thead th {\n",
       "        text-align: right;\n",
       "    }\n",
       "</style>\n",
       "<table border=\"1\" class=\"dataframe\">\n",
       "  <thead>\n",
       "    <tr style=\"text-align: right;\">\n",
       "      <th></th>\n",
       "      <th>imodulon</th>\n",
       "      <th>kegg_id</th>\n",
       "      <th>pvalue</th>\n",
       "      <th>qvalue</th>\n",
       "      <th>precision</th>\n",
       "      <th>recall</th>\n",
       "      <th>f1score</th>\n",
       "      <th>TP</th>\n",
       "      <th>target_set_size</th>\n",
       "      <th>imodulon_size</th>\n",
       "      <th>pathway_name</th>\n",
       "    </tr>\n",
       "  </thead>\n",
       "  <tbody>\n",
       "    <tr>\n",
       "      <th>0</th>\n",
       "      <td>1</td>\n",
       "      <td>map00920</td>\n",
       "      <td>7.583891e-09</td>\n",
       "      <td>0.000001</td>\n",
       "      <td>0.444444</td>\n",
       "      <td>0.500000</td>\n",
       "      <td>0.470588</td>\n",
       "      <td>4.0</td>\n",
       "      <td>9.0</td>\n",
       "      <td>8.0</td>\n",
       "      <td>Sulfur metabolism</td>\n",
       "    </tr>\n",
       "    <tr>\n",
       "      <th>1</th>\n",
       "      <td>1</td>\n",
       "      <td>map01120</td>\n",
       "      <td>5.148720e-05</td>\n",
       "      <td>0.005071</td>\n",
       "      <td>0.033557</td>\n",
       "      <td>0.625000</td>\n",
       "      <td>0.063694</td>\n",
       "      <td>5.0</td>\n",
       "      <td>149.0</td>\n",
       "      <td>8.0</td>\n",
       "      <td>Microbial metabolism in diverse environments</td>\n",
       "    </tr>\n",
       "    <tr>\n",
       "      <th>2</th>\n",
       "      <td>9</td>\n",
       "      <td>map00633</td>\n",
       "      <td>8.768797e-08</td>\n",
       "      <td>0.000017</td>\n",
       "      <td>1.000000</td>\n",
       "      <td>0.097561</td>\n",
       "      <td>0.177778</td>\n",
       "      <td>4.0</td>\n",
       "      <td>4.0</td>\n",
       "      <td>41.0</td>\n",
       "      <td>Nitrotoluene degradation</td>\n",
       "    </tr>\n",
       "    <tr>\n",
       "      <th>3</th>\n",
       "      <td>9</td>\n",
       "      <td>map00620</td>\n",
       "      <td>2.566049e-07</td>\n",
       "      <td>0.000025</td>\n",
       "      <td>0.200000</td>\n",
       "      <td>0.195122</td>\n",
       "      <td>0.197531</td>\n",
       "      <td>8.0</td>\n",
       "      <td>40.0</td>\n",
       "      <td>41.0</td>\n",
       "      <td>Pyruvate metabolism</td>\n",
       "    </tr>\n",
       "    <tr>\n",
       "      <th>4</th>\n",
       "      <td>9</td>\n",
       "      <td>map00680</td>\n",
       "      <td>9.621038e-06</td>\n",
       "      <td>0.000632</td>\n",
       "      <td>0.200000</td>\n",
       "      <td>0.146341</td>\n",
       "      <td>0.169014</td>\n",
       "      <td>6.0</td>\n",
       "      <td>30.0</td>\n",
       "      <td>41.0</td>\n",
       "      <td>Methane metabolism</td>\n",
       "    </tr>\n",
       "  </tbody>\n",
       "</table>\n",
       "</div>"
      ],
      "text/plain": [
       "  imodulon   kegg_id        pvalue    qvalue  precision    recall   f1score  \\\n",
       "0        1  map00920  7.583891e-09  0.000001   0.444444  0.500000  0.470588   \n",
       "1        1  map01120  5.148720e-05  0.005071   0.033557  0.625000  0.063694   \n",
       "2        9  map00633  8.768797e-08  0.000017   1.000000  0.097561  0.177778   \n",
       "3        9  map00620  2.566049e-07  0.000025   0.200000  0.195122  0.197531   \n",
       "4        9  map00680  9.621038e-06  0.000632   0.200000  0.146341  0.169014   \n",
       "\n",
       "    TP  target_set_size  imodulon_size  \\\n",
       "0  4.0              9.0            8.0   \n",
       "1  5.0            149.0            8.0   \n",
       "2  4.0              4.0           41.0   \n",
       "3  8.0             40.0           41.0   \n",
       "4  6.0             30.0           41.0   \n",
       "\n",
       "                                   pathway_name  \n",
       "0                             Sulfur metabolism  \n",
       "1  Microbial metabolism in diverse environments  \n",
       "2                      Nitrotoluene degradation  \n",
       "3                           Pyruvate metabolism  \n",
       "4                            Methane metabolism  "
      ]
     },
     "execution_count": 34,
     "metadata": {},
     "output_type": "execute_result"
    }
   ],
   "source": [
    "DF_pathway_enrich.head()"
   ]
  },
  {
   "cell_type": "code",
   "execution_count": 35,
   "metadata": {},
   "outputs": [
    {
     "data": {
      "text/html": [
       "<div>\n",
       "<style scoped>\n",
       "    .dataframe tbody tr th:only-of-type {\n",
       "        vertical-align: middle;\n",
       "    }\n",
       "\n",
       "    .dataframe tbody tr th {\n",
       "        vertical-align: top;\n",
       "    }\n",
       "\n",
       "    .dataframe thead th {\n",
       "        text-align: right;\n",
       "    }\n",
       "</style>\n",
       "<table border=\"1\" class=\"dataframe\">\n",
       "  <thead>\n",
       "    <tr style=\"text-align: right;\">\n",
       "      <th></th>\n",
       "      <th>imodulon</th>\n",
       "      <th>kegg_id</th>\n",
       "      <th>pvalue</th>\n",
       "      <th>qvalue</th>\n",
       "      <th>precision</th>\n",
       "      <th>recall</th>\n",
       "      <th>f1score</th>\n",
       "      <th>TP</th>\n",
       "      <th>target_set_size</th>\n",
       "      <th>imodulon_size</th>\n",
       "      <th>module_name</th>\n",
       "    </tr>\n",
       "  </thead>\n",
       "  <tbody>\n",
       "    <tr>\n",
       "      <th>0</th>\n",
       "      <td>1</td>\n",
       "      <td>M00176</td>\n",
       "      <td>2.779658e-08</td>\n",
       "      <td>0.000005</td>\n",
       "      <td>1.000000</td>\n",
       "      <td>0.375000</td>\n",
       "      <td>0.545455</td>\n",
       "      <td>3.0</td>\n",
       "      <td>3.0</td>\n",
       "      <td>8.0</td>\n",
       "      <td>Assimilatory sulfate reduction, sulfate =&gt; H2S</td>\n",
       "    </tr>\n",
       "    <tr>\n",
       "      <th>1</th>\n",
       "      <td>9</td>\n",
       "      <td>M00307</td>\n",
       "      <td>1.281569e-06</td>\n",
       "      <td>0.000218</td>\n",
       "      <td>0.666667</td>\n",
       "      <td>0.097561</td>\n",
       "      <td>0.170213</td>\n",
       "      <td>4.0</td>\n",
       "      <td>6.0</td>\n",
       "      <td>41.0</td>\n",
       "      <td>Pyruvate oxidation, pyruvate =&gt; acetyl-CoA</td>\n",
       "    </tr>\n",
       "    <tr>\n",
       "      <th>2</th>\n",
       "      <td>9</td>\n",
       "      <td>M00620</td>\n",
       "      <td>3.912129e-05</td>\n",
       "      <td>0.003325</td>\n",
       "      <td>0.333333</td>\n",
       "      <td>0.097561</td>\n",
       "      <td>0.150943</td>\n",
       "      <td>4.0</td>\n",
       "      <td>12.0</td>\n",
       "      <td>41.0</td>\n",
       "      <td>Incomplete reductive citrate cycle, acetyl-CoA...</td>\n",
       "    </tr>\n",
       "    <tr>\n",
       "      <th>3</th>\n",
       "      <td>9</td>\n",
       "      <td>M00173</td>\n",
       "      <td>3.451772e-04</td>\n",
       "      <td>0.019560</td>\n",
       "      <td>0.200000</td>\n",
       "      <td>0.097561</td>\n",
       "      <td>0.131148</td>\n",
       "      <td>4.0</td>\n",
       "      <td>20.0</td>\n",
       "      <td>41.0</td>\n",
       "      <td>Reductive citrate cycle (Arnon-Buchanan cycle)</td>\n",
       "    </tr>\n",
       "    <tr>\n",
       "      <th>4</th>\n",
       "      <td>9</td>\n",
       "      <td>M00374</td>\n",
       "      <td>1.944239e-03</td>\n",
       "      <td>0.082630</td>\n",
       "      <td>0.129032</td>\n",
       "      <td>0.097561</td>\n",
       "      <td>0.111111</td>\n",
       "      <td>4.0</td>\n",
       "      <td>31.0</td>\n",
       "      <td>41.0</td>\n",
       "      <td>Dicarboxylate-hydroxybutyrate cycle</td>\n",
       "    </tr>\n",
       "  </tbody>\n",
       "</table>\n",
       "</div>"
      ],
      "text/plain": [
       "  imodulon kegg_id        pvalue    qvalue  precision    recall   f1score  \\\n",
       "0        1  M00176  2.779658e-08  0.000005   1.000000  0.375000  0.545455   \n",
       "1        9  M00307  1.281569e-06  0.000218   0.666667  0.097561  0.170213   \n",
       "2        9  M00620  3.912129e-05  0.003325   0.333333  0.097561  0.150943   \n",
       "3        9  M00173  3.451772e-04  0.019560   0.200000  0.097561  0.131148   \n",
       "4        9  M00374  1.944239e-03  0.082630   0.129032  0.097561  0.111111   \n",
       "\n",
       "    TP  target_set_size  imodulon_size  \\\n",
       "0  3.0              3.0            8.0   \n",
       "1  4.0              6.0           41.0   \n",
       "2  4.0             12.0           41.0   \n",
       "3  4.0             20.0           41.0   \n",
       "4  4.0             31.0           41.0   \n",
       "\n",
       "                                         module_name  \n",
       "0     Assimilatory sulfate reduction, sulfate => H2S  \n",
       "1         Pyruvate oxidation, pyruvate => acetyl-CoA  \n",
       "2  Incomplete reductive citrate cycle, acetyl-CoA...  \n",
       "3     Reductive citrate cycle (Arnon-Buchanan cycle)  \n",
       "4                Dicarboxylate-hydroxybutyrate cycle  "
      ]
     },
     "execution_count": 35,
     "metadata": {},
     "output_type": "execute_result"
    }
   ],
   "source": [
    "DF_module_enrich.head()"
   ]
  },
  {
   "cell_type": "markdown",
   "metadata": {},
   "source": [
    "### Save files"
   ]
  },
  {
   "cell_type": "code",
   "execution_count": 29,
   "metadata": {},
   "outputs": [],
   "source": [
    "DF_pathway_enrich.to_csv(path.join(data_dir,'kegg_pathway_enrichments.csv'))\n",
    "DF_pathway_enrich.to_csv(path.join(data_dir,'kegg_module_enrichments.csv'))"
   ]
  },
  {
   "cell_type": "markdown",
   "metadata": {},
   "source": [
    "# Check for single gene iModulons"
   ]
  },
  {
   "cell_type": "code",
   "execution_count": 30,
   "metadata": {},
   "outputs": [],
   "source": [
    "sg_imods = ica_data.find_single_gene_imodulons(save=True)"
   ]
  },
  {
   "cell_type": "code",
   "execution_count": 31,
   "metadata": {},
   "outputs": [],
   "source": [
    "for i,mod in enumerate(sg_imods):\n",
    "    ica_data.rename_imodulons({mod:'single_gene_'+str(i+1)})"
   ]
  },
  {
   "cell_type": "code",
   "execution_count": 32,
   "metadata": {},
   "outputs": [
    {
     "data": {
      "text/plain": [
       "[0, 1, 2, 'single_gene_1', 'ArnRAB']"
      ]
     },
     "execution_count": 32,
     "metadata": {},
     "output_type": "execute_result"
    }
   ],
   "source": [
    "ica_data.imodulon_names[:5]"
   ]
  },
  {
   "cell_type": "markdown",
   "metadata": {},
   "source": [
    "# Compare against published iModulons\n",
    "We can use the `compare_ica` function to compare iModulons across different organisms. To do so, you must provide the path to a Bidirection Best Hist CSV between your two organisms of interest.\n",
    "\n",
    "A Github repository containing many BBH CSV's can be found at the following\n",
    "link: https://github.com/SBRG/modulome_compare_data/tree/master/bbh_csv\n",
    "\n",
    "You can also provide a path to your own BBH file, as long as it contains the\n",
    "columns \"**gene**\" and \"**target**\"\n",
    "\n",
    "See the `Tutorial.ipynb` notebook for more information"
   ]
  },
  {
   "cell_type": "code",
   "execution_count": 33,
   "metadata": {},
   "outputs": [],
   "source": [
    "from pymodulon.compare import *\n",
    "from pymodulon.io import *"
   ]
  },
  {
   "cell_type": "code",
   "execution_count": 34,
   "metadata": {},
   "outputs": [],
   "source": [
    "ecoli_data = load_json_model('../example_data/example.json')"
   ]
  },
  {
   "cell_type": "code",
   "execution_count": 35,
   "metadata": {},
   "outputs": [
    {
     "name": "stderr",
     "output_type": "stream",
     "text": [
      "/home/anand/PycharmProjects/pymodulon/pymodulon/compare.py:203: UserWarning: Please ensure that the order of S1 and S2 match the order of the BBH CSV file\n",
      "  warnings.warn(\"Please ensure that the order of S1 and S2 match the \"\n",
      "100%|██████████| 92/92 [00:00<00:00, 292.61it/s]\n"
     ]
    },
    {
     "data": {
      "image/svg+xml": [
       "<?xml version=\"1.0\" encoding=\"UTF-8\" standalone=\"no\"?>\n",
       "<!DOCTYPE svg PUBLIC \"-//W3C//DTD SVG 1.1//EN\"\n",
       " \"http://www.w3.org/Graphics/SVG/1.1/DTD/svg11.dtd\">\n",
       "<!-- Generated by graphviz version 2.40.1 (20161225.0304)\n",
       " -->\n",
       "<!-- Title: %3 Pages: 1 -->\n",
       "<svg width=\"215pt\" height=\"204pt\"\n",
       " viewBox=\"0.00 0.00 214.50 204.00\" xmlns=\"http://www.w3.org/2000/svg\" xmlns:xlink=\"http://www.w3.org/1999/xlink\">\n",
       "<g id=\"graph0\" class=\"graph\" transform=\"scale(1 1) rotate(0) translate(4 200)\">\n",
       "<title>%3</title>\n",
       "<polygon fill=\"#ffffff\" stroke=\"transparent\" points=\"-4,4 -4,-200 210.5,-200 210.5,4 -4,4\"/>\n",
       "<!-- data2_1 -->\n",
       "<g id=\"node1\" class=\"node\">\n",
       "<title>data2_1</title>\n",
       "<text text-anchor=\"middle\" x=\"29.5\" y=\"-116.3\" font-family=\"Helvetica,sans-Serif\" font-size=\"14.00\" fill=\"#000000\">1</text>\n",
       "</g>\n",
       "<!-- data2_23 -->\n",
       "<g id=\"node2\" class=\"node\">\n",
       "<title>data2_23</title>\n",
       "<text text-anchor=\"middle\" x=\"105.5\" y=\"-116.3\" font-family=\"Helvetica,sans-Serif\" font-size=\"14.00\" fill=\"#000000\">23</text>\n",
       "</g>\n",
       "<!-- data2_25 -->\n",
       "<g id=\"node3\" class=\"node\">\n",
       "<title>data2_25</title>\n",
       "<text text-anchor=\"middle\" x=\"179.5\" y=\"-116.3\" font-family=\"Helvetica,sans-Serif\" font-size=\"14.00\" fill=\"#000000\">25</text>\n",
       "</g>\n",
       "<!-- data2_29 -->\n",
       "<g id=\"node4\" class=\"node\">\n",
       "<title>data2_29</title>\n",
       "<text text-anchor=\"middle\" x=\"29.5\" y=\"-14.3\" font-family=\"Helvetica,sans-Serif\" font-size=\"14.00\" fill=\"#000000\">29</text>\n",
       "</g>\n",
       "<!-- data2_FadR -->\n",
       "<g id=\"node5\" class=\"node\">\n",
       "<title>data2_FadR</title>\n",
       "<text text-anchor=\"middle\" x=\"105.5\" y=\"-14.3\" font-family=\"Helvetica,sans-Serif\" font-size=\"14.00\" fill=\"#000000\">FadR</text>\n",
       "</g>\n",
       "<!-- data1_GlpR -->\n",
       "<g id=\"node6\" class=\"node\">\n",
       "<title>data1_GlpR</title>\n",
       "<text text-anchor=\"middle\" x=\"105.5\" y=\"-174.3\" font-family=\"Helvetica,sans-Serif\" font-size=\"14.00\" fill=\"#000000\">GlpR</text>\n",
       "</g>\n",
       "<!-- data1_GlpR&#45;&gt;data2_23 -->\n",
       "<g id=\"edge1\" class=\"edge\">\n",
       "<title>data1_GlpR&#45;&gt;data2_23</title>\n",
       "<path fill=\"none\" stroke=\"#000000\" stroke-width=\"1.68\" d=\"M105.5,-159.9664C105.5,-154.6707 105.5,-148.8028 105.5,-143.231\"/>\n",
       "<polygon fill=\"#000000\" stroke=\"#000000\" stroke-width=\"1.68\" points=\"107.2501,-143.2222 105.5,-138.2222 103.7501,-143.2223 107.2501,-143.2222\"/>\n",
       "</g>\n",
       "<!-- data1_PurR&#45;1 -->\n",
       "<g id=\"node7\" class=\"node\">\n",
       "<title>data1_PurR&#45;1</title>\n",
       "<text text-anchor=\"middle\" x=\"29.5\" y=\"-72.3\" font-family=\"Helvetica,sans-Serif\" font-size=\"14.00\" fill=\"#000000\">PurR&#45;1</text>\n",
       "</g>\n",
       "<!-- data1_PurR&#45;1&#45;&gt;data2_29 -->\n",
       "<g id=\"edge2\" class=\"edge\">\n",
       "<title>data1_PurR&#45;1&#45;&gt;data2_29</title>\n",
       "<path fill=\"none\" stroke=\"#000000\" stroke-width=\"3.18\" d=\"M29.5,-57.9664C29.5,-52.6707 29.5,-46.8028 29.5,-41.231\"/>\n",
       "<polygon fill=\"#000000\" stroke=\"#000000\" stroke-width=\"3.18\" points=\"31.2501,-41.2222 29.5,-36.2222 27.7501,-41.2223 31.2501,-41.2222\"/>\n",
       "</g>\n",
       "<!-- data1_CysB -->\n",
       "<g id=\"node8\" class=\"node\">\n",
       "<title>data1_CysB</title>\n",
       "<text text-anchor=\"middle\" x=\"29.5\" y=\"-174.3\" font-family=\"Helvetica,sans-Serif\" font-size=\"14.00\" fill=\"#000000\">CysB</text>\n",
       "</g>\n",
       "<!-- data1_CysB&#45;&gt;data2_1 -->\n",
       "<g id=\"edge3\" class=\"edge\">\n",
       "<title>data1_CysB&#45;&gt;data2_1</title>\n",
       "<path fill=\"none\" stroke=\"#000000\" stroke-width=\"3.05\" d=\"M29.5,-159.9664C29.5,-154.6707 29.5,-148.8028 29.5,-143.231\"/>\n",
       "<polygon fill=\"#000000\" stroke=\"#000000\" stroke-width=\"3.05\" points=\"31.2501,-143.2222 29.5,-138.2222 27.7501,-143.2223 31.2501,-143.2222\"/>\n",
       "</g>\n",
       "<!-- data1_Fur&#45;2 -->\n",
       "<g id=\"node9\" class=\"node\">\n",
       "<title>data1_Fur&#45;2</title>\n",
       "<text text-anchor=\"middle\" x=\"179.5\" y=\"-174.3\" font-family=\"Helvetica,sans-Serif\" font-size=\"14.00\" fill=\"#000000\">Fur&#45;2</text>\n",
       "</g>\n",
       "<!-- data1_Fur&#45;2&#45;&gt;data2_25 -->\n",
       "<g id=\"edge4\" class=\"edge\">\n",
       "<title>data1_Fur&#45;2&#45;&gt;data2_25</title>\n",
       "<path fill=\"none\" stroke=\"#000000\" stroke-width=\"2.01\" d=\"M179.5,-159.9664C179.5,-154.6707 179.5,-148.8028 179.5,-143.231\"/>\n",
       "<polygon fill=\"#000000\" stroke=\"#000000\" stroke-width=\"2.01\" points=\"181.2501,-143.2222 179.5,-138.2222 177.7501,-143.2223 181.2501,-143.2222\"/>\n",
       "</g>\n",
       "<!-- data1_FadR/IclR -->\n",
       "<g id=\"node10\" class=\"node\">\n",
       "<title>data1_FadR/IclR</title>\n",
       "<text text-anchor=\"middle\" x=\"105.5\" y=\"-72.3\" font-family=\"Helvetica,sans-Serif\" font-size=\"14.00\" fill=\"#000000\">FadR/IclR</text>\n",
       "</g>\n",
       "<!-- data1_FadR/IclR&#45;&gt;data2_FadR -->\n",
       "<g id=\"edge5\" class=\"edge\">\n",
       "<title>data1_FadR/IclR&#45;&gt;data2_FadR</title>\n",
       "<path fill=\"none\" stroke=\"#000000\" stroke-width=\"1.99\" d=\"M105.5,-57.9664C105.5,-52.6707 105.5,-46.8028 105.5,-41.231\"/>\n",
       "<polygon fill=\"#000000\" stroke=\"#000000\" stroke-width=\"1.99\" points=\"107.2501,-41.2222 105.5,-36.2222 103.7501,-41.2223 107.2501,-41.2222\"/>\n",
       "</g>\n",
       "</g>\n",
       "</svg>\n"
      ],
      "text/plain": [
       "<graphviz.dot.Digraph at 0x7f52e49fee20>"
      ]
     },
     "execution_count": 35,
     "metadata": {},
     "output_type": "execute_result"
    }
   ],
   "source": [
    "dots,links = compare_ica(ecoli_data.M, ica_data.M, cutoff=0.3,\n",
    "                         ortho_file = '../example_data/example_bbh.csv')\n",
    "dots"
   ]
  },
  {
   "cell_type": "markdown",
   "metadata": {},
   "source": [
    "In the above plot, the top named iModulons are from *E. coli* and the bottom iModulons are from our target organism. Note that the two FadR iModulons are linked together. This `links` variable contains all pairs of iModulons that are linked together"
   ]
  },
  {
   "cell_type": "code",
   "execution_count": 36,
   "metadata": {},
   "outputs": [
    {
     "data": {
      "text/plain": [
       "[('GlpR', 23),\n",
       " ('PurR-1', 29),\n",
       " ('CysB', 1),\n",
       " ('Fur-2', 25),\n",
       " ('FadR/IclR', 'FadR')]"
      ]
     },
     "execution_count": 36,
     "metadata": {},
     "output_type": "execute_result"
    }
   ],
   "source": [
    "links"
   ]
  },
  {
   "cell_type": "code",
   "execution_count": 37,
   "metadata": {},
   "outputs": [
    {
     "data": {
      "text/html": [
       "<div>\n",
       "<style scoped>\n",
       "    .dataframe tbody tr th:only-of-type {\n",
       "        vertical-align: middle;\n",
       "    }\n",
       "\n",
       "    .dataframe tbody tr th {\n",
       "        vertical-align: top;\n",
       "    }\n",
       "\n",
       "    .dataframe thead th {\n",
       "        text-align: right;\n",
       "    }\n",
       "</style>\n",
       "<table border=\"1\" class=\"dataframe\">\n",
       "  <thead>\n",
       "    <tr style=\"text-align: right;\">\n",
       "      <th></th>\n",
       "      <th>regulator</th>\n",
       "      <th>pvalue</th>\n",
       "      <th>qvalue</th>\n",
       "      <th>precision</th>\n",
       "      <th>recall</th>\n",
       "      <th>f1score</th>\n",
       "      <th>TP</th>\n",
       "      <th>regulon_size</th>\n",
       "      <th>imodulon_size</th>\n",
       "      <th>n_regs</th>\n",
       "      <th>single_gene</th>\n",
       "      <th>ecoli_ortholog</th>\n",
       "    </tr>\n",
       "  </thead>\n",
       "  <tbody>\n",
       "    <tr>\n",
       "      <th>0</th>\n",
       "      <td>NaN</td>\n",
       "      <td>NaN</td>\n",
       "      <td>NaN</td>\n",
       "      <td>NaN</td>\n",
       "      <td>NaN</td>\n",
       "      <td>NaN</td>\n",
       "      <td>NaN</td>\n",
       "      <td>NaN</td>\n",
       "      <td>NaN</td>\n",
       "      <td>NaN</td>\n",
       "      <td>NaN</td>\n",
       "      <td>NaN</td>\n",
       "    </tr>\n",
       "    <tr>\n",
       "      <th>1</th>\n",
       "      <td>NaN</td>\n",
       "      <td>NaN</td>\n",
       "      <td>NaN</td>\n",
       "      <td>NaN</td>\n",
       "      <td>NaN</td>\n",
       "      <td>NaN</td>\n",
       "      <td>NaN</td>\n",
       "      <td>NaN</td>\n",
       "      <td>NaN</td>\n",
       "      <td>NaN</td>\n",
       "      <td>NaN</td>\n",
       "      <td>CysB</td>\n",
       "    </tr>\n",
       "    <tr>\n",
       "      <th>2</th>\n",
       "      <td>NaN</td>\n",
       "      <td>NaN</td>\n",
       "      <td>NaN</td>\n",
       "      <td>NaN</td>\n",
       "      <td>NaN</td>\n",
       "      <td>NaN</td>\n",
       "      <td>NaN</td>\n",
       "      <td>NaN</td>\n",
       "      <td>NaN</td>\n",
       "      <td>NaN</td>\n",
       "      <td>NaN</td>\n",
       "      <td>NaN</td>\n",
       "    </tr>\n",
       "    <tr>\n",
       "      <th>single_gene_1</th>\n",
       "      <td>NaN</td>\n",
       "      <td>NaN</td>\n",
       "      <td>NaN</td>\n",
       "      <td>NaN</td>\n",
       "      <td>NaN</td>\n",
       "      <td>NaN</td>\n",
       "      <td>NaN</td>\n",
       "      <td>NaN</td>\n",
       "      <td>NaN</td>\n",
       "      <td>NaN</td>\n",
       "      <td>True</td>\n",
       "      <td>NaN</td>\n",
       "    </tr>\n",
       "    <tr>\n",
       "      <th>ArnRAB</th>\n",
       "      <td>ArnR;ArnR1+ArnA;ArnB</td>\n",
       "      <td>1.209743e-19</td>\n",
       "      <td>3.662526e-19</td>\n",
       "      <td>1.0</td>\n",
       "      <td>0.875</td>\n",
       "      <td>0.933333</td>\n",
       "      <td>7.0</td>\n",
       "      <td>7.0</td>\n",
       "      <td>8.0</td>\n",
       "      <td>2.0</td>\n",
       "      <td>NaN</td>\n",
       "      <td>NaN</td>\n",
       "    </tr>\n",
       "  </tbody>\n",
       "</table>\n",
       "</div>"
      ],
      "text/plain": [
       "                          regulator        pvalue        qvalue  precision  \\\n",
       "0                               NaN           NaN           NaN        NaN   \n",
       "1                               NaN           NaN           NaN        NaN   \n",
       "2                               NaN           NaN           NaN        NaN   \n",
       "single_gene_1                   NaN           NaN           NaN        NaN   \n",
       "ArnRAB         ArnR;ArnR1+ArnA;ArnB  1.209743e-19  3.662526e-19        1.0   \n",
       "\n",
       "               recall   f1score   TP  regulon_size  imodulon_size  n_regs  \\\n",
       "0                 NaN       NaN  NaN           NaN            NaN     NaN   \n",
       "1                 NaN       NaN  NaN           NaN            NaN     NaN   \n",
       "2                 NaN       NaN  NaN           NaN            NaN     NaN   \n",
       "single_gene_1     NaN       NaN  NaN           NaN            NaN     NaN   \n",
       "ArnRAB          0.875  0.933333  7.0           7.0            8.0     2.0   \n",
       "\n",
       "              single_gene ecoli_ortholog  \n",
       "0                     NaN            NaN  \n",
       "1                     NaN           CysB  \n",
       "2                     NaN            NaN  \n",
       "single_gene_1        True            NaN  \n",
       "ArnRAB                NaN            NaN  "
      ]
     },
     "execution_count": 37,
     "metadata": {},
     "output_type": "execute_result"
    }
   ],
   "source": [
    "for ecoli_mod,target_mod in links:\n",
    "    ica_data.imodulon_table.loc[target_mod,'ecoli_ortholog'] = ecoli_mod\n",
    "ica_data.imodulon_table.head()"
   ]
  },
  {
   "cell_type": "markdown",
   "metadata": {},
   "source": [
    "# Save iModulon object"
   ]
  },
  {
   "cell_type": "markdown",
   "metadata": {},
   "source": [
    "This will save your iModulon table, your thresholds, and any other information stored in the ica_data object."
   ]
  },
  {
   "cell_type": "code",
   "execution_count": 38,
   "metadata": {},
   "outputs": [],
   "source": [
    "save_to_json(ica_data,'../example_data/modulome_example/saci.json')"
   ]
  },
  {
   "cell_type": "markdown",
   "metadata": {},
   "source": [
    "If you prefer to view and edit your iModulon table in excel, save it as a CSV and reload the iModulon as before"
   ]
  },
  {
   "cell_type": "code",
   "execution_count": 39,
   "metadata": {},
   "outputs": [],
   "source": [
    "ica_data.imodulon_table.to_csv('../example_data/modulome_example/data/iModulon_table.csv')"
   ]
  },
  {
   "cell_type": "markdown",
   "metadata": {},
   "source": [
    "# Coming soon"
   ]
  },
  {
   "cell_type": "markdown",
   "metadata": {},
   "source": [
    "1. Saving GO/KEGG enrichments to iModulon table\n",
    "1. Plotting iModulon gene weights across organisms\n",
    "1. Using iModulon activities to characterize iModulons\n",
    "1. Finding motifs using MEME\n",
    "1. Building iModulonDB web pages\n"
   ]
  },
  {
   "cell_type": "code",
   "execution_count": null,
   "metadata": {},
   "outputs": [],
   "source": []
  }
 ],
 "metadata": {
  "kernelspec": {
   "display_name": "Python 3",
   "language": "python",
   "name": "python3"
  },
  "language_info": {
   "codemirror_mode": {
    "name": "ipython",
    "version": 3
   },
   "file_extension": ".py",
   "mimetype": "text/x-python",
   "name": "python",
   "nbconvert_exporter": "python",
   "pygments_lexer": "ipython3",
   "version": "3.8.2"
  },
  "toc": {
   "base_numbering": 1,
   "nav_menu": {},
   "number_sections": true,
   "sideBar": true,
   "skip_h1_title": false,
   "title_cell": "Table of Contents",
   "title_sidebar": "Contents",
   "toc_cell": true,
   "toc_position": {},
   "toc_section_display": true,
   "toc_window_display": false
  }
 },
 "nbformat": 4,
 "nbformat_minor": 2
}
