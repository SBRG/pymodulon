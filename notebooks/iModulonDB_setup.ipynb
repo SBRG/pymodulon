{
 "cells": [
  {
   "cell_type": "markdown",
   "metadata": {},
   "source": [
    "# iModulonDB Tutorial\n",
    "\n",
    "This notebook will help you add information and generate \n",
    "\n",
    "Follow the advice [here](https://github.com/SBRG/modulytics/wiki/Adding-a-Private-Project) to get started, and learn to use pymodulon with the initial Tutorial if needed.\n",
    "\n",
    "Please contact krychel@eng.ucsd.edu with any questions!"
   ]
  },
  {
   "cell_type": "code",
   "execution_count": null,
   "metadata": {},
   "outputs": [],
   "source": [
    "from pymodulon.core import IcaData\n",
    "from pymodulon.io import *\n",
    "from pymodulon.imodulondb import *\n",
    "import pandas as pd"
   ]
  },
  {
   "cell_type": "markdown",
   "metadata": {},
   "source": [
    "## Step 1: Load Your Data\n",
    "\n",
    "More details on this can be found in the main tutorial.\n",
    "\n",
    "All that is absolutely required is the following:\n",
    "\n",
    "- M matrix (part of initial ICA output)\n",
    "- A matrix (part of initial ICA output)\n",
    "- X matrix (log_tpm.csv) -- initial data, preferably not normalized to the base condition.\n",
    "- Sample_table containing:\n",
    "    - Either a column labeled 'sample' or an index (leftmost column) that serves the purpose of sample labels. These should be unique to each sample (no duplicates in the entire table), and it must match the columns of A and X.\n",
    "    - A column labeled 'project' -- this is the largest grouping of samples; they may be downloaded from the same original paper or contain a set of samples/experiments with a common theme. The contents of this column will appear on the X axis when zoomed all the way out in the activity bar graphs on iModulonDB.\n",
    "    - A column labeled 'condition' -- this groups samples such that all biological replicates have the same condition name. Samples in the same project with matching conditions will be grouped into a single bar in the activity bar graphs. If you'd like to re-use condition names across different projects (for example, giving each project a 'control' condition), that is okay.\n",
    "    \n",
    "Additional information will only improve your version of the site!"
   ]
  },
  {
   "cell_type": "code",
   "execution_count": null,
   "metadata": {},
   "outputs": [],
   "source": [
    "ica_data = load_json_model('../example_data/example.json')"
   ]
  },
  {
   "cell_type": "markdown",
   "metadata": {},
   "source": [
    "## Step 2: Fill out some metadata\n",
    "\n",
    "When you load an ica_data model, it fills out default metadata for you. Therefore you can technically skip this step.\n",
    "\n",
    "### 2.a: Splash Table (Dictionary)\n",
    "\n",
    "This table provides the basic elements shown on [the splash page](http://imodulondb.org) and the names of the directories in which all data will be stored.\n",
    "\n",
    "First, look at the default one:"
   ]
  },
  {
   "cell_type": "code",
   "execution_count": null,
   "metadata": {},
   "outputs": [],
   "source": [
    "ica_data.splash_table"
   ]
  },
  {
   "cell_type": "markdown",
   "metadata": {},
   "source": [
    "The first three entries are shown on the splash page directly. The last two are important folder names. Typical organism folder names are in the form 'g_species'. Choose a name for your dataset that will be unique; it is likely the only one for your organism, so you could choose 'modulome' if that is the project you are working on.\n",
    "\n",
    "Let's update this table with your information."
   ]
  },
  {
   "cell_type": "code",
   "execution_count": null,
   "metadata": {},
   "outputs": [],
   "source": [
    "# FILL IN THESE DETAILS\n",
    "\n",
    "# <i> tags italicize the species name\n",
    "# So far on the site, large titles are all simply species names.\n",
    "ica_data.splash_table['large_title'] = '<i>M. favoritespeciesus</i>'\n",
    "\n",
    "# subtitle provides additional information about the dataset's origins\n",
    "ica_data.splash_table['subtitle'] = 'Modulome Dataset'\n",
    "ica_data.splash_table['author'] = 'Rychel, et al.'\n",
    "\n",
    "# these will correspond to actual folders, which will be generated for you.\n",
    "ica_data.splash_table['organism_folder'] = 'm_favoritespeciesus'\n",
    "ica_data.splash_table['dataset_folder'] = 'modulome'\n",
    "\n",
    "# make sure the output is desired\n",
    "ica_data.splash_table"
   ]
  },
  {
   "cell_type": "markdown",
   "metadata": {},
   "source": [
    "### 2.b: Dataset Table (Dictionary)\n",
    "\n",
    "This table provides the basic elements shown in the [dataset page](https://imodulondb.org/dataset.html?organism=e_coli&dataset=precise1). The numerical elements are computed for you in the default.\n",
    "\n",
    "If desired, you can add your own entries to this with whatever names you'd like. They can even include links if you obey the [rules for making HTML links](https://www.w3schools.com/html/html_links.asp). For example, the published datasets include a 'Publication' entry."
   ]
  },
  {
   "cell_type": "code",
   "execution_count": null,
   "metadata": {},
   "outputs": [],
   "source": [
    "ica_data.dataset_table"
   ]
  },
  {
   "cell_type": "code",
   "execution_count": null,
   "metadata": {},
   "outputs": [],
   "source": [
    "# FILL IN THESE DETAILS, TOO\n",
    "\n",
    "# This title can combine some information from the splash table\n",
    "ica_data.dataset_table['Title'] = 'M. favoritespeciesus Modulome'\n",
    "ica_data.dataset_table['Organism'] = '<i>M. favoritespeciesus</i>'\n",
    "ica_data.dataset_table['Strain'] = 'IMDB1000'\n",
    "\n",
    "# additional rows if desired\n",
    "ica_data.dataset_table['Useful Additional Link'] = '<a href=\"google.com\">Google</a>'\n",
    "\n",
    "# check output\n",
    "ica_data.dataset_table"
   ]
  },
  {
   "cell_type": "markdown",
   "metadata": {},
   "source": [
    "## Step 3: Add Links (Optional)\n",
    "\n",
    "If your organism has a database like EcoCyc, SubtiWiki, or AureoWiki, you may be interested in adding links to it.\n",
    "\n",
    "iModulonDB has two kinds of links:\n",
    "\n",
    "- gene_links: \n",
    "    - Associate gene **loci** from the **index of ica_data.M** to websites\n",
    "    - On the [gene pages](https://imodulondb.org/gene.html?organism=e_coli&dataset=precise1&gene_id=b0002), these links have the name of the database that you are linking to. The name of the database needs to be saved as a string in ica_data.link_database.\n",
    "    - For programming reasons, the default value of gene_links is all genes as keys, each pointing to the value np.nan.\n",
    "    \n",
    "- tf_links:\n",
    "    - Associate **TF names** from **ica_data.TRN.regulator and ica_data.imodulon_table.regulator** to websites\n",
    "    - On the [iModulon pages](https://imodulondb.org/iModulon.html?organism=e_coli&dataset=precise1&k=43), the name of the regulator becomes a link. You never have to state the name of this database, and it doesn't have to be the same one used for gene_links (i.e. ica_data.link_database does NOT have to be the one you use).\n",
    "    - For programming reasons, the default value is an empty dictionary.\n",
    "    \n",
    "Note that gene_links uses gene loci since not every gene has a readable name, but tf_links uses readable names since not all regulators have associated gene loci. This could create some confusion between the two types of links; for example, the gene b2741 in E. coli encodes the TF rpoS:\n",
    "\n",
    "- ica_data.gene_links\\['b2741'\\] = 'https://ecocyc.org/gene?orgid=ECOLI&id=EG10510 '\n",
    "- ica_data.tf_links\\['rpoS'\\] = 'http://regulondb.ccg.unam.mx/sigmulon?term=ECK125110294&organism=ECK12&format=jsp&type=sigmulon '\n",
    "\n",
    "In this example, ica_data.link_database = 'EcoCyc' since that is where the gene links point to.\n",
    "\n",
    "You are free to skip this step, or you can use any of the following strategies to generate your links:\n",
    "\n",
    "#### Strategy 1: Look at the URLs in your database.\n",
    "\n",
    "Search for genes in your database. You might notice that it always uses the same URL, but enters your search term in part of that URL. You could then take the pieces of that URL and use those to generate all needed URLs. Below is an example from psuedomonas aeruginosa:"
   ]
  },
  {
   "cell_type": "code",
   "execution_count": null,
   "metadata": {},
   "outputs": [],
   "source": [
    "prefix = 'https://www.pseudomonas.com/primarySequenceFeature/list?strain_ids=107&term=Pseudomonas+aeruginosa+PAO1+%28Reference%29&c1=name&v1='\n",
    "suffix = '&e1=1&assembly=complete'\n",
    "\n",
    "temp_gene_links = dict()\n",
    "for gene in ica_data.M.index:\n",
    "    temp_gene_links[gene] = prefix + gene + suffix\n",
    "    \n",
    "temp_tf_links = dict()\n",
    "for gene in ica_data.trn.regulator.unique():\n",
    "    temp_tf_links[gene] = prefix + gene + suffix\n",
    "    \n",
    "# Then, test a few of the links and uncomment these lines\n",
    "\n",
    "#ica_data.gene_links = temp_gene_links\n",
    "#ica_data.tf_links = temp_tf_links"
   ]
  },
  {
   "cell_type": "markdown",
   "metadata": {},
   "source": [
    "You may need to add a suffix in addition to a prefix. You may also have to deal with databases that use different loci abbreviations than the ones you have - this can be remedied by finding a mapping file between the two naming systems.\n",
    "\n",
    "#### Strategy 2: Make a file\n",
    "\n",
    "If you are more proficient in excel than python, have found a gene <-> link mapping file elsewhere, or already used strategy 1 to generate a file, you can make sure it has only two columns (gene and link) and no headers, then simply read it in as shown below.\n",
    "\n",
    "This may be especially useful if you have no database, but want to keep a file of gene_links or tf_links with specific papers instead of db entries."
   ]
  },
  {
   "cell_type": "code",
   "execution_count": null,
   "metadata": {},
   "outputs": [],
   "source": [
    "# ica_data.gene_links = 'gene_links.csv'"
   ]
  },
  {
   "cell_type": "markdown",
   "metadata": {},
   "source": [
    "#### Strategy 3: Individual modifications\n",
    "\n",
    "You can also just tell the model the links one at a time. This can be useful if you generate all links with another strategy, but want to overide it in a few cases."
   ]
  },
  {
   "cell_type": "code",
   "execution_count": null,
   "metadata": {},
   "outputs": [],
   "source": [
    "# ica_data.gene_links['b2741'] = 'https://ecocyc.org/gene?orgid=ECOLI&id=EG10510'"
   ]
  },
  {
   "cell_type": "markdown",
   "metadata": {},
   "source": [
    "#### If using gene links, don't forget to update ica_data.link_database\n",
    "\n",
    "If you don't, the default value is 'External Database'. If you have no links, nothing will appear so this is irrelevant."
   ]
  },
  {
   "cell_type": "code",
   "execution_count": null,
   "metadata": {},
   "outputs": [],
   "source": [
    "# ica_data.link_database = 'EcoCyc'\n",
    "\n",
    "ica_data.link_database"
   ]
  },
  {
   "cell_type": "markdown",
   "metadata": {},
   "source": [
    "## Step 4: Check for compatibility\n",
    "\n",
    "Though the code cannot check for all edge cases and concerns, you can use the function 'imodulondb_compatibility()' to see what information you are missing, mostly through a check of the columns of your DataFrames. \n",
    "\n",
    "#### 4.a: Modify column names\n",
    "\n",
    "First, let's see what we are missing:"
   ]
  },
  {
   "cell_type": "code",
   "execution_count": null,
   "metadata": {},
   "outputs": [],
   "source": [
    "imodulondb_compatibility(ica_data)"
   ]
  },
  {
   "cell_type": "markdown",
   "metadata": {},
   "source": [
    "Now, let's see if we actually DO have the information that the function believes is missing -- it is likely that some of the names of the columns are simply not what iModulonDB is expecting. If so, we simply rename it to what is expected.\n",
    "\n",
    "If you actually DO NOT have some of the information, that is okay -- after this step, we'll fill in the blanks with default values as needed."
   ]
  },
  {
   "cell_type": "code",
   "execution_count": null,
   "metadata": {},
   "outputs": [],
   "source": [
    "ica_data.imodulon_table"
   ]
  },
  {
   "cell_type": "code",
   "execution_count": null,
   "metadata": {},
   "outputs": [],
   "source": [
    "# We do have regulators. Rename that column to TFs\n",
    "# We also have n_genes. Rename that column to n_genes\n",
    "rename_dict = {'regulator': 'TF', # this is more important than the 'Regulator' column\n",
    "               'regulon_size': 'n_genes'} \n",
    "ica_data.imodulon_table = ica_data.imodulon_table.rename(rename_dict, axis = 1)\n",
    "\n",
    "# We also have names. They were in the index, but the code wants them in the main dataframe as well.\n",
    "# If you would rather not add this column, the code will do so automatically.\n",
    "ica_data.imodulon_table['name'] = ica_data.imodulon_table.index\n",
    "\n",
    "# We don't have a separate Regulator column. Don't worry about that!"
   ]
  },
  {
   "cell_type": "code",
   "execution_count": null,
   "metadata": {},
   "outputs": [],
   "source": [
    "ica_data.gene_table"
   ]
  },
  {
   "cell_type": "code",
   "execution_count": null,
   "metadata": {},
   "outputs": [],
   "source": [
    "# we have the \"missing\" cog column:\n",
    "rename_dict = {'cog': 'COG'}\n",
    "ica_data.gene_table = ica_data.gene_table.rename(rename_dict, axis = 1)\n",
    "\n",
    "# we don't have the gene_product column. This is a nice-to-have, but you can ignore it."
   ]
  },
  {
   "cell_type": "code",
   "execution_count": null,
   "metadata": {},
   "outputs": [],
   "source": [
    "ica_data.sample_table"
   ]
  },
  {
   "cell_type": "code",
   "execution_count": null,
   "metadata": {},
   "outputs": [],
   "source": [
    "# Nothing to change for the sample table -- the 0th column is the correct one to use.\n",
    "# However, you can optionally suppress a warning about this from later on if you name the index:\n",
    "ica_data.sample_table.index.name = 'sample'\n",
    "\n",
    "# Also, there is an error in the existing 'Biological Replicates' column.\n",
    "# This caused a \"cannot set a row with mismatched columns\" error in export (step 5).\n",
    "# The easiest way to fix it is to have the code re-compute this column in step 4b.\n",
    "# to make that happen, delete the existing one now.\n",
    "ica_data.sample_table = ica_data.sample_table.drop('Biological Replicates', axis = 1)"
   ]
  },
  {
   "cell_type": "markdown",
   "metadata": {},
   "source": [
    "#### 4.b: Fill in the unknowns (Optional)\n",
    "\n",
    "This step is already integrated in step 5 -- feel free to skip it. However, it might be a useful demonstration.\n",
    "\n",
    "Even if you only have the minimum (M, A, X, and sample_table) data, calling the compatibility function with inplace=True will fill in enough blanks to generate the dataset. In this example, we need the code to fix the things that we ignored during step 4a.\n",
    "\n",
    "In general, you may want to deepcopy the data before doing this. While the default columns shouldn't be an issue, the function requires that all iModulon names be numbers, which might not be desired for you. Under the hood in step 5, we automatically deep copy your data before changing anything. If you want access to the default values and columns, however, you may be interested in doing this without the deepcopy."
   ]
  },
  {
   "cell_type": "code",
   "execution_count": null,
   "metadata": {},
   "outputs": [],
   "source": [
    "from copy import deepcopy\n",
    "\n",
    "new_data = deepcopy(ica_data)\n",
    "\n",
    "imodulondb_compatibility(new_data, inplace = True)"
   ]
  },
  {
   "cell_type": "markdown",
   "metadata": {},
   "source": [
    "Let's call it again just to see what the output is now that the new elements are written:"
   ]
  },
  {
   "cell_type": "code",
   "execution_count": null,
   "metadata": {},
   "outputs": [],
   "source": [
    "imodulondb_compatibility(new_data)"
   ]
  },
  {
   "cell_type": "markdown",
   "metadata": {},
   "source": [
    "A very minimal output is good!"
   ]
  },
  {
   "cell_type": "markdown",
   "metadata": {},
   "source": [
    "## 5: Export\n",
    "\n",
    "You are now ready to export! This process may take some time (up to around 1 hr for PRECISE2, but significantly shorter depending on the number of genes your organism has).\n",
    "\n",
    "The export function needs a path to export to. This should be path to where you cloned the iModulonDB repository.\n",
    "\n",
    "The function will first deepcopy your files and then call the compatibility function from above with write = True. Then it will generate all files that don't require iteration, then all iModulon files, then all gene files.\n",
    "\n",
    "As it goes, it will print anything you may want to be aware of. This is where issues with the TRN may become apparent."
   ]
  },
  {
   "cell_type": "code",
   "execution_count": null,
   "metadata": {},
   "outputs": [],
   "source": [
    "imodulondb_export(ica_data, '../../iModulonDB/Personal')"
   ]
  },
  {
   "cell_type": "markdown",
   "metadata": {},
   "source": [
    "## 6: Update TRN, other gene info if desired\n",
    "\n",
    "In the output above, you will notice snippets such as this one:\n",
    "\n",
    "> TF has no associated expression profile: cecR\n",
    "\n",
    ">If cecR is not a gene, this behavior is expected.\n",
    "\n",
    ">If it is a gene, use consistent naming between the TRN and gene_table.\n",
    "\n",
    "If desired, you could look up each of these to find alternative names that may be used, then rename either the TRN (all instances of the name in the regulator column) or the gene_table (the name column in the row with the appropriate locus) so that they all match. This will not need to be done for every case; for example, 'ile-tRNA' is a leucine-bound tRNA molecule, which does not have an associated gene.\n",
    "\n",
    "After doing this, you would need to rerun the export function (step 5)."
   ]
  },
  {
   "cell_type": "code",
   "execution_count": null,
   "metadata": {},
   "outputs": [],
   "source": [
    "# according to EcoCyc, the b-number for cecR is b0796 and its alternative name is 'ybiH'\n",
    "\n",
    "ica_data.gene_table.loc['b0796']"
   ]
  },
  {
   "cell_type": "code",
   "execution_count": null,
   "metadata": {},
   "outputs": [],
   "source": [
    "# To remedy this matchup, I will replace 'ybiH' with 'cecR' in the gene_table.\n",
    "\n",
    "ica_data.gene_table.loc['b0796', 'gene_name'] = 'cecR'\n",
    "\n",
    "# repeat this process for all unmatched genes.\n",
    "\n",
    "# re-running step 5 would then correct this error."
   ]
  },
  {
   "cell_type": "markdown",
   "metadata": {},
   "source": [
    "## 7: Paste HTML\n",
    "\n",
    "This step only needs to occur once! Time to add the link to the splash page.\n",
    "\n",
    "1. Navigate to your iModulonDB/organisms/M_favoritespeciesus/modulome folder.\n",
    "2. Open the file 'html_for_splash.html' in a text editor\n",
    "3. Copy the entire contents to your clipboard\n",
    "4. Navigate back to the main repository folder\n",
    "5. Open 'index.html' in a text editor\n",
    "6. Scroll down to the comment near line 250 about \"NEW DATASETS\"\n",
    "7. Paste in the appropriate location. You may want to adjust the indentations.\n",
    "8. Save the file\n",
    "9. Enjoy your new website!\n",
    "\n",
    "Traveling to localhost:8000 in your browser should show you the site with a shiny new button for your dataset. Click it to see your new iModulons."
   ]
  },
  {
   "cell_type": "markdown",
   "metadata": {},
   "source": [
    "## Moving Forward\n",
    "\n",
    "Any time you make a change that you want reflected on your site, simply repeat step 5! If changes don't immediately appear on the browser, try a force refresh (Ctrl+Shift+R in Google Chrome)."
   ]
  },
  {
   "cell_type": "markdown",
   "metadata": {},
   "source": [
    "## Don't forget to save your file so that step 5 is all that is required in the future!"
   ]
  },
  {
   "cell_type": "code",
   "execution_count": null,
   "metadata": {},
   "outputs": [],
   "source": [
    "# save_to_json(ica_data, '../example_data/example.json')"
   ]
  }
 ],
 "metadata": {
  "kernelspec": {
   "display_name": "Python 3",
   "language": "python",
   "name": "python3"
  },
  "language_info": {
   "codemirror_mode": {
    "name": "ipython",
    "version": 3
   },
   "file_extension": ".py",
   "mimetype": "text/x-python",
   "name": "python",
   "nbconvert_exporter": "python",
   "pygments_lexer": "ipython3",
   "version": "3.8.5"
  }
 },
 "nbformat": 4,
 "nbformat_minor": 4
}
