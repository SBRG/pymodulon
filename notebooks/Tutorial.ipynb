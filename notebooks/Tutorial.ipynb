{
 "cells": [
  {
   "cell_type": "markdown",
   "metadata": {
    "toc": true
   },
   "source": [
    "<h1>Table of Contents<span class=\"tocSkip\"></span></h1>\n",
    "<div class=\"toc\"><ul class=\"toc-item\"><li><span><a href=\"#Initialize-your-IcaData-object\" data-toc-modified-id=\"Initialize-your-IcaData-object-1\"><span class=\"toc-item-num\">1&nbsp;&nbsp;</span>Initialize your IcaData object</a></span><ul class=\"toc-item\"><li><span><a href=\"#Minimum-requirements\" data-toc-modified-id=\"Minimum-requirements-1.1\"><span class=\"toc-item-num\">1.1&nbsp;&nbsp;</span>Minimum requirements</a></span></li><li><span><a href=\"#Viewing-matrices\" data-toc-modified-id=\"Viewing-matrices-1.2\"><span class=\"toc-item-num\">1.2&nbsp;&nbsp;</span>Viewing matrices</a></span></li><li><span><a href=\"#Sample,-gene,-and-iModulon-names\" data-toc-modified-id=\"Sample,-gene,-and-iModulon-names-1.3\"><span class=\"toc-item-num\">1.3&nbsp;&nbsp;</span>Sample, gene, and iModulon names</a></span></li><li><span><a href=\"#Adding-the-X-matrix\" data-toc-modified-id=\"Adding-the-X-matrix-1.4\"><span class=\"toc-item-num\">1.4&nbsp;&nbsp;</span>Adding the X matrix</a></span></li></ul></li><li><span><a href=\"#Sample,-gene,-and-iModulon-tables\" data-toc-modified-id=\"Sample,-gene,-and-iModulon-tables-2\"><span class=\"toc-item-num\">2&nbsp;&nbsp;</span>Sample, gene, and iModulon tables</a></span><ul class=\"toc-item\"><li><span><a href=\"#Loading-tables\" data-toc-modified-id=\"Loading-tables-2.1\"><span class=\"toc-item-num\">2.1&nbsp;&nbsp;</span>Loading tables</a></span></li><li><span><a href=\"#Viewing-tables\" data-toc-modified-id=\"Viewing-tables-2.2\"><span class=\"toc-item-num\">2.2&nbsp;&nbsp;</span>Viewing tables</a></span></li></ul></li><li><span><a href=\"#TRN-Table\" data-toc-modified-id=\"TRN-Table-3\"><span class=\"toc-item-num\">3&nbsp;&nbsp;</span>TRN Table</a></span><ul class=\"toc-item\"><li><span><a href=\"#Load-the-TRN\" data-toc-modified-id=\"Load-the-TRN-3.1\"><span class=\"toc-item-num\">3.1&nbsp;&nbsp;</span>Load the TRN</a></span></li></ul></li><li><span><a href=\"#iModulon-properties\" data-toc-modified-id=\"iModulon-properties-4\"><span class=\"toc-item-num\">4&nbsp;&nbsp;</span>iModulon properties</a></span><ul class=\"toc-item\"><li><span><a href=\"#Inspecting-iModulons\" data-toc-modified-id=\"Inspecting-iModulons-4.1\"><span class=\"toc-item-num\">4.1&nbsp;&nbsp;</span>Inspecting iModulons</a></span></li><li><span><a href=\"#Renaming-iModulons\" data-toc-modified-id=\"Renaming-iModulons-4.2\"><span class=\"toc-item-num\">4.2&nbsp;&nbsp;</span>Renaming iModulons</a></span></li></ul></li><li><span><a href=\"#Rename-iModulons-with-a-list\" data-toc-modified-id=\"Rename-iModulons-with-a-list-5\"><span class=\"toc-item-num\">5&nbsp;&nbsp;</span>Rename iModulons with a list</a></span><ul class=\"toc-item\"><li><span><a href=\"#Identifying-&quot;single-gene&quot;-iModulons\" data-toc-modified-id=\"Identifying-&quot;single-gene&quot;-iModulons-5.1\"><span class=\"toc-item-num\">5.1&nbsp;&nbsp;</span>Identifying \"single-gene\" iModulons</a></span></li></ul></li><li><span><a href=\"#Saving-and-Loading-IcaData-Objects\" data-toc-modified-id=\"Saving-and-Loading-IcaData-Objects-6\"><span class=\"toc-item-num\">6&nbsp;&nbsp;</span>Saving and Loading IcaData Objects</a></span></li><li><span><a href=\"#Explained-variance\" data-toc-modified-id=\"Explained-variance-7\"><span class=\"toc-item-num\">7&nbsp;&nbsp;</span>Explained variance</a></span></li><li><span><a href=\"#Gene-enrichment-analysis\" data-toc-modified-id=\"Gene-enrichment-analysis-8\"><span class=\"toc-item-num\">8&nbsp;&nbsp;</span>Gene enrichment analysis</a></span><ul class=\"toc-item\"><li><span><a href=\"#General-functions\" data-toc-modified-id=\"General-functions-8.1\"><span class=\"toc-item-num\">8.1&nbsp;&nbsp;</span>General functions</a></span></li><li><span><a href=\"#Using-the-IcaData-object\" data-toc-modified-id=\"Using-the-IcaData-object-8.2\"><span class=\"toc-item-num\">8.2&nbsp;&nbsp;</span>Using the IcaData object</a></span><ul class=\"toc-item\"><li><span><a href=\"#Save-to-sample-table\" data-toc-modified-id=\"Save-to-sample-table-8.2.1\"><span class=\"toc-item-num\">8.2.1&nbsp;&nbsp;</span>Save to sample table</a></span></li></ul></li></ul></li><li><span><a href=\"#iModulon-Thresholds\" data-toc-modified-id=\"iModulon-Thresholds-9\"><span class=\"toc-item-num\">9&nbsp;&nbsp;</span>iModulon Thresholds</a></span><ul class=\"toc-item\"><li><span><a href=\"#Fitting-the-threshold\" data-toc-modified-id=\"Fitting-the-threshold-9.1\"><span class=\"toc-item-num\">9.1&nbsp;&nbsp;</span>Fitting the threshold</a></span></li><li><span><a href=\"#Changing-the-D'agostino-statistic\" data-toc-modified-id=\"Changing-the-D'agostino-statistic-9.2\"><span class=\"toc-item-num\">9.2&nbsp;&nbsp;</span>Changing the D'agostino statistic</a></span></li><li><span><a href=\"#Manually-changing-thresholds\" data-toc-modified-id=\"Manually-changing-thresholds-9.3\"><span class=\"toc-item-num\">9.3&nbsp;&nbsp;</span>Manually changing thresholds</a></span></li></ul></li><li><span><a href=\"#Inferring-iModulon-activities-of-new-data\" data-toc-modified-id=\"Inferring-iModulon-activities-of-new-data-10\"><span class=\"toc-item-num\">10&nbsp;&nbsp;</span>Inferring iModulon activities of new data</a></span></li><li><span><a href=\"#Comparing-ICA-Runs\" data-toc-modified-id=\"Comparing-ICA-Runs-11\"><span class=\"toc-item-num\">11&nbsp;&nbsp;</span>Comparing ICA Runs</a></span><ul class=\"toc-item\"><li><span><a href=\"#Comparsion-within-the-same-organism\" data-toc-modified-id=\"Comparsion-within-the-same-organism-11.1\"><span class=\"toc-item-num\">11.1&nbsp;&nbsp;</span>Comparsion within the same organism</a></span></li><li><span><a href=\"#Comparison-across-organisms\" data-toc-modified-id=\"Comparison-across-organisms-11.2\"><span class=\"toc-item-num\">11.2&nbsp;&nbsp;</span>Comparison across organisms</a></span><ul class=\"toc-item\"><li><span><a href=\"#Create-a-BBH-CSV-file\" data-toc-modified-id=\"Create-a-BBH-CSV-file-11.2.1\"><span class=\"toc-item-num\">11.2.1&nbsp;&nbsp;</span>Create a BBH CSV file</a></span></li><li><span><a href=\"#Create-Genbank-database-files\" data-toc-modified-id=\"Create-Genbank-database-files-11.2.2\"><span class=\"toc-item-num\">11.2.2&nbsp;&nbsp;</span>Create Genbank database files</a></span></li><li><span><a href=\"#Create-BBH-CSV\" data-toc-modified-id=\"Create-BBH-CSV-11.2.3\"><span class=\"toc-item-num\">11.2.3&nbsp;&nbsp;</span>Create BBH CSV</a></span></li></ul></li></ul></li></ul></div>"
   ]
  },
  {
   "cell_type": "code",
   "execution_count": null,
   "metadata": {},
   "outputs": [],
   "source": [
    "from pymodulon.core import IcaData\n",
    "from os.path import abspath, join\n",
    "import pandas as pd"
   ]
  },
  {
   "cell_type": "code",
   "execution_count": null,
   "metadata": {},
   "outputs": [],
   "source": [
    "DATA_DIR = abspath(join('..','pymodulon', 'test', 'precise_data'))"
   ]
  },
  {
   "cell_type": "markdown",
   "metadata": {},
   "source": [
    "# Initialize your IcaData object"
   ]
  },
  {
   "cell_type": "markdown",
   "metadata": {},
   "source": [
    "## Minimum requirements\n",
    "The IcaData object only requires two matrices, the **M** and the **A** matrices. However, many functions (such as TRN enrichment) will be limited without including additional data.  \n",
    "These matrices can be added as either a filename or a pandas DataFrame"
   ]
  },
  {
   "cell_type": "code",
   "execution_count": null,
   "metadata": {},
   "outputs": [],
   "source": [
    "M = join(DATA_DIR, 'M.csv')\n",
    "A = join(DATA_DIR, 'A.csv')"
   ]
  },
  {
   "cell_type": "code",
   "execution_count": null,
   "metadata": {},
   "outputs": [],
   "source": [
    "ica_data = IcaData(M,A)"
   ]
  },
  {
   "cell_type": "code",
   "execution_count": null,
   "metadata": {},
   "outputs": [],
   "source": [
    "from pymodulon.visualization import *"
   ]
  },
  {
   "cell_type": "markdown",
   "metadata": {},
   "source": [
    "## Viewing matrices\n",
    "You can directly view the M and A matrices"
   ]
  },
  {
   "cell_type": "code",
   "execution_count": null,
   "metadata": {},
   "outputs": [],
   "source": [
    "ica_data.A.head()"
   ]
  },
  {
   "cell_type": "markdown",
   "metadata": {},
   "source": [
    "## Sample, gene, and iModulon names\n",
    "If the M and A matrices have sample/gene/iModulon names, these will be saved as the official sample/gene/iModulon."
   ]
  },
  {
   "cell_type": "code",
   "execution_count": null,
   "metadata": {},
   "outputs": [],
   "source": [
    "print('Gene names:',ica_data.gene_names[:5])\n",
    "print('Sample names:',ica_data.sample_names[:5])\n",
    "print('iModulon names:',ica_data.imodulon_names[:5])"
   ]
  },
  {
   "cell_type": "markdown",
   "metadata": {},
   "source": [
    "## Adding the X matrix\n",
    "The **X** matrix contains expression data and is mainly used for plotting functions."
   ]
  },
  {
   "cell_type": "code",
   "execution_count": null,
   "metadata": {},
   "outputs": [],
   "source": [
    "X = join(DATA_DIR, 'X.csv')"
   ]
  },
  {
   "cell_type": "code",
   "execution_count": null,
   "metadata": {},
   "outputs": [],
   "source": [
    "ica_data.X = X"
   ]
  },
  {
   "cell_type": "markdown",
   "metadata": {},
   "source": [
    "# Sample, gene, and iModulon tables\n",
    "You may load in additional data tables with information about your samples, genes, or iModulons. If you do not load any data, these tables are originally empty but can be altered like any pandas table."
   ]
  },
  {
   "cell_type": "code",
   "execution_count": null,
   "metadata": {},
   "outputs": [],
   "source": [
    "ica_data.gene_table.head()"
   ]
  },
  {
   "cell_type": "code",
   "execution_count": null,
   "metadata": {},
   "outputs": [],
   "source": [
    "ica_data.gene_table['gene_name'] = 'example'"
   ]
  },
  {
   "cell_type": "code",
   "execution_count": null,
   "metadata": {},
   "outputs": [],
   "source": [
    "ica_data.gene_table.head()"
   ]
  },
  {
   "cell_type": "markdown",
   "metadata": {},
   "source": [
    "## Loading tables\n",
    "Sample/gene/iModulon tables contain one sample/gene/iModulon per row, and information about the respective item in columns.  \n",
    "**The sample/gene/iModulon names must match the names in your M and A matrix.** However, the order of the names does not matter.  \n",
    "The tables can be passed in using either a filename or a pandas DataFrame."
   ]
  },
  {
   "cell_type": "code",
   "execution_count": null,
   "metadata": {},
   "outputs": [],
   "source": [
    "gene_file = join(DATA_DIR, 'gene_table.csv')\n",
    "sample_file = join(DATA_DIR, 'sample_table.csv')\n",
    "imodulon_file = join(DATA_DIR, 'imodulon_table.csv')\n",
    "print('Gene file:',gene_file)"
   ]
  },
  {
   "cell_type": "code",
   "execution_count": null,
   "metadata": {},
   "outputs": [],
   "source": [
    "ica_data.gene_table = gene_file\n",
    "ica_data.sample_table = sample_file\n",
    "ica_data.imodulon_table = imodulon_file"
   ]
  },
  {
   "cell_type": "markdown",
   "metadata": {},
   "source": [
    "## Viewing tables"
   ]
  },
  {
   "cell_type": "code",
   "execution_count": null,
   "metadata": {},
   "outputs": [],
   "source": [
    "ica_data.sample_table.head()"
   ]
  },
  {
   "cell_type": "code",
   "execution_count": null,
   "metadata": {},
   "outputs": [],
   "source": [
    "ica_data.gene_table.head()"
   ]
  },
  {
   "cell_type": "code",
   "execution_count": null,
   "metadata": {},
   "outputs": [],
   "source": [
    "ica_data.imodulon_table.head()"
   ]
  },
  {
   "cell_type": "markdown",
   "metadata": {},
   "source": [
    "# TRN Table"
   ]
  },
  {
   "cell_type": "markdown",
   "metadata": {},
   "source": [
    "## Load the TRN\n",
    "Again, this table can be passed in using either a filename or a pandas DataFrame."
   ]
  },
  {
   "cell_type": "code",
   "execution_count": null,
   "metadata": {},
   "outputs": [],
   "source": [
    "trn = pd.read_csv(join(DATA_DIR, 'trn.csv'))\n",
    "ica_data.trn = trn"
   ]
  },
  {
   "cell_type": "code",
   "execution_count": null,
   "metadata": {},
   "outputs": [],
   "source": [
    "ica_data.trn.head()"
   ]
  },
  {
   "cell_type": "markdown",
   "metadata": {},
   "source": [
    "# iModulon properties"
   ]
  },
  {
   "cell_type": "markdown",
   "metadata": {},
   "source": [
    "## Inspecting iModulons\n",
    "The `view_imodulon` shows the information about each gene in the iModulon. Most information is stored in the `gene_table`, but the `regulator` column comes from the TRN."
   ]
  },
  {
   "cell_type": "code",
   "execution_count": null,
   "metadata": {},
   "outputs": [],
   "source": [
    "ica_data.view_imodulon(0)"
   ]
  },
  {
   "cell_type": "markdown",
   "metadata": {},
   "source": [
    "## Renaming iModulons"
   ]
  },
  {
   "cell_type": "code",
   "execution_count": null,
   "metadata": {},
   "outputs": [],
   "source": [
    "# Rename iModulons using a dict\n",
    "ica_data.rename_imodulons({0:'YieP'})\n",
    "\n",
    "ica_data.imodulon_table.head()"
   ]
  },
  {
   "cell_type": "code",
   "execution_count": null,
   "metadata": {},
   "outputs": [],
   "source": [
    "# Rename iModulons with a list\n",
    "ica_data.imodulon_names = ica_data.imodulon_table.name"
   ]
  },
  {
   "cell_type": "code",
   "execution_count": null,
   "metadata": {},
   "outputs": [],
   "source": [
    "# This also renames the M and A matrix\n",
    "ica_data.M.head()"
   ]
  },
  {
   "cell_type": "code",
   "execution_count": null,
   "metadata": {},
   "outputs": [],
   "source": [
    "ica_data.A.head()"
   ]
  },
  {
   "cell_type": "markdown",
   "metadata": {},
   "source": [
    "## Identifying \"single-gene\" iModulons\n",
    "Some iModulons are dominated by a single, high-coefficient gene. These iModulons may result from:\n",
    "1. Overdecomposition of the dataset to identify noisy genes\n",
    "2. Artificial knock-out of single genes\n",
    "3. Regulons with only one target gene\n",
    "\n",
    "No matter what causes these iModulons, it is important to be aware of them. The `find_single_gene_imodulons` function identifies iModulons that are likely dominated by a single gene."
   ]
  },
  {
   "cell_type": "code",
   "execution_count": null,
   "metadata": {},
   "outputs": [],
   "source": [
    "ica_data.find_single_gene_imodulons(save=True)"
   ]
  },
  {
   "cell_type": "code",
   "execution_count": null,
   "metadata": {},
   "outputs": [],
   "source": [
    "ica_data.imodulon_table.loc[['fur-KO']]"
   ]
  },
  {
   "cell_type": "markdown",
   "metadata": {},
   "source": [
    "# Saving and Loading IcaData Objects\n",
    "To facilitate data sharing, you can save IcaData objects as json files that can be easily re-loaded"
   ]
  },
  {
   "cell_type": "code",
   "execution_count": null,
   "metadata": {},
   "outputs": [],
   "source": [
    "from pymodulon.io import *"
   ]
  },
  {
   "cell_type": "code",
   "execution_count": null,
   "metadata": {},
   "outputs": [],
   "source": [
    "save_to_json(ica_data,'../example_data/example.json')"
   ]
  },
  {
   "cell_type": "code",
   "execution_count": null,
   "metadata": {},
   "outputs": [],
   "source": [
    "ica_data = load_json_model('../example_data/example.json')"
   ]
  },
  {
   "cell_type": "code",
   "execution_count": null,
   "metadata": {},
   "outputs": [],
   "source": [
    "ica_data.imodulon_table.head()"
   ]
  },
  {
   "cell_type": "markdown",
   "metadata": {},
   "source": [
    "# Explained variance\n",
    "To compute the total amount of expression variation explained by iModulons, use the `explained_variance` function. You can also limit by genes, samples, and iModulons selected to compute partial explained variance."
   ]
  },
  {
   "cell_type": "code",
   "execution_count": null,
   "metadata": {},
   "outputs": [],
   "source": [
    "from pymodulon.util import explained_variance"
   ]
  },
  {
   "cell_type": "code",
   "execution_count": null,
   "metadata": {},
   "outputs": [],
   "source": [
    "explained_variance(ica_data)"
   ]
  },
  {
   "cell_type": "code",
   "execution_count": null,
   "metadata": {},
   "outputs": [],
   "source": [
    "explained_variance(ica_data,genes='thrA')"
   ]
  },
  {
   "cell_type": "markdown",
   "metadata": {},
   "source": [
    "The following code shows you how to identify iModulons that explain the largest fraction of variance in the dataset. These iModulons tend to represent global regulators."
   ]
  },
  {
   "cell_type": "code",
   "execution_count": null,
   "metadata": {},
   "outputs": [],
   "source": [
    "rec_var = {}\n",
    "for k in ica_data.imodulon_names:\n",
    "    rec_var[k] = explained_variance(ica_data,imodulons=k)\n",
    "df_rec_var = pd.Series(rec_var)"
   ]
  },
  {
   "cell_type": "code",
   "execution_count": null,
   "metadata": {},
   "outputs": [],
   "source": [
    "df_rec_var.sort_values(ascending=False).head(10)"
   ]
  },
  {
   "cell_type": "markdown",
   "metadata": {},
   "source": [
    "# Gene enrichment analysis"
   ]
  },
  {
   "cell_type": "code",
   "execution_count": null,
   "metadata": {},
   "outputs": [],
   "source": [
    "from pymodulon.enrichment import *"
   ]
  },
  {
   "cell_type": "markdown",
   "metadata": {},
   "source": [
    "## General functions"
   ]
  },
  {
   "cell_type": "markdown",
   "metadata": {},
   "source": [
    "To perform a basic enrichment test between two samples, use the `compute_enrichment` function.\n",
    "Optional arguments:\n",
    "* `label`: Label for your target gene set (e.g. regulator name or GO term)"
   ]
  },
  {
   "cell_type": "code",
   "execution_count": null,
   "metadata": {},
   "outputs": [],
   "source": [
    "gene_set = ['b0002','b0003','b0004'] # e.g. an iModulon or other gene set\n",
    "target_genes = ['b0002','b0005','b0007'] # e.g. a regulon or genes in a COG category\n",
    "all_genes = ica_data.M.index # List of all genes in your expression dataset"
   ]
  },
  {
   "cell_type": "code",
   "execution_count": null,
   "metadata": {},
   "outputs": [],
   "source": [
    "compute_enrichment(gene_set,target_genes,all_genes)"
   ]
  },
  {
   "cell_type": "markdown",
   "metadata": {},
   "source": [
    "To perform an enrichment test against a regulon in a TRN table, use the `compute_regulon` function."
   ]
  },
  {
   "cell_type": "code",
   "execution_count": null,
   "metadata": {},
   "outputs": [],
   "source": [
    "compute_regulon_enrichment(gene_set,'lrp',all_genes,trn)"
   ]
  },
  {
   "cell_type": "markdown",
   "metadata": {},
   "source": [
    "To perform an enrichment against all regulons in a TRN table, use the `compute_trn_enrichment` function. Optional arguments:\n",
    "* `max_regs`: Maximum number of regulators to include in complex regulon (default: 1) \n",
    "* `fdr`: False detection rate for Benjamini Hochberg correction\n",
    "* `method`: How to combine complex regulons. `'or'` computes enrichment against union of regulons, `'and'` computes enrichment against intersection of regulons, and `'both'` performs both tests (default: `'both'`) \n",
    "* `force`: Allows computation of >2 regulators"
   ]
  },
  {
   "cell_type": "code",
   "execution_count": null,
   "metadata": {},
   "outputs": [],
   "source": [
    "compute_trn_enrichment(gene_set,all_genes,trn)"
   ]
  },
  {
   "cell_type": "code",
   "execution_count": null,
   "metadata": {},
   "outputs": [],
   "source": [
    "# This line will fail, since we are attempting to compute with max_regs = 3\n",
    "# compute_trn_enrichment(gene_set,all_genes,trn,max_regs=3)"
   ]
  },
  {
   "cell_type": "code",
   "execution_count": null,
   "metadata": {},
   "outputs": [],
   "source": [
    "compute_trn_enrichment(gene_set,all_genes,trn,max_regs=3,force=True).head()"
   ]
  },
  {
   "cell_type": "markdown",
   "metadata": {},
   "source": [
    "## Using the IcaData object"
   ]
  },
  {
   "cell_type": "code",
   "execution_count": null,
   "metadata": {},
   "outputs": [],
   "source": [
    "# Compare a single iModulon to a simple regulon\n",
    "ica_data.compute_regulon_enrichment('GlpR',regulator='glpR')"
   ]
  },
  {
   "cell_type": "code",
   "execution_count": null,
   "metadata": {},
   "outputs": [],
   "source": [
    "# Compare a single iModulon to a complex regulon\n",
    "ica_data.compute_regulon_enrichment('Copper','cusR/cueR')"
   ]
  },
  {
   "cell_type": "code",
   "execution_count": null,
   "metadata": {},
   "outputs": [],
   "source": [
    "# Get all significant enrichments for all iModulons. \n",
    "# Optional parameters are same as the global compute_trn_enrichment function\n",
    "ica_data.compute_trn_enrichment()"
   ]
  },
  {
   "cell_type": "markdown",
   "metadata": {},
   "source": [
    "### Save to sample table\n",
    "You can directly save iModulon enrichments to the sample table using either the `ica_data.compute_regulon_enrichment` function or `ica_data.compute_trn_enrichment` function. Columns unrelated to regulon enrichments (e.g. `Function` and `Category`) are left alone."
   ]
  },
  {
   "cell_type": "code",
   "execution_count": null,
   "metadata": {},
   "outputs": [],
   "source": [
    "ica_data.imodulon_table.loc[['GlpR']]"
   ]
  },
  {
   "cell_type": "code",
   "execution_count": null,
   "metadata": {},
   "outputs": [],
   "source": [
    "ica_data.compute_regulon_enrichment('GlpR',regulator='crp',save=True)\n",
    "ica_data.imodulon_table.loc[['GlpR']]"
   ]
  },
  {
   "cell_type": "code",
   "execution_count": null,
   "metadata": {},
   "outputs": [],
   "source": [
    "# The enrichment with the lowest qvalue is saved as the official enrichment\n",
    "ica_data.compute_trn_enrichment(save=True)\n",
    "ica_data.imodulon_table"
   ]
  },
  {
   "cell_type": "markdown",
   "metadata": {},
   "source": [
    "# iModulon Thresholds\n",
    "iModulon thresholds are computed using an outlier test (See Methods section \"*Determination of the gene coefficient threshold*\" in [Sastry et al 2019](https://www.nature.com/articles/s41467-019-13483-w#Sec11)). This outlier test relies on the D'agostino test statistic.\n",
    "* If you have a relatively complete TRN, you may fit this test statistic using the `reoptimize_thresholds` function.\n",
    "* To manually adjust this statistic, use the `recompute_thresholds` function.\n",
    "* To change a single iModulon threshold, use the `change_threshold` function."
   ]
  },
  {
   "cell_type": "markdown",
   "metadata": {},
   "source": [
    "## Fitting the threshold\n",
    "The `reoptimize_threshold` function may take a few minutes to complete. Fortunately, this only needs to be performed once. You can turn off the progress bar or plot using the `progress` and `plot` arguments, respectively."
   ]
  },
  {
   "cell_type": "code",
   "execution_count": null,
   "metadata": {},
   "outputs": [],
   "source": [
    "# ica_data.reoptimize_thresholds()"
   ]
  },
  {
   "cell_type": "markdown",
   "metadata": {},
   "source": [
    "## Changing the D'agostino statistic\n",
    "To test out different D'agostino test statistics, use the `recompute_thresholds` function"
   ]
  },
  {
   "cell_type": "code",
   "execution_count": null,
   "metadata": {},
   "outputs": [],
   "source": [
    "ica_data.view_imodulon('GlpR')"
   ]
  },
  {
   "cell_type": "code",
   "execution_count": null,
   "metadata": {},
   "outputs": [],
   "source": [
    "ica_data.recompute_thresholds(300)"
   ]
  },
  {
   "cell_type": "code",
   "execution_count": null,
   "metadata": {},
   "outputs": [],
   "source": [
    "ica_data.view_imodulon('GlpR')"
   ]
  },
  {
   "cell_type": "markdown",
   "metadata": {},
   "source": [
    "## Manually changing thresholds\n",
    "To manually change a threshold, use the `change_threshold` function."
   ]
  },
  {
   "cell_type": "code",
   "execution_count": null,
   "metadata": {},
   "outputs": [],
   "source": [
    "ica_data.change_threshold('GlpR',0.2)"
   ]
  },
  {
   "cell_type": "code",
   "execution_count": null,
   "metadata": {},
   "outputs": [],
   "source": [
    "ica_data.view_imodulon('GlpR')"
   ]
  },
  {
   "cell_type": "markdown",
   "metadata": {},
   "source": [
    "# Inferring iModulon activities of new data\n",
    "If you have a new dataset that is external to your project, or of a different strain, you can infer the iModulon activities. You'll need to confirm two things:\n",
    "1. Your dataset must use the same, or similar, gene identifiers as your ICA data object\n",
    "1. Data must be centered to a reference condition\n",
    "\n",
    "Only genes shared between your ICA data object and the new expression profiles will be used to project your data (i.e. 'not_a_gene' will be essentially ignored by the function)"
   ]
  },
  {
   "cell_type": "code",
   "execution_count": null,
   "metadata": {},
   "outputs": [],
   "source": [
    "test_data = ica_data.X[['fur__wt_fe__1','fur__wt_fe__2','fur__wt_dpd__1','fur__wt_dpd__2']]\n",
    "test_data.head()"
   ]
  },
  {
   "cell_type": "code",
   "execution_count": null,
   "metadata": {},
   "outputs": [],
   "source": [
    "# Center your data to a reference condition (or replicates of the condition, in this case)\n",
    "centered_test_data = test_data.sub(test_data[['fur__wt_fe__1','fur__wt_fe__2']].mean(axis=1),axis=0)\n",
    "centered_test_data.head()"
   ]
  },
  {
   "cell_type": "code",
   "execution_count": null,
   "metadata": {},
   "outputs": [],
   "source": [
    "activities = infer_activities(ica_data,centered_test_data)\n",
    "activities.head()"
   ]
  },
  {
   "cell_type": "code",
   "execution_count": null,
   "metadata": {},
   "outputs": [],
   "source": [
    "activities[['fur__wt_dpd__1','fur__wt_dpd__2']].sort_values('fur__wt_dpd__1').tail()"
   ]
  },
  {
   "cell_type": "markdown",
   "metadata": {},
   "source": [
    "# Comparing ICA Runs\n",
    "\n",
    "`compare_ica` is a function specifically built to compare the components between different ICA runs. The function will return a Digraph plot which shows connections between ICA components of different runs, as well as Dictionary List of the one-to-one connections.\n",
    "\n",
    "The function requires a minimum of two inputs if running a comparison beween two ICA runs for the same organism:\n",
    "\n",
    "* S1: Pandas Dataframe of M matrix 1\n",
    "* S2: Pandas Dataframe of M Matrix 2\n",
    "\n",
    "`compare_ica` can be found in **pymodulon.compare**"
   ]
  },
  {
   "cell_type": "code",
   "execution_count": null,
   "metadata": {},
   "outputs": [],
   "source": [
    "from pymodulon.compare import *"
   ]
  },
  {
   "cell_type": "markdown",
   "metadata": {},
   "source": [
    "## Comparsion within the same organism"
   ]
  },
  {
   "cell_type": "code",
   "execution_count": null,
   "metadata": {},
   "outputs": [],
   "source": [
    "# Load comparison M matrix\n",
    "ica_run_diff = pd.read_csv(\"../pymodulon/test/data/ecoli_M_mod.csv\",index_col=0)\n",
    "ica_run_diff.columns = ['run2_'+str(i) for i in ica_run_diff.columns]"
   ]
  },
  {
   "cell_type": "code",
   "execution_count": null,
   "metadata": {},
   "outputs": [],
   "source": [
    "dots,links = compare_ica(ica_data.M,ica_run_diff)\n",
    "dots"
   ]
  },
  {
   "cell_type": "markdown",
   "metadata": {},
   "source": [
    "For comparisons of ICA components between the same organism,\n",
    " you find that components will be very closely correlated with each other.\n",
    "  The thickness of the arrow will indicate the correlation coefficient between\n",
    "  components, and arrows can also indicate if components split/merge.\n",
    "\n",
    "You can also see components which do not have any correlations by using the\n",
    "keyword `show_all`. The default for `show_all` is **False**."
   ]
  },
  {
   "cell_type": "code",
   "execution_count": null,
   "metadata": {},
   "outputs": [],
   "source": [
    "dots,links = compare_ica(ica_data.M,ica_run_diff,show_all = True)\n",
    "dots"
   ]
  },
  {
   "cell_type": "markdown",
   "metadata": {},
   "source": [
    "Additionally, you can adjust the metric type and cutoff values for correlations\n",
    "by utilizing the `metric` and `cutoff` parameters. The default for metric is\n",
    " \"*pearson*\", but can be changed to \"*spearman*\" by inputting the string.\n",
    "\n",
    "`cutoff` takes a float value between 0 and 1 and will change compare_ica to only\n",
    "show correlations greater than the `cutoff` value.\n"
   ]
  },
  {
   "cell_type": "code",
   "execution_count": null,
   "metadata": {},
   "outputs": [],
   "source": [
    "dots,links = compare_ica(ica_data.M,ica_run_diff,metric=\"spearman\",cutoff=.98)\n",
    "dots"
   ]
  },
  {
   "cell_type": "markdown",
   "metadata": {},
   "source": [
    "## Comparison across organisms\n",
    "`compare_ica` can also be used to compare ICA components between different\n",
    "organisms. To do so, you will need to provide an addition input, which is a\n",
    "string path to a Bidirectional Best Hit (BBH) between your two organisms of interest.\n",
    "\n",
    "A Github repository containing many BBH CSV's can be found at the following\n",
    "link: https://github.com/SBRG/modulome_compare_data/tree/master/bbh_csv\n",
    "\n",
    "You can also provide a path to your own BBH file, as long as it contains the\n",
    "columns `**gene**` and `**target**`\n",
    "\n",
    "It is important that the order of the organism matches the order of the BBH\n",
    "file. Specifically, the organism for the `M1` file must be the organism that\n",
    "fills the `gene` column in the bbh csv. Otherwise, errors will occur."
   ]
  },
  {
   "cell_type": "code",
   "execution_count": null,
   "metadata": {},
   "outputs": [],
   "source": [
    "other_org = load_json_model('../example_data/modulome_example/saci.json')"
   ]
  },
  {
   "cell_type": "code",
   "execution_count": null,
   "metadata": {},
   "outputs": [],
   "source": [
    "dots,links = compare_ica(ica_data.M,other_org.M, cutoff=0.3,\n",
    "                         ortho_file = '../example_data/example_bbh.csv')\n",
    "dots"
   ]
  },
  {
   "cell_type": "markdown",
   "metadata": {},
   "source": [
    "### Create a BBH CSV file\n",
    "If running a comparison between two organisms, you may find that the bbh.csv does not exist within the *modulome_compare_data* repository. As such, pymodulon.compare contains a set of functions that will allow you to create the desired bbh.csv file for you specific comparison. This only needs to be done once per combination.\n",
    "\n",
    "In order to make the bbh.csv, you need to obtain the Genbank Full Genome files for your organisms. These can be found at https://www.ncbi.nlm.nih.gov/genome/. Search for both your organisms/strains and download the \"Genbank (full)\" file. Once saved into a known location, you will use the `make_prots` function to convert the Genbank files into protein FASTA files.\n",
    "\n",
    "`make_prots` recieves two parameters:\n",
    "* `gbk`: Path to the genbank file (one file per function call)\n",
    "* `out_path`: Path to the protein FASTA files"
   ]
  },
  {
   "cell_type": "code",
   "execution_count": null,
   "metadata": {},
   "outputs": [],
   "source": [
    "ecoli_gb= \"../pymodulon/test/data/ecoli.gb\"\n",
    "mtb_gb = \"../pymodulon/test/data/mtb.gb\"\n",
    "ecoli_out = \"../pymodulon/test/data/ecoli_prot.fasta\"\n",
    "mtb_out = \"../pymodulon/test/data/mtb_prot.fasta\"\n",
    "\n",
    "make_prots(ecoli_gb,ecoli_out)\n",
    "make_prots(mtb_gb,mtb_out)"
   ]
  },
  {
   "cell_type": "markdown",
   "metadata": {},
   "source": [
    "### Create Genbank database files\n",
    "In order to run Bidirectional Best Hits between two organisms, it is required to build the necessary Genbank Database files from the newly created protein FASTA files. In order to do so, use the `make_prots_db` function. You will do this for both organims.\n",
    "\n",
    "`make_prots_db` recieves one parameter:\n",
    "* `fasta_file`: String path to protein FASTA file\n",
    "\n",
    "If there is an error, the function will print out error message. The function will also not execut if the necessary Genbank DB files already exist."
   ]
  },
  {
   "cell_type": "code",
   "execution_count": null,
   "metadata": {},
   "outputs": [],
   "source": [
    "make_prot_db(ecoli_out)\n",
    "make_prot_db(mtb_out)"
   ]
  },
  {
   "cell_type": "markdown",
   "metadata": {},
   "source": [
    "### Create BBH CSV\n",
    "Once the previous steps have been completed, you can now create the BBH CSV file. In order to do so, you can use the `get_bbh` function. \n",
    "\n",
    "`get_bbh` has the following parameters:\n",
    "* `db1`: String path to protein FASTA file (output of make_prots function) for organism 1\n",
    "* `db2`: String path to protein FASTA file (output of make_prots function) for organism 2\n",
    "* `outdir`: String path to output directory, default is \"bbh\" and will create the directory if it does not exist\n",
    "* `outname`: Default db1_vs_db2_parsed.csv where db[1-2] are the passed arguments name of the csv file where that will save the results\n",
    "* `mincov`: Minimum coverage to call hits in BLAST, must be between 0 and 1\n",
    "* `evalue`: evalue thershold for BLAST hits, Default .001\n",
    "* `threads`: Number of threads to run BLAST, Default 1\n",
    "* `force`: Whether to overwrite existing files or not\n",
    "* `savefiles`: Whether to save files to outdir\n",
    "\n",
    "The function will return a Pandas DataFrame containing all the BLAST hits between the two genes. The function will also save the DataFrame to a csv file, which you can then use in `compare_ica` between the two organisms."
   ]
  },
  {
   "cell_type": "code",
   "execution_count": null,
   "metadata": {},
   "outputs": [],
   "source": [
    "get_bbh(ecoli_out,mtb_out, outdir = \"../pymodulon/test/data/\")"
   ]
  }
 ],
 "metadata": {
  "kernelspec": {
   "display_name": "Python 3",
   "language": "python",
   "name": "python3"
  },
  "language_info": {
   "codemirror_mode": {
    "name": "ipython",
    "version": 3
   },
   "file_extension": ".py",
   "mimetype": "text/x-python",
   "name": "python",
   "nbconvert_exporter": "python",
   "pygments_lexer": "ipython3",
   "version": "3.8.2"
  },
  "toc": {
   "base_numbering": 1,
   "nav_menu": {},
   "number_sections": true,
   "sideBar": true,
   "skip_h1_title": false,
   "title_cell": "Table of Contents",
   "title_sidebar": "Contents",
   "toc_cell": true,
   "toc_position": {},
   "toc_section_display": true,
   "toc_window_display": false
  }
 },
 "nbformat": 4,
 "nbformat_minor": 1
}
